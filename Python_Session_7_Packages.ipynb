{
 "cells": [
  {
   "cell_type": "markdown",
   "id": "5e98af48-24e7-4019-970b-123986efd15d",
   "metadata": {},
   "source": [
    "**Packages**\n",
    "\n",
    "- Generally packages will not teach this early\n",
    "\n",
    "- DS and AI Packages are heart\n",
    "\n",
    "#Nandu is developed code\n",
    "#addition of two numbers\n",
    "#Nandu felt that in the entire world\n",
    "#he only created addition code\n",
    "#Nandu is very charity guy\n",
    "#he wants to give this additin code to entire world\n",
    "\n",
    "#he went to anaconda organization\n",
    "#who ever install your software\n",
    "#my code should automatically come to their laptop\n",
    "\n",
    "#What is your code name: Addition\n",
    "#it is called **PACKAGE**\n",
    "**Module**\n",
    "\n",
    "He sent that code in the format:\n",
    "    **Package**\n",
    "        code === addition(method)"
   ]
  },
  {
   "cell_type": "markdown",
   "id": "84b2885a-be7d-4e31-9c78-5f8d2de3db76",
   "metadata": {},
   "source": [
    "**import**"
   ]
  },
  {
   "cell_type": "code",
   "execution_count": null,
   "id": "5e494b1c-7ce2-4d9c-a842-ec6a6ed88c84",
   "metadata": {},
   "outputs": [],
   "source": [
    "#import <package name>"
   ]
  },
  {
   "cell_type": "code",
   "execution_count": 1,
   "id": "d6d081ae-b402-46f4-be60-b458443830c2",
   "metadata": {},
   "outputs": [],
   "source": [
    "#package name= random\n",
    "#package name= math\n",
    "#package name= keyword\n",
    "#package name= string\n",
    "#package name= time\n",
    "#package name= cv2  (FAILS)"
   ]
  },
  {
   "cell_type": "code",
   "execution_count": 7,
   "id": "6c0dac7b-998e-4c50-8e9b-f167a058ad73",
   "metadata": {},
   "outputs": [],
   "source": [
    "import random"
   ]
  },
  {
   "cell_type": "code",
   "execution_count": 2,
   "id": "1f762a51-4257-412e-8e5e-c3411942aefe",
   "metadata": {},
   "outputs": [],
   "source": [
    "import math"
   ]
  },
  {
   "cell_type": "code",
   "execution_count": 3,
   "id": "2a8919de-3fd4-4d2b-8f8c-36e859db87b0",
   "metadata": {},
   "outputs": [],
   "source": [
    "import keyword"
   ]
  },
  {
   "cell_type": "code",
   "execution_count": 4,
   "id": "d868f884-f34c-454e-a06e-3bb2b0c876fd",
   "metadata": {},
   "outputs": [],
   "source": [
    "import string"
   ]
  },
  {
   "cell_type": "code",
   "execution_count": 5,
   "id": "a9da3d41-1317-4e22-af2b-f6cafec5d1b4",
   "metadata": {},
   "outputs": [],
   "source": [
    "import time"
   ]
  },
  {
   "cell_type": "code",
   "execution_count": 6,
   "id": "b5e7e936-eaf3-4cde-8ce7-5f732b207dab",
   "metadata": {},
   "outputs": [
    {
     "ename": "ModuleNotFoundError",
     "evalue": "No module named 'cv2'",
     "output_type": "error",
     "traceback": [
      "\u001b[1;31m---------------------------------------------------------------------------\u001b[0m",
      "\u001b[1;31mModuleNotFoundError\u001b[0m                       Traceback (most recent call last)",
      "Cell \u001b[1;32mIn[6], line 1\u001b[0m\n\u001b[1;32m----> 1\u001b[0m \u001b[38;5;28;01mimport\u001b[39;00m \u001b[38;5;21;01mcv2\u001b[39;00m\n",
      "\u001b[1;31mModuleNotFoundError\u001b[0m: No module named 'cv2'"
     ]
    }
   ],
   "source": [
    "import cv2"
   ]
  },
  {
   "cell_type": "markdown",
   "id": "388e1e31-1e37-4873-b0de-675f225a99e1",
   "metadata": {},
   "source": [
    "- If package is not available, it throws error\n",
    "- No module found"
   ]
  },
  {
   "cell_type": "code",
   "execution_count": 8,
   "id": "767bbc3e-85fd-4fac-9da2-b9ae94c227db",
   "metadata": {},
   "outputs": [
    {
     "data": {
      "text/plain": [
       "<module 'random' from 'C:\\\\Users\\\\dell\\\\anaconda3\\\\Lib\\\\random.py'>"
      ]
     },
     "execution_count": 8,
     "metadata": {},
     "output_type": "execute_result"
    }
   ],
   "source": [
    "random"
   ]
  },
  {
   "cell_type": "code",
   "execution_count": 9,
   "id": "4fd47b94-baa8-412f-80cd-22f706bb334d",
   "metadata": {},
   "outputs": [
    {
     "data": {
      "text/plain": [
       "<module 'math' (built-in)>"
      ]
     },
     "execution_count": 9,
     "metadata": {},
     "output_type": "execute_result"
    }
   ],
   "source": [
    "math"
   ]
  },
  {
   "cell_type": "code",
   "execution_count": 10,
   "id": "21dfffa7-0105-4779-b5ba-2a7c39bf1f97",
   "metadata": {},
   "outputs": [
    {
     "data": {
      "text/plain": [
       "<module 'time' (built-in)>"
      ]
     },
     "execution_count": 10,
     "metadata": {},
     "output_type": "execute_result"
    }
   ],
   "source": [
    "time"
   ]
  },
  {
   "cell_type": "markdown",
   "id": "4dcd5261-581a-440d-a8fd-5e519b31df5a",
   "metadata": {},
   "source": [
    "**Dir**"
   ]
  },
  {
   "cell_type": "code",
   "execution_count": null,
   "id": "7853336d-0115-47c1-9fa3-b41600400579",
   "metadata": {},
   "outputs": [],
   "source": [
    "#step1: import <package name>\n",
    "#step2: dir(<package name>)"
   ]
  },
  {
   "cell_type": "code",
   "execution_count": 12,
   "id": "34106f03-9571-43c5-836f-cbc977f28a97",
   "metadata": {},
   "outputs": [
    {
     "data": {
      "text/plain": [
       "['BPF',\n",
       " 'LOG4',\n",
       " 'NV_MAGICCONST',\n",
       " 'RECIP_BPF',\n",
       " 'Random',\n",
       " 'SG_MAGICCONST',\n",
       " 'SystemRandom',\n",
       " 'TWOPI',\n",
       " '_ONE',\n",
       " '_Sequence',\n",
       " '__all__',\n",
       " '__builtins__',\n",
       " '__cached__',\n",
       " '__doc__',\n",
       " '__file__',\n",
       " '__loader__',\n",
       " '__name__',\n",
       " '__package__',\n",
       " '__spec__',\n",
       " '_accumulate',\n",
       " '_acos',\n",
       " '_bisect',\n",
       " '_ceil',\n",
       " '_cos',\n",
       " '_e',\n",
       " '_exp',\n",
       " '_fabs',\n",
       " '_floor',\n",
       " '_index',\n",
       " '_inst',\n",
       " '_isfinite',\n",
       " '_lgamma',\n",
       " '_log',\n",
       " '_log2',\n",
       " '_os',\n",
       " '_pi',\n",
       " '_random',\n",
       " '_repeat',\n",
       " '_sha512',\n",
       " '_sin',\n",
       " '_sqrt',\n",
       " '_test',\n",
       " '_test_generator',\n",
       " '_urandom',\n",
       " '_warn',\n",
       " 'betavariate',\n",
       " 'binomialvariate',\n",
       " 'choice',\n",
       " 'choices',\n",
       " 'expovariate',\n",
       " 'gammavariate',\n",
       " 'gauss',\n",
       " 'getrandbits',\n",
       " 'getstate',\n",
       " 'lognormvariate',\n",
       " 'normalvariate',\n",
       " 'paretovariate',\n",
       " 'randbytes',\n",
       " 'randint',\n",
       " 'random',\n",
       " 'randrange',\n",
       " 'sample',\n",
       " 'seed',\n",
       " 'setstate',\n",
       " 'shuffle',\n",
       " 'triangular',\n",
       " 'uniform',\n",
       " 'vonmisesvariate',\n",
       " 'weibullvariate']"
      ]
     },
     "execution_count": 12,
     "metadata": {},
     "output_type": "execute_result"
    }
   ],
   "source": [
    "import random\n",
    "dir(random)"
   ]
  },
  {
   "cell_type": "markdown",
   "id": "00217227-39f6-4585-a93f-cb703c0470e3",
   "metadata": {},
   "source": [
    "**help**"
   ]
  },
  {
   "cell_type": "markdown",
   "id": "50fa58ee-4495-4cae-8434-0f2928edf2d6",
   "metadata": {},
   "source": [
    "- I want to learn about a method called **randint**\n",
    "\n",
    "- what it will do\n",
    "\n",
    "- help(<package name>.<method name>)"
   ]
  },
  {
   "cell_type": "code",
   "execution_count": 13,
   "id": "52502a1d-a126-4d4e-9e77-8eaac53378ec",
   "metadata": {},
   "outputs": [
    {
     "name": "stdout",
     "output_type": "stream",
     "text": [
      "Help on method randint in module random:\n",
      "\n",
      "randint(a, b) method of random.Random instance\n",
      "    Return random integer in range [a, b], including both end points.\n",
      "\n"
     ]
    }
   ],
   "source": [
    "help(random.randint)"
   ]
  },
  {
   "cell_type": "code",
   "execution_count": null,
   "id": "e431013c-fe62-482c-989c-23fef4307be5",
   "metadata": {},
   "outputs": [],
   "source": [
    "#step1: import <package name>\n",
    "#step2: dir(<package name>)\n",
    "#step3: help(<package name>.<method name>)"
   ]
  },
  {
   "cell_type": "code",
   "execution_count": 15,
   "id": "3afc80c0-9d59-4a98-b056-fdc5cdf727a5",
   "metadata": {},
   "outputs": [
    {
     "name": "stdout",
     "output_type": "stream",
     "text": [
      "Help on method randint in module random:\n",
      "\n",
      "randint(a, b) method of random.Random instance\n",
      "    Return random integer in range [a, b], including both end points.\n",
      "\n"
     ]
    },
    {
     "data": {
      "text/plain": [
       "13"
      ]
     },
     "execution_count": 15,
     "metadata": {},
     "output_type": "execute_result"
    }
   ],
   "source": [
    "import random\n",
    "dir(random)    #I want to use randint\n",
    "help(random.randint)   #I understood the story\n",
    "random.randint(10, 20)   #applied the operation"
   ]
  },
  {
   "cell_type": "markdown",
   "id": "ee92d0f8-4aed-4287-b39b-cf879fbd6dd7",
   "metadata": {},
   "source": [
    "- it get any o/p value between (10, 20)"
   ]
  },
  {
   "cell_type": "code",
   "execution_count": 26,
   "id": "0b998bb8-c507-49cd-954e-566abda02838",
   "metadata": {},
   "outputs": [
    {
     "name": "stdout",
     "output_type": "stream",
     "text": [
      "Help on built-in function random:\n",
      "\n",
      "random() method of random.Random instance\n",
      "    random() -> x in the interval [0, 1).\n",
      "\n"
     ]
    }
   ],
   "source": [
    "import random\n",
    "help(random.random)"
   ]
  },
  {
   "cell_type": "code",
   "execution_count": 16,
   "id": "28117f41-443b-4787-a68b-1ee20dca3b01",
   "metadata": {},
   "outputs": [
    {
     "data": {
      "text/plain": [
       "0.39140606134469935"
      ]
     },
     "execution_count": 16,
     "metadata": {},
     "output_type": "execute_result"
    }
   ],
   "source": [
    "import random\n",
    "dir(random)\n",
    "random.random()\n",
    "#take your cursor inside the barckets\n",
    "#then apply shift + tab"
   ]
  },
  {
   "cell_type": "code",
   "execution_count": 18,
   "id": "094f7cf1-bb60-4c22-8430-4f7659887c67",
   "metadata": {},
   "outputs": [
    {
     "name": "stdout",
     "output_type": "stream",
     "text": [
      "Help on method randrange in module random:\n",
      "\n",
      "randrange(start, stop=None, step=1) method of random.Random instance\n",
      "    Choose a random item from range(stop) or range(start, stop[, step]).\n",
      "\n",
      "    Roughly equivalent to ``choice(range(start, stop, step))`` but\n",
      "    supports arbitrarily large ranges and is optimized for common cases.\n",
      "\n"
     ]
    },
    {
     "data": {
      "text/plain": [
       "15"
      ]
     },
     "execution_count": 18,
     "metadata": {},
     "output_type": "execute_result"
    }
   ],
   "source": [
    "#package name: random\n",
    "#method name: randrange\n",
    "help(random.randrange)\n",
    "random.randrange(1, 20, 2)"
   ]
  },
  {
   "cell_type": "code",
   "execution_count": 20,
   "id": "e8a0eabf-58f3-4127-b16a-8f7882b11445",
   "metadata": {},
   "outputs": [
    {
     "data": {
      "text/plain": [
       "5"
      ]
     },
     "execution_count": 20,
     "metadata": {},
     "output_type": "execute_result"
    }
   ],
   "source": [
    "random.randrange(2,10, 3)\n",
    "#start=2  stop=10  gap=3\n",
    "#2  5  8"
   ]
  },
  {
   "cell_type": "code",
   "execution_count": 27,
   "id": "efd0c4f5-777a-49de-a1a7-012182834a2e",
   "metadata": {},
   "outputs": [
    {
     "data": {
      "text/plain": [
       "(5, 0.31689669394268005, 19)"
      ]
     },
     "execution_count": 27,
     "metadata": {},
     "output_type": "execute_result"
    }
   ],
   "source": [
    "import random\n",
    "v1=random.randint(1, 10)\n",
    "v2=random.random()\n",
    "v3=random.randrange(3, 30, 4)\n",
    "v1,v2,v3"
   ]
  },
  {
   "cell_type": "code",
   "execution_count": null,
   "id": "7152dd7c-9be8-4477-9825-40af42f3a479",
   "metadata": {},
   "outputs": [],
   "source": [
    "#package name: math\n",
    "#method name: pow, sqrt, pi, sin, cos"
   ]
  },
  {
   "cell_type": "code",
   "execution_count": 28,
   "id": "bcdbadda-251f-4b6b-8103-dd48ffcc8ae2",
   "metadata": {},
   "outputs": [
    {
     "data": {
      "text/plain": [
       "['__doc__',\n",
       " '__loader__',\n",
       " '__name__',\n",
       " '__package__',\n",
       " '__spec__',\n",
       " 'acos',\n",
       " 'acosh',\n",
       " 'asin',\n",
       " 'asinh',\n",
       " 'atan',\n",
       " 'atan2',\n",
       " 'atanh',\n",
       " 'cbrt',\n",
       " 'ceil',\n",
       " 'comb',\n",
       " 'copysign',\n",
       " 'cos',\n",
       " 'cosh',\n",
       " 'degrees',\n",
       " 'dist',\n",
       " 'e',\n",
       " 'erf',\n",
       " 'erfc',\n",
       " 'exp',\n",
       " 'exp2',\n",
       " 'expm1',\n",
       " 'fabs',\n",
       " 'factorial',\n",
       " 'floor',\n",
       " 'fmod',\n",
       " 'frexp',\n",
       " 'fsum',\n",
       " 'gamma',\n",
       " 'gcd',\n",
       " 'hypot',\n",
       " 'inf',\n",
       " 'isclose',\n",
       " 'isfinite',\n",
       " 'isinf',\n",
       " 'isnan',\n",
       " 'isqrt',\n",
       " 'lcm',\n",
       " 'ldexp',\n",
       " 'lgamma',\n",
       " 'log',\n",
       " 'log10',\n",
       " 'log1p',\n",
       " 'log2',\n",
       " 'modf',\n",
       " 'nan',\n",
       " 'nextafter',\n",
       " 'perm',\n",
       " 'pi',\n",
       " 'pow',\n",
       " 'prod',\n",
       " 'radians',\n",
       " 'remainder',\n",
       " 'sin',\n",
       " 'sinh',\n",
       " 'sqrt',\n",
       " 'sumprod',\n",
       " 'tan',\n",
       " 'tanh',\n",
       " 'tau',\n",
       " 'trunc',\n",
       " 'ulp']"
      ]
     },
     "execution_count": 28,
     "metadata": {},
     "output_type": "execute_result"
    }
   ],
   "source": [
    "import math\n",
    "dir(math)"
   ]
  },
  {
   "cell_type": "code",
   "execution_count": 30,
   "id": "eee1bfd3-f111-4676-abd2-5dcfa8b9a9e0",
   "metadata": {},
   "outputs": [
    {
     "name": "stdout",
     "output_type": "stream",
     "text": [
      "Help on built-in function pow in module math:\n",
      "\n",
      "pow(x, y, /)\n",
      "    Return x**y (x to the power of y).\n",
      "\n"
     ]
    },
    {
     "data": {
      "text/plain": [
       "16.0"
      ]
     },
     "execution_count": 30,
     "metadata": {},
     "output_type": "execute_result"
    }
   ],
   "source": [
    "help(math.pow)\n",
    "math.pow(2, 4)"
   ]
  },
  {
   "cell_type": "code",
   "execution_count": 32,
   "id": "4222cc42-15c5-4c6a-a4ee-45b4d5951501",
   "metadata": {},
   "outputs": [
    {
     "name": "stdout",
     "output_type": "stream",
     "text": [
      "Help on built-in function sqrt in module math:\n",
      "\n",
      "sqrt(x, /)\n",
      "    Return the square root of x.\n",
      "\n"
     ]
    },
    {
     "data": {
      "text/plain": [
       "5.0"
      ]
     },
     "execution_count": 32,
     "metadata": {},
     "output_type": "execute_result"
    }
   ],
   "source": [
    "help(math.sqrt)\n",
    "math.sqrt(25)"
   ]
  },
  {
   "cell_type": "code",
   "execution_count": 35,
   "id": "900afafa-1683-427a-9c82-9c809c0cc1fb",
   "metadata": {},
   "outputs": [
    {
     "data": {
      "text/plain": [
       "3.141592653589793"
      ]
     },
     "execution_count": 35,
     "metadata": {},
     "output_type": "execute_result"
    }
   ],
   "source": [
    "#help(math.pi)\n",
    "math.pi"
   ]
  },
  {
   "cell_type": "code",
   "execution_count": 37,
   "id": "830b40b9-557b-4967-8f42-244b4cdeb523",
   "metadata": {},
   "outputs": [
    {
     "name": "stdout",
     "output_type": "stream",
     "text": [
      "Help on built-in function sin in module math:\n",
      "\n",
      "sin(x, /)\n",
      "    Return the sine of x (measured in radians).\n",
      "\n"
     ]
    },
    {
     "data": {
      "text/plain": [
       "0.8939966636005579"
      ]
     },
     "execution_count": 37,
     "metadata": {},
     "output_type": "execute_result"
    }
   ],
   "source": [
    "help(math.sin)\n",
    "math.sin(90)"
   ]
  },
  {
   "cell_type": "code",
   "execution_count": 38,
   "id": "7f1ec933-363c-4568-9485-ffc74d4f3f12",
   "metadata": {},
   "outputs": [
    {
     "name": "stdout",
     "output_type": "stream",
     "text": [
      "Help on built-in function cos in module math:\n",
      "\n",
      "cos(x, /)\n",
      "    Return the cosine of x (measured in radians).\n",
      "\n"
     ]
    },
    {
     "data": {
      "text/plain": [
       "-0.4480736161291701"
      ]
     },
     "execution_count": 38,
     "metadata": {},
     "output_type": "execute_result"
    }
   ],
   "source": [
    "help(math.cos)\n",
    "math.cos(90)"
   ]
  },
  {
   "cell_type": "code",
   "execution_count": null,
   "id": "df295035-9457-4b04-8643-3dc2915e0bd0",
   "metadata": {},
   "outputs": [],
   "source": [
    "#package name= keyword\n",
    "#method name= kwlist"
   ]
  },
  {
   "cell_type": "code",
   "execution_count": 39,
   "id": "972982f3-d658-4393-a737-0137971e3b36",
   "metadata": {},
   "outputs": [
    {
     "data": {
      "text/plain": [
       "['__all__',\n",
       " '__builtins__',\n",
       " '__cached__',\n",
       " '__doc__',\n",
       " '__file__',\n",
       " '__loader__',\n",
       " '__name__',\n",
       " '__package__',\n",
       " '__spec__',\n",
       " 'iskeyword',\n",
       " 'issoftkeyword',\n",
       " 'kwlist',\n",
       " 'softkwlist']"
      ]
     },
     "execution_count": 39,
     "metadata": {},
     "output_type": "execute_result"
    }
   ],
   "source": [
    "import keyword\n",
    "dir(keyword)"
   ]
  },
  {
   "cell_type": "code",
   "execution_count": 41,
   "id": "430ce925-1252-44f9-91a8-4963795520d6",
   "metadata": {},
   "outputs": [
    {
     "data": {
      "text/plain": [
       "35"
      ]
     },
     "execution_count": 41,
     "metadata": {},
     "output_type": "execute_result"
    }
   ],
   "source": [
    "keyword.kwlist\n",
    "len(keyword.kwlist)"
   ]
  },
  {
   "cell_type": "code",
   "execution_count": 44,
   "id": "66f06e7e-5a15-4956-bfaf-581bb06cbaec",
   "metadata": {},
   "outputs": [
    {
     "name": "stdout",
     "output_type": "stream",
     "text": [
      "hello\n"
     ]
    }
   ],
   "source": [
    "#package name= time\n",
    "import time\n",
    "time.sleep(5)\n",
    "print('hello')"
   ]
  },
  {
   "cell_type": "code",
   "execution_count": 45,
   "id": "1b93efca-8988-4455-8a0a-9c155016380f",
   "metadata": {},
   "outputs": [
    {
     "data": {
      "text/plain": [
       "['Formatter',\n",
       " 'Template',\n",
       " '_ChainMap',\n",
       " '__all__',\n",
       " '__builtins__',\n",
       " '__cached__',\n",
       " '__doc__',\n",
       " '__file__',\n",
       " '__loader__',\n",
       " '__name__',\n",
       " '__package__',\n",
       " '__spec__',\n",
       " '_re',\n",
       " '_sentinel_dict',\n",
       " '_string',\n",
       " 'ascii_letters',\n",
       " 'ascii_lowercase',\n",
       " 'ascii_uppercase',\n",
       " 'capwords',\n",
       " 'digits',\n",
       " 'hexdigits',\n",
       " 'octdigits',\n",
       " 'printable',\n",
       " 'punctuation',\n",
       " 'whitespace']"
      ]
     },
     "execution_count": 45,
     "metadata": {},
     "output_type": "execute_result"
    }
   ],
   "source": [
    "#package name= string\n",
    "import string\n",
    "dir(string)"
   ]
  },
  {
   "cell_type": "code",
   "execution_count": 47,
   "id": "0a9a88b8-c03f-4f43-aa5f-6d80738ee5ab",
   "metadata": {},
   "outputs": [
    {
     "data": {
      "text/plain": [
       "'abcdefghijklmnopqrstuvwxyzABCDEFGHIJKLMNOPQRSTUVWXYZ'"
      ]
     },
     "execution_count": 47,
     "metadata": {},
     "output_type": "execute_result"
    }
   ],
   "source": [
    "string.ascii_letters"
   ]
  },
  {
   "cell_type": "code",
   "execution_count": 48,
   "id": "3e687271-5c81-48c0-b71b-d944f605f981",
   "metadata": {},
   "outputs": [
    {
     "data": {
      "text/plain": [
       "'abcdefghijklmnopqrstuvwxyz'"
      ]
     },
     "execution_count": 48,
     "metadata": {},
     "output_type": "execute_result"
    }
   ],
   "source": [
    "string.ascii_lowercase"
   ]
  },
  {
   "cell_type": "code",
   "execution_count": 49,
   "id": "ead902e0-de86-4419-8875-edfc31e912fc",
   "metadata": {},
   "outputs": [
    {
     "data": {
      "text/plain": [
       "'ABCDEFGHIJKLMNOPQRSTUVWXYZ'"
      ]
     },
     "execution_count": 49,
     "metadata": {},
     "output_type": "execute_result"
    }
   ],
   "source": [
    "string.ascii_uppercase"
   ]
  },
  {
   "cell_type": "code",
   "execution_count": 50,
   "id": "460898b4-cc5c-4a7f-a444-2a067716c05a",
   "metadata": {},
   "outputs": [
    {
     "data": {
      "text/plain": [
       "'0123456789abcdefghijklmnopqrstuvwxyzABCDEFGHIJKLMNOPQRSTUVWXYZ!\"#$%&\\'()*+,-./:;<=>?@[\\\\]^_`{|}~ \\t\\n\\r\\x0b\\x0c'"
      ]
     },
     "execution_count": 50,
     "metadata": {},
     "output_type": "execute_result"
    }
   ],
   "source": [
    "string.printable"
   ]
  },
  {
   "cell_type": "code",
   "execution_count": 51,
   "id": "52229645-de21-4897-a020-7c05f479738a",
   "metadata": {},
   "outputs": [
    {
     "data": {
      "text/plain": [
       "'!\"#$%&\\'()*+,-./:;<=>?@[\\\\]^_`{|}~'"
      ]
     },
     "execution_count": 51,
     "metadata": {},
     "output_type": "execute_result"
    }
   ],
   "source": [
    "string.punctuation"
   ]
  },
  {
   "cell_type": "code",
   "execution_count": 53,
   "id": "6114d447-eb5e-42aa-88d8-d5b4dddc7885",
   "metadata": {},
   "outputs": [
    {
     "name": "stdout",
     "output_type": "stream",
     "text": [
      "Help on function capwords in module string:\n",
      "\n",
      "capwords(s, sep=None)\n",
      "    capwords(s [,sep]) -> string\n",
      "\n",
      "    Split the argument into words using split, capitalize each\n",
      "    word using capitalize, and join the capitalized words using\n",
      "    join.  If the optional second argument sep is absent or None,\n",
      "    runs of whitespace characters are replaced by a single space\n",
      "    and leading and trailing whitespace are removed, otherwise\n",
      "    sep is used to split and join the words.\n",
      "\n"
     ]
    },
    {
     "data": {
      "text/plain": [
       "<function string.capwords(s, sep=None)>"
      ]
     },
     "execution_count": 53,
     "metadata": {},
     "output_type": "execute_result"
    }
   ],
   "source": [
    "help(string.capwords)\n",
    "string.capwords"
   ]
  },
  {
   "cell_type": "code",
   "execution_count": 4,
   "id": "39607310-c051-4b8f-8416-1e3a98a57483",
   "metadata": {},
   "outputs": [
    {
     "name": "stdout",
     "output_type": "stream",
     "text": [
      "the average of 11, 25 and 34 is 23.33\n"
     ]
    },
    {
     "name": "stdin",
     "output_type": "stream",
     "text": [
      "Enter the num1: 23\n",
      "Enter the num2: 34\n",
      "Enter the num3: 2\n"
     ]
    },
    {
     "name": "stdout",
     "output_type": "stream",
     "text": [
      "the average of 23, 34 and 2 is 19.67\n",
      "the average of 24, 97 and 88 is 69.67\n"
     ]
    }
   ],
   "source": [
    "#wap ask the user take three numbers find the average\n",
    "#use all possible methods\n",
    "\n",
    "#Method1- Hardcode method\n",
    "n1=11\n",
    "n2=25\n",
    "n3=34\n",
    "avg=(n1+n2+n3)/3\n",
    "avg1=round(avg, 2)\n",
    "print(f'the average of {n1}, {n2} and {n3} is {avg1}')\n",
    "\n",
    "\n",
    "#Method2- User input\n",
    "n1=eval(input('Enter the num1:'))\n",
    "n2=eval(input('Enter the num2:'))\n",
    "n3=eval(input('Enter the num3:'))\n",
    "avg=(n1+n2+n3)/3\n",
    "avg1=round(avg, 2)\n",
    "print(f'the average of {n1}, {n2} and {n3} is {avg1}')\n",
    "\n",
    "\n",
    "#Method3- using random package\n",
    "from random import randint\n",
    "n1=randint(1, 100)\n",
    "n2=randint(1, 100)\n",
    "n3=randint(1, 100)\n",
    "avg=(n1+n2+n3)/3\n",
    "avg1=round(avg, 2)\n",
    "print(f'the average of {n1}, {n2} and {n3} is {avg1}')\n"
   ]
  },
  {
   "cell_type": "code",
   "execution_count": 8,
   "id": "f4dac85b-d8f7-4690-97d0-4c53a5cb6d9f",
   "metadata": {},
   "outputs": [
    {
     "name": "stdout",
     "output_type": "stream",
     "text": [
      "50 34\n",
      "the area of right angle triangle is 850.0\n"
     ]
    }
   ],
   "source": [
    "#wap ask the user take the breadth and height from keyboard\n",
    "#calcuate the the area of right angle triangle\n",
    "#formula=0.5*b*h\n",
    "\n",
    "b=randint(1, 50)\n",
    "h=randint(1, 50)\n",
    "area=0.5*b*h\n",
    "print(b, h)\n",
    "print(f'the area of right angle triangle is {area}')"
   ]
  },
  {
   "cell_type": "code",
   "execution_count": 18,
   "id": "4038a85e-e029-4984-a880-1b960fd95909",
   "metadata": {},
   "outputs": [
    {
     "data": {
      "text/plain": [
       "3"
      ]
     },
     "execution_count": 18,
     "metadata": {},
     "output_type": "execute_result"
    }
   ],
   "source": [
    "import random\n",
    "random.randint(1, 20)"
   ]
  },
  {
   "cell_type": "code",
   "execution_count": 20,
   "id": "67558d93-1991-445d-bc66-858e46fff7db",
   "metadata": {},
   "outputs": [
    {
     "data": {
      "text/plain": [
       "4"
      ]
     },
     "execution_count": 20,
     "metadata": {},
     "output_type": "execute_result"
    }
   ],
   "source": [
    "#from package importing a method\n",
    "from random import randint\n",
    "randint(1, 20)"
   ]
  },
  {
   "cell_type": "code",
   "execution_count": 12,
   "id": "bf64d1dc-c851-4c16-83b3-94e8bbe4d4b8",
   "metadata": {},
   "outputs": [
    {
     "name": "stdout",
     "output_type": "stream",
     "text": [
      "5\n",
      "the area of circle is 78.5\n",
      "18\n",
      "the area of circle is 1017.8760197630929\n"
     ]
    }
   ],
   "source": [
    "#wap ask the user to take the radius from the keyboard\n",
    "#calculate the area of circle\n",
    "#Formula=pi*r*r  pi=3.14\n",
    "\n",
    "r=randint(1, 20)\n",
    "print(r)\n",
    "pi=3.14\n",
    "area=pi*r*r\n",
    "print(f'the area of circle is {area}')\n",
    "\n",
    "#OR\n",
    "\n",
    "from math import pi,pow\n",
    "r=randint(1, 20)\n",
    "print(r)\n",
    "area=pi*pow(r, 2)\n",
    "print(f'the area of circle is {area}')"
   ]
  },
  {
   "cell_type": "code",
   "execution_count": 14,
   "id": "b6bd0139-bac2-47e4-b76e-0d2d8c9865c1",
   "metadata": {},
   "outputs": [
    {
     "name": "stdout",
     "output_type": "stream",
     "text": [
      "4011\n",
      "327\n",
      "the total bill amount is 4338\n"
     ]
    }
   ],
   "source": [
    "#wap ask the user to enter the bill amount\n",
    "#ask the user to provide how much tip amount he want to give\n",
    "#calulate the total bill\n",
    "\n",
    "amount=randint(100, 5000)\n",
    "print(amount)\n",
    "tip=randint(10, 500)\n",
    "print(tip)\n",
    "total_bill=amount+tip\n",
    "print(f'the total bill amount is {total_bill}')"
   ]
  },
  {
   "cell_type": "code",
   "execution_count": 17,
   "id": "b2c02be1-1e13-456b-8c17-36eeeb0261f4",
   "metadata": {},
   "outputs": [
    {
     "name": "stdout",
     "output_type": "stream",
     "text": [
      "1930\n",
      "18\n",
      "the total bill amount is 2277.4\n"
     ]
    }
   ],
   "source": [
    "#wap ask the user to enter the bill amount\n",
    "#ask the user how much tip percentange he want to provide\n",
    "#calculate the total bill\n",
    "\n",
    "amount=randint(100, 5000)\n",
    "print(amount)\n",
    "tip_per=randint(1, 100)\n",
    "print(tip_per)\n",
    "tip_amount=amount*tip_per/100\n",
    "total_bill=amount+tip_amount\n",
    "print(f'the total bill amount is {total_bill}')"
   ]
  },
  {
   "cell_type": "code",
   "execution_count": 23,
   "id": "5bd5f377-8d16-4064-94dd-47c91070e8d7",
   "metadata": {},
   "outputs": [
    {
     "name": "stdout",
     "output_type": "stream",
     "text": [
      "Father: hey beta\n",
      "Son: hi papa\n",
      "Father: I heard your result came out\n",
      "Son: yes Dad\n",
      "Father: Great! How much percentage we got\n",
      "Son: I will tell you the sub marks you tell me the percentage\n",
      "Father: wow thats super game, Lets starts\n"
     ]
    },
    {
     "name": "stdin",
     "output_type": "stream",
     "text": [
      "Enter the telgu marks: 72\n",
      "Enter the hindi marks: 74\n",
      "Enter the eng marks: 85\n",
      "Enter the maths marks: 66\n",
      "Enter the sci marks: 70\n",
      "Enter the social marks: 65\n"
     ]
    },
    {
     "name": "stdout",
     "output_type": "stream",
     "text": [
      "The percentage of total marks is 72.0 \n",
      "Father: Great beta\n",
      "Son: Thank you papa\n"
     ]
    }
   ],
   "source": [
    "import time\n",
    "print('Father: hey beta')\n",
    "time.sleep(2)\n",
    "print('Son: hi papa')\n",
    "time.sleep(2)\n",
    "print('Father: I heard your result came out')\n",
    "time.sleep(2)\n",
    "print('Son: yes Dad')\n",
    "time.sleep(2)\n",
    "print('Father: Great! How much percentage we got')\n",
    "time.sleep(2)\n",
    "print('Son: I will tell you the sub marks you tell me the percentage')\n",
    "time.sleep(2)\n",
    "print('Father: wow thats super game, Lets starts')\n",
    "Telgu=eval(input('Enter the telgu marks:'))\n",
    "hindi=eval(input('Enter the hindi marks:'))\n",
    "eng=eval(input('Enter the eng marks:'))\n",
    "maths=eval(input('Enter the maths marks:'))\n",
    "sci=eval(input('Enter the sci marks:'))\n",
    "social=eval(input('Enter the social marks:'))\n",
    "Avg=(Telgu+hindi+eng+maths+sci+social)/6\n",
    "Avg1=round(Avg, 2)\n",
    "print(f'The percentage of total marks is {Avg1} ')\n",
    "time.sleep(2)\n",
    "print('Father: Great beta')\n",
    "time.sleep(2)\n",
    "print('Son: Thank you papa')"
   ]
  },
  {
   "cell_type": "code",
   "execution_count": 24,
   "id": "365fbb15-0d83-40b6-869c-cd38b27dd297",
   "metadata": {},
   "outputs": [
    {
     "ename": "ModuleNotFoundError",
     "evalue": "No module named 'cv2'",
     "output_type": "error",
     "traceback": [
      "\u001b[1;31m---------------------------------------------------------------------------\u001b[0m",
      "\u001b[1;31mModuleNotFoundError\u001b[0m                       Traceback (most recent call last)",
      "Cell \u001b[1;32mIn[24], line 1\u001b[0m\n\u001b[1;32m----> 1\u001b[0m \u001b[38;5;28;01mimport\u001b[39;00m \u001b[38;5;21;01mcv2\u001b[39;00m\n",
      "\u001b[1;31mModuleNotFoundError\u001b[0m: No module named 'cv2'"
     ]
    }
   ],
   "source": [
    "import cv2"
   ]
  },
  {
   "cell_type": "code",
   "execution_count": null,
   "id": "540bbbda-f697-4219-93a8-ac157dbd763d",
   "metadata": {},
   "outputs": [],
   "source": [
    "- if we want to install the package, we can do it in two ways\n",
    "\n",
    "- using **Anaconda prompt**\n",
    "    - pip install package_name\n",
    "\n",
    "- using jupyter notebook\n",
    "    - pip install packagename\n",
    "\n",
    "- whenever we want to install any package, internet is required\n",
    "\n",
    "- if any problem about internet **http error** will occur\n",
    "\n",
    "- 90% the package install name and reading name both are same\n",
    "\n",
    "- package name: flask      install name= pip install flask\n",
    "\n",
    "- package name: flask      install name= pip install flask"
   ]
  },
  {
   "cell_type": "code",
   "execution_count": 1,
   "id": "d8adb052-2a24-4ea5-84db-2d005b8e9bb2",
   "metadata": {},
   "outputs": [
    {
     "name": "stdout",
     "output_type": "stream",
     "text": [
      "Requirement already satisfied: opencv-python in c:\\users\\dell\\anaconda3\\lib\\site-packages (4.10.0.84)\n",
      "Requirement already satisfied: numpy>=1.21.2 in c:\\users\\dell\\anaconda3\\lib\\site-packages (from opencv-python) (1.26.4)\n"
     ]
    }
   ],
   "source": [
    "!pip install opencv-python"
   ]
  },
  {
   "cell_type": "code",
   "execution_count": 2,
   "id": "b7444aba-85db-47fb-b10b-edd10612a966",
   "metadata": {},
   "outputs": [],
   "source": [
    "import cv2"
   ]
  },
  {
   "cell_type": "code",
   "execution_count": 3,
   "id": "4cab22e0-eeab-417b-8deb-1a564c88b7ca",
   "metadata": {},
   "outputs": [
    {
     "data": {
      "text/plain": [
       "'4.10.0'"
      ]
     },
     "execution_count": 3,
     "metadata": {},
     "output_type": "execute_result"
    }
   ],
   "source": [
    "cv2.__version__"
   ]
  },
  {
   "cell_type": "code",
   "execution_count": null,
   "id": "6dd9ea03-10bc-42d0-8b12-f0656f853f15",
   "metadata": {},
   "outputs": [],
   "source": []
  },
  {
   "cell_type": "code",
   "execution_count": null,
   "id": "412de301-f429-4e57-ae93-2f8d51f76380",
   "metadata": {},
   "outputs": [],
   "source": []
  }
 ],
 "metadata": {
  "kernelspec": {
   "display_name": "Python 3 (ipykernel)",
   "language": "python",
   "name": "python3"
  },
  "language_info": {
   "codemirror_mode": {
    "name": "ipython",
    "version": 3
   },
   "file_extension": ".py",
   "mimetype": "text/x-python",
   "name": "python",
   "nbconvert_exporter": "python",
   "pygments_lexer": "ipython3",
   "version": "3.12.7"
  }
 },
 "nbformat": 4,
 "nbformat_minor": 5
}
