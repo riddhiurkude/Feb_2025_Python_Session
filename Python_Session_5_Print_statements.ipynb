{
 "cells": [
  {
   "cell_type": "markdown",
   "id": "9b2dfb9f-7430-4bd0-8843-df66722b61cf",
   "metadata": {},
   "source": [
    "**Print Statement**"
   ]
  },
  {
   "cell_type": "code",
   "execution_count": 1,
   "id": "7096d607-c679-4464-8dd9-a18036bce858",
   "metadata": {},
   "outputs": [
    {
     "data": {
      "text/plain": [
       "20"
      ]
     },
     "execution_count": 1,
     "metadata": {},
     "output_type": "execute_result"
    }
   ],
   "source": [
    "num1=30\n",
    "num2=20\n",
    "num1\n",
    "num2"
   ]
  },
  {
   "cell_type": "markdown",
   "id": "b0f05a0f-0052-4809-8796-ad7624e8aa83",
   "metadata": {},
   "source": [
    "- In Jupyter notebook, only last value visible\n",
    "\n",
    "- If you want to print two values we need to print both values"
   ]
  },
  {
   "cell_type": "code",
   "execution_count": 2,
   "id": "6a239e60-7297-4d50-a2b7-d8b7ae242773",
   "metadata": {},
   "outputs": [
    {
     "name": "stdout",
     "output_type": "stream",
     "text": [
      "30\n",
      "20\n"
     ]
    }
   ],
   "source": [
    "num1=30\n",
    "num2=20\n",
    "print(num1)\n",
    "print(num2)"
   ]
  },
  {
   "cell_type": "code",
   "execution_count": 3,
   "id": "f00a3e4f-e490-46ef-99ab-8b64c10e4997",
   "metadata": {},
   "outputs": [
    {
     "name": "stdout",
     "output_type": "stream",
     "text": [
      "30\n",
      "20\n"
     ]
    },
    {
     "data": {
      "text/plain": [
       "(None, None)"
      ]
     },
     "execution_count": 3,
     "metadata": {},
     "output_type": "execute_result"
    }
   ],
   "source": [
    "num1=30\n",
    "num2=20\n",
    "print(num1), print(num2)"
   ]
  },
  {
   "cell_type": "markdown",
   "id": "b1ad7ac3-4d7a-47f5-96fa-e3727b6bd9c1",
   "metadata": {},
   "source": [
    "- Here none is coming because it is expecting to save in a variable whenever to write side by side\n",
    "\n",
    "- Hence, it is not saved in any variable that's why it is coming like (None, None)"
   ]
  },
  {
   "cell_type": "code",
   "execution_count": 5,
   "id": "4db58adf-c3f3-49ab-91b1-8af166534212",
   "metadata": {},
   "outputs": [
    {
     "name": "stdout",
     "output_type": "stream",
     "text": [
      "30\n",
      "20\n"
     ]
    },
    {
     "data": {
      "text/plain": [
       "(30, 20)"
      ]
     },
     "execution_count": 5,
     "metadata": {},
     "output_type": "execute_result"
    }
   ],
   "source": [
    "num1=30\n",
    "num2=20\n",
    "print(num1), print(num2)\n",
    "\n",
    "num1,num2"
   ]
  },
  {
   "cell_type": "code",
   "execution_count": 6,
   "id": "a723ffbc-2ac7-4004-b399-9a7071557285",
   "metadata": {},
   "outputs": [
    {
     "data": {
      "text/plain": [
       "(30, 20)"
      ]
     },
     "execution_count": 6,
     "metadata": {},
     "output_type": "execute_result"
    }
   ],
   "source": [
    "num1=30\n",
    "num2=20\n",
    "num1,num2"
   ]
  },
  {
   "cell_type": "code",
   "execution_count": 4,
   "id": "8f9cc824-e770-4c4c-ba82-3ab32b944663",
   "metadata": {},
   "outputs": [
    {
     "name": "stdout",
     "output_type": "stream",
     "text": [
      "30 20\n"
     ]
    }
   ],
   "source": [
    "num1=30\n",
    "num2=20\n",
    "print(num1,num2)"
   ]
  },
  {
   "cell_type": "code",
   "execution_count": 19,
   "id": "f1555133-694c-45d0-aaca-a049a7fdd60b",
   "metadata": {},
   "outputs": [
    {
     "name": "stdout",
     "output_type": "stream",
     "text": [
      "30 20 Python\n"
     ]
    }
   ],
   "source": [
    "print(30,20, 'Python')"
   ]
  },
  {
   "cell_type": "code",
   "execution_count": 13,
   "id": "ef1287b7-8b5a-4966-a322-20b22195f919",
   "metadata": {},
   "outputs": [
    {
     "name": "stdout",
     "output_type": "stream",
     "text": [
      "the addition of 100 and 200 is 300\n"
     ]
    }
   ],
   "source": [
    "a=100\n",
    "b=200\n",
    "c=a+b\n",
    "#the addition of 100 and 200 is 300\n",
    "print('the addition of',a, 'and',b, 'is',c)"
   ]
  },
  {
   "cell_type": "code",
   "execution_count": 18,
   "id": "c8bd1189-abb6-4fbd-9188-f90cf5d8a0a2",
   "metadata": {},
   "outputs": [
    {
     "name": "stdout",
     "output_type": "stream",
     "text": [
      "My name is Python Im 10 years old and from Hyd\n"
     ]
    }
   ],
   "source": [
    "name='Python'\n",
    "age=10\n",
    "city='Hyd'\n",
    "#My name is python I'm 10 years old and from Hyd\n",
    "print('My name is' ,name, 'Im' ,age, 'years old and from' ,city)"
   ]
  },
  {
   "cell_type": "markdown",
   "id": "0e7de366-b908-4627-8610-5f0e7abc7eec",
   "metadata": {},
   "source": [
    "**Format**"
   ]
  },
  {
   "cell_type": "code",
   "execution_count": 21,
   "id": "6967c54c-857f-461b-84e5-3fc31427e9b6",
   "metadata": {},
   "outputs": [
    {
     "name": "stdout",
     "output_type": "stream",
     "text": [
      "the addition of 100 and 200 is 300\n",
      "the addition of 100 and 200 is 300.\n"
     ]
    }
   ],
   "source": [
    "a=100\n",
    "b=200\n",
    "c=a+b\n",
    "#the addition of 100 and 200 is 300\n",
    "print('the addition of 100 and 200 is 300')\n",
    "print('the addition of {} and {} is {}.'.format(a,b,c))"
   ]
  },
  {
   "cell_type": "code",
   "execution_count": 22,
   "id": "07a75316-162b-4b8e-b3de-c4f4c891de86",
   "metadata": {},
   "outputs": [
    {
     "name": "stdout",
     "output_type": "stream",
     "text": [
      "My name is Python Im 10 years old and from Hyd.\n"
     ]
    }
   ],
   "source": [
    "name='Python'\n",
    "age=10\n",
    "city='Hyd'\n",
    "#My name is python I'm 10 years old and from Hyd\n",
    "print('My name is {} Im {} years old and from {}.'.format(name,age,city))"
   ]
  },
  {
   "cell_type": "code",
   "execution_count": 23,
   "id": "0b922b56-9ef6-447e-a216-d4f0176de666",
   "metadata": {},
   "outputs": [
    {
     "name": "stdout",
     "output_type": "stream",
     "text": [
      "My name is Hyd Im Python years old and from 10.\n"
     ]
    }
   ],
   "source": [
    "print('My name is {} Im {} years old and from {}.'.format(city,name,age))"
   ]
  },
  {
   "cell_type": "code",
   "execution_count": 25,
   "id": "ffd21580-e7b2-4b03-acd9-b5ecc0ef2a43",
   "metadata": {},
   "outputs": [
    {
     "name": "stdout",
     "output_type": "stream",
     "text": [
      "the addition of 100 and 200 is 300.\n",
      "the subtraction of 100 and 200 is -100.\n",
      "the multiplication of 100 and 200 is 20000.\n",
      "the division of 100 and 200 is 0.5.\n"
     ]
    }
   ],
   "source": [
    "n1=100\n",
    "n2=200\n",
    "add=n1+n2\n",
    "sub=n1-n2\n",
    "mul=n1*n2\n",
    "div=n1/n2\n",
    "#the addition of 100 and 200 is 300\n",
    "#the subtraction of 100 and 200 is -100\n",
    "#the multiplication of 100 and 200 is 20000\n",
    "#the division of 100 and 200 is 0.5\n",
    "print('the addition of {} and {} is {}.'.format(n1,n2,add))\n",
    "print('the subtraction of {} and {} is {}.'.format(n1,n2,sub))\n",
    "print('the multiplication of {} and {} is {}.'.format(n1,n2,mul))\n",
    "print('the division of {} and {} is {}.'.format(n1,n2,div))"
   ]
  },
  {
   "cell_type": "markdown",
   "id": "14bfc080-12a5-492f-8501-8484b68f06d8",
   "metadata": {},
   "source": [
    "**f string**"
   ]
  },
  {
   "cell_type": "code",
   "execution_count": 26,
   "id": "65daa8af-1ade-4dda-8a82-bbd1a6633d5b",
   "metadata": {},
   "outputs": [
    {
     "name": "stdout",
     "output_type": "stream",
     "text": [
      "the addition of 100 and 200 is 300\n",
      "the addition of 100 and 200 is 300.\n",
      "the addition of 100 and 200 is 300.\n"
     ]
    }
   ],
   "source": [
    "a=100\n",
    "b=200\n",
    "c=a+b\n",
    "#the addition of 100 and 200 is 300\n",
    "print('the addition of',a, 'and',b, 'is',c)\n",
    "print('the addition of {} and {} is {}.'.format(a,b,c))\n",
    "\n",
    "print(f'the addition of {a} and {b} is {c}.')"
   ]
  },
  {
   "cell_type": "code",
   "execution_count": 27,
   "id": "115ea687-5af5-44b9-aa31-9447497a3603",
   "metadata": {},
   "outputs": [
    {
     "name": "stdout",
     "output_type": "stream",
     "text": [
      "the addition of 100 and 200 is 300.\n",
      "the subtraction of 100 and 200 is -100.\n",
      "the multiplication of 100 and 200 is 20000.\n",
      "the division of 100 and 200 is 0.5.\n"
     ]
    }
   ],
   "source": [
    "n1=100\n",
    "n2=200\n",
    "add=n1+n2\n",
    "sub=n1-n2\n",
    "mul=n1*n2\n",
    "div=n1/n2\n",
    "#the addition of 100 and 200 is 300\n",
    "#the subtraction of 100 and 200 is -100\n",
    "#the multiplication of 100 and 200 is 20000\n",
    "#the division of 100 and 200 is 0.5\n",
    "print(f'the addition of {n1} and {n2} is {add}.')\n",
    "print(f'the subtraction of {n1} and {n2} is {sub}.')\n",
    "print(f'the multiplication of {n1} and {n2} is {mul}.')\n",
    "print(f'the division of {n1} and {n2} is {div}.')"
   ]
  },
  {
   "cell_type": "markdown",
   "id": "37724c12-4303-4241-af81-ec9d188fe8fa",
   "metadata": {},
   "source": [
    "- always use the f string method for real time project"
   ]
  },
  {
   "cell_type": "markdown",
   "id": "b140e414-5aa7-4058-ac66-ac548736f37b",
   "metadata": {},
   "source": [
    "- we have a situation where we want to combine two print statements"
   ]
  },
  {
   "cell_type": "code",
   "execution_count": 28,
   "id": "33b513e1-a5f2-404a-b890-08043f469583",
   "metadata": {},
   "outputs": [
    {
     "name": "stdout",
     "output_type": "stream",
     "text": [
      "Hello\n",
      "good morning\n"
     ]
    }
   ],
   "source": [
    "print('Hello')\n",
    "print('good morning')"
   ]
  },
  {
   "cell_type": "code",
   "execution_count": 29,
   "id": "d600e530-5b5d-4324-a67d-0d80855c2354",
   "metadata": {},
   "outputs": [
    {
     "name": "stdout",
     "output_type": "stream",
     "text": [
      "hello good morning\n"
     ]
    }
   ],
   "source": [
    "print('hello good morning')"
   ]
  },
  {
   "cell_type": "markdown",
   "id": "0fae3001-6596-4370-ad27-e00078d50d91",
   "metadata": {},
   "source": [
    "- In order to print two statements or multiple print statements in one line we have to use end operator\n",
    "\n",
    "$End$"
   ]
  },
  {
   "cell_type": "code",
   "execution_count": 37,
   "id": "4be1f7f4-4f9e-4756-a80c-f82878b170d8",
   "metadata": {},
   "outputs": [
    {
     "name": "stdout",
     "output_type": "stream",
     "text": [
      "20 30\n"
     ]
    }
   ],
   "source": [
    "print(20,end=' ')\n",
    "print(30)"
   ]
  },
  {
   "cell_type": "code",
   "execution_count": 38,
   "id": "d79d34cb-7a50-46bf-9a23-287e48b5732c",
   "metadata": {},
   "outputs": [
    {
     "name": "stdout",
     "output_type": "stream",
     "text": [
      "20 ===> 30\n"
     ]
    }
   ],
   "source": [
    "print(20,end=' ===> ')\n",
    "print(30)"
   ]
  },
  {
   "cell_type": "code",
   "execution_count": 41,
   "id": "bf37ab77-0e57-4505-aca8-d6ae9d5dc0e7",
   "metadata": {},
   "outputs": [
    {
     "name": "stdout",
     "output_type": "stream",
     "text": [
      "1 2 3\n"
     ]
    }
   ],
   "source": [
    "print(1, end=' ')\n",
    "print(2, end=\" \")\n",
    "print(3)"
   ]
  },
  {
   "cell_type": "code",
   "execution_count": 43,
   "id": "2e9ece9a-0677-46eb-a0c9-0815fbdf0827",
   "metadata": {},
   "outputs": [
    {
     "name": "stdout",
     "output_type": "stream",
     "text": [
      "20 **** 30\n"
     ]
    }
   ],
   "source": [
    "print(20,'****',30)"
   ]
  },
  {
   "cell_type": "code",
   "execution_count": 44,
   "id": "4df0fa7e-fddc-4c43-a131-aae8f2304be7",
   "metadata": {},
   "outputs": [
    {
     "name": "stdout",
     "output_type": "stream",
     "text": [
      "20****30\n"
     ]
    }
   ],
   "source": [
    "print(20, end='****')\n",
    "print(30)"
   ]
  },
  {
   "cell_type": "markdown",
   "id": "6b7703a4-d925-4a63-8473-f67d5ffd7b66",
   "metadata": {},
   "source": [
    "- We have a another situation in that we have to seperate the multiple variables in one print statement\n",
    "\n",
    "- In this case we have to use seperator operator"
   ]
  },
  {
   "cell_type": "code",
   "execution_count": 46,
   "id": "994713b8-7c0f-42e1-a046-0f5a9282274c",
   "metadata": {},
   "outputs": [
    {
     "name": "stdout",
     "output_type": "stream",
     "text": [
      "20 30\n"
     ]
    }
   ],
   "source": [
    "print(20, 30)"
   ]
  },
  {
   "cell_type": "code",
   "execution_count": 47,
   "id": "eab1a7d6-ba5f-40a5-a371-42cf671e6b0d",
   "metadata": {},
   "outputs": [
    {
     "name": "stdout",
     "output_type": "stream",
     "text": [
      "20 ---> 30\n"
     ]
    }
   ],
   "source": [
    "print(20, '--->', 30)"
   ]
  },
  {
   "cell_type": "markdown",
   "id": "0057f250-2e36-4609-89f5-1bea21a69ee1",
   "metadata": {},
   "source": [
    "$sep$"
   ]
  },
  {
   "cell_type": "code",
   "execution_count": 49,
   "id": "45f3f799-aa41-493e-9cf7-9ae13bf9e444",
   "metadata": {},
   "outputs": [
    {
     "name": "stdout",
     "output_type": "stream",
     "text": [
      "20--->30--->50\n"
     ]
    }
   ],
   "source": [
    "print(20,30,50, sep='--->')"
   ]
  },
  {
   "cell_type": "markdown",
   "id": "2fa20986-3a9f-4b26-8b9d-3b5945854e34",
   "metadata": {},
   "source": [
    "- end operator used to combine multiple print statements\n",
    "\n",
    "- sep operator used to seperate the multiple variables in a single print statement"
   ]
  },
  {
   "cell_type": "code",
   "execution_count": 69,
   "id": "1cb0ab21-9d2c-4b96-adc7-9ac37f10ba9f",
   "metadata": {},
   "outputs": [
    {
     "name": "stdout",
     "output_type": "stream",
     "text": [
      "the addition of 3+4 is 7 .\n",
      "the addition of 3+4 is 7.\n",
      "the addition of 3+4 is 7.\n",
      "the addition of 3+4 is.7\n"
     ]
    }
   ],
   "source": [
    "print('the addition of 3+4 is',3+4,'.')\n",
    "print('the addition of 3+4 is {}.'.format(3+4))\n",
    "print(f'the addition of 3+4 is {3+4}.')\n",
    "print(\"the addition of 3+4 is\",3+4, sep='.')"
   ]
  },
  {
   "cell_type": "code",
   "execution_count": 68,
   "id": "3d89d4ac-1e1b-4b31-8816-95364ba3d8a5",
   "metadata": {},
   "outputs": [
    {
     "name": "stdout",
     "output_type": "stream",
     "text": [
      "the addition of 3+4 is 7.\n"
     ]
    }
   ],
   "source": [
    "print(f'the addition of 3+4 is {3+4}', '.', sep='')"
   ]
  },
  {
   "cell_type": "code",
   "execution_count": null,
   "id": "d07e75e0-2013-46b8-acfc-8f3fb59b80d8",
   "metadata": {},
   "outputs": [],
   "source": []
  }
 ],
 "metadata": {
  "kernelspec": {
   "display_name": "Python 3 (ipykernel)",
   "language": "python",
   "name": "python3"
  },
  "language_info": {
   "codemirror_mode": {
    "name": "ipython",
    "version": 3
   },
   "file_extension": ".py",
   "mimetype": "text/x-python",
   "name": "python",
   "nbconvert_exporter": "python",
   "pygments_lexer": "ipython3",
   "version": "3.12.7"
  }
 },
 "nbformat": 4,
 "nbformat_minor": 5
}
