{
 "cells": [
  {
   "cell_type": "markdown",
   "id": "4f8c6250-b5c7-47be-b175-eedf1b5b4083",
   "metadata": {},
   "source": [
    "- Generally if you observe any application\n",
    "\n",
    "- user will provide the values\n",
    "\n",
    "- backend some programming language will work\n",
    "\n",
    "- if any code the values we give or fix is called **Hard Code**\n",
    "\n",
    "- always the code should be generic\n",
    "\n",
    "- in python the user can provide the values from keyboard using **input**"
   ]
  },
  {
   "cell_type": "code",
   "execution_count": 1,
   "id": "3557f4bb-58cc-47c8-be81-4d99af02bce0",
   "metadata": {},
   "outputs": [
    {
     "name": "stdin",
     "output_type": "stream",
     "text": [
      " hello\n"
     ]
    },
    {
     "data": {
      "text/plain": [
       "'hello'"
      ]
     },
     "execution_count": 1,
     "metadata": {},
     "output_type": "execute_result"
    }
   ],
   "source": [
    "input()"
   ]
  },
  {
   "cell_type": "code",
   "execution_count": 1,
   "id": "2ebbc607-e7d3-4ed9-a19f-4756964dbad5",
   "metadata": {},
   "outputs": [
    {
     "name": "stdin",
     "output_type": "stream",
     "text": [
      " 20\n",
      " 30\n",
      " 40\n"
     ]
    },
    {
     "data": {
      "text/plain": [
       "'40'"
      ]
     },
     "execution_count": 1,
     "metadata": {},
     "output_type": "execute_result"
    }
   ],
   "source": [
    "input()\n",
    "input()\n",
    "input()"
   ]
  },
  {
   "cell_type": "code",
   "execution_count": 2,
   "id": "7c49e44a-dc59-4135-b6fc-6aa07a161c67",
   "metadata": {},
   "outputs": [
    {
     "name": "stdin",
     "output_type": "stream",
     "text": [
      "Enter the number: 234\n"
     ]
    },
    {
     "data": {
      "text/plain": [
       "'234'"
      ]
     },
     "execution_count": 2,
     "metadata": {},
     "output_type": "execute_result"
    }
   ],
   "source": [
    "input('Enter the number:')"
   ]
  },
  {
   "cell_type": "code",
   "execution_count": 3,
   "id": "4f40ec2d-bb3d-4e04-8752-d4e67ad1d5d4",
   "metadata": {},
   "outputs": [
    {
     "name": "stdin",
     "output_type": "stream",
     "text": [
      "Enter the name: Riddhi\n",
      "Enter the age: 20\n",
      "Enter the city: Pune\n"
     ]
    },
    {
     "data": {
      "text/plain": [
       "'Pune'"
      ]
     },
     "execution_count": 3,
     "metadata": {},
     "output_type": "execute_result"
    }
   ],
   "source": [
    "input('Enter the name:')\n",
    "input('Enter the age:')\n",
    "input('Enter the city:')"
   ]
  },
  {
   "cell_type": "code",
   "execution_count": 4,
   "id": "f5397fb9-4a1a-4179-8e04-19037837e68f",
   "metadata": {},
   "outputs": [
    {
     "data": {
      "text/plain": [
       "30"
      ]
     },
     "execution_count": 4,
     "metadata": {},
     "output_type": "execute_result"
    }
   ],
   "source": [
    "a=10\n",
    "b=20\n",
    "a+b"
   ]
  },
  {
   "cell_type": "code",
   "execution_count": 5,
   "id": "26949f73-4780-433c-9eec-d928d6ed070c",
   "metadata": {},
   "outputs": [
    {
     "name": "stdin",
     "output_type": "stream",
     "text": [
      "Enter the value: 100\n",
      "Enter the value: 200\n"
     ]
    },
    {
     "data": {
      "text/plain": [
       "'100200'"
      ]
     },
     "execution_count": 5,
     "metadata": {},
     "output_type": "execute_result"
    }
   ],
   "source": [
    "a=input('Enter the value:')  #a='100'\n",
    "b=input('Enter the value:')  #b='200'\n",
    "a+b                          #a+b='100'+'200'='100200'"
   ]
  },
  {
   "cell_type": "code",
   "execution_count": 6,
   "id": "df1094bf-5018-4976-aee3-4190b2ef9912",
   "metadata": {},
   "outputs": [
    {
     "name": "stdin",
     "output_type": "stream",
     "text": [
      "Enter the value: 100\n",
      "Enter the value: 200\n"
     ]
    },
    {
     "data": {
      "text/plain": [
       "300"
      ]
     },
     "execution_count": 6,
     "metadata": {},
     "output_type": "execute_result"
    }
   ],
   "source": [
    "a=int(input('Enter the value:'))  #a=int('100 = 100\n",
    "b=int(input('Enter the value:'))  #b=int('200')= 200\n",
    "a+b                               #100+200=300"
   ]
  },
  {
   "cell_type": "code",
   "execution_count": 7,
   "id": "01284fb0-a9b7-43e7-91e0-1b582cb3ca94",
   "metadata": {},
   "outputs": [
    {
     "name": "stdin",
     "output_type": "stream",
     "text": [
      "enter a value: 300\n"
     ]
    },
    {
     "data": {
      "text/plain": [
       "'300'"
      ]
     },
     "execution_count": 7,
     "metadata": {},
     "output_type": "execute_result"
    }
   ],
   "source": [
    "input(\"enter a value:\")"
   ]
  },
  {
   "cell_type": "code",
   "execution_count": 8,
   "id": "7d4dffd6-9630-47bf-9493-3812bf9edb2a",
   "metadata": {},
   "outputs": [
    {
     "name": "stdin",
     "output_type": "stream",
     "text": [
      " Python\n"
     ]
    },
    {
     "data": {
      "text/plain": [
       "'Python'"
      ]
     },
     "execution_count": 8,
     "metadata": {},
     "output_type": "execute_result"
    }
   ],
   "source": [
    "input()"
   ]
  },
  {
   "cell_type": "code",
   "execution_count": 9,
   "id": "be75612e-2870-4300-a3ea-81a5a5cdf7a7",
   "metadata": {},
   "outputs": [
    {
     "data": {
      "text/plain": [
       "300"
      ]
     },
     "execution_count": 9,
     "metadata": {},
     "output_type": "execute_result"
    }
   ],
   "source": [
    "int('100')+int('200')"
   ]
  },
  {
   "cell_type": "code",
   "execution_count": 10,
   "id": "a8a65d32-77d7-4b34-9025-b54b6a0f59dc",
   "metadata": {},
   "outputs": [
    {
     "data": {
      "text/plain": [
       "'100200'"
      ]
     },
     "execution_count": 10,
     "metadata": {},
     "output_type": "execute_result"
    }
   ],
   "source": [
    "'100'+'200'"
   ]
  },
  {
   "cell_type": "code",
   "execution_count": 12,
   "id": "3de89200-22e0-4538-ab62-ce6f8c9ae48d",
   "metadata": {},
   "outputs": [
    {
     "name": "stdin",
     "output_type": "stream",
     "text": [
      "enter the n1: 100\n",
      "enter the n2: 200\n"
     ]
    },
    {
     "data": {
      "text/plain": [
       "300"
      ]
     },
     "execution_count": 12,
     "metadata": {},
     "output_type": "execute_result"
    }
   ],
   "source": [
    "n1=int(input('enter the n1:'))  #n1=int('100')=100\n",
    "n2=int(input('enter the n2:'))  #n2=int('200')=200\n",
    "add=n1+n2  #100+200=300\n",
    "add"
   ]
  },
  {
   "cell_type": "code",
   "execution_count": 13,
   "id": "e053fb4e-33a8-4f5f-ba1a-9a1cf9e6df40",
   "metadata": {},
   "outputs": [
    {
     "name": "stdin",
     "output_type": "stream",
     "text": [
      "enter the n1: 100\n",
      "enter the n2: 200\n"
     ]
    },
    {
     "data": {
      "text/plain": [
       "300"
      ]
     },
     "execution_count": 13,
     "metadata": {},
     "output_type": "execute_result"
    }
   ],
   "source": [
    "n1=input('enter the n1:')\n",
    "n2=input('enter the n2:')\n",
    "add=int(n1)+int(n2)  #add=int('100')+int('200')=100+200\n",
    "add"
   ]
  },
  {
   "cell_type": "code",
   "execution_count": 14,
   "id": "6ceaa165-eeff-471c-8f2c-378889945bcb",
   "metadata": {},
   "outputs": [
    {
     "name": "stdin",
     "output_type": "stream",
     "text": [
      " 100.5\n",
      " 250\n"
     ]
    }
   ],
   "source": [
    "n1=float(input())\n",
    "n2=int(input())"
   ]
  },
  {
   "cell_type": "code",
   "execution_count": 15,
   "id": "327f19c6-86c0-496e-95fb-822978b2ec43",
   "metadata": {},
   "outputs": [
    {
     "name": "stdin",
     "output_type": "stream",
     "text": [
      " 100.5\n"
     ]
    },
    {
     "ename": "ValueError",
     "evalue": "invalid literal for int() with base 10: '100.5'",
     "output_type": "error",
     "traceback": [
      "\u001b[1;31m---------------------------------------------------------------------------\u001b[0m",
      "\u001b[1;31mValueError\u001b[0m                                Traceback (most recent call last)",
      "Cell \u001b[1;32mIn[15], line 1\u001b[0m\n\u001b[1;32m----> 1\u001b[0m \u001b[38;5;28mint\u001b[39m(\u001b[38;5;28minput\u001b[39m())\n",
      "\u001b[1;31mValueError\u001b[0m: invalid literal for int() with base 10: '100.5'"
     ]
    }
   ],
   "source": [
    "int(input())"
   ]
  },
  {
   "cell_type": "code",
   "execution_count": 20,
   "id": "1da74ea2-c7c5-4767-ab58-1f789052d00a",
   "metadata": {},
   "outputs": [
    {
     "data": {
      "text/plain": [
       "10"
      ]
     },
     "execution_count": 20,
     "metadata": {},
     "output_type": "execute_result"
    }
   ],
   "source": [
    "float('10')\n",
    "float('10.5')\n",
    "int('10')\n",
    "#int('10.5')  #fails"
   ]
  },
  {
   "cell_type": "markdown",
   "id": "bde0835f-9787-4673-b3a4-e101e58b12ad",
   "metadata": {},
   "source": [
    "- for using data types to convert the value we need to be very focus otherwise it will error or wrong output"
   ]
  },
  {
   "cell_type": "code",
   "execution_count": 22,
   "id": "b6b9b552-7095-4645-9e51-8871e369fb7d",
   "metadata": {},
   "outputs": [
    {
     "name": "stdin",
     "output_type": "stream",
     "text": [
      "enter n1: 12\n",
      "enter n2: 13\n"
     ]
    },
    {
     "data": {
      "text/plain": [
       "25.0"
      ]
     },
     "execution_count": 22,
     "metadata": {},
     "output_type": "execute_result"
    }
   ],
   "source": [
    "n1=float(input('enter n1:'))\n",
    "n2=float(input('enter n2:'))\n",
    "n1+n2"
   ]
  },
  {
   "cell_type": "markdown",
   "id": "f7f1c24f-388b-47c6-94c1-9b9dd1a518f5",
   "metadata": {},
   "source": [
    "**eval**"
   ]
  },
  {
   "cell_type": "markdown",
   "id": "c3493df7-0641-4cc5-a355-53f551ccc38f",
   "metadata": {},
   "source": [
    "- whenever we listen about eval it represent math term **evaluate**\n",
    "\n",
    "- instead on focus on int and float everytime\n",
    "\n",
    "- simply use **eval** conversion always\n",
    "\n",
    "- if you apply eval it will convert value based on base data types\n",
    "\n",
    "- if user will provide the integer, it will convert into integer value\n",
    "\n",
    "- if user will provide the float, it will convert into float value\n",
    "\n",
    "- if user will provide the string, it will give error"
   ]
  },
  {
   "cell_type": "code",
   "execution_count": 23,
   "id": "7d079c15-8649-4761-9261-7ec574b137dd",
   "metadata": {},
   "outputs": [
    {
     "name": "stdin",
     "output_type": "stream",
     "text": [
      "enter the n1: 10\n",
      "enter the n2: 20\n"
     ]
    },
    {
     "data": {
      "text/plain": [
       "30"
      ]
     },
     "execution_count": 23,
     "metadata": {},
     "output_type": "execute_result"
    }
   ],
   "source": [
    "n1=eval(input('enter the n1:'))\n",
    "n2=eval(input('enter the n2:'))\n",
    "add=n1+n2\n",
    "add"
   ]
  },
  {
   "cell_type": "code",
   "execution_count": 24,
   "id": "f4e24468-0e0c-474b-8392-a527926dd62d",
   "metadata": {},
   "outputs": [
    {
     "name": "stdin",
     "output_type": "stream",
     "text": [
      "enter the n1: 10\n",
      "enter the n2: 12.5\n"
     ]
    },
    {
     "data": {
      "text/plain": [
       "22.5"
      ]
     },
     "execution_count": 24,
     "metadata": {},
     "output_type": "execute_result"
    }
   ],
   "source": [
    "n1=input('enter the n1:')\n",
    "n2=input('enter the n2:')\n",
    "add=eval(n1)+eval(n2)\n",
    "add"
   ]
  },
  {
   "cell_type": "code",
   "execution_count": 25,
   "id": "63130c0a-75ce-45f4-bf14-93bb1e9b9131",
   "metadata": {},
   "outputs": [
    {
     "name": "stdin",
     "output_type": "stream",
     "text": [
      "enter the n1: 100\n",
      "enter the n2: 45\n"
     ]
    },
    {
     "data": {
      "text/plain": [
       "145"
      ]
     },
     "execution_count": 25,
     "metadata": {},
     "output_type": "execute_result"
    }
   ],
   "source": [
    "#### n1=eval(input('enter the n1:'))\n",
    "n2=eval(input('enter the n2:'))\n",
    "add=n1+n2\n",
    "add"
   ]
  },
  {
   "cell_type": "code",
   "execution_count": 1,
   "id": "a9828ebb-5d00-4060-8b15-1fb411146fdf",
   "metadata": {},
   "outputs": [
    {
     "name": "stdin",
     "output_type": "stream",
     "text": [
      "enter the n1: 12.5\n",
      "enter the n2: 54.5\n"
     ]
    },
    {
     "name": "stdout",
     "output_type": "stream",
     "text": [
      "the addition of 12.5 and 54.5 is 67.0\n"
     ]
    }
   ],
   "source": [
    "n1=eval(input('enter the n1:'))\n",
    "n2=eval(input('enter the n2:'))\n",
    "add=n1+n2\n",
    "add\n",
    "print(f'the addition of {n1} and {n2} is {add}')"
   ]
  },
  {
   "cell_type": "markdown",
   "id": "a5566c6d-c0cb-4540-aedb-3ecc7f11f29f",
   "metadata": {},
   "source": [
    "**common mistakes**\n",
    "\n",
    "- error1: ( never closed\n",
    "\n",
    "    - you open the bracket, but you forgot to close\n",
    "\n",
    "- error2: unterminated string literal\n",
    "\n",
    "    - check at last of string the quote is provided or not "
   ]
  },
  {
   "cell_type": "code",
   "execution_count": 36,
   "id": "9c638a98-2fd6-46e1-b767-e4fb966b05fd",
   "metadata": {},
   "outputs": [
    {
     "name": "stdin",
     "output_type": "stream",
     "text": [
      "Enter the n1:  10\n",
      "Enter the n2:  23\n",
      "Enter the n3:  45\n"
     ]
    },
    {
     "data": {
      "text/plain": [
       "26.0"
      ]
     },
     "execution_count": 36,
     "metadata": {},
     "output_type": "execute_result"
    }
   ],
   "source": [
    "#wap ask the user take three numbers from keyboard and print average\n",
    "\n",
    "n1=eval(input('Enter the n1: '))\n",
    "n2=eval(input('Enter the n2: '))\n",
    "n3=eval(input('Enter the n3: '))\n",
    "avg=(n1+n2+n3)/3\n",
    "avg"
   ]
  },
  {
   "cell_type": "code",
   "execution_count": 44,
   "id": "e2b57f20-b45d-433c-8d97-c75f1f3e71e9",
   "metadata": {},
   "outputs": [
    {
     "name": "stdin",
     "output_type": "stream",
     "text": [
      "Enter the n1:  1\n",
      "Enter the n2:  11\n",
      "Enter the n3:  47\n"
     ]
    },
    {
     "data": {
      "text/plain": [
       "19.666666666666668"
      ]
     },
     "execution_count": 44,
     "metadata": {},
     "output_type": "execute_result"
    }
   ],
   "source": [
    "n1=eval(input('Enter the n1: '))\n",
    "n2=eval(input('Enter the n2: '))\n",
    "n3=eval(input('Enter the n3: '))\n",
    "avg=(n1+n2+n3)/3\n",
    "avg"
   ]
  },
  {
   "cell_type": "markdown",
   "id": "9f54762b-668e-4693-b7ac-a4752d80c225",
   "metadata": {},
   "source": [
    "**round**\n",
    "\n",
    "- to convert the long decimal value to its nearest value\n",
    "\n",
    "- 19.666666666668 ===> 20"
   ]
  },
  {
   "cell_type": "code",
   "execution_count": 45,
   "id": "aa18ac52-e974-4e3e-92e0-e61917ab9028",
   "metadata": {},
   "outputs": [
    {
     "data": {
      "text/plain": [
       "20"
      ]
     },
     "execution_count": 45,
     "metadata": {},
     "output_type": "execute_result"
    }
   ],
   "source": [
    "round(19.66666666668)"
   ]
  },
  {
   "cell_type": "code",
   "execution_count": 46,
   "id": "06d536b6-052d-4110-8b2a-a8a138fe2d93",
   "metadata": {},
   "outputs": [
    {
     "data": {
      "text/plain": [
       "19.667"
      ]
     },
     "execution_count": 46,
     "metadata": {},
     "output_type": "execute_result"
    }
   ],
   "source": [
    "round(19.66666666668, 3)"
   ]
  },
  {
   "cell_type": "code",
   "execution_count": 47,
   "id": "a81fbad9-ecbb-4c26-84ed-0b632949a9c5",
   "metadata": {},
   "outputs": [
    {
     "name": "stdin",
     "output_type": "stream",
     "text": [
      "Enter the n1:  2\n",
      "Enter the n2:  24\n",
      "Enter the n3:  56\n"
     ]
    },
    {
     "name": "stdout",
     "output_type": "stream",
     "text": [
      "the avg of 2, 24 and 56 is 27.33\n"
     ]
    }
   ],
   "source": [
    "n1=eval(input('Enter the n1: '))\n",
    "n2=eval(input('Enter the n2: '))\n",
    "n3=eval(input('Enter the n3: '))\n",
    "avg=(n1+n2+n3)/3\n",
    "avg1=round(avg,2)\n",
    "print(f'the avg of {n1}, {n2} and {n3} is {avg1}')"
   ]
  },
  {
   "cell_type": "code",
   "execution_count": 31,
   "id": "2c284239-ea73-4a19-9ca2-027d7b04c505",
   "metadata": {},
   "outputs": [
    {
     "name": "stdin",
     "output_type": "stream",
     "text": [
      "Enter the breadth:  23\n",
      "Enter the height:  34\n"
     ]
    },
    {
     "name": "stdout",
     "output_type": "stream",
     "text": [
      "the area of right angle triangle is 391.0\n"
     ]
    }
   ],
   "source": [
    "#wap ask the user take the breadth and height from keyboard\n",
    "#calcuate the the area of right angle triangle\n",
    "#formula=0.5*b*h\n",
    "\n",
    "b=eval(input('Enter the breadth: '))\n",
    "h=eval(input('Enter the height: '))\n",
    "area=0.5*b*h\n",
    "print(f'the area of right angle triangle is {area}')"
   ]
  },
  {
   "cell_type": "code",
   "execution_count": 32,
   "id": "81823d28-31ae-406c-ae9b-8dd37020372b",
   "metadata": {},
   "outputs": [
    {
     "name": "stdin",
     "output_type": "stream",
     "text": [
      "Enter the radius:  4\n"
     ]
    },
    {
     "name": "stdout",
     "output_type": "stream",
     "text": [
      "the area of circle is 50.24\n"
     ]
    }
   ],
   "source": [
    "#wap ask the user to take the radius from the keyboard\n",
    "#calculate the area of circle\n",
    "#Formula=pi*r*r  pi=3.14\n",
    "\n",
    "r=eval(input('Enter the radius: '))\n",
    "pi=3.14\n",
    "area=pi*r*r\n",
    "print(f'the area of circle is {area}')"
   ]
  },
  {
   "cell_type": "code",
   "execution_count": 33,
   "id": "0527cc88-eace-446e-9fb3-d07d923af9b7",
   "metadata": {},
   "outputs": [
    {
     "name": "stdin",
     "output_type": "stream",
     "text": [
      "Enter the bill amount:  150\n",
      "How much tip you want to provide:  20\n"
     ]
    },
    {
     "name": "stdout",
     "output_type": "stream",
     "text": [
      "the total bill amount is 170\n"
     ]
    }
   ],
   "source": [
    "#wap ask the user to enter the bill amount\n",
    "#ask the user to provide how much tip amount he want to give\n",
    "#calulate the total bill\n",
    "\n",
    "amount=eval(input('Enter the bill amount: '))\n",
    "tip=eval(input('How much tip you want to provide: '))\n",
    "total_bill=amount+tip\n",
    "print(f'the total bill amount is {total_bill}')"
   ]
  },
  {
   "cell_type": "code",
   "execution_count": 43,
   "id": "73cdfc85-ff0b-4527-937a-082ade004760",
   "metadata": {},
   "outputs": [
    {
     "name": "stdin",
     "output_type": "stream",
     "text": [
      "Enter the bill amount:  1000\n",
      "How much tip percentage you want to provide:  20\n"
     ]
    },
    {
     "name": "stdout",
     "output_type": "stream",
     "text": [
      "the total bill amount is 1200.0\n"
     ]
    }
   ],
   "source": [
    "#wap ask the user to enter the bill amount\n",
    "#ask the user how much tip percentange he want to provide\n",
    "#calculate the total bill\n",
    "\n",
    "amount=eval(input('Enter the bill amount: '))\n",
    "tip_per=eval(input('How much tip percentage you want to provide: '))\n",
    "tip_amount=amount*tip_per/100\n",
    "total_bill=amount+tip_amount\n",
    "print(f'the total bill amount is {total_bill}')"
   ]
  },
  {
   "cell_type": "code",
   "execution_count": null,
   "id": "fec90a86-a7b4-4e73-836d-71e4cf22c1a0",
   "metadata": {},
   "outputs": [],
   "source": [
    "#Father and son\n",
    "#son has written the exam\n",
    "#the result got out\n",
    "#father ask percentange of marks to the son\n",
    "#so son says dad i will give the marks \n",
    "#you calculate the percentage\n",
    "\n",
    "#Father: hey beta\n",
    "#Son: hii papa\n",
    "#Father: I heard your result came out\n",
    "#Son: yes Dad\n",
    "#Father: Great! How much percentage we got\n",
    "#Son: I will tell you the sub marks you tell me the percentage\n",
    "#Father: wow thats super game, Lets starts\n",
    "#Telgu: eval(input())\n",
    "#hindi\n",
    "#eng\n",
    "#Maths\n",
    "#sci\n",
    "#social\n",
    "#Avg=(telgu+hindi+eng+maths+sci+social)/6"
   ]
  },
  {
   "cell_type": "code",
   "execution_count": 3,
   "id": "4c87fcaf-5cf1-4d9e-90e5-0b4519f5a1f7",
   "metadata": {},
   "outputs": [
    {
     "name": "stdin",
     "output_type": "stream",
     "text": [
      "Father: hey beta\n",
      "Son: hii papa\n",
      "Father: I heard your result came out\n",
      "Son: yes Dad\n",
      "Father: Great! How much percentage we got\n",
      "Son: I will tell you the sub marks you tell me the percentage\n",
      "Father: wow thats super game, Lets starts\n",
      "Enter the telgu marks: 72\n",
      "Enter the hindi marks: 80\n",
      "Enter the eng marks: 85\n",
      "Enter the maths marks: 75\n",
      "Enter the sci marks: 79\n",
      "Enter the social marks: 82\n"
     ]
    },
    {
     "name": "stdout",
     "output_type": "stream",
     "text": [
      "The percentage of total marks is 78.83 \n"
     ]
    },
    {
     "name": "stdin",
     "output_type": "stream",
     "text": [
      "Father: Great beta\n",
      "Son: Thank you papa\n"
     ]
    },
    {
     "data": {
      "text/plain": [
       "'Thank you papa'"
      ]
     },
     "execution_count": 3,
     "metadata": {},
     "output_type": "execute_result"
    }
   ],
   "source": [
    "input('Father:')\n",
    "input('Son:')\n",
    "input('Father:')\n",
    "input('Son:')\n",
    "input('Father:')\n",
    "input('Son:')\n",
    "input('Father:')\n",
    "Telgu=eval(input('Enter the telgu marks:'))\n",
    "hindi=eval(input('Enter the hindi marks:'))\n",
    "eng=eval(input('Enter the eng marks:'))\n",
    "maths=eval(input('Enter the maths marks:'))\n",
    "sci=eval(input('Enter the sci marks:'))\n",
    "social=eval(input('Enter the social marks:'))\n",
    "Avg=(Telgu+hindi+eng+maths+sci+social)/6\n",
    "Avg1=round(Avg, 2)\n",
    "print(f'The percentage of total marks is {Avg1} ')\n",
    "input('Father:')\n",
    "input('Son:')"
   ]
  },
  {
   "cell_type": "markdown",
   "id": "3e7e648d-35a2-442b-8b0b-da80dd03addc",
   "metadata": {},
   "source": [
    "#Mistake1: assign the variable which we are not using\n",
    "    ex ==> father=input('Father:')\n",
    "\n",
    "#Mistake2: type casting of english sentence\n",
    "    ex ==> eval(input('Father:'))\n",
    "\n",
    "#Mistake3: closing and opening brackets\n",
    "\n",
    "=================================================================================\n",
    "\n",
    "- Python is step by step process\n",
    "- when to use **variables**\n",
    "- when to use **eval** concept"
   ]
  },
  {
   "cell_type": "code",
   "execution_count": null,
   "id": "54d1f05b-7edc-4c93-9b23-9dc2ba1797b6",
   "metadata": {},
   "outputs": [],
   "source": []
  }
 ],
 "metadata": {
  "kernelspec": {
   "display_name": "Python 3 (ipykernel)",
   "language": "python",
   "name": "python3"
  },
  "language_info": {
   "codemirror_mode": {
    "name": "ipython",
    "version": 3
   },
   "file_extension": ".py",
   "mimetype": "text/x-python",
   "name": "python",
   "nbconvert_exporter": "python",
   "pygments_lexer": "ipython3",
   "version": "3.12.7"
  }
 },
 "nbformat": 4,
 "nbformat_minor": 5
}
