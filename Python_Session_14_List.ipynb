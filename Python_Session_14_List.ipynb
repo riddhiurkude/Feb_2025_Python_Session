{
 "cells": [
  {
   "cell_type": "markdown",
   "id": "925a9fc3-9e3f-4c2a-81f9-c96c3f806857",
   "metadata": {},
   "source": [
    "**List**\n",
    "\n",
    "- Intialization\n",
    "\n",
    "- inbuilt function\n",
    "    - min\n",
    "    - max\n",
    "    - len\n",
    "    - sorted\n",
    "    - reversed\n",
    "    - print\n",
    "    - type\n",
    "\n",
    "- index operation\n",
    "\n",
    "- mutable vs immutable\n",
    "\n",
    "- concatenation\n",
    "\n",
    "- slicing\n",
    "\n",
    "- list methods"
   ]
  },
  {
   "cell_type": "markdown",
   "id": "5eb1995e-2469-48c5-afe9-fedd3f4ba158",
   "metadata": {},
   "source": [
    "- string denoted with quotes\n",
    "\n",
    "- list denoted with square brackets\n",
    "\n",
    "- list means array of elements\n",
    "\n",
    "- list can access any data types together"
   ]
  },
  {
   "cell_type": "code",
   "execution_count": 1,
   "id": "4bc2e5d7-2548-4940-887d-eec4e98877dd",
   "metadata": {},
   "outputs": [
    {
     "data": {
      "text/plain": [
       "[1, 2, 3, 4]"
      ]
     },
     "execution_count": 1,
     "metadata": {},
     "output_type": "execute_result"
    }
   ],
   "source": [
    "l1=[1,2,3,4]\n",
    "l1"
   ]
  },
  {
   "cell_type": "code",
   "execution_count": 2,
   "id": "c9241727-8d43-4dc5-b228-13089cef6276",
   "metadata": {},
   "outputs": [
    {
     "data": {
      "text/plain": [
       "list"
      ]
     },
     "execution_count": 2,
     "metadata": {},
     "output_type": "execute_result"
    }
   ],
   "source": [
    "type(l1)"
   ]
  },
  {
   "cell_type": "code",
   "execution_count": 3,
   "id": "2a59845b-3877-4f34-bb5c-dae58101e656",
   "metadata": {},
   "outputs": [
    {
     "data": {
      "text/plain": [
       "['A', 'B', 'C']"
      ]
     },
     "execution_count": 3,
     "metadata": {},
     "output_type": "execute_result"
    }
   ],
   "source": [
    "l2=['A','B','C']\n",
    "l2"
   ]
  },
  {
   "cell_type": "code",
   "execution_count": 4,
   "id": "372e7757-f5a7-4cbc-942a-1b4e20ace9fb",
   "metadata": {},
   "outputs": [
    {
     "data": {
      "text/plain": [
       "[1, 2, 3, 4, 'A', 'B', 'C']"
      ]
     },
     "execution_count": 4,
     "metadata": {},
     "output_type": "execute_result"
    }
   ],
   "source": [
    "l3=[1,2,3,4,'A','B','C']\n",
    "l3"
   ]
  },
  {
   "cell_type": "code",
   "execution_count": 6,
   "id": "5cef61df-76b3-4fe9-9949-19b9f70c349d",
   "metadata": {},
   "outputs": [
    {
     "data": {
      "text/plain": [
       "['5', 12.6, '10.5', 'R', 'python', 'i+2']"
      ]
     },
     "execution_count": 6,
     "metadata": {},
     "output_type": "execute_result"
    }
   ],
   "source": [
    "#create as many as lists with different ways means different data types\n",
    "\n",
    "l4=['5',12.6,'10.5','R','python','i+2']\n",
    "l4"
   ]
  },
  {
   "cell_type": "code",
   "execution_count": 8,
   "id": "e3e66451-7d33-4854-8b4f-7bf923144b27",
   "metadata": {},
   "outputs": [
    {
     "data": {
      "text/plain": [
       "[10, 20, 30, 'Apple', 'Banana', 'cherry', True, False, 10.5, 20.2, (20+30j)]"
      ]
     },
     "execution_count": 8,
     "metadata": {},
     "output_type": "execute_result"
    }
   ],
   "source": [
    "l5=[10,20,30,'Apple','Banana','cherry',True,False,10.5,20.2,20+30j]\n",
    "l5\n",
    "\n",
    "#list can represent with any data types elements"
   ]
  },
  {
   "cell_type": "code",
   "execution_count": 10,
   "id": "577f5b07-e65b-45dc-a1cb-56f7cb00cd8f",
   "metadata": {},
   "outputs": [
    {
     "data": {
      "text/plain": [
       "[10, 10, 10]"
      ]
     },
     "execution_count": 10,
     "metadata": {},
     "output_type": "execute_result"
    }
   ],
   "source": [
    "l5=[10,10,10]\n",
    "l5\n",
    "\n",
    "#duplicate values are allowed"
   ]
  },
  {
   "cell_type": "code",
   "execution_count": 11,
   "id": "58ea5f4b-44d6-4f1c-b7db-e09ce32ead72",
   "metadata": {},
   "outputs": [
    {
     "data": {
      "text/plain": [
       "[10, 20, 30, ['A', 'B', 'C']]"
      ]
     },
     "execution_count": 11,
     "metadata": {},
     "output_type": "execute_result"
    }
   ],
   "source": [
    "l6=[10,20,30,['A','B','C']]\n",
    "l6"
   ]
  },
  {
   "cell_type": "code",
   "execution_count": 12,
   "id": "57972101-a660-4407-b8c7-6c89d09dda49",
   "metadata": {},
   "outputs": [
    {
     "data": {
      "text/plain": [
       "[]"
      ]
     },
     "execution_count": 12,
     "metadata": {},
     "output_type": "execute_result"
    }
   ],
   "source": [
    "l7=[]\n",
    "l7"
   ]
  },
  {
   "cell_type": "code",
   "execution_count": 14,
   "id": "1e83854f-cb3b-438b-8a79-d41bc881c44a",
   "metadata": {},
   "outputs": [
    {
     "data": {
      "text/plain": [
       "[[[]]]"
      ]
     },
     "execution_count": 14,
     "metadata": {},
     "output_type": "execute_result"
    }
   ],
   "source": [
    "l8=[_]\n",
    "l8"
   ]
  },
  {
   "cell_type": "markdown",
   "id": "8c9bd183-e158-4349-9610-bf0732697e9c",
   "metadata": {},
   "source": [
    "- List can access with square brackets\n",
    "\n",
    "- List can have any data types of elements\n",
    "    - Heterogeneous\n",
    "\n",
    "- List can have duplicates\n",
    "\n",
    "- List in list is possible\n",
    "\n",
    "- Empty list can also possible\n",
    "\n",
    "- the values inside list is called as **elements**"
   ]
  },
  {
   "cell_type": "code",
   "execution_count": null,
   "id": "19188a8f-c508-4fd8-a676-35137e04b3e1",
   "metadata": {},
   "outputs": [],
   "source": [
    "#for all 7-list do min, max, len, sorted, reversed"
   ]
  },
  {
   "cell_type": "code",
   "execution_count": null,
   "id": "19428098-314c-46c2-ac77-81fdbce17404",
   "metadata": {},
   "outputs": [],
   "source": [
    "l1=[1,2,3,4]\n",
    "l2=['A','B','C']\n",
    "l3=[1,2,3,4,'A','B','C']\n",
    "l4=[10,20,30,'Apple','Banana','cherry',True,False,10.5,20.2,20+30j]\n",
    "l5=[10,10,10]\n",
    "l6=[10,20,30,['A','B','C']]\n",
    "l7=[]"
   ]
  },
  {
   "cell_type": "code",
   "execution_count": 26,
   "id": "612943af-16a4-4f0c-83aa-619a11f802bf",
   "metadata": {},
   "outputs": [
    {
     "data": {
      "text/plain": [
       "(1, 'A', 10)"
      ]
     },
     "execution_count": 26,
     "metadata": {},
     "output_type": "execute_result"
    }
   ],
   "source": [
    "min(l1),min(l2),min(l5)"
   ]
  },
  {
   "cell_type": "code",
   "execution_count": 18,
   "id": "902c2d85-6f89-4764-820d-518a31114b40",
   "metadata": {},
   "outputs": [
    {
     "ename": "TypeError",
     "evalue": "'<' not supported between instances of 'str' and 'int'",
     "output_type": "error",
     "traceback": [
      "\u001b[1;31m---------------------------------------------------------------------------\u001b[0m",
      "\u001b[1;31mTypeError\u001b[0m                                 Traceback (most recent call last)",
      "Cell \u001b[1;32mIn[18], line 1\u001b[0m\n\u001b[1;32m----> 1\u001b[0m \u001b[38;5;28mmin\u001b[39m(l3)\n",
      "\u001b[1;31mTypeError\u001b[0m: '<' not supported between instances of 'str' and 'int'"
     ]
    }
   ],
   "source": [
    "min(l3)"
   ]
  },
  {
   "cell_type": "code",
   "execution_count": 20,
   "id": "6d312d56-4cd4-442e-8739-e10c6d9a0e03",
   "metadata": {},
   "outputs": [
    {
     "ename": "TypeError",
     "evalue": "'<' not supported between instances of 'float' and 'str'",
     "output_type": "error",
     "traceback": [
      "\u001b[1;31m---------------------------------------------------------------------------\u001b[0m",
      "\u001b[1;31mTypeError\u001b[0m                                 Traceback (most recent call last)",
      "Cell \u001b[1;32mIn[20], line 1\u001b[0m\n\u001b[1;32m----> 1\u001b[0m \u001b[38;5;28mmin\u001b[39m(l4)\n",
      "\u001b[1;31mTypeError\u001b[0m: '<' not supported between instances of 'float' and 'str'"
     ]
    }
   ],
   "source": [
    "min(l4)"
   ]
  },
  {
   "cell_type": "code",
   "execution_count": 23,
   "id": "017cf87b-6a34-4b52-8b82-e4e414ae1e2f",
   "metadata": {},
   "outputs": [
    {
     "ename": "TypeError",
     "evalue": "'<' not supported between instances of 'list' and 'int'",
     "output_type": "error",
     "traceback": [
      "\u001b[1;31m---------------------------------------------------------------------------\u001b[0m",
      "\u001b[1;31mTypeError\u001b[0m                                 Traceback (most recent call last)",
      "Cell \u001b[1;32mIn[23], line 1\u001b[0m\n\u001b[1;32m----> 1\u001b[0m \u001b[38;5;28mmin\u001b[39m(l6)\n",
      "\u001b[1;31mTypeError\u001b[0m: '<' not supported between instances of 'list' and 'int'"
     ]
    }
   ],
   "source": [
    "min(l6)"
   ]
  },
  {
   "cell_type": "code",
   "execution_count": 25,
   "id": "7349b332-4de7-4c92-b945-a647d2218686",
   "metadata": {},
   "outputs": [
    {
     "ename": "ValueError",
     "evalue": "min() iterable argument is empty",
     "output_type": "error",
     "traceback": [
      "\u001b[1;31m---------------------------------------------------------------------------\u001b[0m",
      "\u001b[1;31mValueError\u001b[0m                                Traceback (most recent call last)",
      "Cell \u001b[1;32mIn[25], line 1\u001b[0m\n\u001b[1;32m----> 1\u001b[0m \u001b[38;5;28mmin\u001b[39m(l7)\n",
      "\u001b[1;31mValueError\u001b[0m: min() iterable argument is empty"
     ]
    }
   ],
   "source": [
    "min(l7)"
   ]
  },
  {
   "cell_type": "code",
   "execution_count": 32,
   "id": "f0b4b453-7e09-4559-b590-7540b1153860",
   "metadata": {},
   "outputs": [
    {
     "data": {
      "text/plain": [
       "(4, 'C', 10)"
      ]
     },
     "execution_count": 32,
     "metadata": {},
     "output_type": "execute_result"
    }
   ],
   "source": [
    "max(l1),max(l2),max(l5)"
   ]
  },
  {
   "cell_type": "code",
   "execution_count": 29,
   "id": "f2253a28-ff32-4ef4-ba07-43fa1e6d936f",
   "metadata": {},
   "outputs": [
    {
     "ename": "TypeError",
     "evalue": "'>' not supported between instances of 'str' and 'int'",
     "output_type": "error",
     "traceback": [
      "\u001b[1;31m---------------------------------------------------------------------------\u001b[0m",
      "\u001b[1;31mTypeError\u001b[0m                                 Traceback (most recent call last)",
      "Cell \u001b[1;32mIn[29], line 1\u001b[0m\n\u001b[1;32m----> 1\u001b[0m \u001b[38;5;28mmax\u001b[39m(l3)\n",
      "\u001b[1;31mTypeError\u001b[0m: '>' not supported between instances of 'str' and 'int'"
     ]
    }
   ],
   "source": [
    "max(l3)"
   ]
  },
  {
   "cell_type": "code",
   "execution_count": 30,
   "id": "49d4b5b7-9082-423a-8afa-6710aabab096",
   "metadata": {},
   "outputs": [
    {
     "ename": "TypeError",
     "evalue": "'>' not supported between instances of 'float' and 'str'",
     "output_type": "error",
     "traceback": [
      "\u001b[1;31m---------------------------------------------------------------------------\u001b[0m",
      "\u001b[1;31mTypeError\u001b[0m                                 Traceback (most recent call last)",
      "Cell \u001b[1;32mIn[30], line 1\u001b[0m\n\u001b[1;32m----> 1\u001b[0m \u001b[38;5;28mmax\u001b[39m(l4)\n",
      "\u001b[1;31mTypeError\u001b[0m: '>' not supported between instances of 'float' and 'str'"
     ]
    }
   ],
   "source": [
    "max(l4)"
   ]
  },
  {
   "cell_type": "code",
   "execution_count": 33,
   "id": "30c55561-5b47-493e-bb93-7da532347a9f",
   "metadata": {},
   "outputs": [
    {
     "ename": "TypeError",
     "evalue": "'>' not supported between instances of 'list' and 'int'",
     "output_type": "error",
     "traceback": [
      "\u001b[1;31m---------------------------------------------------------------------------\u001b[0m",
      "\u001b[1;31mTypeError\u001b[0m                                 Traceback (most recent call last)",
      "Cell \u001b[1;32mIn[33], line 1\u001b[0m\n\u001b[1;32m----> 1\u001b[0m \u001b[38;5;28mmax\u001b[39m(l6)\n",
      "\u001b[1;31mTypeError\u001b[0m: '>' not supported between instances of 'list' and 'int'"
     ]
    }
   ],
   "source": [
    "max(l6)"
   ]
  },
  {
   "cell_type": "code",
   "execution_count": 34,
   "id": "2bb02f64-2242-43ce-b5d2-1063a40d6e4e",
   "metadata": {},
   "outputs": [
    {
     "ename": "ValueError",
     "evalue": "max() iterable argument is empty",
     "output_type": "error",
     "traceback": [
      "\u001b[1;31m---------------------------------------------------------------------------\u001b[0m",
      "\u001b[1;31mValueError\u001b[0m                                Traceback (most recent call last)",
      "Cell \u001b[1;32mIn[34], line 1\u001b[0m\n\u001b[1;32m----> 1\u001b[0m \u001b[38;5;28mmax\u001b[39m(l7)\n",
      "\u001b[1;31mValueError\u001b[0m: max() iterable argument is empty"
     ]
    }
   ],
   "source": [
    "max(l7)"
   ]
  },
  {
   "cell_type": "code",
   "execution_count": 41,
   "id": "00670e68-53d0-4ef6-94d6-c04577ebeb7c",
   "metadata": {},
   "outputs": [
    {
     "data": {
      "text/plain": [
       "(4, 3, 7, 6, 3, 4, 0)"
      ]
     },
     "execution_count": 41,
     "metadata": {},
     "output_type": "execute_result"
    }
   ],
   "source": [
    "len(l1),len(l2),len(l3),len(l4),len(l5),len(l6),len(l7)"
   ]
  },
  {
   "cell_type": "code",
   "execution_count": 50,
   "id": "fe0065d5-9e85-424b-9f6c-08d6cb91f46b",
   "metadata": {},
   "outputs": [
    {
     "data": {
      "text/plain": [
       "([1, 2, 3, 4], ['A', 'B', 'C'], [10, 10, 10], [])"
      ]
     },
     "execution_count": 50,
     "metadata": {},
     "output_type": "execute_result"
    }
   ],
   "source": [
    "sorted(l1),sorted(l2),sorted(l5),sorted(l7)"
   ]
  },
  {
   "cell_type": "code",
   "execution_count": 44,
   "id": "a30e20e2-b5e2-4c1d-813d-fbbdbeb94d73",
   "metadata": {},
   "outputs": [
    {
     "ename": "TypeError",
     "evalue": "'<' not supported between instances of 'str' and 'int'",
     "output_type": "error",
     "traceback": [
      "\u001b[1;31m---------------------------------------------------------------------------\u001b[0m",
      "\u001b[1;31mTypeError\u001b[0m                                 Traceback (most recent call last)",
      "Cell \u001b[1;32mIn[44], line 1\u001b[0m\n\u001b[1;32m----> 1\u001b[0m \u001b[38;5;28msorted\u001b[39m(l3),\n",
      "\u001b[1;31mTypeError\u001b[0m: '<' not supported between instances of 'str' and 'int'"
     ]
    }
   ],
   "source": [
    "sorted(l3)"
   ]
  },
  {
   "cell_type": "code",
   "execution_count": 45,
   "id": "734c4d19-ef60-4a62-8d71-89532be3044d",
   "metadata": {},
   "outputs": [
    {
     "ename": "TypeError",
     "evalue": "'<' not supported between instances of 'float' and 'str'",
     "output_type": "error",
     "traceback": [
      "\u001b[1;31m---------------------------------------------------------------------------\u001b[0m",
      "\u001b[1;31mTypeError\u001b[0m                                 Traceback (most recent call last)",
      "Cell \u001b[1;32mIn[45], line 1\u001b[0m\n\u001b[1;32m----> 1\u001b[0m \u001b[38;5;28msorted\u001b[39m(l4)\n",
      "\u001b[1;31mTypeError\u001b[0m: '<' not supported between instances of 'float' and 'str'"
     ]
    }
   ],
   "source": [
    "sorted(l4)"
   ]
  },
  {
   "cell_type": "code",
   "execution_count": 48,
   "id": "aab2e244-4176-476c-aa4d-db18f6eb65c1",
   "metadata": {},
   "outputs": [
    {
     "ename": "TypeError",
     "evalue": "'<' not supported between instances of 'list' and 'int'",
     "output_type": "error",
     "traceback": [
      "\u001b[1;31m---------------------------------------------------------------------------\u001b[0m",
      "\u001b[1;31mTypeError\u001b[0m                                 Traceback (most recent call last)",
      "Cell \u001b[1;32mIn[48], line 1\u001b[0m\n\u001b[1;32m----> 1\u001b[0m \u001b[38;5;28msorted\u001b[39m(l6)\n",
      "\u001b[1;31mTypeError\u001b[0m: '<' not supported between instances of 'list' and 'int'"
     ]
    }
   ],
   "source": [
    "sorted(l6)"
   ]
  },
  {
   "cell_type": "code",
   "execution_count": 63,
   "id": "6a30d4e8-8dd5-4673-b1fa-b54d59ce3d13",
   "metadata": {},
   "outputs": [
    {
     "data": {
      "text/plain": [
       "(<list_reverseiterator at 0x25d8b3d4f10>,\n",
       " <list_reverseiterator at 0x25d8b3d4ee0>,\n",
       " <list_reverseiterator at 0x25d8b3d4760>,\n",
       " <list_reverseiterator at 0x25d8b3d4880>,\n",
       " <list_reverseiterator at 0x25d8b3d54e0>,\n",
       " <list_reverseiterator at 0x25d8b3d4bb0>,\n",
       " <list_reverseiterator at 0x25d8b3d5810>)"
      ]
     },
     "execution_count": 63,
     "metadata": {},
     "output_type": "execute_result"
    }
   ],
   "source": [
    "reversed(l1),reversed(l2),reversed(l3),reversed(l4),reversed(l5),reversed(l6),reversed(l7)"
   ]
  },
  {
   "cell_type": "code",
   "execution_count": 65,
   "id": "824195fd-d10b-458d-a34e-4a55855ee060",
   "metadata": {},
   "outputs": [
    {
     "data": {
      "text/plain": [
       "([4, 3, 2, 1],\n",
       " ['C', 'B', 'A'],\n",
       " ['C', 'B', 'A', 4, 3, 2, 1],\n",
       " ['i+2', 'python', 'R', '10.5', 12.6, '5'],\n",
       " [10, 10, 10],\n",
       " [['A', 'B', 'C'], 30, 20, 10],\n",
       " [])"
      ]
     },
     "execution_count": 65,
     "metadata": {},
     "output_type": "execute_result"
    }
   ],
   "source": [
    "list(reversed(l1)),list(reversed(l2)),list(reversed(l3)),list(reversed(l4)),list(reversed(l5)),list(reversed(l6)),list(reversed(l7))"
   ]
  },
  {
   "cell_type": "markdown",
   "id": "bc6d8ab5-507d-42dd-95ec-dfa6c8109ab9",
   "metadata": {},
   "source": [
    "- sorted will compare the elements\n",
    "\n",
    "- the same rule appicable for min and max\n",
    "\n",
    "- sorted never return any error eventough we have empty list\n",
    "\n",
    "- min and max give error if it has empty list\n",
    "\n",
    "- reversed only do reverse elements"
   ]
  },
  {
   "cell_type": "markdown",
   "id": "048067b2-a9f3-4c1d-95a9-a3fc7b8cd293",
   "metadata": {},
   "source": [
    "**Sum**"
   ]
  },
  {
   "cell_type": "code",
   "execution_count": 66,
   "id": "f7417ab4-498f-4c81-9eed-60abaabcab8f",
   "metadata": {},
   "outputs": [
    {
     "data": {
      "text/plain": [
       "600"
      ]
     },
     "execution_count": 66,
     "metadata": {},
     "output_type": "execute_result"
    }
   ],
   "source": [
    "sum([100,200,300])"
   ]
  },
  {
   "cell_type": "code",
   "execution_count": 67,
   "id": "3c273c6f-d2a7-492a-8fe4-5d501a16e5d1",
   "metadata": {},
   "outputs": [
    {
     "ename": "TypeError",
     "evalue": "unsupported operand type(s) for +: 'int' and 'str'",
     "output_type": "error",
     "traceback": [
      "\u001b[1;31m---------------------------------------------------------------------------\u001b[0m",
      "\u001b[1;31mTypeError\u001b[0m                                 Traceback (most recent call last)",
      "Cell \u001b[1;32mIn[67], line 1\u001b[0m\n\u001b[1;32m----> 1\u001b[0m \u001b[38;5;28msum\u001b[39m([\u001b[38;5;124m'\u001b[39m\u001b[38;5;124mA\u001b[39m\u001b[38;5;124m'\u001b[39m,\u001b[38;5;124m'\u001b[39m\u001b[38;5;124mB\u001b[39m\u001b[38;5;124m'\u001b[39m,\u001b[38;5;124m'\u001b[39m\u001b[38;5;124mC\u001b[39m\u001b[38;5;124m'\u001b[39m])\n",
      "\u001b[1;31mTypeError\u001b[0m: unsupported operand type(s) for +: 'int' and 'str'"
     ]
    }
   ],
   "source": [
    "sum(['A','B','C'])"
   ]
  },
  {
   "cell_type": "code",
   "execution_count": 71,
   "id": "1e2213e4-f9c1-4714-87c1-21c0c84d1a07",
   "metadata": {},
   "outputs": [
    {
     "data": {
      "text/plain": [
       "160"
      ]
     },
     "execution_count": 71,
     "metadata": {},
     "output_type": "execute_result"
    }
   ],
   "source": [
    "sum([10,20,30], start=100)"
   ]
  },
  {
   "cell_type": "code",
   "execution_count": 72,
   "id": "b9d1ee94-36c5-4f4c-b234-c35663c04604",
   "metadata": {},
   "outputs": [
    {
     "data": {
      "text/plain": [
       "0"
      ]
     },
     "execution_count": 72,
     "metadata": {},
     "output_type": "execute_result"
    }
   ],
   "source": [
    "sum([])"
   ]
  },
  {
   "cell_type": "markdown",
   "id": "df60f08f-1652-4ebc-8fe0-f61dba18baf4",
   "metadata": {},
   "source": [
    "**Index**"
   ]
  },
  {
   "cell_type": "code",
   "execution_count": 74,
   "id": "5710599a-cf91-4186-8cf7-1451743e8609",
   "metadata": {},
   "outputs": [],
   "source": [
    "l1=[1,2,3,4,'A','B','C']\n",
    "\n",
    "# -7 -6 -5 -4 -3 -2 -1\n",
    "#  1  2  3  4  A  B  C\n",
    "#  0  1  2  3  4  5  6"
   ]
  },
  {
   "cell_type": "code",
   "execution_count": 76,
   "id": "acc582d5-7760-4e3b-8692-73889656f294",
   "metadata": {},
   "outputs": [
    {
     "data": {
      "text/plain": [
       "(1, 1)"
      ]
     },
     "execution_count": 76,
     "metadata": {},
     "output_type": "execute_result"
    }
   ],
   "source": [
    "l1[0],l1[-7]"
   ]
  },
  {
   "cell_type": "code",
   "execution_count": 82,
   "id": "8e028f33-33ea-40c5-980b-1d1326482603",
   "metadata": {},
   "outputs": [
    {
     "name": "stdout",
     "output_type": "stream",
     "text": [
      "the positive index of 1 is: 0\n",
      "the negative index of 1 is: -7\n",
      "the positive index of 1 is: 0 and negative index is: -7\n",
      "=================================================================================\n",
      "the positive index of 2 is: 1\n",
      "the negative index of 2 is: -6\n",
      "the positive index of 2 is: 1 and negative index is: -6\n",
      "=================================================================================\n",
      "the positive index of 3 is: 2\n",
      "the negative index of 3 is: -5\n",
      "the positive index of 3 is: 2 and negative index is: -5\n",
      "=================================================================================\n",
      "the positive index of 4 is: 3\n",
      "the negative index of 4 is: -4\n",
      "the positive index of 4 is: 3 and negative index is: -4\n",
      "=================================================================================\n",
      "the positive index of A is: 4\n",
      "the negative index of A is: -3\n",
      "the positive index of A is: 4 and negative index is: -3\n",
      "=================================================================================\n",
      "the positive index of B is: 5\n",
      "the negative index of B is: -2\n",
      "the positive index of B is: 5 and negative index is: -2\n",
      "=================================================================================\n",
      "the positive index of C is: 6\n",
      "the negative index of C is: -1\n",
      "the positive index of C is: 6 and negative index is: -1\n",
      "=================================================================================\n"
     ]
    }
   ],
   "source": [
    "#by using for loop print the positive index\n",
    "#by using for loop print the negative index\n",
    "#by using for loop print both positive and negative index\n",
    "\n",
    "l1=[1,2,3,4,'A','B','C']\n",
    "for i in range(len(l1)):\n",
    "    print(f\"the positive index of {l1[i]} is: {i}\")\n",
    "\n",
    "    print(f\"the negative index of {l1[i]} is: {i-len(l1)}\")\n",
    "\n",
    "    print(f\"the positive index of {l1[i]} is: {i} and negative index is: {i-len(l1)}\")\n",
    "\n",
    "    print(\"=================================================================================\")"
   ]
  },
  {
   "cell_type": "code",
   "execution_count": 84,
   "id": "ec9aa2bf-65c9-47cf-8145-81b85d4fcaa3",
   "metadata": {},
   "outputs": [
    {
     "data": {
      "text/plain": [
       "1"
      ]
     },
     "execution_count": 84,
     "metadata": {},
     "output_type": "execute_result"
    }
   ],
   "source": [
    "l=[[10,20,30]]\n",
    "#how to access the 10\n",
    "len(l)"
   ]
  },
  {
   "cell_type": "code",
   "execution_count": 85,
   "id": "f5293c91-7d91-4690-beab-bbe96907ff75",
   "metadata": {},
   "outputs": [
    {
     "data": {
      "text/plain": [
       "1"
      ]
     },
     "execution_count": 85,
     "metadata": {},
     "output_type": "execute_result"
    }
   ],
   "source": [
    "l=[[10,20,30]]\n",
    "#how many elements are there in a list\n",
    "len(l)"
   ]
  },
  {
   "cell_type": "code",
   "execution_count": 86,
   "id": "4d87dcf9-fc63-446b-b92c-ef30a2c091f7",
   "metadata": {},
   "outputs": [
    {
     "data": {
      "text/plain": [
       "[10, 20, 30]"
      ]
     },
     "execution_count": 86,
     "metadata": {},
     "output_type": "execute_result"
    }
   ],
   "source": [
    "l[0]"
   ]
  },
  {
   "cell_type": "code",
   "execution_count": 90,
   "id": "1be3b87d-997c-4e57-8e51-4b5b25e07c10",
   "metadata": {},
   "outputs": [
    {
     "data": {
      "text/plain": [
       "(10, 20, 30)"
      ]
     },
     "execution_count": 90,
     "metadata": {},
     "output_type": "execute_result"
    }
   ],
   "source": [
    "l[0][0],l[0][1],l[0][2]"
   ]
  },
  {
   "cell_type": "code",
   "execution_count": 91,
   "id": "0e55825e-1f6f-4899-b40e-b8e16ded38d3",
   "metadata": {},
   "outputs": [
    {
     "data": {
      "text/plain": [
       "3"
      ]
     },
     "execution_count": 91,
     "metadata": {},
     "output_type": "execute_result"
    }
   ],
   "source": [
    "l1=[10,20,['A','B']]\n",
    "#retrive the A\n",
    "#how many elements are there : 3\n",
    "len(l1)"
   ]
  },
  {
   "cell_type": "code",
   "execution_count": 93,
   "id": "f8f1d262-1987-461a-8ebe-39f33a3f798a",
   "metadata": {},
   "outputs": [
    {
     "data": {
      "text/plain": [
       "'A'"
      ]
     },
     "execution_count": 93,
     "metadata": {},
     "output_type": "execute_result"
    }
   ],
   "source": [
    "#how can we access A\n",
    "\n",
    "l1[2][0]"
   ]
  },
  {
   "cell_type": "code",
   "execution_count": 94,
   "id": "a2203242-1a3a-4b6f-a27a-bf5f307d1035",
   "metadata": {},
   "outputs": [
    {
     "data": {
      "text/plain": [
       "('A', 'B')"
      ]
     },
     "execution_count": 94,
     "metadata": {},
     "output_type": "execute_result"
    }
   ],
   "source": [
    "l1[2][0], l1[2][1]"
   ]
  },
  {
   "cell_type": "code",
   "execution_count": 95,
   "id": "46926feb-8ba9-4c7c-baa5-b96848982111",
   "metadata": {},
   "outputs": [
    {
     "data": {
      "text/plain": [
       "5"
      ]
     },
     "execution_count": 95,
     "metadata": {},
     "output_type": "execute_result"
    }
   ],
   "source": [
    "l1=[1,2,3,4,[5,6,['Apple']]]\n",
    "len(l1)"
   ]
  },
  {
   "cell_type": "code",
   "execution_count": 98,
   "id": "edf0a67e-d778-45c5-a4e1-c58fe99b1d6b",
   "metadata": {},
   "outputs": [
    {
     "data": {
      "text/plain": [
       "'Apple'"
      ]
     },
     "execution_count": 98,
     "metadata": {},
     "output_type": "execute_result"
    }
   ],
   "source": [
    "l1[4][2][0]"
   ]
  },
  {
   "cell_type": "code",
   "execution_count": 102,
   "id": "82fd1516-42c4-47ea-90c7-c17366cd8554",
   "metadata": {},
   "outputs": [
    {
     "data": {
      "text/plain": [
       "'cherry'"
      ]
     },
     "execution_count": 102,
     "metadata": {},
     "output_type": "execute_result"
    }
   ],
   "source": [
    "l1=[1,2,3,[4,[5,['cherry']]]]\n",
    "l1[3][1][1][0]"
   ]
  },
  {
   "cell_type": "code",
   "execution_count": 111,
   "id": "1e93895b-eb17-4e6b-af63-58cb483159e0",
   "metadata": {},
   "outputs": [
    {
     "data": {
      "text/plain": [
       "'banana'"
      ]
     },
     "execution_count": 111,
     "metadata": {},
     "output_type": "execute_result"
    }
   ],
   "source": [
    "l1=[[[[[[[[['banana']]]]]]]]]\n",
    "l1[0][0][0][0][0][0][0][0][0]"
   ]
  },
  {
   "cell_type": "code",
   "execution_count": 118,
   "id": "3bdc190b-2b7a-48bf-8ae8-bfbdb1d98894",
   "metadata": {},
   "outputs": [
    {
     "data": {
      "text/plain": [
       "'DDLJ'"
      ]
     },
     "execution_count": 118,
     "metadata": {},
     "output_type": "execute_result"
    }
   ],
   "source": [
    "l1=['Apple',['kashmir',['India',['Mumbai',['sharuk',['Film',['DDLJ']]]]]]]\n",
    "l1[1][1][1][1][1][1][0]"
   ]
  },
  {
   "cell_type": "markdown",
   "id": "c01aeeb5-d1ee-40c1-9219-9109d47670d2",
   "metadata": {},
   "source": [
    "**Mutable vs Immutable**"
   ]
  },
  {
   "cell_type": "code",
   "execution_count": 119,
   "id": "a631652b-7e54-48b1-b4c4-12a8972e196e",
   "metadata": {},
   "outputs": [
    {
     "data": {
      "text/plain": [
       "'l'"
      ]
     },
     "execution_count": 119,
     "metadata": {},
     "output_type": "execute_result"
    }
   ],
   "source": [
    "str1='welcome'\n",
    "str1[2]"
   ]
  },
  {
   "cell_type": "code",
   "execution_count": 120,
   "id": "9d4d3c31-b96a-40b1-9ffd-0b11ba7c071f",
   "metadata": {},
   "outputs": [
    {
     "ename": "TypeError",
     "evalue": "'str' object does not support item assignment",
     "output_type": "error",
     "traceback": [
      "\u001b[1;31m---------------------------------------------------------------------------\u001b[0m",
      "\u001b[1;31mTypeError\u001b[0m                                 Traceback (most recent call last)",
      "Cell \u001b[1;32mIn[120], line 1\u001b[0m\n\u001b[1;32m----> 1\u001b[0m str1[\u001b[38;5;241m2\u001b[39m]\u001b[38;5;241m=\u001b[39m\u001b[38;5;124m'\u001b[39m\u001b[38;5;124mL\u001b[39m\u001b[38;5;124m'\u001b[39m\n\u001b[0;32m      2\u001b[0m str1\n",
      "\u001b[1;31mTypeError\u001b[0m: 'str' object does not support item assignment"
     ]
    }
   ],
   "source": [
    "str1[2]='L'\n",
    "str1"
   ]
  },
  {
   "cell_type": "code",
   "execution_count": 121,
   "id": "ad3b6d15-5337-4258-bf33-78a562ff4aab",
   "metadata": {},
   "outputs": [
    {
     "data": {
      "text/plain": [
       "'l'"
      ]
     },
     "execution_count": 121,
     "metadata": {},
     "output_type": "execute_result"
    }
   ],
   "source": [
    "l1=['w','e','l','c','o','m','e']\n",
    "l1[2]"
   ]
  },
  {
   "cell_type": "code",
   "execution_count": 122,
   "id": "f3ff677b-11b7-4893-9a18-57ed49135d8f",
   "metadata": {},
   "outputs": [
    {
     "data": {
      "text/plain": [
       "['w', 'e', 'L', 'c', 'o', 'm', 'e']"
      ]
     },
     "execution_count": 122,
     "metadata": {},
     "output_type": "execute_result"
    }
   ],
   "source": [
    "l1[2]='L'\n",
    "l1"
   ]
  },
  {
   "cell_type": "markdown",
   "id": "a2e95839-26fd-473c-b166-5b9c3519bb49",
   "metadata": {},
   "source": [
    "- we can change the list elements using index"
   ]
  },
  {
   "cell_type": "markdown",
   "id": "fbbb032c-a07f-4945-84bc-40c0033e1b71",
   "metadata": {},
   "source": [
    "**concatenation**"
   ]
  },
  {
   "cell_type": "code",
   "execution_count": 123,
   "id": "eb8d9978-4775-409e-b2e9-e6ab5390ac1a",
   "metadata": {},
   "outputs": [
    {
     "data": {
      "text/plain": [
       "'hellowelcome'"
      ]
     },
     "execution_count": 123,
     "metadata": {},
     "output_type": "execute_result"
    }
   ],
   "source": [
    "s1='hello'\n",
    "s2='welcome'\n",
    "s1+s2"
   ]
  },
  {
   "cell_type": "code",
   "execution_count": 124,
   "id": "709671c0-85ae-4a0a-ad58-c7f81bc53900",
   "metadata": {},
   "outputs": [
    {
     "ename": "TypeError",
     "evalue": "can't multiply sequence by non-int of type 'str'",
     "output_type": "error",
     "traceback": [
      "\u001b[1;31m---------------------------------------------------------------------------\u001b[0m",
      "\u001b[1;31mTypeError\u001b[0m                                 Traceback (most recent call last)",
      "Cell \u001b[1;32mIn[124], line 1\u001b[0m\n\u001b[1;32m----> 1\u001b[0m s1\u001b[38;5;241m*\u001b[39ms2\n",
      "\u001b[1;31mTypeError\u001b[0m: can't multiply sequence by non-int of type 'str'"
     ]
    }
   ],
   "source": [
    "s1*s2"
   ]
  },
  {
   "cell_type": "code",
   "execution_count": 125,
   "id": "ace4a895-fcec-4e88-9e49-252cb7eff971",
   "metadata": {},
   "outputs": [
    {
     "ename": "TypeError",
     "evalue": "unsupported operand type(s) for -: 'str' and 'str'",
     "output_type": "error",
     "traceback": [
      "\u001b[1;31m---------------------------------------------------------------------------\u001b[0m",
      "\u001b[1;31mTypeError\u001b[0m                                 Traceback (most recent call last)",
      "Cell \u001b[1;32mIn[125], line 1\u001b[0m\n\u001b[1;32m----> 1\u001b[0m s1\u001b[38;5;241m-\u001b[39ms2\n",
      "\u001b[1;31mTypeError\u001b[0m: unsupported operand type(s) for -: 'str' and 'str'"
     ]
    }
   ],
   "source": [
    "s1-s2"
   ]
  },
  {
   "cell_type": "code",
   "execution_count": 126,
   "id": "554ee144-97c9-4919-a928-b4cbd556282c",
   "metadata": {},
   "outputs": [
    {
     "ename": "TypeError",
     "evalue": "unsupported operand type(s) for /: 'str' and 'str'",
     "output_type": "error",
     "traceback": [
      "\u001b[1;31m---------------------------------------------------------------------------\u001b[0m",
      "\u001b[1;31mTypeError\u001b[0m                                 Traceback (most recent call last)",
      "Cell \u001b[1;32mIn[126], line 1\u001b[0m\n\u001b[1;32m----> 1\u001b[0m s1\u001b[38;5;241m/\u001b[39ms2\n",
      "\u001b[1;31mTypeError\u001b[0m: unsupported operand type(s) for /: 'str' and 'str'"
     ]
    }
   ],
   "source": [
    "s1/s2"
   ]
  },
  {
   "cell_type": "code",
   "execution_count": 127,
   "id": "09ff78dc-827d-4c80-94d9-929d904251c3",
   "metadata": {},
   "outputs": [
    {
     "data": {
      "text/plain": [
       "'hellohello'"
      ]
     },
     "execution_count": 127,
     "metadata": {},
     "output_type": "execute_result"
    }
   ],
   "source": [
    "s1*2"
   ]
  },
  {
   "cell_type": "code",
   "execution_count": 128,
   "id": "337d5f6a-44e7-4688-95e5-39f1c4ff4dda",
   "metadata": {},
   "outputs": [
    {
     "data": {
      "text/plain": [
       "['h', 'e', 'l', 'l', 'o', 'w', 'e', 'l', 'c', 'o', 'm', 'e']"
      ]
     },
     "execution_count": 128,
     "metadata": {},
     "output_type": "execute_result"
    }
   ],
   "source": [
    "l1=['h','e','l','l','o']\n",
    "l2=['w','e','l','c','o','m','e']\n",
    "l1+l2"
   ]
  },
  {
   "cell_type": "code",
   "execution_count": 129,
   "id": "e45a6c5a-ec97-4eb5-9e88-0f1e606387cb",
   "metadata": {},
   "outputs": [
    {
     "ename": "TypeError",
     "evalue": "can't multiply sequence by non-int of type 'list'",
     "output_type": "error",
     "traceback": [
      "\u001b[1;31m---------------------------------------------------------------------------\u001b[0m",
      "\u001b[1;31mTypeError\u001b[0m                                 Traceback (most recent call last)",
      "Cell \u001b[1;32mIn[129], line 1\u001b[0m\n\u001b[1;32m----> 1\u001b[0m l1\u001b[38;5;241m*\u001b[39ml2\n",
      "\u001b[1;31mTypeError\u001b[0m: can't multiply sequence by non-int of type 'list'"
     ]
    }
   ],
   "source": [
    "l1*l2"
   ]
  },
  {
   "cell_type": "code",
   "execution_count": 130,
   "id": "15a28729-dcd6-4f5b-b72f-dbf9cedad438",
   "metadata": {},
   "outputs": [
    {
     "ename": "TypeError",
     "evalue": "unsupported operand type(s) for -: 'list' and 'list'",
     "output_type": "error",
     "traceback": [
      "\u001b[1;31m---------------------------------------------------------------------------\u001b[0m",
      "\u001b[1;31mTypeError\u001b[0m                                 Traceback (most recent call last)",
      "Cell \u001b[1;32mIn[130], line 1\u001b[0m\n\u001b[1;32m----> 1\u001b[0m l1\u001b[38;5;241m-\u001b[39ml2\n",
      "\u001b[1;31mTypeError\u001b[0m: unsupported operand type(s) for -: 'list' and 'list'"
     ]
    }
   ],
   "source": [
    "l1-l2"
   ]
  },
  {
   "cell_type": "code",
   "execution_count": 131,
   "id": "7e4e893e-bb7d-48d6-9158-1321c38af96d",
   "metadata": {},
   "outputs": [
    {
     "ename": "TypeError",
     "evalue": "unsupported operand type(s) for /: 'list' and 'list'",
     "output_type": "error",
     "traceback": [
      "\u001b[1;31m---------------------------------------------------------------------------\u001b[0m",
      "\u001b[1;31mTypeError\u001b[0m                                 Traceback (most recent call last)",
      "Cell \u001b[1;32mIn[131], line 1\u001b[0m\n\u001b[1;32m----> 1\u001b[0m l1\u001b[38;5;241m/\u001b[39ml2\n",
      "\u001b[1;31mTypeError\u001b[0m: unsupported operand type(s) for /: 'list' and 'list'"
     ]
    }
   ],
   "source": [
    "l1/l2"
   ]
  },
  {
   "cell_type": "code",
   "execution_count": 132,
   "id": "33ddd9b0-a394-4275-9d8c-6b42edefffc9",
   "metadata": {},
   "outputs": [
    {
     "data": {
      "text/plain": [
       "['h', 'e', 'l', 'l', 'o', 'h', 'e', 'l', 'l', 'o']"
      ]
     },
     "execution_count": 132,
     "metadata": {},
     "output_type": "execute_result"
    }
   ],
   "source": [
    "l1*2"
   ]
  },
  {
   "cell_type": "markdown",
   "id": "b4d91a26-ef07-430d-8751-2ccadb7ded89",
   "metadata": {},
   "source": [
    "**slicing**"
   ]
  },
  {
   "cell_type": "code",
   "execution_count": null,
   "id": "04e3450a-9a4f-4454-bbfe-139b470cf19b",
   "metadata": {},
   "outputs": [],
   "source": [
    "l1=[1,2,3,4,5,'A','B','C','D','10.5',True,False,10.5,100,200]\n",
    "\n",
    "l1[:]  #w\n",
    "l1[::]  #w\n",
    "l1[::-1]  #w\n",
    "l1[2:14:2]  #w\n",
    "l1[2:14:-2]  #nw\n",
    "l1[2:-14:2]  #nw\n",
    "l1[-2:14:2]  #w\n",
    "l1[-2:-14:-2]  #w\n",
    "l1[14:2:2]  #nw\n",
    "l1[14:2:-2]  #w\n",
    "l1[14:-2:2]  #nw\n",
    "l1[-14:2:2]  #w\n",
    "l1[-14:-2:-2]  #nw"
   ]
  },
  {
   "cell_type": "markdown",
   "id": "fffa1fc7-aa83-4167-b53a-c9bf3398ee92",
   "metadata": {},
   "source": [
    "**Methods**"
   ]
  },
  {
   "cell_type": "code",
   "execution_count": 133,
   "id": "7f17eb9b-e706-4a0e-b97d-b03fdc6df214",
   "metadata": {},
   "outputs": [
    {
     "data": {
      "text/plain": [
       "['__add__',\n",
       " '__class__',\n",
       " '__contains__',\n",
       " '__delattr__',\n",
       " '__dir__',\n",
       " '__doc__',\n",
       " '__eq__',\n",
       " '__format__',\n",
       " '__ge__',\n",
       " '__getattribute__',\n",
       " '__getitem__',\n",
       " '__getnewargs__',\n",
       " '__getstate__',\n",
       " '__gt__',\n",
       " '__hash__',\n",
       " '__init__',\n",
       " '__init_subclass__',\n",
       " '__iter__',\n",
       " '__le__',\n",
       " '__len__',\n",
       " '__lt__',\n",
       " '__mod__',\n",
       " '__mul__',\n",
       " '__ne__',\n",
       " '__new__',\n",
       " '__reduce__',\n",
       " '__reduce_ex__',\n",
       " '__repr__',\n",
       " '__rmod__',\n",
       " '__rmul__',\n",
       " '__setattr__',\n",
       " '__sizeof__',\n",
       " '__str__',\n",
       " '__subclasshook__',\n",
       " 'capitalize',\n",
       " 'casefold',\n",
       " 'center',\n",
       " 'count',\n",
       " 'encode',\n",
       " 'endswith',\n",
       " 'expandtabs',\n",
       " 'find',\n",
       " 'format',\n",
       " 'format_map',\n",
       " 'index',\n",
       " 'isalnum',\n",
       " 'isalpha',\n",
       " 'isascii',\n",
       " 'isdecimal',\n",
       " 'isdigit',\n",
       " 'isidentifier',\n",
       " 'islower',\n",
       " 'isnumeric',\n",
       " 'isprintable',\n",
       " 'isspace',\n",
       " 'istitle',\n",
       " 'isupper',\n",
       " 'join',\n",
       " 'ljust',\n",
       " 'lower',\n",
       " 'lstrip',\n",
       " 'maketrans',\n",
       " 'partition',\n",
       " 'removeprefix',\n",
       " 'removesuffix',\n",
       " 'replace',\n",
       " 'rfind',\n",
       " 'rindex',\n",
       " 'rjust',\n",
       " 'rpartition',\n",
       " 'rsplit',\n",
       " 'rstrip',\n",
       " 'split',\n",
       " 'splitlines',\n",
       " 'startswith',\n",
       " 'strip',\n",
       " 'swapcase',\n",
       " 'title',\n",
       " 'translate',\n",
       " 'upper',\n",
       " 'zfill']"
      ]
     },
     "execution_count": 133,
     "metadata": {},
     "output_type": "execute_result"
    }
   ],
   "source": [
    "dir('')"
   ]
  },
  {
   "cell_type": "code",
   "execution_count": 134,
   "id": "3fefca9d-f0ae-4ab2-96e5-5d18a5d9b0cb",
   "metadata": {},
   "outputs": [
    {
     "data": {
      "text/plain": [
       "['__add__',\n",
       " '__class__',\n",
       " '__class_getitem__',\n",
       " '__contains__',\n",
       " '__delattr__',\n",
       " '__delitem__',\n",
       " '__dir__',\n",
       " '__doc__',\n",
       " '__eq__',\n",
       " '__format__',\n",
       " '__ge__',\n",
       " '__getattribute__',\n",
       " '__getitem__',\n",
       " '__getstate__',\n",
       " '__gt__',\n",
       " '__hash__',\n",
       " '__iadd__',\n",
       " '__imul__',\n",
       " '__init__',\n",
       " '__init_subclass__',\n",
       " '__iter__',\n",
       " '__le__',\n",
       " '__len__',\n",
       " '__lt__',\n",
       " '__mul__',\n",
       " '__ne__',\n",
       " '__new__',\n",
       " '__reduce__',\n",
       " '__reduce_ex__',\n",
       " '__repr__',\n",
       " '__reversed__',\n",
       " '__rmul__',\n",
       " '__setattr__',\n",
       " '__setitem__',\n",
       " '__sizeof__',\n",
       " '__str__',\n",
       " '__subclasshook__',\n",
       " 'append',\n",
       " 'clear',\n",
       " 'copy',\n",
       " 'count',\n",
       " 'extend',\n",
       " 'index',\n",
       " 'insert',\n",
       " 'pop',\n",
       " 'remove',\n",
       " 'reverse',\n",
       " 'sort']"
      ]
     },
     "execution_count": 134,
     "metadata": {},
     "output_type": "execute_result"
    }
   ],
   "source": [
    "dir([])"
   ]
  },
  {
   "cell_type": "code",
   "execution_count": null,
   "id": "e71cc8c6-67e5-44a9-9919-6e1d23f028ad",
   "metadata": {},
   "outputs": [],
   "source": [
    "'append',\n",
    " 'clear',\n",
    " 'copy',\n",
    " 'count',\n",
    " 'extend',\n",
    " 'index',\n",
    " 'insert',\n",
    " 'pop',\n",
    " 'remove',\n",
    " 'reverse',\n",
    " 'sort'"
   ]
  },
  {
   "cell_type": "code",
   "execution_count": null,
   "id": "cf70d576-95ab-443a-9b5e-9d3f714d7307",
   "metadata": {},
   "outputs": [],
   "source": [
    "================= inbuilt functions ====================\n",
    "print()\n",
    "max()\n",
    "min()\n",
    "================ Methods ====================\n",
    "l1.<method_name>()\n",
    "method_name.(l)  #mistake"
   ]
  },
  {
   "cell_type": "markdown",
   "id": "596f0154-aa43-474d-9fa7-567a0a4f1a6d",
   "metadata": {},
   "source": [
    "**clear**"
   ]
  },
  {
   "cell_type": "code",
   "execution_count": 135,
   "id": "db03a974-9f0c-4e7e-81e7-6d1369fc3cb4",
   "metadata": {},
   "outputs": [
    {
     "data": {
      "text/plain": [
       "[]"
      ]
     },
     "execution_count": 135,
     "metadata": {},
     "output_type": "execute_result"
    }
   ],
   "source": [
    "l1=[10,20,30,40]\n",
    "l1.clear()\n",
    "l1"
   ]
  },
  {
   "cell_type": "markdown",
   "id": "d96a5343-2ae0-4bd5-aaee-bf6cd6006c13",
   "metadata": {},
   "source": [
    "**copy**"
   ]
  },
  {
   "cell_type": "code",
   "execution_count": 136,
   "id": "95da53c2-8034-49ec-aa76-99a0c8d9d9fb",
   "metadata": {},
   "outputs": [
    {
     "name": "stdout",
     "output_type": "stream",
     "text": [
      "l2:  [10, 20, 30, 40]\n",
      "l1:  []\n"
     ]
    }
   ],
   "source": [
    "l1=[10,20,30,40]\n",
    "l2=l1.copy()\n",
    "l1.clear()\n",
    "print('l2: ',l2)\n",
    "print('l1: ',l1)"
   ]
  },
  {
   "cell_type": "markdown",
   "id": "853f4ae6-87cf-405f-bc8e-553d193b92a4",
   "metadata": {},
   "source": [
    "**reverse vs reversed**\n",
    "\n",
    "#reversed\n",
    "\n",
    "- reversed is a inbuilt function\n",
    "\n",
    "- reversed can be applicable for all iterable\n",
    "\n",
    "- reversed applicable for **strings, lists, tuple, dict,etc**\n",
    "\n",
    "- reversed(string), reversed(list), reversed(tuple), etc\n",
    "\n",
    "\n",
    "#reverse\n",
    "\n",
    "- reverse is a method is belongs to only list\n",
    "\n",
    "- reverse method can not applicable to strings, tuple and dict\n",
    "\n",
    "- list.reverse()"
   ]
  },
  {
   "cell_type": "code",
   "execution_count": 138,
   "id": "a18f22e8-d392-44ac-96b8-29e9b72eff7e",
   "metadata": {},
   "outputs": [
    {
     "data": {
      "text/plain": [
       "['C', 'B', 'A', 40, 30, 20, 10]"
      ]
     },
     "execution_count": 138,
     "metadata": {},
     "output_type": "execute_result"
    }
   ],
   "source": [
    "l1=[10,20,30,40,'A','B','C']\n",
    "l1.reverse()\n",
    "l1\n",
    "\n",
    "#reverse the elements save the output in same variable\n",
    "#it is indicates as INPLACE\n",
    "#sometimes inplace=True available"
   ]
  },
  {
   "cell_type": "code",
   "execution_count": 139,
   "id": "89c7a503-ebed-47e6-8d8c-cfd472dc42a9",
   "metadata": {},
   "outputs": [
    {
     "ename": "AttributeError",
     "evalue": "'str' object has no attribute 'reverse'",
     "output_type": "error",
     "traceback": [
      "\u001b[1;31m---------------------------------------------------------------------------\u001b[0m",
      "\u001b[1;31mAttributeError\u001b[0m                            Traceback (most recent call last)",
      "Cell \u001b[1;32mIn[139], line 2\u001b[0m\n\u001b[0;32m      1\u001b[0m str1\u001b[38;5;241m=\u001b[39m\u001b[38;5;124m'\u001b[39m\u001b[38;5;124mhello how are you\u001b[39m\u001b[38;5;124m'\u001b[39m\n\u001b[1;32m----> 2\u001b[0m str1\u001b[38;5;241m.\u001b[39mreverse()\n\u001b[0;32m      3\u001b[0m str1\n",
      "\u001b[1;31mAttributeError\u001b[0m: 'str' object has no attribute 'reverse'"
     ]
    }
   ],
   "source": [
    "str1='hello how are you'\n",
    "str1.reverse()\n",
    "str1"
   ]
  },
  {
   "cell_type": "code",
   "execution_count": 140,
   "id": "279ed7ab-87c7-42a7-a238-3ea535218847",
   "metadata": {},
   "outputs": [
    {
     "data": {
      "text/plain": [
       "<reversed at 0x25d8ba2ea40>"
      ]
     },
     "execution_count": 140,
     "metadata": {},
     "output_type": "execute_result"
    }
   ],
   "source": [
    "reversed(str1)"
   ]
  },
  {
   "cell_type": "code",
   "execution_count": 141,
   "id": "5568db62-b06c-4e80-8049-b78c934e1e37",
   "metadata": {},
   "outputs": [
    {
     "data": {
      "text/plain": [
       "['u',\n",
       " 'o',\n",
       " 'y',\n",
       " ' ',\n",
       " 'e',\n",
       " 'r',\n",
       " 'a',\n",
       " ' ',\n",
       " 'w',\n",
       " 'o',\n",
       " 'h',\n",
       " ' ',\n",
       " 'o',\n",
       " 'l',\n",
       " 'l',\n",
       " 'e',\n",
       " 'h']"
      ]
     },
     "execution_count": 141,
     "metadata": {},
     "output_type": "execute_result"
    }
   ],
   "source": [
    "list(reversed(str1))"
   ]
  },
  {
   "cell_type": "code",
   "execution_count": 142,
   "id": "d46a3e98-e04e-4e71-a3e2-524a5a97a426",
   "metadata": {},
   "outputs": [
    {
     "data": {
      "text/plain": [
       "<list_reverseiterator at 0x25d8a47a890>"
      ]
     },
     "execution_count": 142,
     "metadata": {},
     "output_type": "execute_result"
    }
   ],
   "source": [
    "l1=[10,20,30,40,'A','B','C']\n",
    "reversed(l1)"
   ]
  },
  {
   "cell_type": "code",
   "execution_count": 143,
   "id": "4b126780-c124-4c12-9ce1-fca6eae8c74c",
   "metadata": {},
   "outputs": [
    {
     "data": {
      "text/plain": [
       "['C', 'B', 'A', 40, 30, 20, 10]"
      ]
     },
     "execution_count": 143,
     "metadata": {},
     "output_type": "execute_result"
    }
   ],
   "source": [
    "list(reversed(l1))"
   ]
  },
  {
   "cell_type": "code",
   "execution_count": 149,
   "id": "2b060e24-b0e9-4d8f-b1f1-a48c6477919c",
   "metadata": {},
   "outputs": [],
   "source": [
    "l1.reverse()"
   ]
  },
  {
   "cell_type": "code",
   "execution_count": 148,
   "id": "386b3041-461b-44cb-936e-dafe72faee63",
   "metadata": {},
   "outputs": [
    {
     "ename": "AttributeError",
     "evalue": "'str' object has no attribute 'reverse'",
     "output_type": "error",
     "traceback": [
      "\u001b[1;31m---------------------------------------------------------------------------\u001b[0m",
      "\u001b[1;31mAttributeError\u001b[0m                            Traceback (most recent call last)",
      "Cell \u001b[1;32mIn[148], line 1\u001b[0m\n\u001b[1;32m----> 1\u001b[0m str1\u001b[38;5;241m.\u001b[39mreverse()\n",
      "\u001b[1;31mAttributeError\u001b[0m: 'str' object has no attribute 'reverse'"
     ]
    }
   ],
   "source": [
    "str1.reverse()"
   ]
  },
  {
   "cell_type": "markdown",
   "id": "a9392a28-7018-48b4-878d-eb41e346fed2",
   "metadata": {},
   "source": [
    "**sort vs sorted**"
   ]
  },
  {
   "cell_type": "code",
   "execution_count": 150,
   "id": "65246cf4-7149-43cd-a5ee-2dfc28a51297",
   "metadata": {},
   "outputs": [
    {
     "data": {
      "text/plain": [
       "list"
      ]
     },
     "execution_count": 150,
     "metadata": {},
     "output_type": "execute_result"
    }
   ],
   "source": [
    "type([]) \n",
    "#do not give as variable"
   ]
  },
  {
   "cell_type": "code",
   "execution_count": 151,
   "id": "f78f2032-0948-4beb-aa00-a06c3f723353",
   "metadata": {},
   "outputs": [
    {
     "data": {
      "text/plain": [
       "[3, 5, 19, 25, 45]"
      ]
     },
     "execution_count": 151,
     "metadata": {},
     "output_type": "execute_result"
    }
   ],
   "source": [
    "list1=[19,25,3,45,5]\n",
    "list1.sort()\n",
    "list1"
   ]
  },
  {
   "cell_type": "code",
   "execution_count": 152,
   "id": "8a9a6a89-19fa-48b0-aad0-4772a907c50c",
   "metadata": {},
   "outputs": [
    {
     "data": {
      "text/plain": [
       "[45, 25, 19, 5, 3]"
      ]
     },
     "execution_count": 152,
     "metadata": {},
     "output_type": "execute_result"
    }
   ],
   "source": [
    "list1=[19,25,3,45,5]\n",
    "list1.sort(reverse=True)\n",
    "list1"
   ]
  },
  {
   "cell_type": "code",
   "execution_count": 153,
   "id": "e54a278a-e2f6-44f5-b93a-440796de8a0c",
   "metadata": {},
   "outputs": [
    {
     "data": {
      "text/plain": [
       "[3, 5, 19, 25, 45]"
      ]
     },
     "execution_count": 153,
     "metadata": {},
     "output_type": "execute_result"
    }
   ],
   "source": [
    "sorted(list1)"
   ]
  },
  {
   "cell_type": "code",
   "execution_count": null,
   "id": "853de4c0-e214-446d-a3f0-6df5ac4a534c",
   "metadata": {},
   "outputs": [],
   "source": [
    "sorted(string)  #works\n",
    "sorted(list)    #works"
   ]
  },
  {
   "cell_type": "code",
   "execution_count": null,
   "id": "31cc25e1-6a81-457c-9301-bdd50384aae9",
   "metadata": {},
   "outputs": [],
   "source": [
    "list.sort()    #works\n",
    "string.sort()  #fails"
   ]
  },
  {
   "cell_type": "markdown",
   "id": "d81caf50-9710-460f-9f40-f08eeba87369",
   "metadata": {},
   "source": [
    "**Append**\n",
    "\n",
    "- append means add an element at the end of the list\n",
    "\n",
    "- append is a method very important\n",
    "\n",
    "- append is used to store the output in a list\n",
    "\n",
    "- till last class we just printed all the outputs\n",
    "\n",
    "- if we want to save the outputs we need to do append only\n",
    "\n",
    "- append method we will use very very frequently"
   ]
  },
  {
   "cell_type": "code",
   "execution_count": 155,
   "id": "134fded5-ab7a-4065-8bc2-6f030a8308d5",
   "metadata": {},
   "outputs": [
    {
     "data": {
      "text/plain": [
       "[10]"
      ]
     },
     "execution_count": 155,
     "metadata": {},
     "output_type": "execute_result"
    }
   ],
   "source": [
    "#empty list\n",
    "\n",
    "l1=[]\n",
    "l1.append(10)\n",
    "l1"
   ]
  },
  {
   "cell_type": "code",
   "execution_count": 156,
   "id": "9394f46b-77cc-4c19-b865-a4faef78e23d",
   "metadata": {},
   "outputs": [
    {
     "data": {
      "text/plain": [
       "[1, 2, 3, 'apple']"
      ]
     },
     "execution_count": 156,
     "metadata": {},
     "output_type": "execute_result"
    }
   ],
   "source": [
    "l1=[1,2,3]\n",
    "l1.append('apple')\n",
    "l1"
   ]
  },
  {
   "cell_type": "code",
   "execution_count": 157,
   "id": "1c2fc43f-19ce-4fc7-b2ee-e0312ed1a98b",
   "metadata": {},
   "outputs": [
    {
     "data": {
      "text/plain": [
       "[1, 2, 3, 4, 'apple', 'banana']"
      ]
     },
     "execution_count": 157,
     "metadata": {},
     "output_type": "execute_result"
    }
   ],
   "source": [
    "l1=[1,2,3,4]\n",
    "l1.append('apple')\n",
    "l1.append('banana')\n",
    "l1"
   ]
  },
  {
   "cell_type": "code",
   "execution_count": 160,
   "id": "3ce3e3d8-c4ae-4832-a31a-c91f71c08f75",
   "metadata": {},
   "outputs": [
    {
     "data": {
      "text/plain": [
       "[0, 1, 2, 3, 4, 5, 6, 7, 8, 9, 10]"
      ]
     },
     "execution_count": 160,
     "metadata": {},
     "output_type": "execute_result"
    }
   ],
   "source": [
    "# 1. create a list of 10 numbers using for loop\n",
    "\n",
    "l1=[]\n",
    "for i in range(11):\n",
    "    l1.append(i)\n",
    "\n",
    "l1"
   ]
  },
  {
   "cell_type": "code",
   "execution_count": 163,
   "id": "50ecac25-46a8-40a4-b250-59ccd0767397",
   "metadata": {},
   "outputs": [
    {
     "data": {
      "text/plain": [
       "['the square of 3 is 9',\n",
       " 'the square of 8 is 64',\n",
       " 'the square of 4 is 16',\n",
       " 'the square of 2 is 4',\n",
       " 'the square of 1 is 1']"
      ]
     },
     "execution_count": 163,
     "metadata": {},
     "output_type": "execute_result"
    }
   ],
   "source": [
    "# 2. wap ask the users get 5 random numbers. perform the square of the random numbers save in a list\n",
    "\n",
    "import random\n",
    "l1=[]\n",
    "for i in range(5):\n",
    "    n1=random.randint(1,10)\n",
    "    l1.append(f\"the square of {n1} is {n1*n1}\")\n",
    "\n",
    "l1"
   ]
  },
  {
   "cell_type": "code",
   "execution_count": 169,
   "id": "335ae27c-ed27-4847-921b-caff575fd113",
   "metadata": {},
   "outputs": [
    {
     "name": "stdout",
     "output_type": "stream",
     "text": [
      "100 is the even no\n",
      "20 is the even no\n",
      "27 is the odd no\n",
      "38 is the even no\n",
      "47 is the odd no\n",
      "52 is the even no\n",
      "87 is the odd no\n"
     ]
    },
    {
     "data": {
      "text/plain": [
       "([20, 38, 52, 100], [27, 47, 87])"
      ]
     },
     "execution_count": 169,
     "metadata": {},
     "output_type": "execute_result"
    }
   ],
   "source": [
    "# 3. list1=[100,20,27,38,47,52,87]\n",
    "#using this list we need to extract even and odd numbers\n",
    "#even_list=[100,20,38,52] the o/p should be sorted\n",
    "\n",
    "list1=[100,20,27,38,47,52,87]\n",
    "even_list=[]\n",
    "odd_list=[]\n",
    "\n",
    "for i in list1:\n",
    "    #print(i)\n",
    "    if i%2==0:\n",
    "        print(f\"{i} is the even no\")\n",
    "        even_list.append(i)\n",
    "    else:\n",
    "        print(f\"{i} is the odd no\")\n",
    "        odd_list.append(i)\n",
    "\n",
    "even_list.sort()\n",
    "odd_list.sort()\n",
    "\n",
    "even_list,odd_list"
   ]
  },
  {
   "cell_type": "code",
   "execution_count": 174,
   "id": "a1b3debd-8c7c-400d-9d1d-aa752c8843ad",
   "metadata": {},
   "outputs": [
    {
     "data": {
      "text/plain": [
       "['Hyd', 'Chennai', 'Mumbai', 'Pune']"
      ]
     },
     "execution_count": 174,
     "metadata": {},
     "output_type": "execute_result"
    }
   ],
   "source": [
    "# 4. l1=['hyd','chennai','mumbai','pune']\n",
    "#    ans=['Hyd','Chennai','Mumbai','Pune']\n",
    "\n",
    "l1=['hyd','chennai','mumbai','pune']\n",
    "ans=[]\n",
    "\n",
    "for i in l1:\n",
    "    ans.append(i.capitalize())\n",
    "\n",
    "ans"
   ]
  },
  {
   "cell_type": "code",
   "execution_count": 175,
   "id": "efcf3058-a218-41f4-8d8a-30b34e4a4e30",
   "metadata": {},
   "outputs": [
    {
     "data": {
      "text/plain": [
       "['HYD', 'CHENNAI', 'MUMBAI', 'PUNE']"
      ]
     },
     "execution_count": 175,
     "metadata": {},
     "output_type": "execute_result"
    }
   ],
   "source": [
    "#Q5) l1=['hyd','chennai','mumbai','pune']\n",
    "# ans=['HYD','CHENNAI','MUMBAI','PUNE']\n",
    "\n",
    "l1=['hyd','chennai','mumbai','pune']\n",
    "ans=[]\n",
    "for i in l1:\n",
    "    ans.append(i.upper())\n",
    "\n",
    "ans"
   ]
  },
  {
   "cell_type": "code",
   "execution_count": 176,
   "id": "a5984325-f4b5-4e65-8902-1bfb9296605a",
   "metadata": {},
   "outputs": [
    {
     "data": {
      "text/plain": [
       "['chen#ai', 'mu#bai']"
      ]
     },
     "execution_count": 176,
     "metadata": {},
     "output_type": "execute_result"
    }
   ],
   "source": [
    "#Q6) l1=['hyd','chen#ai','mu#bai','pune']\n",
    "# ans=['chen#ai','mu#bai']\n",
    "\n",
    "l1=['hyd','chen#ai','mu#bai','pune']\n",
    "ans=[]\n",
    "for i in l1:\n",
    "    if '#' in i:\n",
    "        ans.append(i)\n",
    "\n",
    "ans\n",
    "    "
   ]
  },
  {
   "cell_type": "code",
   "execution_count": 205,
   "id": "4b96e844-7ecd-4072-b7f0-2035f0992def",
   "metadata": {},
   "outputs": [
    {
     "data": {
      "text/plain": [
       "['hyd', 'pune']"
      ]
     },
     "execution_count": 205,
     "metadata": {},
     "output_type": "execute_result"
    }
   ],
   "source": [
    "#Q7)  l1=['hyd','chen#ai','mu#bai','pune']\n",
    "#     ans=['hyd','pune']\n",
    "\n",
    "l1=['hyd','chen#ai','mu#bai','pune']\n",
    "ans=[]\n",
    "for i in l1:\n",
    "    if '#' not in i:\n",
    "        ans.append(i)\n",
    "\n",
    "ans\n",
    "    "
   ]
  },
  {
   "cell_type": "code",
   "execution_count": 181,
   "id": "2a083290-6f2a-46f7-b20d-86a074f5c733",
   "metadata": {},
   "outputs": [
    {
     "data": {
      "text/plain": [
       "['Hello', 'Hai', 'How', 'Are', 'You']"
      ]
     },
     "execution_count": 181,
     "metadata": {},
     "output_type": "execute_result"
    }
   ],
   "source": [
    "#Q8) str1= 'hello hai how are you'\n",
    "# ans=['Hello','Hai','How','Are','You']\n",
    "\n",
    "str1= 'hello hai how are you'\n",
    "l1=str1.split()\n",
    "ans=[]\n",
    "for i in l1:\n",
    "    ans.append(i.capitalize())\n",
    "\n",
    "ans"
   ]
  },
  {
   "cell_type": "code",
   "execution_count": 195,
   "id": "392075df-8824-4d6b-9e56-4c533a983075",
   "metadata": {},
   "outputs": [
    {
     "data": {
      "text/plain": [
       "(['virat'], ['kohli'], ['com'])"
      ]
     },
     "execution_count": 195,
     "metadata": {},
     "output_type": "execute_result"
    }
   ],
   "source": [
    "#Q9) str1='virat.kohli@rcb.com; rohit.sharma@mi.com; dhoni.ms@csk.com'\n",
    "# fname=['virat','rohit','dhoni']\n",
    "# sname=['kohli','sharma','ms']\n",
    "# cname=['rcb','mi','csk']\n",
    "\n",
    "str1='virat.kohli@rcb.com'\n",
    "l1=str1.split()\n",
    "f_name=[]\n",
    "s_name=[]\n",
    "c_name=[]\n",
    "for i in l1:\n",
    "    first_dot=i.find('.')\n",
    "    at_symbol=i.find('@')\n",
    "    second_dot=i.find('.',first_dot+1)\n",
    "\n",
    "    f_name.append(i[:first_dot])\n",
    "    s_name.append(i[first_dot+1:at_symbol])\n",
    "    c_name.append(i[second_dot+1:])\n",
    "\n",
    "#first_dot,at_symbol,second_dot\n",
    "f_name,s_name,c_name"
   ]
  },
  {
   "cell_type": "code",
   "execution_count": 204,
   "id": "8c995442-b680-4230-a33c-63b7f2da88df",
   "metadata": {},
   "outputs": [
    {
     "name": "stdout",
     "output_type": "stream",
     "text": [
      "[57, 95, 6, 10, 94, 10, 6]\n",
      "max value:  95\n",
      "min value:  6\n"
     ]
    }
   ],
   "source": [
    "# q10) get the 7 random numbers in a list between 1 to 100\n",
    "# find the min and max value with out using min and max function\n",
    "import random\n",
    "l=[]\n",
    "for i in range(7):\n",
    "    num=random.randint(1,100)\n",
    "    l.append(num)\n",
    "print(l)\n",
    "\n",
    "max_val=l[0]\n",
    "for i in l:\n",
    "    if i>max_val:\n",
    "        max_val=i\n",
    "\n",
    "print(\"max value: \",max_val)\n",
    "\n",
    "min_val=l[0]\n",
    "for i in l:\n",
    "    if i<min_val:\n",
    "        min_val=i\n",
    "\n",
    "print(\"min value: \",min_val)\n",
    "    "
   ]
  },
  {
   "cell_type": "code",
   "execution_count": 9,
   "id": "15af7f65-b401-4b24-9b1f-30e566374df2",
   "metadata": {},
   "outputs": [
    {
     "data": {
      "text/plain": [
       "['can',\n",
       " 'canner',\n",
       " 'can',\n",
       " 'not',\n",
       " 'can',\n",
       " 'you',\n",
       " 'canner',\n",
       " 'can',\n",
       " 'be',\n",
       " 'can',\n",
       " 'you',\n",
       " 'can',\n",
       " 'not',\n",
       " 'can-6',\n",
       " 'canner-2',\n",
       " 'not-2',\n",
       " 'you-2',\n",
       " 'be-1']"
      ]
     },
     "execution_count": 9,
     "metadata": {},
     "output_type": "execute_result"
    }
   ],
   "source": [
    "# q11) str1='can canner can not can you canner can be can you can not'\n",
    "#      list=['can-6','canner-2','not-2','you-2','be-1']\n",
    "\n",
    "str1='can canner can not can you canner can be can you can not'\n",
    "l1=str1.split()\n",
    "#print(l)\n",
    "l2=[]\n",
    "count=0\n",
    "for i in l:\n",
    "    if i not in l2:\n",
    "        #print(i,count(i))\n",
    "        l2.append(i)\n",
    "        l1.append(f\"{i}-{l.count(i)}\")\n",
    "\n",
    "l1"
   ]
  },
  {
   "cell_type": "code",
   "execution_count": 18,
   "id": "2d3b9e8e-d80a-4b8f-a414-3d46c4d68061",
   "metadata": {},
   "outputs": [
    {
     "name": "stdin",
     "output_type": "stream",
     "text": [
      "who is pm of india modi\n",
      "who is ICT captain rihit\n",
      "what is the capital of india delhi\n"
     ]
    },
    {
     "name": "stdout",
     "output_type": "stream",
     "text": [
      "The total correct answer are:  2\n"
     ]
    }
   ],
   "source": [
    "# q12) qns= ['who is pm of india','who is ICT captain',\n",
    "#             'what is the capital of india']\n",
    "#      ans=['modi','rohit','delhi']\n",
    "#     step-1: iterate through each qn\n",
    "#     step-2: user will enter the answer\n",
    "#           check-1: the user given 'MODI' correct answer\n",
    "#           check-2: qn index and ans index should be\n",
    "#    step-3: count_marks=0 at the top\n",
    "#    step-4:  for every correct answer 1 marks\n",
    "#    step-5: how many correct answers and how many marks\n",
    "\n",
    "qns= ['who is pm of india','who is ICT captain','what is the capital of india']\n",
    "ans=['modi','rohit','delhi']\n",
    "count=0\n",
    "for i in range(len(qns)):\n",
    "    ANSWER=input(qns[i])\n",
    "    if ANSWER.lower()==ans[i].lower():\n",
    "        #print(\"correct\")\n",
    "        count=count+1\n",
    "print(\"The total correct answer are: \",count)\n",
    "    "
   ]
  },
  {
   "cell_type": "code",
   "execution_count": 16,
   "id": "f26ffe7c-0cb3-4b08-8c55-f615b5deafee",
   "metadata": {},
   "outputs": [
    {
     "name": "stdin",
     "output_type": "stream",
     "text": [
      "who is pm of india modi\n",
      "who is ICT captain ROHIT\n",
      "what is the capital of india DELhi\n"
     ]
    },
    {
     "name": "stdout",
     "output_type": "stream",
     "text": [
      "The total correct answers: 3\n"
     ]
    }
   ],
   "source": [
    "qns= ['who is pm of india','who is ICT captain','what is the capital of india']\n",
    "ans=['modi','rohit','delhi']\n",
    "count=0\n",
    "for i in range(len(qns)):\n",
    "    ANSWER=input(qns[i])\n",
    "    if ANSWER.lower()==ans[i].lower():\n",
    "        count=count+1\n",
    "print(\"The total correct answers:\",count)"
   ]
  },
  {
   "cell_type": "markdown",
   "id": "9bb80331-0430-4be2-bc7e-c43419eed69a",
   "metadata": {},
   "source": [
    "**pop vs remove**"
   ]
  },
  {
   "cell_type": "code",
   "execution_count": 32,
   "id": "80ebeea3-3488-4038-86b2-30d0d10f28a1",
   "metadata": {},
   "outputs": [],
   "source": [
    "l=[100,200,300,'A','B','C']"
   ]
  },
  {
   "cell_type": "code",
   "execution_count": 33,
   "id": "3beb8be4-9e98-4eab-b419-938ea098f2d3",
   "metadata": {},
   "outputs": [
    {
     "data": {
      "text/plain": [
       "'C'"
      ]
     },
     "execution_count": 33,
     "metadata": {},
     "output_type": "execute_result"
    }
   ],
   "source": [
    "l.pop()\n",
    "\n",
    "#pop will remove the element based on index\n",
    "#if we don't give any index by default it will remove last value\n",
    "#the default valude index=-1"
   ]
  },
  {
   "cell_type": "code",
   "execution_count": 21,
   "id": "c543f4e4-011a-45ae-be2b-8239e8804084",
   "metadata": {},
   "outputs": [
    {
     "data": {
      "text/plain": [
       "[100, 200, 300, 'A', 'B']"
      ]
     },
     "execution_count": 21,
     "metadata": {},
     "output_type": "execute_result"
    }
   ],
   "source": [
    "l"
   ]
  },
  {
   "cell_type": "code",
   "execution_count": 34,
   "id": "108b01c0-365e-430e-b799-6a174702e934",
   "metadata": {},
   "outputs": [
    {
     "data": {
      "text/plain": [
       "300"
      ]
     },
     "execution_count": 34,
     "metadata": {},
     "output_type": "execute_result"
    }
   ],
   "source": [
    "l=[100,200,300,'A','B','C']\n",
    "l.pop(2)\n",
    "\n",
    "#what will return as output\n",
    "# a. [100,200,'A','B','C']\n",
    "# b. 300"
   ]
  },
  {
   "cell_type": "code",
   "execution_count": 35,
   "id": "5a53aebf-9ffe-47c7-9aa1-5f4de0ec3f76",
   "metadata": {},
   "outputs": [
    {
     "ename": "IndexError",
     "evalue": "pop index out of range",
     "output_type": "error",
     "traceback": [
      "\u001b[1;31m---------------------------------------------------------------------------\u001b[0m",
      "\u001b[1;31mIndexError\u001b[0m                                Traceback (most recent call last)",
      "Cell \u001b[1;32mIn[35], line 1\u001b[0m\n\u001b[1;32m----> 1\u001b[0m l\u001b[38;5;241m.\u001b[39mpop(\u001b[38;5;241m200\u001b[39m)\n",
      "\u001b[1;31mIndexError\u001b[0m: pop index out of range"
     ]
    }
   ],
   "source": [
    "l.pop(200)"
   ]
  },
  {
   "cell_type": "code",
   "execution_count": 36,
   "id": "47f21faf-6518-4534-96a6-f54d03b1ca7a",
   "metadata": {},
   "outputs": [],
   "source": [
    "l=[100,200,300,'A','B','C']\n",
    "l.remove(100)"
   ]
  },
  {
   "cell_type": "code",
   "execution_count": 37,
   "id": "8f0c06c4-2e75-4181-a8d1-6f490a842607",
   "metadata": {},
   "outputs": [
    {
     "data": {
      "text/plain": [
       "[200, 300, 'A', 'B', 'C']"
      ]
     },
     "execution_count": 37,
     "metadata": {},
     "output_type": "execute_result"
    }
   ],
   "source": [
    "l"
   ]
  },
  {
   "cell_type": "markdown",
   "id": "eb983723-3e1c-4e58-92e9-5c2de9a85319",
   "metadata": {},
   "source": [
    "- pop except a index value\n",
    "\n",
    "- remove except a value"
   ]
  },
  {
   "cell_type": "code",
   "execution_count": 41,
   "id": "cbf0c37b-2f13-453a-b867-c707c5828b08",
   "metadata": {},
   "outputs": [],
   "source": [
    "l=[100,200,300,100,100,'A','B','C']\n",
    "# How to remove 2nd 100"
   ]
  },
  {
   "cell_type": "markdown",
   "id": "6e34f448-758e-4be6-b43e-8c8cacb7c363",
   "metadata": {},
   "source": [
    "**Index**"
   ]
  },
  {
   "cell_type": "code",
   "execution_count": 44,
   "id": "c073e2ac-1dd1-4afd-bcfe-e58bdda8eb40",
   "metadata": {},
   "outputs": [
    {
     "data": {
      "text/plain": [
       "[100, 200, 300, 100, 'A', 'B', 'C']"
      ]
     },
     "execution_count": 44,
     "metadata": {},
     "output_type": "execute_result"
    }
   ],
   "source": [
    "l=[100,200,300,100,100,'A','B','C']\n",
    "i1=l.index(100)\n",
    "i2=l.index(100,i1+1)\n",
    "l.pop(i2)\n",
    "l\n",
    "#i1,i2"
   ]
  },
  {
   "cell_type": "markdown",
   "id": "2564ae7a-2982-4d3b-8547-17457cac60e9",
   "metadata": {},
   "source": [
    "**Extend**\n",
    "\n",
    "- difference between concatenation vs append vs extend"
   ]
  },
  {
   "cell_type": "code",
   "execution_count": 1,
   "id": "10b226d6-e14e-4d0a-838b-0f4ac665f62f",
   "metadata": {},
   "outputs": [],
   "source": [
    "l1=[1,2,3,4]\n",
    "l2=['A','B','C']\n",
    "l1.append(l2)"
   ]
  },
  {
   "cell_type": "code",
   "execution_count": 2,
   "id": "48f09a81-4b85-425f-8b7d-12dac3945f13",
   "metadata": {},
   "outputs": [
    {
     "data": {
      "text/plain": [
       "[1, 2, 3, 4, ['A', 'B', 'C']]"
      ]
     },
     "execution_count": 2,
     "metadata": {},
     "output_type": "execute_result"
    }
   ],
   "source": [
    "l1"
   ]
  },
  {
   "cell_type": "code",
   "execution_count": 3,
   "id": "cca4180a-6d43-42c6-9bd7-3b3fc64ca7f2",
   "metadata": {},
   "outputs": [
    {
     "data": {
      "text/plain": [
       "[1, 2, 3, 4, 'A', 'B', 'C']"
      ]
     },
     "execution_count": 3,
     "metadata": {},
     "output_type": "execute_result"
    }
   ],
   "source": [
    "l1=[1,2,3,4]\n",
    "l2=['A','B','C']\n",
    "l1+l2"
   ]
  },
  {
   "cell_type": "code",
   "execution_count": 5,
   "id": "75345415-f316-4d35-896e-e1c17bb09fa5",
   "metadata": {},
   "outputs": [
    {
     "data": {
      "text/plain": [
       "([1, 2, 3, 4], ['A', 'B', 'C'])"
      ]
     },
     "execution_count": 5,
     "metadata": {},
     "output_type": "execute_result"
    }
   ],
   "source": [
    "l1,l2"
   ]
  },
  {
   "cell_type": "code",
   "execution_count": 7,
   "id": "85c8ffae-af0c-457a-b0f4-23961ed8e808",
   "metadata": {},
   "outputs": [
    {
     "data": {
      "text/plain": [
       "[1, 2, 3, 4, 'A', 'B', 'C']"
      ]
     },
     "execution_count": 7,
     "metadata": {},
     "output_type": "execute_result"
    }
   ],
   "source": [
    "l1=[1,2,3,4]\n",
    "l2=['A','B','C']\n",
    "l1.extend(l2)\n",
    "l1"
   ]
  },
  {
   "cell_type": "code",
   "execution_count": 8,
   "id": "ea13c243-5ee6-4aa1-abcc-7e1f0249dd23",
   "metadata": {},
   "outputs": [
    {
     "data": {
      "text/plain": [
       "[1, 2, 3, 4, 'A', 'B', 'C']"
      ]
     },
     "execution_count": 8,
     "metadata": {},
     "output_type": "execute_result"
    }
   ],
   "source": [
    "l1"
   ]
  },
  {
   "cell_type": "code",
   "execution_count": 9,
   "id": "fa5f2f80-3366-4649-9033-007d8f2a2951",
   "metadata": {},
   "outputs": [
    {
     "data": {
      "text/plain": [
       "['A', 'B', 'C']"
      ]
     },
     "execution_count": 9,
     "metadata": {},
     "output_type": "execute_result"
    }
   ],
   "source": [
    "l2"
   ]
  },
  {
   "cell_type": "code",
   "execution_count": 12,
   "id": "2121924f-7dd3-42b0-bcb6-8033d12d7c46",
   "metadata": {},
   "outputs": [
    {
     "data": {
      "text/plain": [
       "[1, 2, 3, 4, 'A', 'B', 'C']"
      ]
     },
     "execution_count": 12,
     "metadata": {},
     "output_type": "execute_result"
    }
   ],
   "source": [
    "l1=[1,2,3,4]\n",
    "l2=['A','B','C']\n",
    "l3=l1+l2\n",
    "l3"
   ]
  },
  {
   "cell_type": "code",
   "execution_count": 13,
   "id": "e6590057-357e-4e85-a9d4-2ac5b6674345",
   "metadata": {},
   "outputs": [
    {
     "data": {
      "text/plain": [
       "[1, 2, 3, 4, 'A', 'B', 'C']"
      ]
     },
     "execution_count": 13,
     "metadata": {},
     "output_type": "execute_result"
    }
   ],
   "source": [
    "l1=[1,2,3,4]\n",
    "l2=['A','B','C']\n",
    "l1.extend(l2)\n",
    "l1"
   ]
  },
  {
   "cell_type": "code",
   "execution_count": 29,
   "id": "e49e3ff1-7e51-48ec-9cf5-33b0262f7ceb",
   "metadata": {},
   "outputs": [
    {
     "data": {
      "text/plain": [
       "['A', 'B', 'C', 1, 2, 3, 4, 1, 2, 3, 4]"
      ]
     },
     "execution_count": 29,
     "metadata": {},
     "output_type": "execute_result"
    }
   ],
   "source": [
    "l2.extend(l1)\n",
    "l2"
   ]
  },
  {
   "cell_type": "code",
   "execution_count": 28,
   "id": "94bb03dd-79e1-4412-86dd-7a831cd9f64d",
   "metadata": {},
   "outputs": [
    {
     "data": {
      "text/plain": [
       "['A', 'B', 'C', 1, 2, 3, 4]"
      ]
     },
     "execution_count": 28,
     "metadata": {},
     "output_type": "execute_result"
    }
   ],
   "source": [
    "l1=[1,2,3,4]\n",
    "l2=['A','B','C']\n",
    "l2.extend(l1)\n",
    "l2"
   ]
  },
  {
   "cell_type": "code",
   "execution_count": 30,
   "id": "077ddeca-0111-4509-af88-935593dfca7a",
   "metadata": {},
   "outputs": [
    {
     "data": {
      "text/plain": [
       "['happy', 'mrs happy']"
      ]
     },
     "execution_count": 30,
     "metadata": {},
     "output_type": "execute_result"
    }
   ],
   "source": [
    "l1=['happy']\n",
    "l2=['mrs happy']\n",
    "l1+l2    #adding you and yours"
   ]
  },
  {
   "cell_type": "code",
   "execution_count": 31,
   "id": "0fc72249-4f58-455c-b0fa-5e04bbbebaca",
   "metadata": {},
   "outputs": [
    {
     "data": {
      "text/plain": [
       "['happy']"
      ]
     },
     "execution_count": 31,
     "metadata": {},
     "output_type": "execute_result"
    }
   ],
   "source": [
    "l1  #only you coming"
   ]
  },
  {
   "cell_type": "code",
   "execution_count": 36,
   "id": "f0b0ad1a-cfe6-4e7a-bfe3-20f37baae0d6",
   "metadata": {},
   "outputs": [
    {
     "data": {
      "text/plain": [
       "['happy', 'mrs happy', 'mrs happy', 'mrs happy', 'mrs happy', 'mrs happy']"
      ]
     },
     "execution_count": 36,
     "metadata": {},
     "output_type": "execute_result"
    }
   ],
   "source": [
    "l1.extend(l2)  #adding you and yours\n",
    "l1  #both will come"
   ]
  },
  {
   "cell_type": "code",
   "execution_count": 37,
   "id": "e272d647-2aaf-4169-8b17-4a119e06ec8a",
   "metadata": {},
   "outputs": [
    {
     "data": {
      "text/plain": [
       "['mrs happy',\n",
       " 'happy',\n",
       " 'mrs happy',\n",
       " 'mrs happy',\n",
       " 'mrs happy',\n",
       " 'mrs happy',\n",
       " 'mrs happy']"
      ]
     },
     "execution_count": 37,
     "metadata": {},
     "output_type": "execute_result"
    }
   ],
   "source": [
    "l2.extend(l1)\n",
    "l2"
   ]
  },
  {
   "cell_type": "markdown",
   "id": "3a701386-bcb0-4c40-b1a6-c45892e95a33",
   "metadata": {},
   "source": [
    "- extend and concatenation both has same behaviour\n",
    "\n",
    "- means add the two lists\n",
    "\n",
    "- but extend will overwrite the list"
   ]
  },
  {
   "cell_type": "markdown",
   "id": "ab8ab8ba-f54b-4f08-b1ad-77c8bb8866ad",
   "metadata": {},
   "source": [
    "**Insert**\n",
    "\n",
    "- difference between insert and append"
   ]
  },
  {
   "cell_type": "code",
   "execution_count": 39,
   "id": "14cda823-cf48-4a4b-ab28-2fa4a35ba28c",
   "metadata": {},
   "outputs": [
    {
     "data": {
      "text/plain": [
       "[1, 2, 3, 4, 'A', 'B', 'C', 1000]"
      ]
     },
     "execution_count": 39,
     "metadata": {},
     "output_type": "execute_result"
    }
   ],
   "source": [
    "l1=[1,2,3,4,'A','B','C']\n",
    "l1.append(1000)\n",
    "l1"
   ]
  },
  {
   "cell_type": "code",
   "execution_count": 40,
   "id": "aeaf4bd5-af11-45c8-9551-0b36d4955d02",
   "metadata": {},
   "outputs": [
    {
     "data": {
      "text/plain": [
       "[1, 2, 3, 1000, 4, 'A', 'B', 'C']"
      ]
     },
     "execution_count": 40,
     "metadata": {},
     "output_type": "execute_result"
    }
   ],
   "source": [
    "l1=[1,2,3,4,'A','B','C']\n",
    "#   0 1 2 3  4   5   6\n",
    "#   1 2 3,1000'A''B''C'\n",
    "\n",
    "l1.insert(3, 1000)\n",
    "l1"
   ]
  },
  {
   "cell_type": "code",
   "execution_count": 42,
   "id": "1309beb9-196c-4438-9611-5297bcb63b8f",
   "metadata": {},
   "outputs": [
    {
     "data": {
      "text/plain": [
       "[1, 2, 3, 4, 'A', 1000, 'B', 'C']"
      ]
     },
     "execution_count": 42,
     "metadata": {},
     "output_type": "execute_result"
    }
   ],
   "source": [
    "l1=[1,2,3,4,'A','B','C']\n",
    "#i want insert 1000 before 'B'\n",
    "i1=l1.index('B')\n",
    "l1.insert(i1,1000)\n",
    "l1"
   ]
  },
  {
   "cell_type": "code",
   "execution_count": 64,
   "id": "d9210379-cb9d-4f14-84c3-99b4f4968bf6",
   "metadata": {},
   "outputs": [
    {
     "data": {
      "text/plain": [
       "[110, 220, 330]"
      ]
     },
     "execution_count": 64,
     "metadata": {},
     "output_type": "execute_result"
    }
   ],
   "source": [
    "#wap ask the user add the elements of the lists\n",
    "#l1=[100,200,300]\n",
    "#l2=[10,20,30]\n",
    "#ans=[110.220,300]\n",
    "\n",
    "l1=[100,200,300]\n",
    "l2=[10,20,30]\n",
    "ans=[]\n",
    "l1[0]+l2[0]\n",
    "l1[1]+l2[1]\n",
    "l1[2]+l2[2]\n",
    "\n",
    "#l1[i]+l2[i]\n",
    "\n",
    "for i in range(len(l1)):\n",
    "    ans.append(l1[i]+l2[i])\n",
    "\n",
    "ans"
   ]
  },
  {
   "cell_type": "code",
   "execution_count": 23,
   "id": "4c902f0f-2325-4d83-8ca2-b00214ceb871",
   "metadata": {},
   "outputs": [
    {
     "name": "stdout",
     "output_type": "stream",
     "text": [
      "10\n",
      "20\n",
      "30\n"
     ]
    },
    {
     "ename": "IndexError",
     "evalue": "list index out of range",
     "output_type": "error",
     "traceback": [
      "\u001b[1;31m---------------------------------------------------------------------------\u001b[0m",
      "\u001b[1;31mIndexError\u001b[0m                                Traceback (most recent call last)",
      "Cell \u001b[1;32mIn[23], line 8\u001b[0m\n\u001b[0;32m      6\u001b[0m     \u001b[38;5;28mprint\u001b[39m(l1[i]\u001b[38;5;241m+\u001b[39ml2[i])\n\u001b[0;32m      7\u001b[0m \u001b[38;5;28;01melse\u001b[39;00m:\n\u001b[1;32m----> 8\u001b[0m     \u001b[38;5;28mprint\u001b[39m(l2[i])\n",
      "\u001b[1;31mIndexError\u001b[0m: list index out of range"
     ]
    }
   ],
   "source": [
    "l1=[100,200,300,400]\n",
    "l2=[10,20,30]\n",
    "ans=[]\n",
    "for i in range(len(l1)):\n",
    "    if len(l2)==len(l1):\n",
    "        print(l1[i]+l2[i])\n",
    "    else:\n",
    "        print(l2)"
   ]
  },
  {
   "cell_type": "code",
   "execution_count": 32,
   "id": "2b9a0eae-d2ca-466c-ac12-98d32dcdc667",
   "metadata": {},
   "outputs": [
    {
     "data": {
      "text/plain": [
       "[110, 220, 330, 400]"
      ]
     },
     "execution_count": 32,
     "metadata": {},
     "output_type": "execute_result"
    }
   ],
   "source": [
    "l1=[100,200,300,400]\n",
    "l2=[10,20,30]\n",
    "max_val=max(len(l1),len(l2))\n",
    "ans=[]\n",
    "for i in range(max_val):\n",
    "    if i<len(l2):\n",
    "        ans.append(l1[i]+l2[i])\n",
    "    else:\n",
    "        ans.append(l1[i])\n",
    "\n",
    "ans"
   ]
  },
  {
   "cell_type": "code",
   "execution_count": 46,
   "id": "23cc903f-4e66-4c7f-80b7-d8292e5f85df",
   "metadata": {},
   "outputs": [
    {
     "data": {
      "text/plain": [
       "4.47213595499958"
      ]
     },
     "execution_count": 46,
     "metadata": {},
     "output_type": "execute_result"
    }
   ],
   "source": [
    "import math\n",
    "l1=[2,5]\n",
    "l2=[4,9]\n",
    "x1=l1[0]\n",
    "x2=l2[0]\n",
    "y1=l1[1]\n",
    "y2=l2[1]\n",
    "\n",
    "d1=(x2-x1)**2\n",
    "d2=(y2-y1)**2\n",
    "\n",
    "d=d1+d2\n",
    "math.sqrt(d)\n",
    "#x1,x2,y1,y2\n",
    "#d1,d2"
   ]
  },
  {
   "cell_type": "code",
   "execution_count": 47,
   "id": "4230a0ac-b78b-427c-bcf5-cf05bd7862bb",
   "metadata": {},
   "outputs": [
    {
     "data": {
      "text/plain": [
       "4.47213595499958"
      ]
     },
     "execution_count": 47,
     "metadata": {},
     "output_type": "execute_result"
    }
   ],
   "source": [
    "math.sqrt(((l2[0]-l1[0])**2)+((l2[1]-l1[1])**2))"
   ]
  },
  {
   "cell_type": "code",
   "execution_count": 53,
   "id": "77fb1f08-b7dd-4c9c-b4b6-ade3f40706f2",
   "metadata": {},
   "outputs": [
    {
     "data": {
      "text/plain": [
       "[7.211102550927978, 2.23606797749979, 4.242640687119285, 7.211102550927978]"
      ]
     },
     "execution_count": 53,
     "metadata": {},
     "output_type": "execute_result"
    }
   ],
   "source": [
    "#wap a=[(1,3),(7,8),(2,6),(9,3)]\n",
    "#b=(5,9)\n",
    "#find the max and min distance points\n",
    "\n",
    "a=[(1,3),(7,8),(2,6),(9,3)]\n",
    "b=(5,9)\n",
    "ans=[]\n",
    "for i in a:\n",
    "    l1=i\n",
    "    ans.append(math.sqrt(((b[0]-l1[0])**2)+((b[1]-l1[1])**2)))\n",
    "ans\n"
   ]
  },
  {
   "cell_type": "code",
   "execution_count": 60,
   "id": "a33f32ed-905b-44f1-923f-86035c983a12",
   "metadata": {},
   "outputs": [
    {
     "data": {
      "text/plain": [
       "[7.810249675906654,\n",
       " 3.1622776601683795,\n",
       " 8.0,\n",
       " 6.082762530298219,\n",
       " 12.727922061357855,\n",
       " 0.0,\n",
       " 5.385164807134504,\n",
       " 5.385164807134504,\n",
       " 5.0990195135927845,\n",
       " 5.0,\n",
       " 5.385164807134504,\n",
       " 0.0,\n",
       " 7.615773105863909,\n",
       " 3.0,\n",
       " 10.0,\n",
       " 5.385164807134504,\n",
       " 7.615773105863909,\n",
       " 0.0,\n",
       " 9.219544457292887,\n",
       " 9.055385138137417,\n",
       " 5.0990195135927845,\n",
       " 3.0,\n",
       " 9.219544457292887,\n",
       " 0.0,\n",
       " 8.54400374531753,\n",
       " 5.0,\n",
       " 10.0,\n",
       " 9.055385138137417,\n",
       " 8.54400374531753,\n",
       " 0.0]"
      ]
     },
     "execution_count": 60,
     "metadata": {},
     "output_type": "execute_result"
    }
   ],
   "source": [
    "a=[(1,3),(7,8),(2,6),(9,3),(2,9),(10,12)]\n",
    "#find all the distance among the points\n",
    "#(1,3) with all other points\n",
    "#(7,8) with all other\n",
    "#and so on\n",
    "\n",
    "ans=[]\n",
    "for i in a:\n",
    "    for j in a[1:]:\n",
    "        #print(i,j)\n",
    "        ans.append(math.sqrt(((i[0]-j[0])**2)+((i[1]-j[1])**2)))\n",
    "\n",
    "ans"
   ]
  },
  {
   "cell_type": "code",
   "execution_count": null,
   "id": "4a75f6b2-9897-4aad-ab77-f77725bcd111",
   "metadata": {},
   "outputs": [],
   "source": []
  }
 ],
 "metadata": {
  "kernelspec": {
   "display_name": "Python 3 (ipykernel)",
   "language": "python",
   "name": "python3"
  },
  "language_info": {
   "codemirror_mode": {
    "name": "ipython",
    "version": 3
   },
   "file_extension": ".py",
   "mimetype": "text/x-python",
   "name": "python",
   "nbconvert_exporter": "python",
   "pygments_lexer": "ipython3",
   "version": "3.12.7"
  }
 },
 "nbformat": 4,
 "nbformat_minor": 5
}
