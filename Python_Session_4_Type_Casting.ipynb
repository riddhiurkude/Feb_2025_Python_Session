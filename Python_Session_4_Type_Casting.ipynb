{
 "cells": [
  {
   "cell_type": "markdown",
   "id": "462b3b71-e992-4a3f-b0b2-898cd6e7e2e5",
   "metadata": {},
   "source": [
    "**Type Cast**\n",
    "\n",
    "- Changing one data type to another data type\n",
    "\n",
    "- int to float\n",
    "\n",
    "- int to str\n",
    "\n",
    "- int to boolean"
   ]
  },
  {
   "cell_type": "code",
   "execution_count": 1,
   "id": "03a67777-c065-4a76-8bee-ccbd09587348",
   "metadata": {},
   "outputs": [
    {
     "data": {
      "text/plain": [
       "int"
      ]
     },
     "execution_count": 1,
     "metadata": {},
     "output_type": "execute_result"
    }
   ],
   "source": [
    "number=100\n",
    "type(number)"
   ]
  },
  {
   "cell_type": "code",
   "execution_count": 2,
   "id": "b2f4b358-ee46-4c92-b4f5-64132d00a0cf",
   "metadata": {},
   "outputs": [
    {
     "data": {
      "text/plain": [
       "(100.0, float)"
      ]
     },
     "execution_count": 2,
     "metadata": {},
     "output_type": "execute_result"
    }
   ],
   "source": [
    "#int to float\n",
    "float_number=float(number)\n",
    "float_number, type(float_number)"
   ]
  },
  {
   "cell_type": "code",
   "execution_count": 3,
   "id": "fc9c1d40-a656-4249-81c1-837b43e91141",
   "metadata": {},
   "outputs": [
    {
     "data": {
      "text/plain": [
       "('100', str)"
      ]
     },
     "execution_count": 3,
     "metadata": {},
     "output_type": "execute_result"
    }
   ],
   "source": [
    "#int to str\n",
    "string_number=str(number)\n",
    "string_number, type(string_number)"
   ]
  },
  {
   "cell_type": "code",
   "execution_count": 4,
   "id": "c410eb00-1f8e-4d76-928b-763e7d8b50e0",
   "metadata": {},
   "outputs": [
    {
     "data": {
      "text/plain": [
       "(True, bool)"
      ]
     },
     "execution_count": 4,
     "metadata": {},
     "output_type": "execute_result"
    }
   ],
   "source": [
    "#int to bool\n",
    "boolean_number=bool(number)\n",
    "boolean_number, type(boolean_number)"
   ]
  },
  {
   "cell_type": "code",
   "execution_count": 5,
   "id": "2c8b9de9-387a-43d6-9c55-7044df6242f2",
   "metadata": {},
   "outputs": [
    {
     "name": "stdout",
     "output_type": "stream",
     "text": [
      "100.0\n",
      "100\n",
      "True\n"
     ]
    }
   ],
   "source": [
    "print(float(100))\n",
    "print(str(100))\n",
    "print(bool(100))"
   ]
  },
  {
   "cell_type": "code",
   "execution_count": 6,
   "id": "fa7a15d9-b178-47b8-a679-62ebd189e017",
   "metadata": {},
   "outputs": [
    {
     "name": "stdout",
     "output_type": "stream",
     "text": [
      "-100.0\n",
      "-100\n",
      "True\n"
     ]
    }
   ],
   "source": [
    "print(float(-100))\n",
    "print(str(-100))\n",
    "print(bool(-100))"
   ]
  },
  {
   "cell_type": "code",
   "execution_count": 7,
   "id": "fa6c8ebc-1349-42b0-b78c-ec85d0868e4a",
   "metadata": {},
   "outputs": [
    {
     "name": "stdout",
     "output_type": "stream",
     "text": [
      "0.0\n",
      "0\n",
      "False\n"
     ]
    }
   ],
   "source": [
    "print(float(0))\n",
    "print(str(0))\n",
    "print(bool(0))"
   ]
  },
  {
   "cell_type": "markdown",
   "id": "5363bea8-b956-4d06-95c2-fa390c2134a6",
   "metadata": {},
   "source": [
    "**Note**\n",
    "\n",
    "- Boolean conversion of any integer value othe than zero becomes true\n",
    "\n",
    "- Boolean conversion of zero is false"
   ]
  },
  {
   "cell_type": "code",
   "execution_count": 8,
   "id": "f69d8abc-f2e4-47e2-b363-066361420615",
   "metadata": {},
   "outputs": [
    {
     "name": "stdout",
     "output_type": "stream",
     "text": [
      "12.5\n"
     ]
    },
    {
     "data": {
      "text/plain": [
       "(12, int)"
      ]
     },
     "execution_count": 8,
     "metadata": {},
     "output_type": "execute_result"
    }
   ],
   "source": [
    "#float to int\n",
    "float=12.5\n",
    "print(float)\n",
    "\n",
    "int_number=int(float)\n",
    "int_number, type(int_number)"
   ]
  },
  {
   "cell_type": "code",
   "execution_count": 9,
   "id": "fcecde17-ac5d-4785-8dae-f95b5c4de3f3",
   "metadata": {},
   "outputs": [
    {
     "name": "stdout",
     "output_type": "stream",
     "text": [
      "12.5\n"
     ]
    },
    {
     "data": {
      "text/plain": [
       "('12.5', str)"
      ]
     },
     "execution_count": 9,
     "metadata": {},
     "output_type": "execute_result"
    }
   ],
   "source": [
    "#float to str\n",
    "float=12.5\n",
    "print(float)\n",
    "\n",
    "str_number=str(float)\n",
    "str_number, type(str_number)"
   ]
  },
  {
   "cell_type": "code",
   "execution_count": 10,
   "id": "342d2ed0-23ca-435f-9d58-446dabd6d11f",
   "metadata": {},
   "outputs": [
    {
     "name": "stdout",
     "output_type": "stream",
     "text": [
      "12.5\n"
     ]
    },
    {
     "data": {
      "text/plain": [
       "(True, bool)"
      ]
     },
     "execution_count": 10,
     "metadata": {},
     "output_type": "execute_result"
    }
   ],
   "source": [
    "#float to bool\n",
    "float=12.5\n",
    "print(float)\n",
    "\n",
    "bool_number=bool(float)\n",
    "bool_number, type(bool_number)"
   ]
  },
  {
   "cell_type": "code",
   "execution_count": 1,
   "id": "0352d164-66dd-40ad-937e-71510b8bd603",
   "metadata": {},
   "outputs": [
    {
     "name": "stdout",
     "output_type": "stream",
     "text": [
      "10\n",
      "10.5\n",
      "True\n"
     ]
    }
   ],
   "source": [
    "#float to other data types\n",
    "print(int(10.5))\n",
    "print(str(10.5))\n",
    "print(bool(10.5))"
   ]
  },
  {
   "cell_type": "code",
   "execution_count": 11,
   "id": "578bc9c9-efdd-4928-aa11-1dec1bffa807",
   "metadata": {},
   "outputs": [
    {
     "data": {
      "text/plain": [
       "True"
      ]
     },
     "execution_count": 11,
     "metadata": {},
     "output_type": "execute_result"
    }
   ],
   "source": [
    "#string to other data type\n",
    "\n",
    "#int('Apple')    #Error\n",
    "#float('Apple')  #Error\n",
    "bool('Apple')   #True"
   ]
  },
  {
   "cell_type": "code",
   "execution_count": 12,
   "id": "16caf419-4c82-4dea-acc0-39eceaea744c",
   "metadata": {},
   "outputs": [
    {
     "data": {
      "text/plain": [
       "True"
      ]
     },
     "execution_count": 12,
     "metadata": {},
     "output_type": "execute_result"
    }
   ],
   "source": [
    "bool('0')"
   ]
  },
  {
   "cell_type": "code",
   "execution_count": 13,
   "id": "7b9a4287-2250-41e3-b997-35defdf37f5d",
   "metadata": {},
   "outputs": [
    {
     "data": {
      "text/plain": [
       "False"
      ]
     },
     "execution_count": 13,
     "metadata": {},
     "output_type": "execute_result"
    }
   ],
   "source": [
    "bool('')"
   ]
  },
  {
   "cell_type": "code",
   "execution_count": 3,
   "id": "5177f062-ec5f-465c-bbc4-437cc76677db",
   "metadata": {},
   "outputs": [
    {
     "name": "stdout",
     "output_type": "stream",
     "text": [
      "10\n",
      "10.0\n",
      "True\n"
     ]
    }
   ],
   "source": [
    "print(int('10'))\n",
    "print(float('10'))\n",
    "print(bool('10'))"
   ]
  },
  {
   "cell_type": "code",
   "execution_count": 4,
   "id": "ff1bbd13-0c19-445a-9ea1-2f5cc025ae3a",
   "metadata": {},
   "outputs": [
    {
     "data": {
      "text/plain": [
       "10.0"
      ]
     },
     "execution_count": 4,
     "metadata": {},
     "output_type": "execute_result"
    }
   ],
   "source": [
    "float('10')"
   ]
  },
  {
   "cell_type": "code",
   "execution_count": 16,
   "id": "fd244f5a-7ea0-4e2d-8d56-f856d448c42d",
   "metadata": {},
   "outputs": [
    {
     "data": {
      "text/plain": [
       "10"
      ]
     },
     "execution_count": 16,
     "metadata": {},
     "output_type": "execute_result"
    }
   ],
   "source": [
    "int('10')"
   ]
  },
  {
   "cell_type": "code",
   "execution_count": 17,
   "id": "c1d9a27f-d488-4814-8d74-0c781404ef05",
   "metadata": {},
   "outputs": [
    {
     "data": {
      "text/plain": [
       "True"
      ]
     },
     "execution_count": 17,
     "metadata": {},
     "output_type": "execute_result"
    }
   ],
   "source": [
    "bool('10')"
   ]
  },
  {
   "cell_type": "code",
   "execution_count": 2,
   "id": "4d075b39-eae5-45b5-8de5-09818f920bc0",
   "metadata": {},
   "outputs": [
    {
     "name": "stdout",
     "output_type": "stream",
     "text": [
      "10.5\n",
      "True\n"
     ]
    }
   ],
   "source": [
    "#int('10.5')\n",
    "print(float('10.5'))\n",
    "print(bool('10.5'))"
   ]
  },
  {
   "cell_type": "code",
   "execution_count": 11,
   "id": "0397bcae-237b-41c2-a4c8-3e92f8be4733",
   "metadata": {},
   "outputs": [
    {
     "name": "stdout",
     "output_type": "stream",
     "text": [
      "10\n"
     ]
    },
    {
     "ename": "ValueError",
     "evalue": "invalid literal for int() with base 10: '10.5'",
     "output_type": "error",
     "traceback": [
      "\u001b[1;31m---------------------------------------------------------------------------\u001b[0m",
      "\u001b[1;31mValueError\u001b[0m                                Traceback (most recent call last)",
      "Cell \u001b[1;32mIn[11], line 2\u001b[0m\n\u001b[0;32m      1\u001b[0m \u001b[38;5;28mprint\u001b[39m(\u001b[38;5;28mint\u001b[39m(\u001b[38;5;124m'\u001b[39m\u001b[38;5;124m10\u001b[39m\u001b[38;5;124m'\u001b[39m))\n\u001b[1;32m----> 2\u001b[0m \u001b[38;5;28mprint\u001b[39m(\u001b[38;5;28mint\u001b[39m(\u001b[38;5;124m'\u001b[39m\u001b[38;5;124m10.5\u001b[39m\u001b[38;5;124m'\u001b[39m))\n",
      "\u001b[1;31mValueError\u001b[0m: invalid literal for int() with base 10: '10.5'"
     ]
    }
   ],
   "source": [
    "print(int('10'))\n",
    "print(int('10.5'))\n"
   ]
  },
  {
   "cell_type": "code",
   "execution_count": 10,
   "id": "85b67ab3-1c43-4480-b76b-055694a1c330",
   "metadata": {},
   "outputs": [
    {
     "name": "stdout",
     "output_type": "stream",
     "text": [
      "10.0\n",
      "10.5\n"
     ]
    }
   ],
   "source": [
    "print(float('10'))\n",
    "print(float('10.5'))"
   ]
  },
  {
   "cell_type": "code",
   "execution_count": 3,
   "id": "23050a0f-9f24-48a7-933c-6fa4cadf92bf",
   "metadata": {},
   "outputs": [
    {
     "data": {
      "text/plain": [
       "False"
      ]
     },
     "execution_count": 3,
     "metadata": {},
     "output_type": "execute_result"
    }
   ],
   "source": [
    "bool(10)        #T\n",
    "bool('10.5')   #T\n",
    "bool('10')     #T\n",
    "bool(10.5)     #T\n",
    "bool(0)       #F\n",
    "bool(0.0)    #F\n",
    "bool('0')    #T\n",
    "bool('0.0')  #T\n",
    "bool('apple') #T\n",
    "bool('')     #F"
   ]
  },
  {
   "cell_type": "code",
   "execution_count": 12,
   "id": "cdc9b8ea-8780-412c-85e4-82bde16a6f39",
   "metadata": {},
   "outputs": [
    {
     "data": {
      "text/plain": [
       "10"
      ]
     },
     "execution_count": 12,
     "metadata": {},
     "output_type": "execute_result"
    }
   ],
   "source": [
    "#10.5 ===> 10\n",
    "\n",
    "int(float('10.5'))"
   ]
  },
  {
   "cell_type": "code",
   "execution_count": null,
   "id": "f6955903-010f-46bb-a121-eb81d1fbf323",
   "metadata": {},
   "outputs": [],
   "source": []
  }
 ],
 "metadata": {
  "kernelspec": {
   "display_name": "Python 3 (ipykernel)",
   "language": "python",
   "name": "python3"
  },
  "language_info": {
   "codemirror_mode": {
    "name": "ipython",
    "version": 3
   },
   "file_extension": ".py",
   "mimetype": "text/x-python",
   "name": "python",
   "nbconvert_exporter": "python",
   "pygments_lexer": "ipython3",
   "version": "3.12.7"
  }
 },
 "nbformat": 4,
 "nbformat_minor": 5
}
