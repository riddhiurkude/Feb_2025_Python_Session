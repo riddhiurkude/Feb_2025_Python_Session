{
 "cells": [
  {
   "cell_type": "markdown",
   "id": "783e3e5c-5370-4665-8188-2eacc76e50a7",
   "metadata": {},
   "source": [
    "**Conditional Statements**\n",
    "\n",
    "- conditional statements refers to execute the code based on some conditions\n",
    "\n",
    "- we have mainly three types\n",
    "    - if\n",
    "    - if else\n",
    "    - if elif else"
   ]
  },
  {
   "cell_type": "code",
   "execution_count": null,
   "id": "1b0a0c99-6cec-4d97-ad0b-97f9ab1b93f7",
   "metadata": {},
   "outputs": [],
   "source": [
    "#syntax\n",
    "\n",
    "if <conditon>\n",
    "    <write your code here>"
   ]
  },
  {
   "cell_type": "code",
   "execution_count": 1,
   "id": "fc0ee7ea-cd9d-4157-a915-ae733e4bb7cb",
   "metadata": {},
   "outputs": [
    {
     "name": "stdout",
     "output_type": "stream",
     "text": [
      "correct condition\n",
      "hello\n"
     ]
    }
   ],
   "source": [
    "num=10\n",
    "if num>0:\n",
    "    print('correct condition')\n",
    "    print('hello')"
   ]
  },
  {
   "cell_type": "code",
   "execution_count": 2,
   "id": "1e4f79ee-818b-470e-9884-dd153334c7ab",
   "metadata": {},
   "outputs": [],
   "source": [
    "num=10\n",
    "if num<0:\n",
    "    print('correct condition')"
   ]
  },
  {
   "cell_type": "code",
   "execution_count": 3,
   "id": "1dc82347-80ed-4305-89d8-d11df4ce6ebb",
   "metadata": {},
   "outputs": [
    {
     "ename": "IndentationError",
     "evalue": "expected an indented block after 'if' statement on line 2 (2056489480.py, line 3)",
     "output_type": "error",
     "traceback": [
      "\u001b[1;36m  Cell \u001b[1;32mIn[3], line 3\u001b[1;36m\u001b[0m\n\u001b[1;33m    print('correct condition')\u001b[0m\n\u001b[1;37m    ^\u001b[0m\n\u001b[1;31mIndentationError\u001b[0m\u001b[1;31m:\u001b[0m expected an indented block after 'if' statement on line 2\n"
     ]
    }
   ],
   "source": [
    "num=10\n",
    "if num>0:\n",
    "print('correct condition')"
   ]
  },
  {
   "cell_type": "markdown",
   "id": "ec3a8fcc-78e9-4de0-8ded-ad0eb39b1888",
   "metadata": {},
   "source": [
    "**if**\n",
    "\n",
    "- we can write any condition\n",
    "\n",
    "- the condition should be valid\n",
    "\n",
    "- in order to execute the if statement"
   ]
  },
  {
   "cell_type": "code",
   "execution_count": null,
   "id": "8d03022b-f18a-4829-a72e-47c55bc778ed",
   "metadata": {},
   "outputs": [],
   "source": [
    "if <conditon>\n",
    "    <write your code here>\n",
    "\n",
    "#the space we need to maintain it, is called as indentation"
   ]
  },
  {
   "cell_type": "code",
   "execution_count": 4,
   "id": "5433485b-8bb6-4e98-83e5-e673cb0f13a3",
   "metadata": {},
   "outputs": [
    {
     "data": {
      "text/plain": [
       "True"
      ]
     },
     "execution_count": 4,
     "metadata": {},
     "output_type": "execute_result"
    }
   ],
   "source": [
    "name='python'   #assigning value\n",
    "name=='python'  #checking condition"
   ]
  },
  {
   "cell_type": "code",
   "execution_count": 5,
   "id": "699d3fd1-0432-493a-9fe9-a575fbe49ac1",
   "metadata": {},
   "outputs": [
    {
     "data": {
      "text/plain": [
       "False"
      ]
     },
     "execution_count": 5,
     "metadata": {},
     "output_type": "execute_result"
    }
   ],
   "source": [
    "name!='python'"
   ]
  },
  {
   "cell_type": "code",
   "execution_count": 9,
   "id": "74824e83-4a79-494d-88a3-2823d7ac3f6a",
   "metadata": {},
   "outputs": [
    {
     "name": "stdout",
     "output_type": "stream",
     "text": [
      "hello\n",
      "20\n"
     ]
    }
   ],
   "source": [
    "name='python'\n",
    "if name=='python':\n",
    "    print('hello')\n",
    "    a=10\n",
    "    b=10\n",
    "    print(a+b)\n",
    "\n",
    "#step1: name='python'\n",
    "#step2: if name=='python' if 'python'=='python' if true\n",
    "#step3: print hello\n",
    "#step4: a=10\n",
    "#step5: b=20\n",
    "#step6: a+b  10+20=30"
   ]
  },
  {
   "cell_type": "code",
   "execution_count": 10,
   "id": "f89dba4a-12f0-44e0-8a17-125e77e5c95d",
   "metadata": {},
   "outputs": [
    {
     "name": "stdout",
     "output_type": "stream",
     "text": [
      "correct\n",
      "bye\n"
     ]
    }
   ],
   "source": [
    "###################################\n",
    "if 100>10:\n",
    "    print('correct')\n",
    "##################################\n",
    "print('bye')"
   ]
  },
  {
   "cell_type": "code",
   "execution_count": 11,
   "id": "905edbbe-cb1b-4e3e-85a9-88d5aae8d3b9",
   "metadata": {},
   "outputs": [
    {
     "name": "stdout",
     "output_type": "stream",
     "text": [
      "bye\n"
     ]
    }
   ],
   "source": [
    "###################################\n",
    "if 100<10:\n",
    "    print('correct')\n",
    "##################################\n",
    "print('bye')"
   ]
  },
  {
   "cell_type": "code",
   "execution_count": 12,
   "id": "9e19a5d3-e179-4db8-9df6-bb02ef6dee2d",
   "metadata": {},
   "outputs": [
    {
     "name": "stdout",
     "output_type": "stream",
     "text": [
      "correct\n",
      "hii\n",
      "bye\n"
     ]
    }
   ],
   "source": [
    "###################################\n",
    "if 100>10:\n",
    "    print('correct')\n",
    "    print('hii')\n",
    "##################################\n",
    "print('bye')"
   ]
  },
  {
   "cell_type": "code",
   "execution_count": 13,
   "id": "07637fad-5f9e-42fe-b6f1-d849b335a31a",
   "metadata": {},
   "outputs": [
    {
     "name": "stdout",
     "output_type": "stream",
     "text": [
      "hii\n",
      "hello\n",
      "bye\n"
     ]
    }
   ],
   "source": [
    "print('hii')\n",
    "###################################\n",
    "if 100>10:\n",
    "    print('hello')\n",
    "##################################\n",
    "print('bye')"
   ]
  },
  {
   "cell_type": "markdown",
   "id": "9d57fa10-d376-4425-9026-9dd1cd835b90",
   "metadata": {},
   "source": [
    "**if-else**\n",
    "\n",
    "- whenever if condition fails automatically it goes to else part\n",
    "\n",
    "- so else does not require any condition\n",
    "\n",
    "- always maintain indentation for both if part and else part"
   ]
  },
  {
   "cell_type": "code",
   "execution_count": 15,
   "id": "6ae41b20-4031-401d-b34a-16d8fb614a77",
   "metadata": {},
   "outputs": [
    {
     "name": "stdout",
     "output_type": "stream",
     "text": [
      "worng condition\n"
     ]
    }
   ],
   "source": [
    "if 100<10:\n",
    "    print('correct condition')\n",
    "else:\n",
    "    print('worng condition')"
   ]
  },
  {
   "cell_type": "code",
   "execution_count": 16,
   "id": "da5f3050-fdf9-41a9-9e4c-208facf659ac",
   "metadata": {},
   "outputs": [
    {
     "name": "stdout",
     "output_type": "stream",
     "text": [
      "10\n",
      "worng condition\n",
      "20\n"
     ]
    }
   ],
   "source": [
    "print(10)\n",
    "################################################\n",
    "if 100<10:\n",
    "    print('correct condition')\n",
    "###############################################\n",
    "else:\n",
    "    print('worng condition')\n",
    "##############################################\n",
    "print(20)"
   ]
  },
  {
   "cell_type": "code",
   "execution_count": 17,
   "id": "85f083af-1550-4bb6-87fe-76d99a3e06bb",
   "metadata": {},
   "outputs": [
    {
     "name": "stdout",
     "output_type": "stream",
     "text": [
      "10\n",
      "correct condition\n",
      "20\n"
     ]
    }
   ],
   "source": [
    "print(10)\n",
    "if 100>10:\n",
    "    print('correct condition')\n",
    "else:\n",
    "    print('worng condition')\n",
    "print(20)"
   ]
  },
  {
   "cell_type": "code",
   "execution_count": 18,
   "id": "32d81c39-83e2-45c5-94f7-df69ed53cf70",
   "metadata": {},
   "outputs": [
    {
     "ename": "SyntaxError",
     "evalue": "invalid syntax (3965392263.py, line 8)",
     "output_type": "error",
     "traceback": [
      "\u001b[1;36m  Cell \u001b[1;32mIn[18], line 8\u001b[1;36m\u001b[0m\n\u001b[1;33m    else:\u001b[0m\n\u001b[1;37m    ^\u001b[0m\n\u001b[1;31mSyntaxError\u001b[0m\u001b[1;31m:\u001b[0m invalid syntax\n"
     ]
    }
   ],
   "source": [
    "print(10)\n",
    "if 100<10:\n",
    "    print('correct condition')\n",
    "    print('okay')\n",
    "\n",
    "print('why are you coming in middle')\n",
    "\n",
    "else:\n",
    "    print('worng condition')\n",
    "print(20)"
   ]
  },
  {
   "cell_type": "markdown",
   "id": "254419e1-8088-4492-b822-0a6d2804ee3f",
   "metadata": {},
   "source": [
    "- if and else are always together"
   ]
  },
  {
   "cell_type": "code",
   "execution_count": 20,
   "id": "f3e647e8-364d-4b6a-80b7-1b5e8a4d2fdc",
   "metadata": {},
   "outputs": [
    {
     "name": "stdin",
     "output_type": "stream",
     "text": [
      "Enter the num1: 12\n",
      "Enter the num2: 12\n"
     ]
    },
    {
     "name": "stdout",
     "output_type": "stream",
     "text": [
      "we won\n"
     ]
    }
   ],
   "source": [
    "#wap ask the user take two numbers\n",
    "#num1 and num2\n",
    "#if both numbers are matched then print we won\n",
    "#otherwise print we lost\n",
    "\n",
    "n1=eval(input('Enter the num1:'))\n",
    "n2=eval(input('Enter the num2:'))\n",
    "if n1==n2:\n",
    "    print('we won')\n",
    "else:\n",
    "    print('we lost')"
   ]
  },
  {
   "cell_type": "code",
   "execution_count": 22,
   "id": "a4b5f8c2-22ec-449d-9ef0-414600368917",
   "metadata": {},
   "outputs": [
    {
     "name": "stdin",
     "output_type": "stream",
     "text": [
      "Enter the num1: 2\n"
     ]
    },
    {
     "name": "stdout",
     "output_type": "stream",
     "text": [
      "98\n",
      "we lost\n"
     ]
    }
   ],
   "source": [
    "#wap ask the user take one number\n",
    "#another number come as random integer\n",
    "#num1 and num2\n",
    "#if both numbers are matched then print we won\n",
    "#otherwise print we lost\n",
    "\n",
    "from random import randint\n",
    "from time import sleep\n",
    "n1=eval(input('Enter the num1:'))\n",
    "n2=randint(1, 100)\n",
    "sleep(2)\n",
    "print(n2)\n",
    "if n1==n2:\n",
    "    print('we won')\n",
    "else:\n",
    "    print('we lost')"
   ]
  },
  {
   "cell_type": "code",
   "execution_count": 24,
   "id": "2f1fb14f-655f-48a2-bb1b-f7cd11c5e9ac",
   "metadata": {},
   "outputs": [
    {
     "data": {
      "text/plain": [
       "2.5"
      ]
     },
     "execution_count": 24,
     "metadata": {},
     "output_type": "execute_result"
    }
   ],
   "source": [
    "5/2    #division"
   ]
  },
  {
   "cell_type": "code",
   "execution_count": 26,
   "id": "9d8c5905-dcae-47c5-b324-ae4ead84af77",
   "metadata": {},
   "outputs": [
    {
     "data": {
      "text/plain": [
       "2"
      ]
     },
     "execution_count": 26,
     "metadata": {},
     "output_type": "execute_result"
    }
   ],
   "source": [
    "5//2   #floor division"
   ]
  },
  {
   "cell_type": "code",
   "execution_count": 27,
   "id": "c616450a-80b2-480e-a87a-c29ee59e17b5",
   "metadata": {},
   "outputs": [
    {
     "data": {
      "text/plain": [
       "1"
      ]
     },
     "execution_count": 27,
     "metadata": {},
     "output_type": "execute_result"
    }
   ],
   "source": [
    "5%2   #modulus operator"
   ]
  },
  {
   "cell_type": "code",
   "execution_count": 28,
   "id": "3e591694-f763-499a-b96d-dc064b1865ed",
   "metadata": {},
   "outputs": [
    {
     "name": "stdin",
     "output_type": "stream",
     "text": [
      "Enter a number: 5\n"
     ]
    },
    {
     "name": "stdout",
     "output_type": "stream",
     "text": [
      "the given number 5 is odd number\n"
     ]
    }
   ],
   "source": [
    "#wap ask the user enter a number\n",
    "#print if the number is even or odd\n",
    "\n",
    "num=eval(input('Enter a number:'))\n",
    "if num%2==0:\n",
    "    print(f'the given number {num} is even number')\n",
    "else:\n",
    "    print(f'the given number {num} is odd number')"
   ]
  },
  {
   "cell_type": "code",
   "execution_count": 32,
   "id": "3a3d28cc-0da8-4f29-abaa-9056729dd26c",
   "metadata": {},
   "outputs": [
    {
     "name": "stdin",
     "output_type": "stream",
     "text": [
      "Enter the distance: 12\n"
     ]
    },
    {
     "name": "stdout",
     "output_type": "stream",
     "text": [
      "Enjoy! Free ride\n"
     ]
    }
   ],
   "source": [
    "#wap ask the user enter distance\n",
    "#if distance greater than 25\n",
    "#ask the charge\n",
    "#calculate the charge other than 25km\n",
    "#otherwise print free ride\n",
    "\n",
    "dis=eval(input('Enter the distance:'))\n",
    "if dis>=25:\n",
    "    print(f'the charges is applicable for more than 25km. Your charges applicable on {dis-25}')\n",
    "    charge=eval(input('Enter the charge:'))\n",
    "    total_charge=(dis-25)*charge\n",
    "    print(f'Your total charge is {total_charge}')\n",
    "else:\n",
    "    print('Enjoy! Free ride')"
   ]
  },
  {
   "cell_type": "code",
   "execution_count": 34,
   "id": "228a1675-5fe6-497c-86ea-2495833af362",
   "metadata": {},
   "outputs": [
    {
     "name": "stdin",
     "output_type": "stream",
     "text": [
      "Enter the num1: 60\n",
      "Enter the num2: 23\n"
     ]
    },
    {
     "name": "stdout",
     "output_type": "stream",
     "text": [
      "the given number 60 is greater.\n"
     ]
    }
   ],
   "source": [
    "#wap ask the user take two numbers\n",
    "#print which number is greater\n",
    "\n",
    "n1=eval(input('Enter the num1:'))\n",
    "n2=eval(input('Enter the num2:'))\n",
    "if n1>n2:\n",
    "    print(f'the given number {n1} is greater.')\n",
    "else:\n",
    "    print(f'the given number {n2} is greater.')"
   ]
  },
  {
   "cell_type": "code",
   "execution_count": 2,
   "id": "63495f20-e045-47a1-955a-b2d3b858d457",
   "metadata": {},
   "outputs": [
    {
     "name": "stdout",
     "output_type": "stream",
     "text": [
      "the given number 57 is greater.\n"
     ]
    }
   ],
   "source": [
    "#wap print which number is greater using random numbers\n",
    "\n",
    "from random import randint\n",
    "n1=randint(1, 100)\n",
    "n2=randint(1, 100)\n",
    "if n1>n2:\n",
    "    print(f'the given number {n1} is greater.')\n",
    "else:\n",
    "    print(f'the given number {n2} is greater.')"
   ]
  },
  {
   "cell_type": "code",
   "execution_count": 5,
   "id": "5c0b2ead-aa9d-46eb-aaf8-09ca61b7e5e4",
   "metadata": {},
   "outputs": [
    {
     "name": "stdin",
     "output_type": "stream",
     "text": [
      "Enter the course name: datascience\n",
      "Enter the institue name: nareshit\n"
     ]
    },
    {
     "name": "stdout",
     "output_type": "stream",
     "text": [
      "not good\n"
     ]
    }
   ],
   "source": [
    "#wap ask the user \n",
    "#enter the course name\n",
    "#enter the institue name\n",
    "#if course name equal to data science\n",
    "#and insititue name is equal to naresh it\n",
    "#then print we are good\n",
    "#else print not good\n",
    "\n",
    "#step1: course name\n",
    "#step2: institue name\n",
    "#step3: if <c1> and <c2>\n",
    "#step4: print statement\n",
    "#step5: else\n",
    "#step6: print statement\n",
    "\n",
    "course_name=input('Enter the course name:')\n",
    "inst_name=input('Enter the institue name:')\n",
    "if course_name=='Data Science' and inst_name=='NareshIT':\n",
    "    print('we are good')\n",
    "else:\n",
    "    print('not good')"
   ]
  },
  {
   "cell_type": "markdown",
   "id": "54e6f4ab-5c2f-4597-aa35-abb86d277f80",
   "metadata": {},
   "source": [
    "**if-elif-else**\n",
    "\n",
    "- When we have two solutions based on one condition\n",
    "\n",
    "- then we can go for if-else\n",
    "\n",
    "- When we have 3 solutions based on two conditions\n",
    "\n",
    "- then we go for if-elif-else\n",
    "\n",
    "- if needs condition\n",
    "\n",
    "- elif needs condition\n",
    "\n",
    "- if and elif both are wrong then will get else output"
   ]
  },
  {
   "cell_type": "code",
   "execution_count": 7,
   "id": "fbcb2ce8-3f19-46dd-af07-17f5fd0aa93e",
   "metadata": {},
   "outputs": [
    {
     "name": "stdin",
     "output_type": "stream",
     "text": [
      "Enter a number: 5\n"
     ]
    },
    {
     "name": "stdout",
     "output_type": "stream",
     "text": [
      "Enter a valid number\n"
     ]
    }
   ],
   "source": [
    "#wap ask the user enter a number\n",
    "#if number equal to 1 then print one\n",
    "#if number equal to 2 then print two\n",
    "#if number equal to 3 then print three\n",
    "#otherwise print enter a valid number\n",
    "\n",
    "num=eval(input('Enter a number:'))\n",
    "if num==1:\n",
    "    print('one')\n",
    "elif num==2:\n",
    "    print('Two')\n",
    "elif num==3:\n",
    "    print('Three')\n",
    "else:\n",
    "    print('Enter a valid number')"
   ]
  },
  {
   "cell_type": "code",
   "execution_count": 9,
   "id": "b2fa9f7d-2f8a-4aa2-82ca-af09f928b83a",
   "metadata": {},
   "outputs": [
    {
     "name": "stdin",
     "output_type": "stream",
     "text": [
      "Enter the percentage: 55\n"
     ]
    },
    {
     "name": "stdout",
     "output_type": "stream",
     "text": [
      "C grade\n"
     ]
    }
   ],
   "source": [
    "#wap ask the user enter percentage of marks\n",
    "#if marks greater than 75 then print A grade\n",
    "#if marks between 60 to 75 then print B grade\n",
    "#if marks between 45 to 60 then print c grade\n",
    "#if marks between 35 to 45 then print D grade\n",
    "#otherwise print fail\n",
    "\n",
    "per=eval(input('Enter the percentage:'))\n",
    "if per>=75:\n",
    "    print('A grade')\n",
    "elif per<75 and per>=60:\n",
    "    print('B grade')\n",
    "elif per<60 and per>=45:\n",
    "    print('C grade')\n",
    "elif per<45 and per>=35:\n",
    "    print('D grade')\n",
    "else:\n",
    "    print('Fail')"
   ]
  },
  {
   "cell_type": "code",
   "execution_count": 10,
   "id": "07cba704-4cfc-46db-8962-bb773f432b41",
   "metadata": {},
   "outputs": [
    {
     "name": "stdin",
     "output_type": "stream",
     "text": [
      "Enter the percentage: 89\n"
     ]
    },
    {
     "name": "stdout",
     "output_type": "stream",
     "text": [
      "A grade\n"
     ]
    }
   ],
   "source": [
    "#This is quality kind of code\n",
    "per=eval(input('Enter the percentage:'))\n",
    "if per>=75:\n",
    "    print('A grade')\n",
    "elif per>=60:\n",
    "    print('B grade')\n",
    "elif per>=45:\n",
    "    print('C grade')\n",
    "elif per>=35:\n",
    "    print('D grade')\n",
    "else:\n",
    "    print('Fail')\n",
    "\n",
    "\n",
    "#per=95\n",
    "#if 95>75  T\n",
    "#elif 95>60  T\n",
    "#elif 95>45  T\n",
    "#elif 95>35  T\n",
    "#whenever is the first true it will stop there only"
   ]
  },
  {
   "cell_type": "code",
   "execution_count": 11,
   "id": "b39897af-061c-48e5-a9e0-aff785e40b7b",
   "metadata": {},
   "outputs": [
    {
     "name": "stdin",
     "output_type": "stream",
     "text": [
      "Enter the age: 2\n"
     ]
    },
    {
     "name": "stdout",
     "output_type": "stream",
     "text": [
      "Kid\n"
     ]
    }
   ],
   "source": [
    "#wap ask the user enter age\n",
    "#if age greater than 100 print unlucky guy\n",
    "#if age is between 80 to 100 print super senior citizen\n",
    "#if age is between 60 to 80 print senior citizen\n",
    "#if age is between 40 to 60 print Aged\n",
    "#if age is between 25 to 40 print Middle age\n",
    "#if age is between 15 to 25 print young\n",
    "#otherwise print kid\n",
    "\n",
    "age=eval(input('Enter the age:'))\n",
    "if age>=100:\n",
    "    print('Unlucky guy')\n",
    "elif age>=80:\n",
    "    print('Super Senior Citizen')\n",
    "elif age>=60:\n",
    "    print('Senior Citizen')\n",
    "elif age>=40:\n",
    "    print('Aged')\n",
    "elif age>=25:\n",
    "    print('Middle age')\n",
    "elif age>=15:\n",
    "    print('Young')\n",
    "else:\n",
    "    print('Kid')"
   ]
  },
  {
   "cell_type": "code",
   "execution_count": 13,
   "id": "783abfe8-6ebc-4b68-b316-5c1c21fbe765",
   "metadata": {},
   "outputs": [
    {
     "name": "stdout",
     "output_type": "stream",
     "text": [
      "the charge for distance more than 100km : 20rs\n",
      "the charge for distance betweem 50 to 100 : 10rs\n",
      "the charge for distance betweem 25 to 50 : 5rs\n",
      "for the distance less than 25: FREE RIDE\n"
     ]
    },
    {
     "name": "stdin",
     "output_type": "stream",
     "text": [
      "Enter the distance: 60\n",
      "Enter the charge: 10\n"
     ]
    },
    {
     "name": "stdout",
     "output_type": "stream",
     "text": [
      "Your total charge is 600\n"
     ]
    }
   ],
   "source": [
    "#wap ask the user enter a distance\n",
    "#if distance greater than 100\n",
    "#ask the user enter charge (20rs)\n",
    "#print total charge\n",
    "#if distance is between 50 to 100\n",
    "#ask the user enter charge (10rs)\n",
    "#print total charge\n",
    "#if distance is between 25 to 50\n",
    "#ask the user enter charge (5rs)\n",
    "#print total charge\n",
    "#otherwise print free ride\n",
    "\n",
    "print('the charge for distance more than 100km : 20rs')\n",
    "print('the charge for distance betweem 50 to 100 : 10rs')\n",
    "print('the charge for distance betweem 25 to 50 : 5rs')\n",
    "print('for the distance less than 25: FREE RIDE')\n",
    "dis=eval(input('Enter the distance:'))\n",
    "if dis>=100:\n",
    "    charge=eval(input('Enter the charge:'))\n",
    "    total_charge=dis*charge\n",
    "    print(f'Your total charge is {total_charge}')\n",
    "elif dis>=50:\n",
    "    charge=eval(input('Enter the charge:'))\n",
    "    total_charge=dis*charge\n",
    "    print(f'Your total charge is {total_charge}')\n",
    "elif dis>=25:\n",
    "    charge=eval(input('Enter the charge:'))\n",
    "    total_charge=dis*charge\n",
    "    print(f'Your total charge is {total_charge}')\n",
    "else:\n",
    "    print('Enjoy your free ride.')"
   ]
  },
  {
   "cell_type": "code",
   "execution_count": 16,
   "id": "3ed0e3b5-555d-469e-9e6e-324263e3828e",
   "metadata": {},
   "outputs": [
    {
     "name": "stdout",
     "output_type": "stream",
     "text": [
      "for addition enter 1\n",
      "for subtraction enter 2\n",
      "for multiplication enter 3\n",
      "for division enter 4\n"
     ]
    },
    {
     "name": "stdin",
     "output_type": "stream",
     "text": [
      "Enter the number between 1 to 4:  3\n"
     ]
    },
    {
     "name": "stdout",
     "output_type": "stream",
     "text": [
      "you choose multiplication operation\n"
     ]
    },
    {
     "name": "stdin",
     "output_type": "stream",
     "text": [
      "Enter the num1 3\n",
      "Enter the num2 23\n"
     ]
    },
    {
     "name": "stdout",
     "output_type": "stream",
     "text": [
      "The multiplication of 3 and 23 is 69\n"
     ]
    }
   ],
   "source": [
    "# you need to print some statements\n",
    "# time.sleep(1)\n",
    "# print enter 1  for addition\n",
    "# time.sleep(1)\n",
    "# print enter 2 for sub\n",
    "# time.sleep(1)\n",
    "# print enter 3 for mul\n",
    "# time.sleep(1)\n",
    "# print enter 4 for div\n",
    "# n1=enter the number from keyboard\n",
    "# n2= enter the \n",
    "# operation=eval(input('enter the numbers between 1 to 4'))\n",
    "# if operation equla to 1:\n",
    "#      print you choose addition opertaion\n",
    "#     addition of n1+n2\n",
    "# if operation equal to 2:\n",
    "#      print you choose subtraction opertaion\n",
    "#     subtraction of n1-n2 and so on\n",
    "\n",
    "from time import sleep\n",
    "print('for addition enter 1')\n",
    "sleep(1)\n",
    "print('for subtraction enter 2')\n",
    "sleep(1)\n",
    "print('for multiplication enter 3')\n",
    "sleep(1)\n",
    "print('for division enter 4')\n",
    "operation=eval(input('Enter the number between 1 to 4: '))\n",
    "if operation==1:\n",
    "    print('you choose addition operation')\n",
    "    num1=eval(input('Enter the num1'))\n",
    "    num2=eval(input('Enter the num2'))\n",
    "    print(f'The addition of {num1} and {num2} is {num1+num2}')\n",
    "elif operation==2:\n",
    "    print('you choose subtraction operation')\n",
    "    num1=eval(input('Enter the num1'))\n",
    "    num2=eval(input('Enter the num2'))\n",
    "    print(f'The subtraction of {num1} and {num2} is {num1-num2}')\n",
    "elif operation==3:\n",
    "    print('you choose multiplication operation')\n",
    "    num1=eval(input('Enter the num1'))\n",
    "    num2=eval(input('Enter the num2'))\n",
    "    print(f'The multiplication of {num1} and {num2} is {num1*num2}')\n",
    "elif operation==4:\n",
    "    print('you choose division operation')\n",
    "    num1=eval(input('Enter the num1'))\n",
    "    num2=eval(input('Enter the num2'))\n",
    "    print(f'The division of {num1} and {num2} is {num1/num2}')\n",
    "else:\n",
    "    print('Enter a valid number')"
   ]
  },
  {
   "cell_type": "markdown",
   "id": "5340397b-82fe-4a67-89a8-ee05e6e9e9ad",
   "metadata": {},
   "source": [
    "**Nested if-else**\n",
    "\n",
    "- if-elif-else"
   ]
  },
  {
   "cell_type": "code",
   "execution_count": 3,
   "id": "4c2f5778-cf86-4e97-894e-e210fb4eff9b",
   "metadata": {},
   "outputs": [
    {
     "name": "stdin",
     "output_type": "stream",
     "text": [
      "Enter a number: -6\n"
     ]
    },
    {
     "name": "stdout",
     "output_type": "stream",
     "text": [
      "-6 is a negative number.\n"
     ]
    }
   ],
   "source": [
    "#wap ask the user enter a number\n",
    "#if number greater than zero then print positive number\n",
    "#if number less than zero then print negative number\n",
    "#otherwise print it is a zero\n",
    "\n",
    "num=eval(input('Enter a number:'))\n",
    "if num>0:\n",
    "    print(f'{num} is a positive number.')\n",
    "elif num<0:\n",
    "    print(f'{num} is a negative number.')\n",
    "else:\n",
    "    print('it is a zero.')"
   ]
  },
  {
   "cell_type": "code",
   "execution_count": 7,
   "id": "942d1920-475c-4070-8038-88058dd6abcf",
   "metadata": {},
   "outputs": [
    {
     "name": "stdin",
     "output_type": "stream",
     "text": [
      "Enter a number: -2\n"
     ]
    },
    {
     "name": "stdout",
     "output_type": "stream",
     "text": [
      "-2 is a negative number.\n"
     ]
    }
   ],
   "source": [
    "#wap ask the user enter a number\n",
    "#if number greater than or equal to zero\n",
    "#if num equal to zero then print zero\n",
    "#otherwise print it is a positive\n",
    "#otherwise print it is a negative\n",
    "\n",
    "num=eval(input('Enter a number:'))\n",
    "if num>=0:\n",
    "    if num==0:\n",
    "        print('it is a zero.')\n",
    "    else:\n",
    "        print(f'{num} is a positive number.')\n",
    "else:\n",
    "    print(f'{num} is a negative number.')"
   ]
  },
  {
   "cell_type": "code",
   "execution_count": 11,
   "id": "fe4076e4-1f9c-4bb8-8e4e-132e19efa4d7",
   "metadata": {},
   "outputs": [
    {
     "name": "stdin",
     "output_type": "stream",
     "text": [
      "Enter the gender:  MALE\n"
     ]
    },
    {
     "name": "stdout",
     "output_type": "stream",
     "text": [
      "please enter a valid gender\n"
     ]
    }
   ],
   "source": [
    "#wap ask the user enter a gender\n",
    "#if gender equal to male\n",
    "#ask the user enter age\n",
    "#if age greater than or equal to 60 print senior citizen\n",
    "#if age between 30 to 60 print middle age man\n",
    "#if age between 10 to 30 print young man\n",
    "#otherwise print a boy\n",
    "#if gender equal to female\n",
    "#ask the user enter age\n",
    "#if age>=60 print sc\n",
    "#if age between 30 to 60 print middle age woman\n",
    "#if age between 10 to 30 print young girl\n",
    "#otherwise print a girl\n",
    "#otherwise enter a valid gender\n",
    "\n",
    "gender=input('Enter the gender: ')\n",
    "if gender=='male':\n",
    "    age=eval(input('Enter the age: '))\n",
    "    if age>=60:\n",
    "        print('senior citizen')\n",
    "    elif age>=30:\n",
    "        print('middle age man')\n",
    "    elif age>=10:\n",
    "        print('young man')\n",
    "    else:\n",
    "        print('boy')\n",
    "elif gender=='female':\n",
    "    age=eval(input('Enter the age: '))\n",
    "    if age>=60:\n",
    "        print('senior citizen women')\n",
    "    elif age>=30:\n",
    "        print('middle age women')\n",
    "    elif age>=10:\n",
    "        print('young women')\n",
    "    else:\n",
    "        print('girl')\n",
    "else:\n",
    "    print('please enter a valid gender')"
   ]
  },
  {
   "cell_type": "code",
   "execution_count": 14,
   "id": "cd219e38-a905-431a-93c3-c0be7e2dddaf",
   "metadata": {},
   "outputs": [
    {
     "name": "stdin",
     "output_type": "stream",
     "text": [
      "Enter num1:  8\n",
      "Enter num2:  5\n",
      "Enter num3:  2\n"
     ]
    },
    {
     "name": "stdout",
     "output_type": "stream",
     "text": [
      "8 is greater\n"
     ]
    }
   ],
   "source": [
    "#wap ask the user take three numbers\n",
    "#find the biggest number\n",
    "\n",
    "n1=eval(input('Enter num1: '))\n",
    "n2=eval(input('Enter num2: '))\n",
    "n3=eval(input('Enter num3: '))\n",
    "if n1>n2 and n1>n3:\n",
    "    print(f'{n1} is greater')\n",
    "elif n2>n3:\n",
    "    print(f'{n2} is greater')\n",
    "else:\n",
    "    print(f'{n3} is greater')"
   ]
  },
  {
   "cell_type": "code",
   "execution_count": null,
   "id": "ee37065f-d4a1-410d-b7bc-15faad15332f",
   "metadata": {},
   "outputs": [],
   "source": []
  }
 ],
 "metadata": {
  "kernelspec": {
   "display_name": "Python 3 (ipykernel)",
   "language": "python",
   "name": "python3"
  },
  "language_info": {
   "codemirror_mode": {
    "name": "ipython",
    "version": 3
   },
   "file_extension": ".py",
   "mimetype": "text/x-python",
   "name": "python",
   "nbconvert_exporter": "python",
   "pygments_lexer": "ipython3",
   "version": "3.12.7"
  }
 },
 "nbformat": 4,
 "nbformat_minor": 5
}
