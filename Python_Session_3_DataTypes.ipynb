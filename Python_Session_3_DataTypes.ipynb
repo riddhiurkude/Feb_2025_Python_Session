{
 "cells": [
  {
   "cell_type": "markdown",
   "id": "6d248015-d985-4629-80ea-80ff8014d262",
   "metadata": {},
   "source": [
    "## DataTypes"
   ]
  },
  {
   "cell_type": "markdown",
   "id": "7411e685-e456-4248-855f-6bec27a81253",
   "metadata": {},
   "source": [
    "- Python can say data type of the value without initializing it\n",
    "\n",
    "- which means the data type is automatically consider\n",
    "\n",
    "- int : integer\n",
    "\n",
    "- float\n",
    "\n",
    "- str : String\n",
    "\n",
    "- bool : boolean\n",
    "\n",
    "- complex\n",
    "\n",
    "- List\n",
    "\n",
    "- tuple\n",
    "\n",
    "- dict : dictionery\n",
    "\n",
    "- set\n",
    "\n",
    "- frozenset\n",
    "\n",
    "- bytes\n",
    "\n",
    "- bytearray\n",
    "\n",
    "- memoryview"
   ]
  },
  {
   "cell_type": "markdown",
   "id": "df3db909-e5a5-4dba-a090-e7dd48654236",
   "metadata": {},
   "source": [
    "**Integer**"
   ]
  },
  {
   "cell_type": "code",
   "execution_count": 1,
   "id": "e5547375-a43e-4f89-ae00-02fe9975b2f4",
   "metadata": {},
   "outputs": [
    {
     "data": {
      "text/plain": [
       "int"
      ]
     },
     "execution_count": 1,
     "metadata": {},
     "output_type": "execute_result"
    }
   ],
   "source": [
    "num=100\n",
    "type(num)"
   ]
  },
  {
   "cell_type": "code",
   "execution_count": 2,
   "id": "546291d9-f750-4971-a77a-d1d1fe9d33f0",
   "metadata": {},
   "outputs": [
    {
     "name": "stdout",
     "output_type": "stream",
     "text": [
      "100\n"
     ]
    }
   ],
   "source": [
    "print(num)"
   ]
  },
  {
   "cell_type": "markdown",
   "id": "e6c6dd5f-60ef-4584-92f8-9f79df7184d5",
   "metadata": {},
   "source": [
    "**Binary Number System**\n",
    "\n",
    "- digits: 0,1,2,3,4,5,6,7,8,9\n",
    "\n",
    "- binary: bi means two: 0 and 1\n",
    "\n",
    "- representation is : 0b001, 0b111, 0b101, 0B101\n",
    "\n",
    "- wrong representation is: ob001 (it is not 'o', it is 0)\n",
    "\n"
   ]
  },
  {
   "cell_type": "code",
   "execution_count": 3,
   "id": "b62d9f39-e0b8-464d-98c6-c0e5281a66e4",
   "metadata": {},
   "outputs": [
    {
     "data": {
      "text/plain": [
       "5"
      ]
     },
     "execution_count": 3,
     "metadata": {},
     "output_type": "execute_result"
    }
   ],
   "source": [
    "0b101"
   ]
  },
  {
   "cell_type": "code",
   "execution_count": 4,
   "id": "3cbbdeda-ce87-4459-aacf-e6beb7d40e0c",
   "metadata": {},
   "outputs": [
    {
     "data": {
      "text/plain": [
       "10"
      ]
     },
     "execution_count": 4,
     "metadata": {},
     "output_type": "execute_result"
    }
   ],
   "source": [
    "0b1010"
   ]
  },
  {
   "cell_type": "code",
   "execution_count": 5,
   "id": "ee653c3c-fa97-480f-99ff-c59f114c1cf8",
   "metadata": {},
   "outputs": [
    {
     "data": {
      "text/plain": [
       "15"
      ]
     },
     "execution_count": 5,
     "metadata": {},
     "output_type": "execute_result"
    }
   ],
   "source": [
    "0b1111"
   ]
  },
  {
   "cell_type": "code",
   "execution_count": 6,
   "id": "9f375ab2-e262-4e18-b048-fdba3d7e4de1",
   "metadata": {},
   "outputs": [
    {
     "ename": "SyntaxError",
     "evalue": "cannot assign to expression here. Maybe you meant '==' instead of '='? (1570955240.py, line 1)",
     "output_type": "error",
     "traceback": [
      "\u001b[1;36m  Cell \u001b[1;32mIn[6], line 1\u001b[1;36m\u001b[0m\n\u001b[1;33m    2^2=4  2^1=2  2^0=1\u001b[0m\n\u001b[1;37m    ^\u001b[0m\n\u001b[1;31mSyntaxError\u001b[0m\u001b[1;31m:\u001b[0m cannot assign to expression here. Maybe you meant '==' instead of '='?\n"
     ]
    }
   ],
   "source": [
    "2^2=4  2^1=2  2^0=1\n",
    "\n",
    "0        0      0      0\n",
    "0        0      1      1\n",
    "0        1      0      2\n",
    "0        1      1      3\n",
    "1        0      0      4\n",
    "1        0      1      5\n",
    "1        1      0      6\n",
    "1        1      1      7"
   ]
  },
  {
   "cell_type": "code",
   "execution_count": null,
   "id": "628f628d-8844-40b7-a969-f9605dab4040",
   "metadata": {},
   "outputs": [],
   "source": [
    "2^3=8    2^2=4  2^1=2  2^0=1\n",
    "    \n",
    "0        0        0      0      0\n",
    "0        0        0      1      1\n",
    "0        0        1      0      2\n",
    "0        0        1      1      3\n",
    "0        1        0      0      4\n",
    "0        1        0      1      5\n",
    "0        1        1      0      6\n",
    "0        1        1      1      7\n",
    "1        0        0      0      8\n",
    "1        0        0      1      9\n",
    "1        0        1      0      10\n",
    "1        0        1      1      11\n",
    "1        1        0      0      12\n",
    "1        1        0      1      13\n",
    "1        1        1      0      14\n",
    "1        1        1      1      15"
   ]
  },
  {
   "cell_type": "markdown",
   "id": "d8cb73a1-982f-4a45-9d2b-d37ad70d0d87",
   "metadata": {},
   "source": [
    "Octal Number System\n",
    "\n",
    "- digits: 0,1,2,3,4,5,6,7,8,9\n",
    "\n",
    "- Octal: oct means 8: 0,1,2,3,4,5,6,7\n",
    "\n",
    "- representation is : 0o001, 0o123, 0o567, 0O765\n",
    "\n",
    "- wrong representation is: 'o' as start, 0o789"
   ]
  },
  {
   "cell_type": "code",
   "execution_count": 7,
   "id": "5b9681b1-2ddd-4ba0-b309-957171636479",
   "metadata": {},
   "outputs": [
    {
     "data": {
      "text/plain": [
       "83"
      ]
     },
     "execution_count": 7,
     "metadata": {},
     "output_type": "execute_result"
    }
   ],
   "source": [
    "0o123"
   ]
  },
  {
   "cell_type": "code",
   "execution_count": 8,
   "id": "5f4e18dc-3040-4623-b4c4-2b5478b9f709",
   "metadata": {},
   "outputs": [
    {
     "data": {
      "text/plain": [
       "2196"
      ]
     },
     "execution_count": 8,
     "metadata": {},
     "output_type": "execute_result"
    }
   ],
   "source": [
    "0O4224"
   ]
  },
  {
   "cell_type": "markdown",
   "id": "57fc0974-7cfd-44a0-8305-500786a72d88",
   "metadata": {},
   "source": [
    "Hexa Number System\n",
    "\n",
    "- digits: 0,1,2,3,4,5,6,7,8,9\n",
    "\n",
    "- Hexa: Hexa means 16: 0,1,2,3,4,5,6,7,8,9,A=10,B=11,C=12,D=13,E=14,F=15\n",
    "\n",
    "- representation is : 0x001, 0x123, 0x567, 0X765, 0Xabc\n",
    "\n",
    "- wrong representation is: 'o' as start, 0h67, "
   ]
  },
  {
   "cell_type": "code",
   "execution_count": 10,
   "id": "d98ee13c-f027-41cf-8e76-93cbb4b7bcf1",
   "metadata": {},
   "outputs": [
    {
     "data": {
      "text/plain": [
       "291"
      ]
     },
     "execution_count": 10,
     "metadata": {},
     "output_type": "execute_result"
    }
   ],
   "source": [
    "0x123"
   ]
  },
  {
   "cell_type": "code",
   "execution_count": 11,
   "id": "72b7617d-03f6-4839-9b9e-f0766bd2c1d1",
   "metadata": {},
   "outputs": [
    {
     "data": {
      "text/plain": [
       "2748"
      ]
     },
     "execution_count": 11,
     "metadata": {},
     "output_type": "execute_result"
    }
   ],
   "source": [
    "0Xabc"
   ]
  },
  {
   "cell_type": "markdown",
   "id": "8fc2153b-f25e-4d57-95b7-126506ed525f",
   "metadata": {},
   "source": [
    "**Float**\n",
    "\n",
    "- Float numbers means continues points\n",
    "\n",
    "- float numbers means having some decimals\n",
    "\n",
    "- integer number means discrete points"
   ]
  },
  {
   "cell_type": "code",
   "execution_count": 12,
   "id": "4d103a60-a719-41f6-956e-93805e1d487c",
   "metadata": {},
   "outputs": [
    {
     "data": {
      "text/plain": [
       "float"
      ]
     },
     "execution_count": 12,
     "metadata": {},
     "output_type": "execute_result"
    }
   ],
   "source": [
    "number=10.23\n",
    "type(number)"
   ]
  },
  {
   "cell_type": "markdown",
   "id": "68657baa-8e40-4ba5-beb9-9644a04347ae",
   "metadata": {},
   "source": [
    "- float point can be repersent as exponential format **e**"
   ]
  },
  {
   "cell_type": "code",
   "execution_count": 1,
   "id": "060cd960-1022-4197-9699-f081046f7286",
   "metadata": {},
   "outputs": [
    {
     "data": {
      "text/plain": [
       "1000.0"
      ]
     },
     "execution_count": 1,
     "metadata": {},
     "output_type": "execute_result"
    }
   ],
   "source": [
    "1e1  #1*10\n",
    "1e2  #1*100\n",
    "1e3  #1*1000\n"
   ]
  },
  {
   "cell_type": "code",
   "execution_count": 15,
   "id": "2fde744b-3b87-442d-a78b-803a539edc90",
   "metadata": {},
   "outputs": [
    {
     "data": {
      "text/plain": [
       "200.0"
      ]
     },
     "execution_count": 15,
     "metadata": {},
     "output_type": "execute_result"
    }
   ],
   "source": [
    "2e2  #2*100"
   ]
  },
  {
   "cell_type": "code",
   "execution_count": 25,
   "id": "6e4ee29d-8b2a-4683-8c19-c9d89e5042f7",
   "metadata": {},
   "outputs": [
    {
     "name": "stdout",
     "output_type": "stream",
     "text": [
      "10.0\n",
      "100.0\n",
      "1000.0\n"
     ]
    }
   ],
   "source": [
    "print(1e+1)  #1*10\n",
    "print(1e+2)  #1*100\n",
    "print(1e+3)  #1*1000"
   ]
  },
  {
   "cell_type": "code",
   "execution_count": 20,
   "id": "eab9b712-a6e3-4066-9229-ea32ee0a1fa5",
   "metadata": {},
   "outputs": [
    {
     "data": {
      "text/plain": [
       "(10.0, 100.0, 1000.0)"
      ]
     },
     "execution_count": 20,
     "metadata": {},
     "output_type": "execute_result"
    }
   ],
   "source": [
    "1e+1,1e+2,1e+3"
   ]
  },
  {
   "cell_type": "code",
   "execution_count": 21,
   "id": "f20c99a7-1da8-483f-b6c5-a960e9498186",
   "metadata": {},
   "outputs": [
    {
     "data": {
      "text/plain": [
       "(0.1, 0.01, 0.001)"
      ]
     },
     "execution_count": 21,
     "metadata": {},
     "output_type": "execute_result"
    }
   ],
   "source": [
    "print(1e-1)  #1/10\n",
    "print(1e-2)  #1/100\n",
    "print(1e-3)  #1/1000"
   ]
  },
  {
   "cell_type": "code",
   "execution_count": 24,
   "id": "9c0350db-74fe-4120-ad7e-bbc894825403",
   "metadata": {},
   "outputs": [
    {
     "name": "stdout",
     "output_type": "stream",
     "text": [
      "0.0001\n",
      "1e-05\n",
      "1e-06\n"
     ]
    }
   ],
   "source": [
    "print(1e-4)\n",
    "print(1e-5)\n",
    "print(1e-6)"
   ]
  },
  {
   "cell_type": "markdown",
   "id": "cf0a20db-b8d8-4475-b272-2735dd6a3a7f",
   "metadata": {},
   "source": [
    "**String**\n",
    "\n",
    "- String means English Characters"
   ]
  },
  {
   "cell_type": "code",
   "execution_count": 26,
   "id": "4be28465-c87b-404d-bada-15dd8287ca86",
   "metadata": {},
   "outputs": [
    {
     "data": {
      "text/plain": [
       "str"
      ]
     },
     "execution_count": 26,
     "metadata": {},
     "output_type": "execute_result"
    }
   ],
   "source": [
    "name=\"Python\"\n",
    "type(name)"
   ]
  },
  {
   "cell_type": "code",
   "execution_count": 27,
   "id": "84a0155f-58a0-4748-ba75-34ab1522ffb7",
   "metadata": {},
   "outputs": [
    {
     "data": {
      "text/plain": [
       "str"
      ]
     },
     "execution_count": 27,
     "metadata": {},
     "output_type": "execute_result"
    }
   ],
   "source": [
    "number='10'\n",
    "type(number)"
   ]
  },
  {
   "cell_type": "code",
   "execution_count": 28,
   "id": "1a16085b-ae64-459a-abb3-107c401e279d",
   "metadata": {},
   "outputs": [
    {
     "name": "stdout",
     "output_type": "stream",
     "text": [
      "Hello, I like 'python'\n"
     ]
    }
   ],
   "source": [
    "sen1=\"Hello, I like 'python'\"\n",
    "print(sen1)"
   ]
  },
  {
   "cell_type": "code",
   "execution_count": 46,
   "id": "638db96e-2388-4d75-9610-4dd7a3a5484d",
   "metadata": {},
   "outputs": [
    {
     "name": "stdout",
     "output_type": "stream",
     "text": [
      "Hello, My name is \"Riddhi\"\n"
     ]
    }
   ],
   "source": [
    "sen2='Hello, My name is \"Riddhi\"'\n",
    "print(sen1)"
   ]
  },
  {
   "cell_type": "markdown",
   "id": "5bc87d83-667c-4ec8-a411-b3011ed71003",
   "metadata": {},
   "source": [
    "- Entire sentence in single qutoe, then use double quote to highlight the word\n",
    "\n",
    "- Entire sentence in double quote, then use single quote to highlight the word"
   ]
  },
  {
   "cell_type": "code",
   "execution_count": 36,
   "id": "70a3e7ba-6afb-46b4-85f2-1b66245a6248",
   "metadata": {},
   "outputs": [
    {
     "data": {
      "text/plain": [
       "10"
      ]
     },
     "execution_count": 36,
     "metadata": {},
     "output_type": "execute_result"
    }
   ],
   "source": [
    "num1=10\n",
    "num1"
   ]
  },
  {
   "cell_type": "code",
   "execution_count": 38,
   "id": "a187e00d-d5fb-41fc-a82b-17bc062afb4b",
   "metadata": {},
   "outputs": [
    {
     "data": {
      "text/plain": [
       "10"
      ]
     },
     "execution_count": 38,
     "metadata": {},
     "output_type": "execute_result"
    }
   ],
   "source": [
    "num2=100\n",
    "num1"
   ]
  },
  {
   "cell_type": "code",
   "execution_count": 47,
   "id": "c2d9034b-b7c9-4111-b3d6-79125e0e4bdf",
   "metadata": {},
   "outputs": [
    {
     "name": "stdout",
     "output_type": "stream",
     "text": [
      "Riddhi 'Gajanan'\n"
     ]
    }
   ],
   "source": [
    "name=\"Riddhi 'Gajanan'\"\n",
    "print(name)"
   ]
  },
  {
   "cell_type": "code",
   "execution_count": 48,
   "id": "816f0e64-2fdf-4f07-8930-f82dd9f02ff4",
   "metadata": {},
   "outputs": [
    {
     "name": "stdout",
     "output_type": "stream",
     "text": [
      "Riddhi 'Gajanan'\n"
     ]
    }
   ],
   "source": [
    "surname=\"urkude\"\n",
    "print(name)"
   ]
  },
  {
   "cell_type": "code",
   "execution_count": 49,
   "id": "2dd5b194-15b6-43a7-97f1-b9a26111106b",
   "metadata": {},
   "outputs": [
    {
     "name": "stdout",
     "output_type": "stream",
     "text": [
      "urkude\n"
     ]
    }
   ],
   "source": [
    "print(surname)"
   ]
  },
  {
   "cell_type": "code",
   "execution_count": 50,
   "id": "7123614d-b59b-49ab-8569-d1deaad1b034",
   "metadata": {},
   "outputs": [
    {
     "name": "stdout",
     "output_type": "stream",
     "text": [
      "Hey, what's your 'name'\n"
     ]
    }
   ],
   "source": [
    "person1=\"Hey, what's your 'name'\"\n",
    "print(person1)"
   ]
  },
  {
   "cell_type": "code",
   "execution_count": 52,
   "id": "234c5f2b-fcb1-449f-8af6-974fdd9246fb",
   "metadata": {},
   "outputs": [
    {
     "name": "stdout",
     "output_type": "stream",
     "text": [
      "Hey, what's your 'name'\n"
     ]
    }
   ],
   "source": [
    "person2='Hey, My name is \"Riddhi\"'\n",
    "print(person1)"
   ]
  },
  {
   "cell_type": "code",
   "execution_count": 53,
   "id": "cd75a583-0ce7-4f1c-af53-5e22a8ba50ab",
   "metadata": {},
   "outputs": [
    {
     "data": {
      "text/plain": [
       "'Python'"
      ]
     },
     "execution_count": 53,
     "metadata": {},
     "output_type": "execute_result"
    }
   ],
   "source": [
    "name=\"Python\"\n",
    "name"
   ]
  },
  {
   "cell_type": "code",
   "execution_count": 54,
   "id": "18e37874-4f00-49b0-b09b-2f90c4c6bf28",
   "metadata": {},
   "outputs": [
    {
     "name": "stdout",
     "output_type": "stream",
     "text": [
      "Python\n"
     ]
    }
   ],
   "source": [
    "print(name)"
   ]
  },
  {
   "cell_type": "code",
   "execution_count": 55,
   "id": "913cab99-1993-4a01-b5ed-237b245614d7",
   "metadata": {},
   "outputs": [
    {
     "data": {
      "text/plain": [
       "'Python'"
      ]
     },
     "execution_count": 55,
     "metadata": {},
     "output_type": "execute_result"
    }
   ],
   "source": [
    "name1='Python'\n",
    "name2='Java'\n",
    "name2\n",
    "name1"
   ]
  },
  {
   "cell_type": "code",
   "execution_count": 56,
   "id": "945efac4-dd1b-47a9-9439-a444278fd757",
   "metadata": {},
   "outputs": [
    {
     "name": "stdout",
     "output_type": "stream",
     "text": [
      "Java\n",
      "Python\n"
     ]
    }
   ],
   "source": [
    "name1='Python'\n",
    "name2='Java'\n",
    "print(name2)\n",
    "print(name1)"
   ]
  },
  {
   "cell_type": "code",
   "execution_count": 59,
   "id": "8a9274db-f283-40b4-8fa7-001488f58347",
   "metadata": {},
   "outputs": [
    {
     "name": "stdout",
     "output_type": "stream",
     "text": [
      "Hello Good Morning\n",
      "How are you\n"
     ]
    }
   ],
   "source": [
    "print('Hello Good Morning')\n",
    "print('How are you')"
   ]
  },
  {
   "cell_type": "code",
   "execution_count": 62,
   "id": "d4343d87-16bd-4167-b2a0-b5e69ff66f52",
   "metadata": {},
   "outputs": [
    {
     "name": "stdout",
     "output_type": "stream",
     "text": [
      "Hello, I like 'python'\n",
      "              Hi, Good Morning\n",
      "              Today's class is data types\n"
     ]
    }
   ],
   "source": [
    "statement=\"\"\"Hello, I like 'python'\n",
    "              Hi, Good Morning\n",
    "              Today's class is data types\"\"\"\n",
    "print(statement)"
   ]
  },
  {
   "cell_type": "code",
   "execution_count": 64,
   "id": "c866a18c-8f59-47f6-9981-ce640cdc0632",
   "metadata": {},
   "outputs": [
    {
     "name": "stdout",
     "output_type": "stream",
     "text": [
      "Hello, I like 'python'\n"
     ]
    }
   ],
   "source": [
    "sen1=\"Hello, I like 'python'\"\n",
    "print(sen1)"
   ]
  },
  {
   "cell_type": "code",
   "execution_count": 68,
   "id": "57449dcf-7181-4c5e-a50f-865a2ba604b1",
   "metadata": {},
   "outputs": [
    {
     "name": "stdout",
     "output_type": "stream",
     "text": [
      "Hello, I like 'python'\n"
     ]
    }
   ],
   "source": [
    "sen2='Hello, My name is \"Riddhi\"'\n",
    "print(sen1)"
   ]
  },
  {
   "cell_type": "markdown",
   "id": "3d8811ec-798b-46ed-a782-7b0dc47f77d7",
   "metadata": {},
   "source": [
    "**Doc String**\n",
    "\n",
    "- If we want to convey information to the user\n",
    "\n",
    "- we will write the statements before coding part\n",
    "\n",
    "- is called as Doc String\n",
    "\n",
    "- In jupyter notebook to convey information we have **markdown** mode\n",
    "\n",
    "- But in VS code we don't have a markdown option\n",
    "\n",
    "- we convey the information by using **triple quotes**\n",
    "\n",
    "- If we see anywhere triple quotes means the user is trying to convey some information"
   ]
  },
  {
   "cell_type": "markdown",
   "id": "721a933f-178d-4a93-a6ae-32a78989e793",
   "metadata": {},
   "source": [
    "**Boolean**"
   ]
  },
  {
   "cell_type": "code",
   "execution_count": 70,
   "id": "cabb982f-4ec3-4caa-86df-019a4cf0b2a2",
   "metadata": {},
   "outputs": [
    {
     "data": {
      "text/plain": [
       "bool"
      ]
     },
     "execution_count": 70,
     "metadata": {},
     "output_type": "execute_result"
    }
   ],
   "source": [
    "value=True\n",
    "type(value)"
   ]
  },
  {
   "cell_type": "code",
   "execution_count": 71,
   "id": "5cf76ef6-c07a-4b06-ae2d-09db9f77bc89",
   "metadata": {},
   "outputs": [
    {
     "data": {
      "text/plain": [
       "bool"
      ]
     },
     "execution_count": 71,
     "metadata": {},
     "output_type": "execute_result"
    }
   ],
   "source": [
    "value=False\n",
    "type(value)"
   ]
  },
  {
   "cell_type": "code",
   "execution_count": null,
   "id": "d0e50b00-196b-45f6-aa13-e5da4cf93f64",
   "metadata": {},
   "outputs": [],
   "source": []
  }
 ],
 "metadata": {
  "kernelspec": {
   "display_name": "Python 3 (ipykernel)",
   "language": "python",
   "name": "python3"
  },
  "language_info": {
   "codemirror_mode": {
    "name": "ipython",
    "version": 3
   },
   "file_extension": ".py",
   "mimetype": "text/x-python",
   "name": "python",
   "nbconvert_exporter": "python",
   "pygments_lexer": "ipython3",
   "version": "3.12.7"
  }
 },
 "nbformat": 4,
 "nbformat_minor": 5
}
