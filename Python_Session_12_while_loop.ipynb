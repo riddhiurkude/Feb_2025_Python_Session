{
 "cells": [
  {
   "cell_type": "markdown",
   "id": "3ff26399-9319-4110-8c2b-e33475d00989",
   "metadata": {},
   "source": [
    "**while loop**\n",
    "\n",
    "- Intialization\n",
    "- Increment or decrement\n",
    "- condition to stop\n",
    "\n",
    "- in the for loop all the above 3 will happen in a single statement"
   ]
  },
  {
   "cell_type": "code",
   "execution_count": 1,
   "id": "044ac483-7587-467b-b897-cbe2dfa02436",
   "metadata": {},
   "outputs": [
    {
     "name": "stdout",
     "output_type": "stream",
     "text": [
      "2 4 6 8 10 12 14 16 18 "
     ]
    }
   ],
   "source": [
    "for i in range(2,20,2):\n",
    "    print(i, end=' ')"
   ]
  },
  {
   "cell_type": "markdown",
   "id": "d4842393-2890-4594-9d06-819e169256e2",
   "metadata": {},
   "source": [
    "- but in while loop all 3 are happend in each line"
   ]
  },
  {
   "cell_type": "code",
   "execution_count": null,
   "id": "879c7a3f-6f59-4a78-8ce0-2a8a22f39a1a",
   "metadata": {},
   "outputs": [],
   "source": [
    "#syntax\n",
    "\n",
    "<intial value>\n",
    "<condition>\n",
    "    <write your code>\n",
    "    <increment or decrement>\n",
    "\n",
    "<intial value>\n",
    "while <condition>:\n",
    "    <write your code>\n",
    "    <increment or decrement>\n",
    "\n",
    "#we need to write a condition\n",
    "#while should give entry inside the loop\n",
    "#after some time whenever the condition satisfies\n",
    "#the code should stop"
   ]
  },
  {
   "cell_type": "code",
   "execution_count": null,
   "id": "922390f3-bcfe-4d42-933b-ea8f1a26fcdc",
   "metadata": {},
   "outputs": [],
   "source": [
    "#infinte loop condition\n",
    "i=2\n",
    "while i>=2:\n",
    "    print(i, end=' ')\n",
    "    i=i+2\n",
    "\n",
    "#step-1: i=2 while 2>=2 T print(2) i=2+2=4\n",
    "#step-2: i=4 while 4>=2 T print(4) i=4+2=6\n",
    "#step-3: i=6 while 6>=2 T print(6) i=6+2=8\n",
    "#\n",
    "#\n",
    "# infinite"
   ]
  },
  {
   "cell_type": "code",
   "execution_count": 3,
   "id": "f2e4ff03-0a79-4bca-9167-e934063d6ba9",
   "metadata": {},
   "outputs": [
    {
     "name": "stdout",
     "output_type": "stream",
     "text": [
      "2 4 6 8 10 12 14 16 18 "
     ]
    }
   ],
   "source": [
    "i=2\n",
    "while i<=18:\n",
    "    print(i, end=' ')\n",
    "    i=i+2\n",
    "\n",
    "#step-1: i=2 while 2<=18 T print(2) i=2+2=4\n",
    "#step-2: i=4 while 4<=18 T print(4) i=4+2=6\n",
    "#step-3: i=6 while 6<=18 T print(6) i=6+2=8\n",
    "#\n",
    "#\n",
    "#step-: i=16 while 16<=18 T print(16) i=16+2=18\n",
    "#step-: i=18 while 18<=18 T print(18) i=18+2=20\n",
    "#step-: i=20 while 20<=18 F"
   ]
  },
  {
   "cell_type": "code",
   "execution_count": 4,
   "id": "cdaf6c16-01fd-4435-9eee-4d5b0f989b5d",
   "metadata": {},
   "outputs": [
    {
     "name": "stdout",
     "output_type": "stream",
     "text": [
      "2 4 6 8 10 12 14 16 "
     ]
    }
   ],
   "source": [
    "i=2\n",
    "while i<18:\n",
    "    print(i, end=' ')\n",
    "    i=i+2"
   ]
  },
  {
   "cell_type": "code",
   "execution_count": 5,
   "id": "ebee4540-6bd2-4bbc-ae17-5e29dda05868",
   "metadata": {},
   "outputs": [
    {
     "name": "stdout",
     "output_type": "stream",
     "text": [
      "2 4 6 8 10 12 14 16 "
     ]
    }
   ],
   "source": [
    "i=2\n",
    "while i!=18:\n",
    "    print(i, end=' ')\n",
    "    i=i+2"
   ]
  },
  {
   "cell_type": "code",
   "execution_count": 6,
   "id": "3204836e-7970-4bcd-9edb-809c63fcfa5d",
   "metadata": {},
   "outputs": [
    {
     "name": "stdout",
     "output_type": "stream",
     "text": [
      "10 9 8 7 6 5 4 3 2 1 "
     ]
    }
   ],
   "source": [
    "for i in range(10,0,-1):\n",
    "    print(i, end=' ')"
   ]
  },
  {
   "cell_type": "code",
   "execution_count": 8,
   "id": "5dfbc944-9d2a-48e2-bc7e-6251bce0bd44",
   "metadata": {},
   "outputs": [
    {
     "name": "stdout",
     "output_type": "stream",
     "text": [
      "10 9 8 7 6 5 4 3 2 1 "
     ]
    }
   ],
   "source": [
    "i=10\n",
    "while i>=1:\n",
    "    print(i, end=' ')\n",
    "    i=i-1\n",
    "\n",
    "#step-1: i=10 while 10>=1 T print(10) i=10-1=9\n",
    "#step-2: i=9 while 9>=1 T print(9) i=9-1=8\n",
    "#step-3: i=8 while 8>=1 T print(8) i=8-1=7\n",
    "#\n",
    "#\n",
    "#step-: i=2 while 2>=1 T print(2) i=2-1=1\n",
    "#step-: i=1 while 1>=1 T print(1) i=1-1=0\n",
    "#step-: i=0 while 0>=1 F"
   ]
  },
  {
   "cell_type": "code",
   "execution_count": 9,
   "id": "70623832-3a7d-4745-9e76-29f20499b66c",
   "metadata": {},
   "outputs": [
    {
     "name": "stdout",
     "output_type": "stream",
     "text": [
      "-10 -9 -8 -7 -6 -5 -4 -3 -2 -1 "
     ]
    }
   ],
   "source": [
    "for i in range(-10,0,1):\n",
    "    print(i, end=' ')"
   ]
  },
  {
   "cell_type": "code",
   "execution_count": 11,
   "id": "de8673a7-40a9-4e13-b249-50c5134bb822",
   "metadata": {},
   "outputs": [
    {
     "name": "stdout",
     "output_type": "stream",
     "text": [
      "-10 -9 -8 -7 -6 -5 -4 -3 -2 -1 "
     ]
    }
   ],
   "source": [
    "i=-10\n",
    "while i<=-1:\n",
    "    print(i, end=' ')\n",
    "    i=i+1\n",
    "\n",
    "#step-1: i=-10 while -10<=-1 T print(-10) i=-10+1=-9\n",
    "#step-2: i=-9 while -9<=-1 T print(-9) i=-9+1=-8\n",
    "#step-3: i=-8 while -8<=-1 T print(-8) i=-8+1=-7\n",
    "#\n",
    "#\n",
    "#step-: i=-2 while -2<=-1 T print(-2) i=-2+1=-1\n",
    "#step-: i=-1 while -1<=-1 T print(-1) i=-1+1=0\n",
    "#step: i=0 while 0<=-1 F"
   ]
  },
  {
   "cell_type": "code",
   "execution_count": 12,
   "id": "c4b4a346-442d-45ac-b396-e391dc0b1442",
   "metadata": {},
   "outputs": [
    {
     "name": "stdout",
     "output_type": "stream",
     "text": [
      "-1 -2 -3 -4 -5 -6 -7 -8 -9 -10 "
     ]
    }
   ],
   "source": [
    "for i in range(-1,-11,-1):\n",
    "    print(i, end=' ')"
   ]
  },
  {
   "cell_type": "code",
   "execution_count": 14,
   "id": "484208d8-34cd-471c-8eb7-d3cb0c1a5fe8",
   "metadata": {},
   "outputs": [
    {
     "name": "stdout",
     "output_type": "stream",
     "text": [
      "-1 -2 -3 -4 -5 -6 -7 -8 -9 -10 "
     ]
    }
   ],
   "source": [
    "i=-1\n",
    "while i>=-10:\n",
    "    print(i, end=' ')\n",
    "    i=i-1\n",
    "\n",
    "#step-1: i=-1 while -1>=-10 T print(-1) i=-1-1=-2\n",
    "#step-2: i=-2 while -2>=-10 T print(-2) i=-2-1=-3\n",
    "#step-3: i=-3 while -3>=-10 T print(-3) i=-3-1=-4\n",
    "#\n",
    "#\n",
    "#step-: i=-9 while -9>=-10 T print(-9) i=-9-1=-10\n",
    "#step-: i=-10 while -10>=-10 T print(-10) i=-10-1=-11\n",
    "#step-: i=-11 while -11>=-10 "
   ]
  },
  {
   "cell_type": "markdown",
   "id": "420eb3cb-31e7-41f1-8508-dc902a5ef330",
   "metadata": {},
   "source": [
    "**True**\n",
    "\n",
    "- True is condition always give a permission to enter inside the loop\n",
    "\n",
    "- some time we cannot fix the condition to enter inside the loop\n",
    "\n",
    "- but we know stop condition"
   ]
  },
  {
   "cell_type": "code",
   "execution_count": 15,
   "id": "87cd434e-5d3c-4a33-b859-3ea2dd11d35e",
   "metadata": {},
   "outputs": [
    {
     "name": "stdout",
     "output_type": "stream",
     "text": [
      "2 4 6 8 10 12 14 16 18 "
     ]
    }
   ],
   "source": [
    "i=2\n",
    "while True:\n",
    "    print(i, end=' ')\n",
    "    i=i+2\n",
    "    if i==20:\n",
    "        break"
   ]
  },
  {
   "cell_type": "code",
   "execution_count": 17,
   "id": "80c26079-fd61-4a6a-a22f-2112be785e37",
   "metadata": {},
   "outputs": [
    {
     "name": "stdout",
     "output_type": "stream",
     "text": [
      "-1 -2 -3 -4 -5 -6 -7 -8 -9 -10 "
     ]
    }
   ],
   "source": [
    "i=-1\n",
    "while True:\n",
    "    print(i, end=' ')\n",
    "    i=i-1\n",
    "    if i==-11:\n",
    "        break"
   ]
  },
  {
   "cell_type": "code",
   "execution_count": 18,
   "id": "1cfb107b-c4da-4de9-9d20-bf734b0a9906",
   "metadata": {},
   "outputs": [
    {
     "name": "stdout",
     "output_type": "stream",
     "text": [
      "-10 -9 -8 -7 -6 -5 -4 -3 -2 -1 "
     ]
    }
   ],
   "source": [
    "i=-10\n",
    "while True:\n",
    "    print(i, end=' ')\n",
    "    i=i+1\n",
    "    if i==0:\n",
    "        break"
   ]
  },
  {
   "cell_type": "code",
   "execution_count": 19,
   "id": "8fefde3c-bb6d-444e-8786-381b88303a08",
   "metadata": {},
   "outputs": [
    {
     "name": "stdout",
     "output_type": "stream",
     "text": [
      "10 9 8 7 6 5 4 3 2 1 "
     ]
    }
   ],
   "source": [
    "i=10\n",
    "while True:\n",
    "    print(i, end=' ')\n",
    "    i=i-1\n",
    "    if i==0:\n",
    "        break"
   ]
  },
  {
   "cell_type": "code",
   "execution_count": 20,
   "id": "b4593938-0115-492c-9f97-9400d097e22c",
   "metadata": {},
   "outputs": [
    {
     "name": "stdout",
     "output_type": "stream",
     "text": [
      "2 4 6 8 10 12 14 "
     ]
    }
   ],
   "source": [
    "i=2\n",
    "while True:\n",
    "    print(i, end=' ')\n",
    "    i=i+2\n",
    "    if i==16:\n",
    "        break"
   ]
  },
  {
   "cell_type": "markdown",
   "id": "a30cd780-71d5-4b2c-9596-cd0ae09747ff",
   "metadata": {},
   "source": [
    "**when to use while and for**\n",
    "\n",
    "- if we observe for loop **start,stop,step**\n",
    "\n",
    "- there is no infinite loop situation here\n",
    "\n",
    "- if we want to give infinite loop situation\n",
    "    -based on correct value we want to stop the loop then we go for while loop"
   ]
  },
  {
   "cell_type": "code",
   "execution_count": 35,
   "id": "29565e07-a2ea-4328-a09d-275adecf3749",
   "metadata": {},
   "outputs": [
    {
     "name": "stdout",
     "output_type": "stream",
     "text": [
      "2\n"
     ]
    },
    {
     "name": "stdin",
     "output_type": "stream",
     "text": [
      "Enter a number:  5\n"
     ]
    },
    {
     "name": "stdout",
     "output_type": "stream",
     "text": [
      "lost\n",
      "9\n"
     ]
    },
    {
     "name": "stdin",
     "output_type": "stream",
     "text": [
      "Enter a number:  6\n"
     ]
    },
    {
     "name": "stdout",
     "output_type": "stream",
     "text": [
      "lost\n",
      "9\n"
     ]
    },
    {
     "name": "stdin",
     "output_type": "stream",
     "text": [
      "Enter a number:  5\n"
     ]
    },
    {
     "name": "stdout",
     "output_type": "stream",
     "text": [
      "lost\n",
      "10\n"
     ]
    },
    {
     "name": "stdin",
     "output_type": "stream",
     "text": [
      "Enter a number:  5\n"
     ]
    },
    {
     "name": "stdout",
     "output_type": "stream",
     "text": [
      "lost\n",
      "5\n"
     ]
    },
    {
     "name": "stdin",
     "output_type": "stream",
     "text": [
      "Enter a number:  5\n"
     ]
    },
    {
     "name": "stdout",
     "output_type": "stream",
     "text": [
      "won\n"
     ]
    }
   ],
   "source": [
    "#wap ask the user get a number randomly\n",
    "#ask the user enter a number\n",
    "#if both are match print won\n",
    "#otherwise lost\n",
    "#give infinite chances\n",
    "#the loop will stop when both values are matched\n",
    "\n",
    "import random\n",
    "while True:\n",
    "    n1=random.randint(1,10)\n",
    "    print(n1)\n",
    "    n2=eval(input('Enter a number: '))\n",
    "    if n1==n2:\n",
    "        print('won')\n",
    "        break\n",
    "    else:\n",
    "        print('lost')"
   ]
  },
  {
   "cell_type": "code",
   "execution_count": null,
   "id": "758e908c-6a7e-438a-ad54-2df48aebad43",
   "metadata": {},
   "outputs": [],
   "source": []
  }
 ],
 "metadata": {
  "kernelspec": {
   "display_name": "Python 3 (ipykernel)",
   "language": "python",
   "name": "python3"
  },
  "language_info": {
   "codemirror_mode": {
    "name": "ipython",
    "version": 3
   },
   "file_extension": ".py",
   "mimetype": "text/x-python",
   "name": "python",
   "nbconvert_exporter": "python",
   "pygments_lexer": "ipython3",
   "version": "3.12.7"
  }
 },
 "nbformat": 4,
 "nbformat_minor": 5
}
