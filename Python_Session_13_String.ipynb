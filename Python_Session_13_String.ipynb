{
 "cells": [
  {
   "cell_type": "markdown",
   "id": "d69c9181-b372-4647-90b1-bb02b2c9a73b",
   "metadata": {},
   "source": [
    "- String\n",
    "\n",
    "- List\n",
    "\n",
    "- Dictionary\n",
    "\n",
    "- Set operation\n",
    "\n",
    "- List comprehension\n",
    "\n",
    "- Lambda function\n",
    "\n",
    "- File handling"
   ]
  },
  {
   "cell_type": "markdown",
   "id": "cfb8effd-0490-4ecf-9639-0da7b73080ac",
   "metadata": {},
   "source": [
    "**Strings**\n",
    "\n",
    "=================== PART-1 ===================\n",
    "\n",
    "- How to intialize the strings\n",
    "\n",
    "- in built functions\n",
    "    - type\n",
    "    - print\n",
    "    - len\n",
    "    - max\n",
    "    - min\n",
    "    - reversed\n",
    "    - sorted\n",
    "\n",
    "- index operation\n",
    "\n",
    "- concatenation\n",
    "\n",
    "- mutable vs immutable\n",
    "\n",
    "- slicing\n",
    "\n",
    "=================== PART-2 ===================\n",
    "\n",
    "- string methods"
   ]
  },
  {
   "cell_type": "markdown",
   "id": "4fca5f64-0d3c-44e7-9f80-a6be3302a067",
   "metadata": {},
   "source": [
    "**Intialization**\n",
    "\n",
    "- String represent with single quote\n",
    "\n",
    "- String represent with double quote\n",
    "\n",
    "- String represent with triple quote\n",
    "\n",
    "- when you print a string, the output show as without quotes\n",
    "\n",
    "- A string represent with triple quotes : **doc string**\n",
    "\n",
    "- If you want to highlight any word in entire string\n",
    "    - provide the entire string in double quote and highlight the word with single quote or vice-versa"
   ]
  },
  {
   "cell_type": "code",
   "execution_count": 1,
   "id": "22fc762b-3b2b-480e-88ea-b4d26ae3b245",
   "metadata": {},
   "outputs": [],
   "source": [
    "str1='python'"
   ]
  },
  {
   "cell_type": "code",
   "execution_count": 2,
   "id": "bd64af79-8b4e-482e-9f1f-3f3adf019650",
   "metadata": {},
   "outputs": [
    {
     "data": {
      "text/plain": [
       "str"
      ]
     },
     "execution_count": 2,
     "metadata": {},
     "output_type": "execute_result"
    }
   ],
   "source": [
    "type(str1)"
   ]
  },
  {
   "cell_type": "code",
   "execution_count": 3,
   "id": "010290b7-5f05-48c2-97b5-bf0b2c5d20fc",
   "metadata": {},
   "outputs": [
    {
     "data": {
      "text/plain": [
       "'python'"
      ]
     },
     "execution_count": 3,
     "metadata": {},
     "output_type": "execute_result"
    }
   ],
   "source": [
    "str2=\"python\"\n",
    "str2"
   ]
  },
  {
   "cell_type": "code",
   "execution_count": 4,
   "id": "39a4e42c-bfee-4dc3-bbd8-98361aaed5c1",
   "metadata": {},
   "outputs": [
    {
     "data": {
      "text/plain": [
       "str"
      ]
     },
     "execution_count": 4,
     "metadata": {},
     "output_type": "execute_result"
    }
   ],
   "source": [
    "type(str2)"
   ]
  },
  {
   "cell_type": "markdown",
   "id": "f1f85af3-1ccc-476d-bb06-e457fd989acd",
   "metadata": {},
   "source": [
    "**doc string**"
   ]
  },
  {
   "cell_type": "code",
   "execution_count": 5,
   "id": "884263f0-bf4a-48fe-b0fd-da7fe8721963",
   "metadata": {},
   "outputs": [
    {
     "name": "stdout",
     "output_type": "stream",
     "text": [
      "hello python\n",
      "    many students not coming to lab \n",
      "    today come to their dreams\n"
     ]
    }
   ],
   "source": [
    "str3=\"\"\"hello python\n",
    "    many students not coming to lab \n",
    "    today come to their dreams\"\"\"\n",
    "print(str3)"
   ]
  },
  {
   "cell_type": "code",
   "execution_count": 6,
   "id": "4f6a6c43-283d-46c5-bd09-58f848ebcc90",
   "metadata": {},
   "outputs": [
    {
     "name": "stdout",
     "output_type": "stream",
     "text": [
      "hello python\n",
      "many students not coming to lab \n",
      "today come to their dreams\n"
     ]
    }
   ],
   "source": [
    "str3=\"\"\"hello python\n",
    "many students not coming to lab \n",
    "today come to their dreams\"\"\"\n",
    "print(str3)"
   ]
  },
  {
   "cell_type": "code",
   "execution_count": 7,
   "id": "677ab0aa-8db1-4822-913c-4a47e8adaf28",
   "metadata": {},
   "outputs": [
    {
     "data": {
      "text/plain": [
       "\"I like 'python'\""
      ]
     },
     "execution_count": 7,
     "metadata": {},
     "output_type": "execute_result"
    }
   ],
   "source": [
    "str4=\"I like 'python'\"\n",
    "str4"
   ]
  },
  {
   "cell_type": "code",
   "execution_count": 9,
   "id": "422617c9-557c-43a9-bf82-ebf1290c3f88",
   "metadata": {},
   "outputs": [
    {
     "name": "stdout",
     "output_type": "stream",
     "text": [
      "I like 'python'\n"
     ]
    }
   ],
   "source": [
    "print(str4)"
   ]
  },
  {
   "cell_type": "code",
   "execution_count": 8,
   "id": "4952eaff-3173-43f5-97e0-e91461d44499",
   "metadata": {},
   "outputs": [
    {
     "data": {
      "text/plain": [
       "'I like \"python\"'"
      ]
     },
     "execution_count": 8,
     "metadata": {},
     "output_type": "execute_result"
    }
   ],
   "source": [
    "str5='I like \"python\"'\n",
    "str5"
   ]
  },
  {
   "cell_type": "code",
   "execution_count": 10,
   "id": "89a5890c-aec2-435d-8aea-edf406d1b15c",
   "metadata": {},
   "outputs": [
    {
     "name": "stdout",
     "output_type": "stream",
     "text": [
      "I like \"python\"\n"
     ]
    }
   ],
   "source": [
    "print(str5)"
   ]
  },
  {
   "cell_type": "markdown",
   "id": "994bf42d-7152-4b58-bfb9-43d573639f26",
   "metadata": {},
   "source": [
    "**some inbuilt keywords**\n",
    "\n",
    "- min()\n",
    "- max()\n",
    "- len()\n",
    "- print()\n",
    "- type()\n",
    "- reversed()\n",
    "- sorted()"
   ]
  },
  {
   "cell_type": "code",
   "execution_count": 14,
   "id": "7be08d9c-2be2-4363-99c0-26f1a25fcf9a",
   "metadata": {},
   "outputs": [
    {
     "data": {
      "text/plain": [
       "'y'"
      ]
     },
     "execution_count": 14,
     "metadata": {},
     "output_type": "execute_result"
    }
   ],
   "source": [
    "max('python')"
   ]
  },
  {
   "cell_type": "code",
   "execution_count": 24,
   "id": "4c1a70a6-2daf-4f36-844c-5de97e32b9d8",
   "metadata": {},
   "outputs": [
    {
     "name": "stdout",
     "output_type": "stream",
     "text": [
      "p 112\n",
      "y 121\n",
      "t 116\n",
      "h 104\n",
      "o 111\n",
      "n 110\n",
      "  32\n"
     ]
    }
   ],
   "source": [
    "str6='python '\n",
    "for i in str6:\n",
    "    print(i, ord(i))"
   ]
  },
  {
   "cell_type": "code",
   "execution_count": null,
   "id": "fd2c8020-ab04-473d-bfd5-5926c1a20b54",
   "metadata": {},
   "outputs": [],
   "source": [
    "max = 121 ---> 'y'\n",
    "min = 32  ---> ' '\n",
    "\n",
    " 32 104 110 111 112 116 121\n",
    "' '  h   n   o   p   t   y  (ascending order)"
   ]
  },
  {
   "cell_type": "code",
   "execution_count": 13,
   "id": "4986c596-14e3-4d11-b418-cf756284cd03",
   "metadata": {},
   "outputs": [
    {
     "data": {
      "text/plain": [
       "'h'"
      ]
     },
     "execution_count": 13,
     "metadata": {},
     "output_type": "execute_result"
    }
   ],
   "source": [
    "min('python')"
   ]
  },
  {
   "cell_type": "code",
   "execution_count": 1,
   "id": "fc80dea8-2f23-43cf-ae0d-dc05bcad2136",
   "metadata": {},
   "outputs": [
    {
     "data": {
      "text/plain": [
       "32"
      ]
     },
     "execution_count": 1,
     "metadata": {},
     "output_type": "execute_result"
    }
   ],
   "source": [
    "len('python is a programming language')"
   ]
  },
  {
   "cell_type": "code",
   "execution_count": 25,
   "id": "e390cdb9-9f7d-4d48-8582-5b0246b418ac",
   "metadata": {},
   "outputs": [
    {
     "data": {
      "text/plain": [
       "0"
      ]
     },
     "execution_count": 25,
     "metadata": {},
     "output_type": "execute_result"
    }
   ],
   "source": [
    "str7=''\n",
    "len(str7)"
   ]
  },
  {
   "cell_type": "code",
   "execution_count": 26,
   "id": "155da1ae-0932-4b39-ae15-90f1134c60b5",
   "metadata": {},
   "outputs": [
    {
     "data": {
      "text/plain": [
       "1"
      ]
     },
     "execution_count": 26,
     "metadata": {},
     "output_type": "execute_result"
    }
   ],
   "source": [
    "str8=' '\n",
    "len(str8)"
   ]
  },
  {
   "cell_type": "code",
   "execution_count": 27,
   "id": "e596dd07-a16e-429e-a291-a762695cd2c8",
   "metadata": {},
   "outputs": [
    {
     "data": {
      "text/plain": [
       "2"
      ]
     },
     "execution_count": 27,
     "metadata": {},
     "output_type": "execute_result"
    }
   ],
   "source": [
    "str9='  '\n",
    "len(str9)"
   ]
  },
  {
   "cell_type": "code",
   "execution_count": 28,
   "id": "21994ae2-1b80-4a1b-8d77-e9c32aacdf55",
   "metadata": {},
   "outputs": [
    {
     "name": "stdout",
     "output_type": "stream",
     "text": [
      " \n"
     ]
    }
   ],
   "source": [
    "print(str8)"
   ]
  },
  {
   "cell_type": "code",
   "execution_count": 16,
   "id": "de804e1c-bb2b-4a00-8236-770c77bac22d",
   "metadata": {},
   "outputs": [
    {
     "name": "stdout",
     "output_type": "stream",
     "text": [
      "python\n"
     ]
    }
   ],
   "source": [
    "print('python')"
   ]
  },
  {
   "cell_type": "code",
   "execution_count": 29,
   "id": "922655ce-e8ec-4859-9851-00661551ac8c",
   "metadata": {},
   "outputs": [
    {
     "name": "stdout",
     "output_type": "stream",
     "text": [
      "python\n",
      " python\n"
     ]
    }
   ],
   "source": [
    "print('python')\n",
    "print(' python')"
   ]
  },
  {
   "cell_type": "code",
   "execution_count": 17,
   "id": "b5a7fdfb-2087-4391-9434-99a89d843bbc",
   "metadata": {},
   "outputs": [
    {
     "data": {
      "text/plain": [
       "str"
      ]
     },
     "execution_count": 17,
     "metadata": {},
     "output_type": "execute_result"
    }
   ],
   "source": [
    "type('python')"
   ]
  },
  {
   "cell_type": "code",
   "execution_count": 18,
   "id": "7bab8f6c-55d9-4700-b206-f111ab7d0fb9",
   "metadata": {},
   "outputs": [
    {
     "data": {
      "text/plain": [
       "<reversed at 0x1f0eb46b640>"
      ]
     },
     "execution_count": 18,
     "metadata": {},
     "output_type": "execute_result"
    }
   ],
   "source": [
    "reversed('python')"
   ]
  },
  {
   "cell_type": "code",
   "execution_count": 19,
   "id": "bd4f21be-4787-48d2-b815-a9cae8cc97f9",
   "metadata": {},
   "outputs": [
    {
     "data": {
      "text/plain": [
       "['h', 'n', 'o', 'p', 't', 'y']"
      ]
     },
     "execution_count": 19,
     "metadata": {},
     "output_type": "execute_result"
    }
   ],
   "source": [
    "sorted('python')"
   ]
  },
  {
   "cell_type": "markdown",
   "id": "a0235642-4171-4c19-b237-72200fd232ab",
   "metadata": {},
   "source": [
    "**sorted**\n",
    "\n",
    "- Sorted means sorting the letters based on ascii number\n",
    "\n",
    "- there are two possible sorting available:\n",
    "    - ascending : small to high\n",
    "    - descending : high to small"
   ]
  },
  {
   "cell_type": "code",
   "execution_count": 32,
   "id": "3e985f1e-94c1-45ea-8437-91891dd53646",
   "metadata": {},
   "outputs": [
    {
     "data": {
      "text/plain": [
       "['h', 'n', 'o', 'p', 't', 'y']"
      ]
     },
     "execution_count": 32,
     "metadata": {},
     "output_type": "execute_result"
    }
   ],
   "source": [
    "str10='python'\n",
    "sorted(str10) #by default ascending order"
   ]
  },
  {
   "cell_type": "markdown",
   "id": "cf144df8-d116-43fb-9831-9356c943d4fe",
   "metadata": {},
   "source": [
    "- when you apply the shift tab\n",
    "\n",
    "- there is some arguments will be available\n",
    "\n",
    "- focus on two arguments\n",
    "    - iterable\n",
    "    - reverse = False\n",
    "\n",
    "- because reverse is a default argument by default ascending order is coming\n",
    "\n",
    "- if you want to change the order then change the default parameter value"
   ]
  },
  {
   "cell_type": "code",
   "execution_count": 33,
   "id": "93b5e7d0-9a51-4f8d-bdc5-c60be3404276",
   "metadata": {},
   "outputs": [
    {
     "data": {
      "text/plain": [
       "['y', 't', 'p', 'o', 'n', 'h']"
      ]
     },
     "execution_count": 33,
     "metadata": {},
     "output_type": "execute_result"
    }
   ],
   "source": [
    "sorted(str1, reverse=True)"
   ]
  },
  {
   "cell_type": "code",
   "execution_count": null,
   "id": "c367ca2a-7d4f-44ef-8804-84dd20661ef4",
   "metadata": {},
   "outputs": [],
   "source": [
    "sorted(iterable=str1, reverse=False)  #F\n",
    "sorted(iterable=str1, False)  #F\n",
    "sorted(str1, False)  #F\n",
    "sorted(str1, reverse=True)  #Working"
   ]
  },
  {
   "cell_type": "markdown",
   "id": "9e37bd9c-703b-42be-ad3f-37013896e7eb",
   "metadata": {},
   "source": [
    "- we should not allowed to use iterable argumnet name while provide the value\n",
    "\n",
    "- we should use the argument names while provide the value after '/'\n",
    "\n",
    "- we should not use the argument names befor '/'\n",
    "    - iterable argument name is there before '/'\n",
    "    - so do not iterable name\n",
    "\n",
    "- any function indicates * means\n",
    "\n",
    "- you can use any variable after *\n",
    "\n",
    "- after * there are two arguments are there\n",
    "    - key\n",
    "    - reverse\n",
    "\n",
    "- you can use both\n",
    "\n",
    "- you can use anyone\n",
    "\n",
    "- you no need to use anything"
   ]
  },
  {
   "cell_type": "code",
   "execution_count": 34,
   "id": "daa23eff-dd8a-4ec8-80c1-e9eb9a460a32",
   "metadata": {},
   "outputs": [
    {
     "ename": "TypeError",
     "evalue": "sorted expected 1 argument, got 0",
     "output_type": "error",
     "traceback": [
      "\u001b[1;31m---------------------------------------------------------------------------\u001b[0m",
      "\u001b[1;31mTypeError\u001b[0m                                 Traceback (most recent call last)",
      "Cell \u001b[1;32mIn[34], line 2\u001b[0m\n\u001b[0;32m      1\u001b[0m \u001b[38;5;28msorted\u001b[39m(\u001b[38;5;124m'\u001b[39m\u001b[38;5;124mhello\u001b[39m\u001b[38;5;124m'\u001b[39m)\n\u001b[1;32m----> 2\u001b[0m \u001b[38;5;28msorted\u001b[39m(iterable\u001b[38;5;241m=\u001b[39m\u001b[38;5;124m'\u001b[39m\u001b[38;5;124mhello\u001b[39m\u001b[38;5;124m'\u001b[39m)\n",
      "\u001b[1;31mTypeError\u001b[0m: sorted expected 1 argument, got 0"
     ]
    }
   ],
   "source": [
    "sorted('hello')  #works\n",
    "sorted(iterable='hello')  #fails"
   ]
  },
  {
   "cell_type": "code",
   "execution_count": 35,
   "id": "7e06e4e5-b84c-4662-a7d4-e1bdfedec970",
   "metadata": {},
   "outputs": [
    {
     "data": {
      "text/plain": [
       "['e', 'h', 'l', 'l', 'o']"
      ]
     },
     "execution_count": 35,
     "metadata": {},
     "output_type": "execute_result"
    }
   ],
   "source": [
    "sorted('hello')"
   ]
  },
  {
   "cell_type": "code",
   "execution_count": 37,
   "id": "7bb16fac-9163-48f8-906e-21c51501343d",
   "metadata": {},
   "outputs": [
    {
     "data": {
      "text/plain": [
       "['o', 'l', 'l', 'h', 'e']"
      ]
     },
     "execution_count": 37,
     "metadata": {},
     "output_type": "execute_result"
    }
   ],
   "source": [
    "sorted('hello', reverse=True)\n",
    "\n",
    "#ascii value it is giving by the order"
   ]
  },
  {
   "cell_type": "code",
   "execution_count": 38,
   "id": "3b14672f-7e2c-4594-a15e-160883b556cb",
   "metadata": {},
   "outputs": [
    {
     "data": {
      "text/plain": [
       "['h', 'e', 'l', 'l', 'o']"
      ]
     },
     "execution_count": 38,
     "metadata": {},
     "output_type": "execute_result"
    }
   ],
   "source": [
    "sorted('hello', key=len)"
   ]
  },
  {
   "cell_type": "code",
   "execution_count": 39,
   "id": "046d63ef-616b-4bef-b3d8-06d294921153",
   "metadata": {},
   "outputs": [
    {
     "data": {
      "text/plain": [
       "['h', 'e', 'l', 'l', 'o']"
      ]
     },
     "execution_count": 39,
     "metadata": {},
     "output_type": "execute_result"
    }
   ],
   "source": [
    "sorted('hello', reverse=True, key=len)"
   ]
  },
  {
   "cell_type": "markdown",
   "id": "906adce0-d468-4f45-89d9-0b6e3fadccdc",
   "metadata": {},
   "source": [
    "**reversed**"
   ]
  },
  {
   "cell_type": "code",
   "execution_count": 40,
   "id": "f5aec9b0-0019-4d46-8254-44eac0ef7115",
   "metadata": {},
   "outputs": [
    {
     "ename": "TypeError",
     "evalue": "reversed() takes no keyword arguments",
     "output_type": "error",
     "traceback": [
      "\u001b[1;31m---------------------------------------------------------------------------\u001b[0m",
      "\u001b[1;31mTypeError\u001b[0m                                 Traceback (most recent call last)",
      "Cell \u001b[1;32mIn[40], line 2\u001b[0m\n\u001b[0;32m      1\u001b[0m str11\u001b[38;5;241m=\u001b[39m\u001b[38;5;124m'\u001b[39m\u001b[38;5;124mpython\u001b[39m\u001b[38;5;124m'\u001b[39m\n\u001b[1;32m----> 2\u001b[0m \u001b[38;5;28mreversed\u001b[39m(sequence\u001b[38;5;241m=\u001b[39mstr11)\n",
      "\u001b[1;31mTypeError\u001b[0m: reversed() takes no keyword arguments"
     ]
    }
   ],
   "source": [
    "str11='python'\n",
    "reversed(sequence=str11)"
   ]
  },
  {
   "cell_type": "code",
   "execution_count": 41,
   "id": "1a9c4b88-0db2-4612-b209-dfa308a21b1b",
   "metadata": {},
   "outputs": [
    {
     "data": {
      "text/plain": [
       "<reversed at 0x1f0eb46bb50>"
      ]
     },
     "execution_count": 41,
     "metadata": {},
     "output_type": "execute_result"
    }
   ],
   "source": [
    "str12='python'\n",
    "reversed(str12)"
   ]
  },
  {
   "cell_type": "code",
   "execution_count": 42,
   "id": "4ed769cf-e361-4430-b3d7-9e45800de4e9",
   "metadata": {},
   "outputs": [
    {
     "data": {
      "text/plain": [
       "str"
      ]
     },
     "execution_count": 42,
     "metadata": {},
     "output_type": "execute_result"
    }
   ],
   "source": [
    "type(str12)"
   ]
  },
  {
   "cell_type": "code",
   "execution_count": 44,
   "id": "5c7f9884-216f-430f-b9c7-f1d889e946cc",
   "metadata": {},
   "outputs": [
    {
     "data": {
      "text/plain": [
       "<reversed at 0x1f0ec412710>"
      ]
     },
     "execution_count": 44,
     "metadata": {},
     "output_type": "execute_result"
    }
   ],
   "source": [
    "reversed(str12)\n",
    "\n",
    "#the o/p is sorted at memory location\n",
    "#whenever you want to see the o/p\n",
    "#use a list or for loop"
   ]
  },
  {
   "cell_type": "code",
   "execution_count": 46,
   "id": "70a72ef2-7013-4200-a5a0-87d07c0ee4c5",
   "metadata": {},
   "outputs": [
    {
     "name": "stdout",
     "output_type": "stream",
     "text": [
      "p\n",
      "y\n",
      "t\n",
      "h\n",
      "o\n",
      "n\n"
     ]
    }
   ],
   "source": [
    "for i in str12:\n",
    "    print(i)"
   ]
  },
  {
   "cell_type": "code",
   "execution_count": 47,
   "id": "8917dafa-4988-43eb-8f17-9af17a29d1bb",
   "metadata": {},
   "outputs": [
    {
     "data": {
      "text/plain": [
       "['n', 'o', 'h', 't', 'y', 'p']"
      ]
     },
     "execution_count": 47,
     "metadata": {},
     "output_type": "execute_result"
    }
   ],
   "source": [
    "ans=reversed(str12)\n",
    "list(ans)"
   ]
  },
  {
   "cell_type": "code",
   "execution_count": 48,
   "id": "0b13489d-8a63-43f3-bfb4-00947583db48",
   "metadata": {},
   "outputs": [
    {
     "name": "stdout",
     "output_type": "stream",
     "text": [
      "n\n",
      "o\n",
      "h\n",
      "t\n",
      "y\n",
      "p\n"
     ]
    }
   ],
   "source": [
    "str13='python'\n",
    "ans=reversed(str13)\n",
    "for i in ans:\n",
    "    print(i)"
   ]
  },
  {
   "cell_type": "markdown",
   "id": "6fbb92be-d673-4277-b50f-927f494c47dc",
   "metadata": {},
   "source": [
    "**concatenation**"
   ]
  },
  {
   "cell_type": "code",
   "execution_count": 49,
   "id": "51a127bf-af0f-452e-aa3d-0ffc95f30ffa",
   "metadata": {},
   "outputs": [
    {
     "data": {
      "text/plain": [
       "'hellopython'"
      ]
     },
     "execution_count": 49,
     "metadata": {},
     "output_type": "execute_result"
    }
   ],
   "source": [
    "str1='hello'\n",
    "str2='python'\n",
    "str1+str2"
   ]
  },
  {
   "cell_type": "code",
   "execution_count": 50,
   "id": "cd7821d9-1472-410b-a287-bddb52c4e3cf",
   "metadata": {},
   "outputs": [
    {
     "ename": "TypeError",
     "evalue": "can't multiply sequence by non-int of type 'str'",
     "output_type": "error",
     "traceback": [
      "\u001b[1;31m---------------------------------------------------------------------------\u001b[0m",
      "\u001b[1;31mTypeError\u001b[0m                                 Traceback (most recent call last)",
      "Cell \u001b[1;32mIn[50], line 1\u001b[0m\n\u001b[1;32m----> 1\u001b[0m str1\u001b[38;5;241m*\u001b[39mstr2\n",
      "\u001b[1;31mTypeError\u001b[0m: can't multiply sequence by non-int of type 'str'"
     ]
    }
   ],
   "source": [
    "str1*str2"
   ]
  },
  {
   "cell_type": "code",
   "execution_count": 51,
   "id": "945f54cd-2452-4983-9f5a-dff7607cf037",
   "metadata": {},
   "outputs": [
    {
     "ename": "TypeError",
     "evalue": "unsupported operand type(s) for -: 'str' and 'str'",
     "output_type": "error",
     "traceback": [
      "\u001b[1;31m---------------------------------------------------------------------------\u001b[0m",
      "\u001b[1;31mTypeError\u001b[0m                                 Traceback (most recent call last)",
      "Cell \u001b[1;32mIn[51], line 1\u001b[0m\n\u001b[1;32m----> 1\u001b[0m str1\u001b[38;5;241m-\u001b[39mstr2\n",
      "\u001b[1;31mTypeError\u001b[0m: unsupported operand type(s) for -: 'str' and 'str'"
     ]
    }
   ],
   "source": [
    "str1-str2"
   ]
  },
  {
   "cell_type": "code",
   "execution_count": 52,
   "id": "0740cbb3-d5c2-46e9-8d77-f5b0fce8d3ff",
   "metadata": {},
   "outputs": [
    {
     "ename": "TypeError",
     "evalue": "unsupported operand type(s) for /: 'str' and 'str'",
     "output_type": "error",
     "traceback": [
      "\u001b[1;31m---------------------------------------------------------------------------\u001b[0m",
      "\u001b[1;31mTypeError\u001b[0m                                 Traceback (most recent call last)",
      "Cell \u001b[1;32mIn[52], line 1\u001b[0m\n\u001b[1;32m----> 1\u001b[0m str1\u001b[38;5;241m/\u001b[39mstr2\n",
      "\u001b[1;31mTypeError\u001b[0m: unsupported operand type(s) for /: 'str' and 'str'"
     ]
    }
   ],
   "source": [
    "str1/str2"
   ]
  },
  {
   "cell_type": "code",
   "execution_count": 53,
   "id": "6a6b0031-2138-481d-8cf8-7c79e64b304d",
   "metadata": {},
   "outputs": [
    {
     "data": {
      "text/plain": [
       "'pythonpython'"
      ]
     },
     "execution_count": 53,
     "metadata": {},
     "output_type": "execute_result"
    }
   ],
   "source": [
    "'python'*2"
   ]
  },
  {
   "cell_type": "code",
   "execution_count": 54,
   "id": "78088898-e7c5-45a7-b55d-7f66735a2a01",
   "metadata": {},
   "outputs": [
    {
     "data": {
      "text/plain": [
       "'pythonpython'"
      ]
     },
     "execution_count": 54,
     "metadata": {},
     "output_type": "execute_result"
    }
   ],
   "source": [
    "'python'+'python'"
   ]
  },
  {
   "cell_type": "markdown",
   "id": "288dfd3c-dae5-4b20-a945-a2cdc552ff8e",
   "metadata": {},
   "source": [
    "**Index**"
   ]
  },
  {
   "cell_type": "code",
   "execution_count": 56,
   "id": "f3ee723f-88f2-4478-aabf-805371df728c",
   "metadata": {},
   "outputs": [],
   "source": [
    "str1='python'\n",
    "\n",
    "# -6 -5 -4 -3 -2 -1\n",
    "#  p  y  t  h  o  n\n",
    "#  0  1  2  3  4  5"
   ]
  },
  {
   "cell_type": "code",
   "execution_count": 57,
   "id": "e33cc6a2-9189-423f-b2c7-6d9311d08b67",
   "metadata": {},
   "outputs": [
    {
     "data": {
      "text/plain": [
       "('p', 'p')"
      ]
     },
     "execution_count": 57,
     "metadata": {},
     "output_type": "execute_result"
    }
   ],
   "source": [
    "str1[0], str1[-6]"
   ]
  },
  {
   "cell_type": "code",
   "execution_count": 62,
   "id": "ac7596f4-7a1e-451e-af95-3b8d810028af",
   "metadata": {},
   "outputs": [],
   "source": [
    "str14='hello python'\n",
    "\n",
    "# -12 -11 -10 -9 -8 -7 -6 -5 -4 -3 -2 -1\n",
    "#  h    e  l  l  o     p  y  t  h   o  n\n",
    "#  0    1  2  3  4  5  6  7  8  9  10  11"
   ]
  },
  {
   "cell_type": "code",
   "execution_count": 63,
   "id": "f40185f5-19eb-4993-b49f-5f803de44ff9",
   "metadata": {},
   "outputs": [
    {
     "data": {
      "text/plain": [
       "(' ', 'h')"
      ]
     },
     "execution_count": 63,
     "metadata": {},
     "output_type": "execute_result"
    }
   ],
   "source": [
    "str14[5], str14[9]"
   ]
  },
  {
   "cell_type": "code",
   "execution_count": 64,
   "id": "7e4a6fdd-47a2-47f3-8e60-8f988fe84749",
   "metadata": {},
   "outputs": [
    {
     "data": {
      "text/plain": [
       "'n'"
      ]
     },
     "execution_count": 64,
     "metadata": {},
     "output_type": "execute_result"
    }
   ],
   "source": [
    "str14[-1]"
   ]
  },
  {
   "cell_type": "code",
   "execution_count": 67,
   "id": "34933073-df46-426d-b7a0-f8d2df854570",
   "metadata": {},
   "outputs": [
    {
     "ename": "TypeError",
     "evalue": "type 'str' is not subscriptable",
     "output_type": "error",
     "traceback": [
      "\u001b[1;31m---------------------------------------------------------------------------\u001b[0m",
      "\u001b[1;31mTypeError\u001b[0m                                 Traceback (most recent call last)",
      "Cell \u001b[1;32mIn[67], line 3\u001b[0m\n\u001b[0;32m      1\u001b[0m str15\u001b[38;5;241m=\u001b[39m\u001b[38;5;124m'\u001b[39m\u001b[38;5;124mpython\u001b[39m\u001b[38;5;124m'\u001b[39m\n\u001b[1;32m----> 3\u001b[0m \u001b[38;5;28mstr\u001b[39m[\u001b[38;5;241m0\u001b[39m]\n\u001b[0;32m      4\u001b[0m \u001b[38;5;28mstr\u001b[39m[\u001b[38;5;241m1\u001b[39m]\n\u001b[0;32m      5\u001b[0m \u001b[38;5;28mstr\u001b[39m[\u001b[38;5;241m2\u001b[39m]\n",
      "\u001b[1;31mTypeError\u001b[0m: type 'str' is not subscriptable"
     ]
    }
   ],
   "source": [
    "str15='python'\n",
    "\n",
    "str[0]\n",
    "str[1]\n",
    "str[2]\n",
    "str[3]\n",
    "str[4]\n",
    "\n",
    "str[i]  # i is a number i=0 and ends=5"
   ]
  },
  {
   "cell_type": "code",
   "execution_count": 73,
   "id": "d3c7819a-0873-4d02-a917-b001efcf249b",
   "metadata": {},
   "outputs": [
    {
     "name": "stdout",
     "output_type": "stream",
     "text": [
      "p 112\n",
      "y 121\n",
      "t 116\n",
      "h 104\n",
      "o 111\n",
      "n 110\n"
     ]
    }
   ],
   "source": [
    "for i in range(0, 6):\n",
    "    print(str15[i], ord(str15[i]))"
   ]
  },
  {
   "cell_type": "code",
   "execution_count": 74,
   "id": "7b3decb0-7442-4ea0-890c-396a074de69c",
   "metadata": {},
   "outputs": [
    {
     "name": "stdout",
     "output_type": "stream",
     "text": [
      "0 p\n",
      "1 y\n",
      "2 t\n",
      "3 h\n",
      "4 o\n",
      "5 n\n",
      "6  \n",
      "7 h\n",
      "8 e\n",
      "9 l\n",
      "10 l\n",
      "11 o\n"
     ]
    }
   ],
   "source": [
    "str16='python hello'\n",
    "for i in range (len(str16)):\n",
    "    print(i, str16[i])"
   ]
  },
  {
   "cell_type": "code",
   "execution_count": 75,
   "id": "e5ebd809-1bbe-4788-9eff-17d0103d1e0d",
   "metadata": {},
   "outputs": [
    {
     "name": "stdout",
     "output_type": "stream",
     "text": [
      "the positive index of p is : 0\n",
      "the positive index of y is : 1\n",
      "the positive index of t is : 2\n",
      "the positive index of h is : 3\n",
      "the positive index of o is : 4\n",
      "the positive index of n is : 5\n"
     ]
    }
   ],
   "source": [
    "str17='python'\n",
    "for i in range(len(str1)):\n",
    "    print(f'the positive index of {str1[i]} is : {i}')"
   ]
  },
  {
   "cell_type": "code",
   "execution_count": 76,
   "id": "f7694a76-2fca-4a87-8717-1e3f2a43b309",
   "metadata": {},
   "outputs": [
    {
     "name": "stdout",
     "output_type": "stream",
     "text": [
      "the negative index of p is : -6\n",
      "the negative index of y is : -5\n",
      "the negative index of t is : -4\n",
      "the negative index of h is : -3\n",
      "the negative index of o is : -2\n",
      "the negative index of n is : -1\n"
     ]
    }
   ],
   "source": [
    "n=len(str1)\n",
    "str17='python'\n",
    "for i in range(n):\n",
    "    print(f'the negative index of {str1[i]} is : {i-n}')"
   ]
  },
  {
   "cell_type": "code",
   "execution_count": 77,
   "id": "6e128b47-cc89-4143-81bd-312ccec5a5a2",
   "metadata": {},
   "outputs": [
    {
     "name": "stdout",
     "output_type": "stream",
     "text": [
      "-6 is negative index, 0 is positive index for p\n",
      "-5 is negative index, 1 is positive index for y\n",
      "-4 is negative index, 2 is positive index for t\n",
      "-3 is negative index, 3 is positive index for h\n",
      "-2 is negative index, 4 is positive index for o\n",
      "-1 is negative index, 5 is positive index for n\n"
     ]
    }
   ],
   "source": [
    "n=len(str1)\n",
    "str17='python'\n",
    "for i in range(n):\n",
    "    print(f'{i-n} is negative index, {i} is positive index for {str17[i]}')"
   ]
  },
  {
   "cell_type": "markdown",
   "id": "f3b9abb0-3ff3-4935-91c5-d0f96826e7f8",
   "metadata": {},
   "source": [
    "**when to use range - when to use in operator**\n",
    "\n",
    "- any problem if we work with index use range operator\n",
    "\n",
    "- range operator will give index as well as character\n",
    "\n",
    "- any problem if index is not useful, only character is useful then go with **in** operator\n",
    "\n",
    "- with **in** operator we can not get index"
   ]
  },
  {
   "cell_type": "code",
   "execution_count": 3,
   "id": "c95c50f5-e94a-440e-b36b-94ddb1a36dd1",
   "metadata": {},
   "outputs": [
    {
     "name": "stdout",
     "output_type": "stream",
     "text": [
      "the total of a's are:  3\n"
     ]
    }
   ],
   "source": [
    "#wap count the number of 'a' letters in a given string\n",
    "#str1='ola ola ola'\n",
    "\n",
    "str18='ola ola ola'\n",
    "count=0\n",
    "for i in str18:\n",
    "    if i=='a':\n",
    "        count=count+1\n",
    "\n",
    "print(\"the total of a's are: \",count)"
   ]
  },
  {
   "cell_type": "code",
   "execution_count": 4,
   "id": "a1789839-13f3-4960-b9d3-80e5c0a164b4",
   "metadata": {},
   "outputs": [
    {
     "name": "stdout",
     "output_type": "stream",
     "text": [
      "the total of a's are:  3\n"
     ]
    }
   ],
   "source": [
    "str18='ola ola ola'\n",
    "count=0\n",
    "for i in range(len(str18)):\n",
    "    if str18[i]=='a':\n",
    "        count=count+1\n",
    "\n",
    "print(\"the total of a's are: \",count)"
   ]
  },
  {
   "cell_type": "code",
   "execution_count": 9,
   "id": "e592db25-d780-43ff-af5e-ab4620b26deb",
   "metadata": {},
   "outputs": [
    {
     "name": "stdout",
     "output_type": "stream",
     "text": [
      "the index of a is 2\n",
      "the index of a is 6\n",
      "the index of a is 10\n"
     ]
    }
   ],
   "source": [
    "#wap to find the index of 'a' letters in a given string\n",
    "#str='ola ola ola'\n",
    "\n",
    "str19='ola ola ola'\n",
    "for i in range(len(str18)):\n",
    "    if str19[i]=='a':\n",
    "        print(f\"the index of {str19[i]} is {i}\")"
   ]
  },
  {
   "cell_type": "code",
   "execution_count": 16,
   "id": "555896b4-bd80-4348-92a3-00ef08c1856d",
   "metadata": {},
   "outputs": [
    {
     "name": "stdout",
     "output_type": "stream",
     "text": [
      "the sum of a is 18\n"
     ]
    }
   ],
   "source": [
    "#wap to get the sum of all indexes of 'a' letters in a given string\n",
    "#str='ola ola ola'\n",
    "\n",
    "str20='ola ola ola'\n",
    "summ=0\n",
    "for i in range(len(str20)):\n",
    "    if str20[i]=='a':\n",
    "        summ=summ+i\n",
    "\n",
    "print(f\"the sum of {str20[i]} is {summ}\")"
   ]
  },
  {
   "cell_type": "code",
   "execution_count": 17,
   "id": "0ddaa7ee-0a49-4c86-a2ec-c5387a9dc421",
   "metadata": {},
   "outputs": [
    {
     "name": "stdout",
     "output_type": "stream",
     "text": [
      "the number of vowels in string are:  7\n"
     ]
    }
   ],
   "source": [
    "#wap to find the number of vowels in agiven string \n",
    "#str='hello how are you'\n",
    "\n",
    "str21='hello how are you'\n",
    "count=0\n",
    "for i in str21:\n",
    "    if i in 'aeiou':\n",
    "        count=count+1\n",
    "\n",
    "print(\"the number of vowels in string are: \",count)"
   ]
  },
  {
   "cell_type": "code",
   "execution_count": 25,
   "id": "d664bfc0-d46a-4146-99bc-265e241a6c49",
   "metadata": {},
   "outputs": [
    {
     "name": "stdout",
     "output_type": "stream",
     "text": [
      "e\n",
      "o\n",
      "a\n",
      "u\n",
      "the total count is:  4\n"
     ]
    }
   ],
   "source": [
    "#wap to find the non-repeating vowels in a given string\n",
    "#str='hello how are you'\n",
    "\n",
    "s1=''\n",
    "s2='aeiou'\n",
    "str22='hello how are you'\n",
    "count=0\n",
    "\n",
    "for i in str22:\n",
    "\n",
    "    if i in s2 and i not in s1:\n",
    "        print(i)\n",
    "        s1+=i\n",
    "        count+=1\n",
    "\n",
    "print(\"the total count is: \",count)"
   ]
  },
  {
   "cell_type": "markdown",
   "id": "30f47eb0-9eea-4f97-948d-472e445c3bb2",
   "metadata": {},
   "source": [
    "**mutable-immutable**"
   ]
  },
  {
   "cell_type": "code",
   "execution_count": 28,
   "id": "064f5371-71ef-4708-acdb-a90d723adab0",
   "metadata": {},
   "outputs": [],
   "source": [
    "#mutable=change\n",
    "#immutable=no change\n",
    "str23='welcome'\n",
    "\n",
    "#i want to change 'l' to 'L'"
   ]
  },
  {
   "cell_type": "code",
   "execution_count": 29,
   "id": "8fc969fc-cf06-468b-ba3f-7322973457ba",
   "metadata": {},
   "outputs": [
    {
     "data": {
      "text/plain": [
       "'l'"
      ]
     },
     "execution_count": 29,
     "metadata": {},
     "output_type": "execute_result"
    }
   ],
   "source": [
    "str23[2]"
   ]
  },
  {
   "cell_type": "code",
   "execution_count": 30,
   "id": "8b67f95e-53e8-44ff-b0a2-5840c8cda1a3",
   "metadata": {},
   "outputs": [
    {
     "ename": "NameError",
     "evalue": "name 'L' is not defined",
     "output_type": "error",
     "traceback": [
      "\u001b[1;31m---------------------------------------------------------------------------\u001b[0m",
      "\u001b[1;31mNameError\u001b[0m                                 Traceback (most recent call last)",
      "Cell \u001b[1;32mIn[30], line 1\u001b[0m\n\u001b[1;32m----> 1\u001b[0m str23[\u001b[38;5;241m2\u001b[39m]\u001b[38;5;241m=\u001b[39mL\n",
      "\u001b[1;31mNameError\u001b[0m: name 'L' is not defined"
     ]
    }
   ],
   "source": [
    "str23[2]=L"
   ]
  },
  {
   "cell_type": "code",
   "execution_count": 32,
   "id": "f43b9ba3-8e81-4425-9850-cf26ca223852",
   "metadata": {},
   "outputs": [
    {
     "data": {
      "text/plain": [
       "[11, 22, 400, 44]"
      ]
     },
     "execution_count": 32,
     "metadata": {},
     "output_type": "execute_result"
    }
   ],
   "source": [
    "l=[11,22,33,44]\n",
    "l[2]=400\n",
    "l"
   ]
  },
  {
   "cell_type": "markdown",
   "id": "b6167ef4-3c5e-4c6e-9690-cd48ce66d83d",
   "metadata": {},
   "source": [
    "- if the elements will change using indexing is called mutable\n",
    "\n",
    "- otherwise immutable"
   ]
  },
  {
   "cell_type": "markdown",
   "id": "5a1f2bce-60ba-4346-803d-c3bd7402d412",
   "metadata": {},
   "source": [
    "**slicing**\n",
    "\n",
    "- slice: piece of the string\n",
    "\n",
    "- it is similar to for loop start:stop:step"
   ]
  },
  {
   "cell_type": "code",
   "execution_count": 33,
   "id": "0e30b38a-b941-4f94-9dde-2c1d072f8956",
   "metadata": {},
   "outputs": [
    {
     "data": {
      "text/plain": [
       "17"
      ]
     },
     "execution_count": 33,
     "metadata": {},
     "output_type": "execute_result"
    }
   ],
   "source": [
    "str24='hello how are you'\n",
    "len(str24)"
   ]
  },
  {
   "cell_type": "code",
   "execution_count": null,
   "id": "6bdf7b52-5f85-4c7a-b77e-87318a2bd790",
   "metadata": {},
   "outputs": [],
   "source": [
    "-17 -16 -15 -14 -13 -12 -11 -10 -9 -8 -7 -6 -5 -4 -3 -2 -1\n",
    " h   e   l   l   o       h   o   w     a  r  e     y  o  u\n",
    " 0   1   2   3   4   5   6   7   8  9 10 11 12 13 14 15 16"
   ]
  },
  {
   "cell_type": "markdown",
   "id": "fd29995a-b80a-45c4-b59b-de44f9176a43",
   "metadata": {},
   "source": [
    "**case-1: str[start:]**\n",
    "\n",
    "- str1[start:]\n",
    "\n",
    "- start = start value only\n",
    "\n",
    "- last not mention means it will go till last"
   ]
  },
  {
   "cell_type": "code",
   "execution_count": 34,
   "id": "3fade198-3280-4327-bd9b-70f29b57cc96",
   "metadata": {},
   "outputs": [
    {
     "data": {
      "text/plain": [
       "' how are you'"
      ]
     },
     "execution_count": 34,
     "metadata": {},
     "output_type": "execute_result"
    }
   ],
   "source": [
    "str24[5:]"
   ]
  },
  {
   "cell_type": "code",
   "execution_count": 35,
   "id": "8d0a8a38-b337-4732-b3f1-8b7fce1a52c6",
   "metadata": {},
   "outputs": [
    {
     "data": {
      "text/plain": [
       "'e you'"
      ]
     },
     "execution_count": 35,
     "metadata": {},
     "output_type": "execute_result"
    }
   ],
   "source": [
    "str24[-5:]"
   ]
  },
  {
   "cell_type": "markdown",
   "id": "2fa334b3-ac91-4518-a951-5046375c7d03",
   "metadata": {},
   "source": [
    "**case-2: str[start:stop]**\n",
    "\n",
    "- str1[start:stop]\n",
    "\n",
    "- start = start value\n",
    "\n",
    "- step is not mentioned means = positive one\n",
    "\n",
    "- last = stop - 1"
   ]
  },
  {
   "cell_type": "code",
   "execution_count": 37,
   "id": "d29a26d0-f2eb-4f1f-885a-32856bdde801",
   "metadata": {},
   "outputs": [
    {
     "data": {
      "text/plain": [
       "'llo how are yo'"
      ]
     },
     "execution_count": 37,
     "metadata": {},
     "output_type": "execute_result"
    }
   ],
   "source": [
    "str24[2:16]\n",
    "\n",
    "#start = 2\n",
    "#last = 16-1 = 15"
   ]
  },
  {
   "cell_type": "code",
   "execution_count": 38,
   "id": "ed6954df-95c8-426b-a883-0d915cc500f1",
   "metadata": {},
   "outputs": [
    {
     "data": {
      "text/plain": [
       "' how are y'"
      ]
     },
     "execution_count": 38,
     "metadata": {},
     "output_type": "execute_result"
    }
   ],
   "source": [
    "str24[-12:-2]"
   ]
  },
  {
   "cell_type": "markdown",
   "id": "5e591f24-cbcb-40a8-8614-b06e15e3817d",
   "metadata": {},
   "source": [
    "**case-3: str[start:stop:step]**"
   ]
  },
  {
   "cell_type": "code",
   "execution_count": null,
   "id": "27b28eed-2864-4d55-b110-3a2d1b7921d1",
   "metadata": {},
   "outputs": [],
   "source": [
    "str1[2:15:2]  #p\n",
    "str1[2:15:-2]  #np\n",
    "str1[2:-15:2]  #np\n",
    "str1[-2:15:2]  #np\n",
    "str1[-2:-15:-2]  #p\n",
    "str1[-2:-15:2]  #np\n",
    "str1[15:2:2]  #np\n",
    "str1[15:2:-2]  #p\n",
    "str1[15:-2:2]  #np\n",
    "str1[-15:2:2]  #np\n",
    "str1[15:-2:-2]  #np\n",
    "str1[-15:-2:2]  #p\n",
    "str1[-15:-2:-2]  #np"
   ]
  },
  {
   "cell_type": "code",
   "execution_count": 40,
   "id": "d803b9b8-95c5-401e-a751-3cd27784b592",
   "metadata": {},
   "outputs": [
    {
     "data": {
      "text/plain": [
       "'l'"
      ]
     },
     "execution_count": 40,
     "metadata": {},
     "output_type": "execute_result"
    }
   ],
   "source": [
    "str24[2:3:1]"
   ]
  },
  {
   "cell_type": "code",
   "execution_count": 41,
   "id": "4dd08c42-bc17-4c28-8ff4-01cc01641e0d",
   "metadata": {},
   "outputs": [
    {
     "data": {
      "text/plain": [
       "'l'"
      ]
     },
     "execution_count": 41,
     "metadata": {},
     "output_type": "execute_result"
    }
   ],
   "source": [
    "str24[2:-14:1]"
   ]
  },
  {
   "cell_type": "code",
   "execution_count": 42,
   "id": "dca8bda0-28dc-40c7-8cb0-da27db73011f",
   "metadata": {},
   "outputs": [
    {
     "data": {
      "text/plain": [
       "'l'"
      ]
     },
     "execution_count": 42,
     "metadata": {},
     "output_type": "execute_result"
    }
   ],
   "source": [
    "str24[2:3:2]"
   ]
  },
  {
   "cell_type": "code",
   "execution_count": 43,
   "id": "5a5e6d37-b9aa-43c7-9802-4dcdb2519aba",
   "metadata": {},
   "outputs": [
    {
     "data": {
      "text/plain": [
       "'llo how are you'"
      ]
     },
     "execution_count": 43,
     "metadata": {},
     "output_type": "execute_result"
    }
   ],
   "source": [
    "str24[2:25]"
   ]
  },
  {
   "cell_type": "code",
   "execution_count": 44,
   "id": "082d19ee-b20c-4a9e-ac80-944a0d959977",
   "metadata": {},
   "outputs": [
    {
     "data": {
      "text/plain": [
       "'llo how are you'"
      ]
     },
     "execution_count": 44,
     "metadata": {},
     "output_type": "execute_result"
    }
   ],
   "source": [
    "str24[2:250]"
   ]
  },
  {
   "cell_type": "code",
   "execution_count": 45,
   "id": "30e0b5d6-4931-42b2-ad64-772da695b54c",
   "metadata": {},
   "outputs": [
    {
     "data": {
      "text/plain": [
       "'hello how are you'"
      ]
     },
     "execution_count": 45,
     "metadata": {},
     "output_type": "execute_result"
    }
   ],
   "source": [
    "#str1[start:stop:step]\n",
    "\n",
    "str24[:]"
   ]
  },
  {
   "cell_type": "code",
   "execution_count": 46,
   "id": "9873aae3-c6f8-4745-82ce-b55edb87a6fa",
   "metadata": {},
   "outputs": [
    {
     "data": {
      "text/plain": [
       "'hello how are you'"
      ]
     },
     "execution_count": 46,
     "metadata": {},
     "output_type": "execute_result"
    }
   ],
   "source": [
    "str24[: :]"
   ]
  },
  {
   "cell_type": "code",
   "execution_count": 47,
   "id": "45199dc7-07ad-4e06-b8c5-648edac89a6d",
   "metadata": {},
   "outputs": [
    {
     "data": {
      "text/plain": [
       "'uoy era woh olleh'"
      ]
     },
     "execution_count": 47,
     "metadata": {},
     "output_type": "execute_result"
    }
   ],
   "source": [
    "str24[: :-1]"
   ]
  },
  {
   "cell_type": "markdown",
   "id": "6a1d110b-2a98-4955-a72d-1fd2a39fe5e1",
   "metadata": {},
   "source": [
    "**Methods**"
   ]
  },
  {
   "cell_type": "code",
   "execution_count": 48,
   "id": "f2619a1e-827c-48b2-b37a-9495f650468d",
   "metadata": {},
   "outputs": [
    {
     "data": {
      "text/plain": [
       "['__add__',\n",
       " '__class__',\n",
       " '__contains__',\n",
       " '__delattr__',\n",
       " '__dir__',\n",
       " '__doc__',\n",
       " '__eq__',\n",
       " '__format__',\n",
       " '__ge__',\n",
       " '__getattribute__',\n",
       " '__getitem__',\n",
       " '__getnewargs__',\n",
       " '__getstate__',\n",
       " '__gt__',\n",
       " '__hash__',\n",
       " '__init__',\n",
       " '__init_subclass__',\n",
       " '__iter__',\n",
       " '__le__',\n",
       " '__len__',\n",
       " '__lt__',\n",
       " '__mod__',\n",
       " '__mul__',\n",
       " '__ne__',\n",
       " '__new__',\n",
       " '__reduce__',\n",
       " '__reduce_ex__',\n",
       " '__repr__',\n",
       " '__rmod__',\n",
       " '__rmul__',\n",
       " '__setattr__',\n",
       " '__sizeof__',\n",
       " '__str__',\n",
       " '__subclasshook__',\n",
       " 'capitalize',\n",
       " 'casefold',\n",
       " 'center',\n",
       " 'count',\n",
       " 'encode',\n",
       " 'endswith',\n",
       " 'expandtabs',\n",
       " 'find',\n",
       " 'format',\n",
       " 'format_map',\n",
       " 'index',\n",
       " 'isalnum',\n",
       " 'isalpha',\n",
       " 'isascii',\n",
       " 'isdecimal',\n",
       " 'isdigit',\n",
       " 'isidentifier',\n",
       " 'islower',\n",
       " 'isnumeric',\n",
       " 'isprintable',\n",
       " 'isspace',\n",
       " 'istitle',\n",
       " 'isupper',\n",
       " 'join',\n",
       " 'ljust',\n",
       " 'lower',\n",
       " 'lstrip',\n",
       " 'maketrans',\n",
       " 'partition',\n",
       " 'removeprefix',\n",
       " 'removesuffix',\n",
       " 'replace',\n",
       " 'rfind',\n",
       " 'rindex',\n",
       " 'rjust',\n",
       " 'rpartition',\n",
       " 'rsplit',\n",
       " 'rstrip',\n",
       " 'split',\n",
       " 'splitlines',\n",
       " 'startswith',\n",
       " 'strip',\n",
       " 'swapcase',\n",
       " 'title',\n",
       " 'translate',\n",
       " 'upper',\n",
       " 'zfill']"
      ]
     },
     "execution_count": 48,
     "metadata": {},
     "output_type": "execute_result"
    }
   ],
   "source": [
    "name='riddhi'\n",
    "dir(name)"
   ]
  },
  {
   "cell_type": "code",
   "execution_count": 49,
   "id": "ce7de265-d2f9-48e7-bc9a-2386bab780b5",
   "metadata": {},
   "outputs": [
    {
     "data": {
      "text/plain": [
       "['__add__',\n",
       " '__class__',\n",
       " '__contains__',\n",
       " '__delattr__',\n",
       " '__dir__',\n",
       " '__doc__',\n",
       " '__eq__',\n",
       " '__format__',\n",
       " '__ge__',\n",
       " '__getattribute__',\n",
       " '__getitem__',\n",
       " '__getnewargs__',\n",
       " '__getstate__',\n",
       " '__gt__',\n",
       " '__hash__',\n",
       " '__init__',\n",
       " '__init_subclass__',\n",
       " '__iter__',\n",
       " '__le__',\n",
       " '__len__',\n",
       " '__lt__',\n",
       " '__mod__',\n",
       " '__mul__',\n",
       " '__ne__',\n",
       " '__new__',\n",
       " '__reduce__',\n",
       " '__reduce_ex__',\n",
       " '__repr__',\n",
       " '__rmod__',\n",
       " '__rmul__',\n",
       " '__setattr__',\n",
       " '__sizeof__',\n",
       " '__str__',\n",
       " '__subclasshook__',\n",
       " 'capitalize',\n",
       " 'casefold',\n",
       " 'center',\n",
       " 'count',\n",
       " 'encode',\n",
       " 'endswith',\n",
       " 'expandtabs',\n",
       " 'find',\n",
       " 'format',\n",
       " 'format_map',\n",
       " 'index',\n",
       " 'isalnum',\n",
       " 'isalpha',\n",
       " 'isascii',\n",
       " 'isdecimal',\n",
       " 'isdigit',\n",
       " 'isidentifier',\n",
       " 'islower',\n",
       " 'isnumeric',\n",
       " 'isprintable',\n",
       " 'isspace',\n",
       " 'istitle',\n",
       " 'isupper',\n",
       " 'join',\n",
       " 'ljust',\n",
       " 'lower',\n",
       " 'lstrip',\n",
       " 'maketrans',\n",
       " 'partition',\n",
       " 'removeprefix',\n",
       " 'removesuffix',\n",
       " 'replace',\n",
       " 'rfind',\n",
       " 'rindex',\n",
       " 'rjust',\n",
       " 'rpartition',\n",
       " 'rsplit',\n",
       " 'rstrip',\n",
       " 'split',\n",
       " 'splitlines',\n",
       " 'startswith',\n",
       " 'strip',\n",
       " 'swapcase',\n",
       " 'title',\n",
       " 'translate',\n",
       " 'upper',\n",
       " 'zfill']"
      ]
     },
     "execution_count": 49,
     "metadata": {},
     "output_type": "execute_result"
    }
   ],
   "source": [
    "dir('')"
   ]
  },
  {
   "cell_type": "code",
   "execution_count": 51,
   "id": "27f8d56e-d8be-4d44-8c6b-36f576051e3a",
   "metadata": {},
   "outputs": [
    {
     "data": {
      "text/plain": [
       "'PYTHON'"
      ]
     },
     "execution_count": 51,
     "metadata": {},
     "output_type": "execute_result"
    }
   ],
   "source": [
    "name='python'\n",
    "dir(name)\n",
    "#upper\n",
    "name.upper()"
   ]
  },
  {
   "cell_type": "markdown",
   "id": "e51aa913-debf-40d4-9582-69bbf9fc9a9c",
   "metadata": {},
   "source": [
    "- <package_name>.<method_name>"
   ]
  },
  {
   "cell_type": "code",
   "execution_count": 52,
   "id": "870e3e82-e0e4-46fb-a16d-4447cff15a3c",
   "metadata": {},
   "outputs": [
    {
     "data": {
      "text/plain": [
       "<function str.upper()>"
      ]
     },
     "execution_count": 52,
     "metadata": {},
     "output_type": "execute_result"
    }
   ],
   "source": [
    "name.upper"
   ]
  },
  {
   "cell_type": "markdown",
   "id": "560c62c6-28e8-4f36-b7a4-8cfc602ef57c",
   "metadata": {},
   "source": [
    "- lower\n",
    "- casefold\n",
    "- center\n",
    "- captialize\n",
    "- title"
   ]
  },
  {
   "cell_type": "markdown",
   "id": "0a0c1d3c-60f1-4d80-9367-397dc9f911da",
   "metadata": {},
   "source": [
    "**output-**\n",
    "\n",
    "- whenever we apply the function\n",
    "\n",
    "- always apply **shift + tab**\n",
    "\n",
    "- then if any argumnets are there try to understand those\n",
    "\n",
    "- in that one agrument name is called as inplace\n",
    "\n",
    "- inplace = True, the result will be overwrite in original variable\n",
    "\n",
    "- if inplace is not available or inplace = False\n",
    "\n",
    "- then the output will not overwrite\n",
    "\n",
    "- in the upper case there is no arguments\n",
    "\n",
    "- so when we apply upper case the output will not overwrite"
   ]
  },
  {
   "cell_type": "code",
   "execution_count": 53,
   "id": "31b8e209-d38b-4f4d-96b0-f40b30a98722",
   "metadata": {},
   "outputs": [
    {
     "data": {
      "text/plain": [
       "'PYTHON'"
      ]
     },
     "execution_count": 53,
     "metadata": {},
     "output_type": "execute_result"
    }
   ],
   "source": [
    "name='python'\n",
    "name.upper()"
   ]
  },
  {
   "cell_type": "code",
   "execution_count": 56,
   "id": "d53b2ea5-e23b-4ca0-8ce3-a41a09d8f8fd",
   "metadata": {},
   "outputs": [],
   "source": [
    "name='python'\n",
    "name_upper=name.upper()"
   ]
  },
  {
   "cell_type": "code",
   "execution_count": 57,
   "id": "aa2db7c8-189d-4eb5-91f2-515f5e5d4b56",
   "metadata": {},
   "outputs": [
    {
     "name": "stdout",
     "output_type": "stream",
     "text": [
      "python\n",
      "PYTHON\n"
     ]
    }
   ],
   "source": [
    "print(name)\n",
    "print(name_upper)"
   ]
  },
  {
   "cell_type": "code",
   "execution_count": 58,
   "id": "bf124785-a378-4ff9-b077-6feef07ea945",
   "metadata": {},
   "outputs": [
    {
     "data": {
      "text/plain": [
       "'python'"
      ]
     },
     "execution_count": 58,
     "metadata": {},
     "output_type": "execute_result"
    }
   ],
   "source": [
    "name.lower()"
   ]
  },
  {
   "cell_type": "code",
   "execution_count": 59,
   "id": "58f92834-31ab-47b3-973a-c41fbc0a8372",
   "metadata": {},
   "outputs": [
    {
     "data": {
      "text/plain": [
       "'python'"
      ]
     },
     "execution_count": 59,
     "metadata": {},
     "output_type": "execute_result"
    }
   ],
   "source": [
    "'PYTHON'.lower()"
   ]
  },
  {
   "cell_type": "code",
   "execution_count": 60,
   "id": "97390c75-fed6-427d-8ba5-42f8227f09ca",
   "metadata": {},
   "outputs": [
    {
     "ename": "NameError",
     "evalue": "name 'lower' is not defined",
     "output_type": "error",
     "traceback": [
      "\u001b[1;31m---------------------------------------------------------------------------\u001b[0m",
      "\u001b[1;31mNameError\u001b[0m                                 Traceback (most recent call last)",
      "Cell \u001b[1;32mIn[60], line 1\u001b[0m\n\u001b[1;32m----> 1\u001b[0m lower(\u001b[38;5;124m'\u001b[39m\u001b[38;5;124mpython\u001b[39m\u001b[38;5;124m'\u001b[39m)\n",
      "\u001b[1;31mNameError\u001b[0m: name 'lower' is not defined"
     ]
    }
   ],
   "source": [
    "lower('python')"
   ]
  },
  {
   "cell_type": "code",
   "execution_count": 61,
   "id": "627ffa83-801d-4631-8e1d-e0a325734bd1",
   "metadata": {},
   "outputs": [
    {
     "data": {
      "text/plain": [
       "'h'"
      ]
     },
     "execution_count": 61,
     "metadata": {},
     "output_type": "execute_result"
    }
   ],
   "source": [
    "min('python')"
   ]
  },
  {
   "cell_type": "code",
   "execution_count": 62,
   "id": "429b3bc2-5e04-43bf-85b5-a2f91d91b049",
   "metadata": {},
   "outputs": [
    {
     "data": {
      "text/plain": [
       "'y'"
      ]
     },
     "execution_count": 62,
     "metadata": {},
     "output_type": "execute_result"
    }
   ],
   "source": [
    "max('python')"
   ]
  },
  {
   "cell_type": "code",
   "execution_count": 63,
   "id": "7258f51f-23cb-4b95-9e0e-afba6d471c32",
   "metadata": {},
   "outputs": [
    {
     "data": {
      "text/plain": [
       "6"
      ]
     },
     "execution_count": 63,
     "metadata": {},
     "output_type": "execute_result"
    }
   ],
   "source": [
    "len('python')"
   ]
  },
  {
   "cell_type": "markdown",
   "id": "4dfdf338-6381-4edb-a644-04225ab6035b",
   "metadata": {},
   "source": [
    "**Method vs inbuilt functions-**\n",
    "\n",
    "- inbuilt functions applicable for all python data types\n",
    "\n",
    "- ex: print, type, min, max.....\n",
    "\n",
    "- access: inbuilt_function()\n",
    "\n",
    "- method is a specific use for different data types\n",
    "\n",
    "- access: package.methodname()\n",
    "\n",
    "- access: element.methodname()"
   ]
  },
  {
   "cell_type": "code",
   "execution_count": 65,
   "id": "34251428-9742-458d-8b0c-91981b629571",
   "metadata": {},
   "outputs": [
    {
     "data": {
      "text/plain": [
       "'python'"
      ]
     },
     "execution_count": 65,
     "metadata": {},
     "output_type": "execute_result"
    }
   ],
   "source": [
    "'Python'.casefold()"
   ]
  },
  {
   "cell_type": "code",
   "execution_count": 66,
   "id": "5de73886-aee2-4b3b-9dd1-41fe5f81e45a",
   "metadata": {},
   "outputs": [
    {
     "data": {
      "text/plain": [
       "'python'"
      ]
     },
     "execution_count": 66,
     "metadata": {},
     "output_type": "execute_result"
    }
   ],
   "source": [
    "'python'.casefold()"
   ]
  },
  {
   "cell_type": "code",
   "execution_count": 68,
   "id": "8d96141d-6178-4c33-90d1-29b84147d759",
   "metadata": {},
   "outputs": [
    {
     "data": {
      "text/plain": [
       "'python'"
      ]
     },
     "execution_count": 68,
     "metadata": {},
     "output_type": "execute_result"
    }
   ],
   "source": [
    "'PYTHON'.casefold()"
   ]
  },
  {
   "cell_type": "markdown",
   "id": "fbed044b-c2a8-4bbf-91a8-11d9b3613bec",
   "metadata": {},
   "source": [
    "**Captialize**"
   ]
  },
  {
   "cell_type": "code",
   "execution_count": 69,
   "id": "792c337d-43c5-4613-a526-d65c7e2394ab",
   "metadata": {},
   "outputs": [
    {
     "data": {
      "text/plain": [
       "'Welcome'"
      ]
     },
     "execution_count": 69,
     "metadata": {},
     "output_type": "execute_result"
    }
   ],
   "source": [
    "str25='welcome'\n",
    "str25.capitalize()"
   ]
  },
  {
   "cell_type": "code",
   "execution_count": 70,
   "id": "d1fa4140-63de-4ffc-ac7f-457c085ea595",
   "metadata": {},
   "outputs": [
    {
     "data": {
      "text/plain": [
       "'Hello how are you'"
      ]
     },
     "execution_count": 70,
     "metadata": {},
     "output_type": "execute_result"
    }
   ],
   "source": [
    "str26='hello how are you'\n",
    "str26.capitalize()"
   ]
  },
  {
   "cell_type": "markdown",
   "id": "3b3e7f94-5839-44b6-b372-602dad076dbb",
   "metadata": {},
   "source": [
    "**Title-**"
   ]
  },
  {
   "cell_type": "code",
   "execution_count": 71,
   "id": "15c3cadc-491d-4fa1-b4e2-39fd46f8836c",
   "metadata": {},
   "outputs": [
    {
     "data": {
      "text/plain": [
       "'Welcome'"
      ]
     },
     "execution_count": 71,
     "metadata": {},
     "output_type": "execute_result"
    }
   ],
   "source": [
    "str25='welcome'\n",
    "str25.title()"
   ]
  },
  {
   "cell_type": "code",
   "execution_count": 72,
   "id": "b50a1d02-10db-4cdb-bc38-1a6a5af93e54",
   "metadata": {},
   "outputs": [
    {
     "data": {
      "text/plain": [
       "'Hello How Are You'"
      ]
     },
     "execution_count": 72,
     "metadata": {},
     "output_type": "execute_result"
    }
   ],
   "source": [
    "str26='hello how are you'\n",
    "str26.title()"
   ]
  },
  {
   "cell_type": "code",
   "execution_count": null,
   "id": "90de9978-d155-4acd-984d-02009e1ee38e",
   "metadata": {},
   "outputs": [],
   "source": [
    "'welcome'.title()"
   ]
  },
  {
   "cell_type": "markdown",
   "id": "314a457c-c7ff-4ec8-bef2-06f10d4bf1fa",
   "metadata": {},
   "source": [
    "**Center-**"
   ]
  },
  {
   "cell_type": "code",
   "execution_count": 74,
   "id": "dc8d2348-34e4-46f6-9426-6ae3289c2d14",
   "metadata": {},
   "outputs": [
    {
     "data": {
      "text/plain": [
       "' python'"
      ]
     },
     "execution_count": 74,
     "metadata": {},
     "output_type": "execute_result"
    }
   ],
   "source": [
    "str27='python'\n",
    "str27.center(7)"
   ]
  },
  {
   "cell_type": "code",
   "execution_count": 75,
   "id": "16b80fd6-b886-49cf-a9cf-bf6dca300dc6",
   "metadata": {},
   "outputs": [
    {
     "data": {
      "text/plain": [
       "7"
      ]
     },
     "execution_count": 75,
     "metadata": {},
     "output_type": "execute_result"
    }
   ],
   "source": [
    "len(str27.center(7))"
   ]
  },
  {
   "cell_type": "code",
   "execution_count": 77,
   "id": "b1347422-b3b5-4b34-8428-5a330a9988ca",
   "metadata": {},
   "outputs": [
    {
     "data": {
      "text/plain": [
       "'********python*******'"
      ]
     },
     "execution_count": 77,
     "metadata": {},
     "output_type": "execute_result"
    }
   ],
   "source": [
    "str27.center(21,'*')"
   ]
  },
  {
   "cell_type": "code",
   "execution_count": null,
   "id": "211f664a-3d6e-4e63-9d11-03eb7eac740f",
   "metadata": {},
   "outputs": [],
   "source": []
  },
  {
   "cell_type": "markdown",
   "id": "39e153cb-b384-40f2-b796-f7631dae9792",
   "metadata": {},
   "source": [
    "**replace-**"
   ]
  },
  {
   "cell_type": "code",
   "execution_count": 79,
   "id": "0e4373ea-f207-4aaf-bae4-5c1dafdf23fb",
   "metadata": {},
   "outputs": [
    {
     "data": {
      "text/plain": [
       "'weLcome'"
      ]
     },
     "execution_count": 79,
     "metadata": {},
     "output_type": "execute_result"
    }
   ],
   "source": [
    "str28='welcome'\n",
    "str28.replace('l','L')"
   ]
  },
  {
   "cell_type": "code",
   "execution_count": 80,
   "id": "66b4476e-cde0-4316-a641-be642fa2d599",
   "metadata": {},
   "outputs": [
    {
     "data": {
      "text/plain": [
       "'weLLcome'"
      ]
     },
     "execution_count": 80,
     "metadata": {},
     "output_type": "execute_result"
    }
   ],
   "source": [
    "str28='wellcome'\n",
    "str28.replace('l','L')"
   ]
  },
  {
   "cell_type": "code",
   "execution_count": 82,
   "id": "85d5284d-d351-48b1-98da-e5b743b02a28",
   "metadata": {},
   "outputs": [
    {
     "data": {
      "text/plain": [
       "'weLlcome'"
      ]
     },
     "execution_count": 82,
     "metadata": {},
     "output_type": "execute_result"
    }
   ],
   "source": [
    "str28='wellcome'\n",
    "str28.replace('l','L',1)"
   ]
  },
  {
   "cell_type": "code",
   "execution_count": 83,
   "id": "26c34ecc-7aad-494a-a766-2b4b6784e4c1",
   "metadata": {},
   "outputs": [
    {
     "data": {
      "text/plain": [
       "'weLLlcome'"
      ]
     },
     "execution_count": 83,
     "metadata": {},
     "output_type": "execute_result"
    }
   ],
   "source": [
    "str28='welllcome'\n",
    "str28.replace('l','L',2)"
   ]
  },
  {
   "cell_type": "code",
   "execution_count": 84,
   "id": "2481215a-25f6-4302-a957-3123d8493d0a",
   "metadata": {},
   "outputs": [
    {
     "data": {
      "text/plain": [
       "'weLLLcome'"
      ]
     },
     "execution_count": 84,
     "metadata": {},
     "output_type": "execute_result"
    }
   ],
   "source": [
    "str28='welllcome'\n",
    "str28.replace('l','L',4)"
   ]
  },
  {
   "cell_type": "code",
   "execution_count": 85,
   "id": "e0a3ea7b-cd55-4d3a-b57a-635f2bd92a32",
   "metadata": {},
   "outputs": [
    {
     "data": {
      "text/plain": [
       "'welllcome'"
      ]
     },
     "execution_count": 85,
     "metadata": {},
     "output_type": "execute_result"
    }
   ],
   "source": [
    "str28.replace('z','Z')"
   ]
  },
  {
   "cell_type": "markdown",
   "id": "6444c264-d660-4398-98c6-00082a1c45fd",
   "metadata": {},
   "source": [
    "**How to replace the only second letter**"
   ]
  },
  {
   "cell_type": "code",
   "execution_count": 1,
   "id": "6880ff1d-4827-4ac1-89a3-1bd89aabecf6",
   "metadata": {},
   "outputs": [
    {
     "data": {
      "text/plain": [
       "'resta$t'"
      ]
     },
     "execution_count": 1,
     "metadata": {},
     "output_type": "execute_result"
    }
   ],
   "source": [
    "str29='restart'\n",
    "#ans='resta$t'\n",
    "\n",
    "s1=str29[0]  #indexing\n",
    "s2=str29[1:]  #slicing\n",
    "s3=s2.replace('r','$')  #replace\n",
    "s1+s3  #concatenation"
   ]
  },
  {
   "cell_type": "code",
   "execution_count": 2,
   "id": "f4b44800-d78f-438f-9e85-b5a1bc8a5c80",
   "metadata": {},
   "outputs": [
    {
     "data": {
      "text/plain": [
       "'resta$t'"
      ]
     },
     "execution_count": 2,
     "metadata": {},
     "output_type": "execute_result"
    }
   ],
   "source": [
    "str29[::-1].replace('r','$',1)[::-1]"
   ]
  },
  {
   "cell_type": "code",
   "execution_count": null,
   "id": "3fba0dd4-d72d-409d-9341-7483639d9af8",
   "metadata": {},
   "outputs": [],
   "source": [
    "str30='restart restart'\n",
    "\n",
    "#i want to replace the third 'r'\n",
    "#third 'r' means we have already r's\n",
    "#we need to slice the sentence\n",
    "#till second 'r': one string\n",
    "#after second 'r': one string\n",
    "\n",
    "#but here the drawback is we need to find\n",
    "#the index of second 'r'\n",
    "#we are manually counting\n",
    "\n",
    "#que- is there any method to give automatically the index of letter"
   ]
  },
  {
   "cell_type": "markdown",
   "id": "427e8c1b-5512-4cce-bdf6-09d01751f508",
   "metadata": {},
   "source": [
    "**Index**"
   ]
  },
  {
   "cell_type": "code",
   "execution_count": 3,
   "id": "d18971c8-6b93-4d9b-b211-10eb2bcee890",
   "metadata": {},
   "outputs": [
    {
     "data": {
      "text/plain": [
       "0"
      ]
     },
     "execution_count": 3,
     "metadata": {},
     "output_type": "execute_result"
    }
   ],
   "source": [
    "str31='hello how are you'\n",
    "str31.index('h')"
   ]
  },
  {
   "cell_type": "code",
   "execution_count": 4,
   "id": "957f8695-2b09-45c1-a90d-990806190960",
   "metadata": {},
   "outputs": [
    {
     "data": {
      "text/plain": [
       "(8, 4)"
      ]
     },
     "execution_count": 4,
     "metadata": {},
     "output_type": "execute_result"
    }
   ],
   "source": [
    "str31.index('w'), str31.index('o')"
   ]
  },
  {
   "cell_type": "code",
   "execution_count": 5,
   "id": "2c3fdc86-7144-4032-ab08-c0276725a480",
   "metadata": {},
   "outputs": [
    {
     "data": {
      "text/plain": [
       "6"
      ]
     },
     "execution_count": 5,
     "metadata": {},
     "output_type": "execute_result"
    }
   ],
   "source": [
    "str31='wello how are you'\n",
    "str31.index('h',3+1)"
   ]
  },
  {
   "cell_type": "code",
   "execution_count": 16,
   "id": "616494b0-5b1e-4fab-b735-7d2318054799",
   "metadata": {},
   "outputs": [
    {
     "data": {
      "text/plain": [
       "(0, 4, 8, 12)"
      ]
     },
     "execution_count": 16,
     "metadata": {},
     "output_type": "execute_result"
    }
   ],
   "source": [
    "str32='hai hai hai hai'\n",
    "i1=str32.index('h')\n",
    "i2=str32.index('h', i1+1)\n",
    "i3=str32.index('h', i2+1)\n",
    "i4=str32.index('h', i3+1)\n",
    "#i5=str32.index('h', i4+1)  Error- substring not found\n",
    "i1,i2,i3,i4"
   ]
  },
  {
   "cell_type": "code",
   "execution_count": 18,
   "id": "7998ba92-051c-49e9-88c1-8d14055e96fa",
   "metadata": {},
   "outputs": [
    {
     "data": {
      "text/plain": [
       "8"
      ]
     },
     "execution_count": 18,
     "metadata": {},
     "output_type": "execute_result"
    }
   ],
   "source": [
    "str32.index('h',str32.index('h',str32.index('h')+1)+1)"
   ]
  },
  {
   "cell_type": "code",
   "execution_count": 23,
   "id": "2a3b0384-7602-4c1b-a876-b56054d9f7a9",
   "metadata": {},
   "outputs": [
    {
     "data": {
      "text/plain": [
       "'i hai '"
      ]
     },
     "execution_count": 23,
     "metadata": {},
     "output_type": "execute_result"
    }
   ],
   "source": [
    "str33='hai hai hai hai'\n",
    "str33.index('a',2,8)\n",
    "str33[2:8]"
   ]
  },
  {
   "cell_type": "code",
   "execution_count": 22,
   "id": "c38220e8-358d-4448-88e8-6de93ede2d43",
   "metadata": {},
   "outputs": [
    {
     "ename": "ValueError",
     "evalue": "substring not found",
     "output_type": "error",
     "traceback": [
      "\u001b[1;31m---------------------------------------------------------------------------\u001b[0m",
      "\u001b[1;31mValueError\u001b[0m                                Traceback (most recent call last)",
      "Cell \u001b[1;32mIn[22], line 1\u001b[0m\n\u001b[1;32m----> 1\u001b[0m str33\u001b[38;5;241m.\u001b[39mindex(\u001b[38;5;124m'\u001b[39m\u001b[38;5;124mz\u001b[39m\u001b[38;5;124m'\u001b[39m,\u001b[38;5;241m2\u001b[39m,\u001b[38;5;241m3\u001b[39m)\n",
      "\u001b[1;31mValueError\u001b[0m: substring not found"
     ]
    }
   ],
   "source": [
    "str33.index('z',2,3)"
   ]
  },
  {
   "cell_type": "code",
   "execution_count": 31,
   "id": "82cd9dba-2342-4f8e-932c-8cf0e22b3734",
   "metadata": {},
   "outputs": [
    {
     "data": {
      "text/plain": [
       "'restart $estart'"
      ]
     },
     "execution_count": 31,
     "metadata": {},
     "output_type": "execute_result"
    }
   ],
   "source": [
    "str34='restart restart'\n",
    "i1=str34.index('r')\n",
    "i2=str34.index('r', i1+1)\n",
    "s1=str34[:i2+1]\n",
    "s2=str34[i2+1:]\n",
    "s3=s2.replace('r','$',1)\n",
    "s3=s1+s3\n",
    "s3\n",
    "#i1,i2,s1,s2,s3"
   ]
  },
  {
   "cell_type": "markdown",
   "id": "faa17f2e-33b3-403f-9275-36df2f2c6e49",
   "metadata": {},
   "source": [
    "**Find**\n",
    "\n",
    "- just replace index with find"
   ]
  },
  {
   "cell_type": "code",
   "execution_count": 6,
   "id": "b8c80f67-d76f-4844-9d1a-f456a8b932b9",
   "metadata": {},
   "outputs": [
    {
     "data": {
      "text/plain": [
       "(0, 4, 8, 12, -1)"
      ]
     },
     "execution_count": 6,
     "metadata": {},
     "output_type": "execute_result"
    }
   ],
   "source": [
    "str1='hai hai hai hai'\n",
    "i1=str1.find('h')\n",
    "i2=str1.find('h', i1+1)\n",
    "i3=str1.find('h',i2+1)\n",
    "i4=str1.find('h',i3+1)\n",
    "i5=str1.find('h',i4+1) # find will not show, instead it will show -1\n",
    "i1,i2,i3,i4,i5"
   ]
  },
  {
   "cell_type": "markdown",
   "id": "24c0b87e-7230-4a85-98d2-13c777222370",
   "metadata": {},
   "source": [
    "- index and find both are working for same to find the index of a letter\n",
    "\n",
    "- if any substring not found index will throw error\n",
    "\n",
    "- but find method will give -1"
   ]
  },
  {
   "cell_type": "markdown",
   "id": "aa4c5d61-4d2f-4d75-9aeb-7cf96af737fd",
   "metadata": {},
   "source": [
    "**count**"
   ]
  },
  {
   "cell_type": "code",
   "execution_count": 7,
   "id": "47638f10-a86f-44c5-a057-7fd3d4338247",
   "metadata": {},
   "outputs": [
    {
     "data": {
      "text/plain": [
       "4"
      ]
     },
     "execution_count": 7,
     "metadata": {},
     "output_type": "execute_result"
    }
   ],
   "source": [
    "str1='hai hai hai hai'\n",
    "count=0\n",
    "for i in str1:\n",
    "    if i=='a':\n",
    "        count=count+1\n",
    "\n",
    "count"
   ]
  },
  {
   "cell_type": "code",
   "execution_count": 8,
   "id": "32d052e2-e86c-4e66-8e60-5f2b5c02004e",
   "metadata": {},
   "outputs": [
    {
     "data": {
      "text/plain": [
       "4"
      ]
     },
     "execution_count": 8,
     "metadata": {},
     "output_type": "execute_result"
    }
   ],
   "source": [
    "str1='hai hai hai hai'\n",
    "str1.count('a')"
   ]
  },
  {
   "cell_type": "code",
   "execution_count": 19,
   "id": "d6a72e40-7137-4025-bff0-d79c113157b8",
   "metadata": {},
   "outputs": [
    {
     "data": {
      "text/plain": [
       "1"
      ]
     },
     "execution_count": 19,
     "metadata": {},
     "output_type": "execute_result"
    }
   ],
   "source": [
    "str1.count('a',2,7)\n",
    "#count the number of 'a' between 2 to 6 index"
   ]
  },
  {
   "cell_type": "code",
   "execution_count": 12,
   "id": "b8d16bba-7251-4da4-ba53-233050fa3697",
   "metadata": {},
   "outputs": [
    {
     "data": {
      "text/plain": [
       "1"
      ]
     },
     "execution_count": 12,
     "metadata": {},
     "output_type": "execute_result"
    }
   ],
   "source": [
    "str1='hai hai hai hai'\n",
    "str1.count('hai hai hai')"
   ]
  },
  {
   "cell_type": "code",
   "execution_count": 13,
   "id": "d7cde2c9-7632-459a-8cfd-3aa73ef77cb9",
   "metadata": {},
   "outputs": [
    {
     "data": {
      "text/plain": [
       "1"
      ]
     },
     "execution_count": 13,
     "metadata": {},
     "output_type": "execute_result"
    }
   ],
   "source": [
    "str1='hai hai hai hai'\n",
    "str1.count(str1)"
   ]
  },
  {
   "cell_type": "code",
   "execution_count": 14,
   "id": "1f6e0cc9-5c19-426a-b0b8-41322bad078b",
   "metadata": {},
   "outputs": [
    {
     "data": {
      "text/plain": [
       "4"
      ]
     },
     "execution_count": 14,
     "metadata": {},
     "output_type": "execute_result"
    }
   ],
   "source": [
    "str1='hai hai hai hai'\n",
    "str1.count('hai')"
   ]
  },
  {
   "cell_type": "code",
   "execution_count": 18,
   "id": "e77db0a5-021f-494d-8159-146a1c2426c3",
   "metadata": {},
   "outputs": [
    {
     "name": "stdout",
     "output_type": "stream",
     "text": [
      "0\n"
     ]
    }
   ],
   "source": [
    "str1='hai hai hai hai'\n",
    "count=0\n",
    "s1='hai'\n",
    "for i in str1:\n",
    "    if i==s1:\n",
    "        count=count+1\n",
    "\n",
    "print(count)"
   ]
  },
  {
   "cell_type": "markdown",
   "id": "982b29df-c706-4e0d-97b8-bb9ac941d668",
   "metadata": {},
   "source": [
    "**sliding window approach**"
   ]
  },
  {
   "cell_type": "code",
   "execution_count": 21,
   "id": "c8c00052-1033-4034-b55d-3f113cf0ac57",
   "metadata": {},
   "outputs": [
    {
     "name": "stdout",
     "output_type": "stream",
     "text": [
      "4\n"
     ]
    }
   ],
   "source": [
    "str1='hai hai hai hai'\n",
    "count=0\n",
    "for i in range (len(str1)):\n",
    "    if str1[i:i+3]=='hai':\n",
    "        count=count+1\n",
    "\n",
    "print(count)\n",
    "\n",
    "#step-1: i=0 if str[0:3] : hai=hai T\n",
    "#step-2: i=1 if str[1:4] : ai h    f\n",
    "#step-3: i=2 if str[2:5] : i ha    f"
   ]
  },
  {
   "cell_type": "code",
   "execution_count": 32,
   "id": "1fcd2ab4-26ee-43f2-a9a3-ccf4a6be8634",
   "metadata": {},
   "outputs": [
    {
     "data": {
      "text/plain": [
       "('virat', 'kholi', 'rcb')"
      ]
     },
     "execution_count": 32,
     "metadata": {},
     "output_type": "execute_result"
    }
   ],
   "source": [
    "str1='virat.kholi@rcb.com'\n",
    "str2='rohit.sharma@rcb.com'\n",
    "str3='ms.dhoni@chennai.com'\n",
    "str4='omkar.nallagoni@cts.com'\n",
    "#derive the code to get\n",
    "#first name, second name, company name\n",
    "#idea- find the first dot index\n",
    "# find the @ index\n",
    "#find the second dot index\n",
    "\n",
    "str1='virat.kholi@rcb.com'\n",
    "first_dot=str1.index('.')\n",
    "at_symbol=str1.index('@')\n",
    "second_dot=str1.index('.', first_dot+1)\n",
    "fname=str1[:first_dot]\n",
    "sname=str1[first_dot+1:at_symbol]\n",
    "cname=str1[at_symbol+1:second_dot]\n",
    "fname,sname,cname\n",
    "#first_dot,at_symbol,second_dot"
   ]
  },
  {
   "cell_type": "code",
   "execution_count": 33,
   "id": "9b2577ac-00ad-41e8-94f3-af4ae9247373",
   "metadata": {},
   "outputs": [
    {
     "name": "stdout",
     "output_type": "stream",
     "text": [
      "ms dhoni chennai\n"
     ]
    }
   ],
   "source": [
    "def extraction(str1):\n",
    "    first_dot=str1.index('.')\n",
    "    at_symbol=str1.index('@')\n",
    "    second_dot=str1.index('.', first_dot+1)\n",
    "    fname=str1[:first_dot]\n",
    "    sname=str1[first_dot+1:at_symbol]\n",
    "    cname=str1[at_symbol+1:second_dot]\n",
    "    print(fname,sname,cname)\n",
    "\n",
    "extraction('ms.dhoni@chennai.com')"
   ]
  },
  {
   "cell_type": "code",
   "execution_count": 34,
   "id": "a360913a-b59d-475e-bb30-3b99a7c3f2c2",
   "metadata": {},
   "outputs": [
    {
     "data": {
      "text/plain": [
       "['__add__',\n",
       " '__class__',\n",
       " '__contains__',\n",
       " '__delattr__',\n",
       " '__dir__',\n",
       " '__doc__',\n",
       " '__eq__',\n",
       " '__format__',\n",
       " '__ge__',\n",
       " '__getattribute__',\n",
       " '__getitem__',\n",
       " '__getnewargs__',\n",
       " '__getstate__',\n",
       " '__gt__',\n",
       " '__hash__',\n",
       " '__init__',\n",
       " '__init_subclass__',\n",
       " '__iter__',\n",
       " '__le__',\n",
       " '__len__',\n",
       " '__lt__',\n",
       " '__mod__',\n",
       " '__mul__',\n",
       " '__ne__',\n",
       " '__new__',\n",
       " '__reduce__',\n",
       " '__reduce_ex__',\n",
       " '__repr__',\n",
       " '__rmod__',\n",
       " '__rmul__',\n",
       " '__setattr__',\n",
       " '__sizeof__',\n",
       " '__str__',\n",
       " '__subclasshook__',\n",
       " 'capitalize',\n",
       " 'casefold',\n",
       " 'center',\n",
       " 'count',\n",
       " 'encode',\n",
       " 'endswith',\n",
       " 'expandtabs',\n",
       " 'find',\n",
       " 'format',\n",
       " 'format_map',\n",
       " 'index',\n",
       " 'isalnum',\n",
       " 'isalpha',\n",
       " 'isascii',\n",
       " 'isdecimal',\n",
       " 'isdigit',\n",
       " 'isidentifier',\n",
       " 'islower',\n",
       " 'isnumeric',\n",
       " 'isprintable',\n",
       " 'isspace',\n",
       " 'istitle',\n",
       " 'isupper',\n",
       " 'join',\n",
       " 'ljust',\n",
       " 'lower',\n",
       " 'lstrip',\n",
       " 'maketrans',\n",
       " 'partition',\n",
       " 'removeprefix',\n",
       " 'removesuffix',\n",
       " 'replace',\n",
       " 'rfind',\n",
       " 'rindex',\n",
       " 'rjust',\n",
       " 'rpartition',\n",
       " 'rsplit',\n",
       " 'rstrip',\n",
       " 'split',\n",
       " 'splitlines',\n",
       " 'startswith',\n",
       " 'strip',\n",
       " 'swapcase',\n",
       " 'title',\n",
       " 'translate',\n",
       " 'upper',\n",
       " 'zfill']"
      ]
     },
     "execution_count": 34,
     "metadata": {},
     "output_type": "execute_result"
    }
   ],
   "source": [
    "dir('')"
   ]
  },
  {
   "cell_type": "code",
   "execution_count": 35,
   "id": "4ef53498-a1b5-4188-ae9a-0aedaa0158d4",
   "metadata": {},
   "outputs": [
    {
     "data": {
      "text/plain": [
       "False"
      ]
     },
     "execution_count": 35,
     "metadata": {},
     "output_type": "execute_result"
    }
   ],
   "source": [
    "#isupper\n",
    "\n",
    "str1=\"python\"\n",
    "str1.isupper()"
   ]
  },
  {
   "cell_type": "code",
   "execution_count": 36,
   "id": "2130432f-e223-4edf-86ee-c16fc396d596",
   "metadata": {},
   "outputs": [
    {
     "data": {
      "text/plain": [
       "False"
      ]
     },
     "execution_count": 36,
     "metadata": {},
     "output_type": "execute_result"
    }
   ],
   "source": [
    "str1=\"Python\"\n",
    "str1.isupper()"
   ]
  },
  {
   "cell_type": "code",
   "execution_count": 37,
   "id": "15459f12-c5f2-44d8-be24-99f942a3234b",
   "metadata": {},
   "outputs": [
    {
     "data": {
      "text/plain": [
       "True"
      ]
     },
     "execution_count": 37,
     "metadata": {},
     "output_type": "execute_result"
    }
   ],
   "source": [
    "str1=\"PYTHON\"\n",
    "str1.isupper()"
   ]
  },
  {
   "cell_type": "code",
   "execution_count": 38,
   "id": "54ee0036-0ce0-4335-8459-6ddceb686255",
   "metadata": {},
   "outputs": [
    {
     "data": {
      "text/plain": [
       "False"
      ]
     },
     "execution_count": 38,
     "metadata": {},
     "output_type": "execute_result"
    }
   ],
   "source": [
    "str1=\"PYTHOn\"\n",
    "str1.isupper()"
   ]
  },
  {
   "cell_type": "code",
   "execution_count": 39,
   "id": "58570e49-a5b3-4105-b7a5-a9cc07d399d0",
   "metadata": {},
   "outputs": [
    {
     "data": {
      "text/plain": [
       "True"
      ]
     },
     "execution_count": 39,
     "metadata": {},
     "output_type": "execute_result"
    }
   ],
   "source": [
    "#isalnum\n",
    "\n",
    "str1=\"python\"\n",
    "str1.isalnum()"
   ]
  },
  {
   "cell_type": "code",
   "execution_count": 40,
   "id": "c723f284-6734-4881-8f69-278a4725ae72",
   "metadata": {},
   "outputs": [
    {
     "data": {
      "text/plain": [
       "True"
      ]
     },
     "execution_count": 40,
     "metadata": {},
     "output_type": "execute_result"
    }
   ],
   "source": [
    "str1=\"pyth123\"\n",
    "str1.isalnum()"
   ]
  },
  {
   "cell_type": "code",
   "execution_count": 41,
   "id": "ebd1de96-c299-41ee-ad5f-ff5db29801fe",
   "metadata": {},
   "outputs": [
    {
     "data": {
      "text/plain": [
       "True"
      ]
     },
     "execution_count": 41,
     "metadata": {},
     "output_type": "execute_result"
    }
   ],
   "source": [
    "str1=\"123456\"\n",
    "str1.isalnum()"
   ]
  },
  {
   "cell_type": "code",
   "execution_count": 42,
   "id": "3e887b7b-c78c-4a80-8f4d-43a3d2fcea7b",
   "metadata": {},
   "outputs": [
    {
     "data": {
      "text/plain": [
       "True"
      ]
     },
     "execution_count": 42,
     "metadata": {},
     "output_type": "execute_result"
    }
   ],
   "source": [
    "#isalpha\n",
    "\n",
    "str1=\"python\"\n",
    "str1.isalpha()"
   ]
  },
  {
   "cell_type": "code",
   "execution_count": 43,
   "id": "84b87187-e2ee-4f74-94af-721862306a81",
   "metadata": {},
   "outputs": [
    {
     "data": {
      "text/plain": [
       "False"
      ]
     },
     "execution_count": 43,
     "metadata": {},
     "output_type": "execute_result"
    }
   ],
   "source": [
    "str1=\"py123thon\"\n",
    "str1.isalpha()"
   ]
  },
  {
   "cell_type": "code",
   "execution_count": 44,
   "id": "67950925-73bf-478c-b2c6-0207363b3031",
   "metadata": {},
   "outputs": [
    {
     "data": {
      "text/plain": [
       "False"
      ]
     },
     "execution_count": 44,
     "metadata": {},
     "output_type": "execute_result"
    }
   ],
   "source": [
    "str1=\"123456\"\n",
    "str1.isalpha()"
   ]
  },
  {
   "cell_type": "code",
   "execution_count": 45,
   "id": "c56a2be0-ff76-4f9b-8842-7e371ef963ae",
   "metadata": {},
   "outputs": [
    {
     "data": {
      "text/plain": [
       "True"
      ]
     },
     "execution_count": 45,
     "metadata": {},
     "output_type": "execute_result"
    }
   ],
   "source": [
    "str1=\"PYTHON\"\n",
    "str1.isalpha()"
   ]
  },
  {
   "cell_type": "code",
   "execution_count": 46,
   "id": "9262a623-633b-4814-9729-93629e6e40ec",
   "metadata": {},
   "outputs": [
    {
     "data": {
      "text/plain": [
       "True"
      ]
     },
     "execution_count": 46,
     "metadata": {},
     "output_type": "execute_result"
    }
   ],
   "source": [
    "#isascii\n",
    "\n",
    "str1=\"python\"\n",
    "str1.isascii()"
   ]
  },
  {
   "cell_type": "code",
   "execution_count": 47,
   "id": "ff524b7c-85aa-4498-a02d-5455bea31df4",
   "metadata": {},
   "outputs": [
    {
     "data": {
      "text/plain": [
       "False"
      ]
     },
     "execution_count": 47,
     "metadata": {},
     "output_type": "execute_result"
    }
   ],
   "source": [
    "str1=\"123456\"\n",
    "str1.isalpha()"
   ]
  },
  {
   "cell_type": "code",
   "execution_count": 48,
   "id": "363242d5-9256-42a6-ad34-08e0acc801f5",
   "metadata": {},
   "outputs": [
    {
     "data": {
      "text/plain": [
       "False"
      ]
     },
     "execution_count": 48,
     "metadata": {},
     "output_type": "execute_result"
    }
   ],
   "source": [
    "str1=\"pyt1234hon\"\n",
    "str1.isalpha()"
   ]
  },
  {
   "cell_type": "code",
   "execution_count": 49,
   "id": "218bf984-5eea-4f49-a942-dfbd3160a19a",
   "metadata": {},
   "outputs": [
    {
     "data": {
      "text/plain": [
       "True"
      ]
     },
     "execution_count": 49,
     "metadata": {},
     "output_type": "execute_result"
    }
   ],
   "source": [
    "str1=\"PYTHON\"\n",
    "str1.isalpha()"
   ]
  },
  {
   "cell_type": "code",
   "execution_count": 50,
   "id": "221c4035-bec8-4e15-a059-d57cffad43fe",
   "metadata": {},
   "outputs": [
    {
     "data": {
      "text/plain": [
       "True"
      ]
     },
     "execution_count": 50,
     "metadata": {},
     "output_type": "execute_result"
    }
   ],
   "source": [
    "str1=\"pythON\"\n",
    "str1.isalpha()"
   ]
  },
  {
   "cell_type": "code",
   "execution_count": 51,
   "id": "ee9e7cd6-a68b-4b57-9938-14d4014619e9",
   "metadata": {},
   "outputs": [
    {
     "data": {
      "text/plain": [
       "False"
      ]
     },
     "execution_count": 51,
     "metadata": {},
     "output_type": "execute_result"
    }
   ],
   "source": [
    "#isdecimal\n",
    "\n",
    "str1=\"python\"\n",
    "str1.isdecimal()"
   ]
  },
  {
   "cell_type": "code",
   "execution_count": 52,
   "id": "3ccee69e-29a2-4fe6-a09f-36d55bf6756c",
   "metadata": {},
   "outputs": [
    {
     "data": {
      "text/plain": [
       "False"
      ]
     },
     "execution_count": 52,
     "metadata": {},
     "output_type": "execute_result"
    }
   ],
   "source": [
    "str1=\"2.4\"\n",
    "str1.isdecimal()"
   ]
  },
  {
   "cell_type": "code",
   "execution_count": 54,
   "id": "9c6b0c90-cf9e-4217-bf2b-c200e701460f",
   "metadata": {},
   "outputs": [
    {
     "data": {
      "text/plain": [
       "True"
      ]
     },
     "execution_count": 54,
     "metadata": {},
     "output_type": "execute_result"
    }
   ],
   "source": [
    "str1=\"1234\"\n",
    "str1.isdecimal()"
   ]
  },
  {
   "cell_type": "code",
   "execution_count": 55,
   "id": "6df7906b-e405-4f5b-9997-adbc026f4ab4",
   "metadata": {},
   "outputs": [
    {
     "data": {
      "text/plain": [
       "False"
      ]
     },
     "execution_count": 55,
     "metadata": {},
     "output_type": "execute_result"
    }
   ],
   "source": [
    "str1=\"pyth1234on\"\n",
    "str1.isdecimal()"
   ]
  },
  {
   "cell_type": "code",
   "execution_count": 57,
   "id": "c36e3d59-1e1c-4783-aebe-455c051eb83e",
   "metadata": {},
   "outputs": [
    {
     "data": {
      "text/plain": [
       "False"
      ]
     },
     "execution_count": 57,
     "metadata": {},
     "output_type": "execute_result"
    }
   ],
   "source": [
    "#isdigit\n",
    "\n",
    "str1=\"python\"\n",
    "str1.isdigit()"
   ]
  },
  {
   "cell_type": "code",
   "execution_count": 58,
   "id": "2de30ec7-75f4-4496-a18b-4ccfd53507ac",
   "metadata": {},
   "outputs": [
    {
     "data": {
      "text/plain": [
       "False"
      ]
     },
     "execution_count": 58,
     "metadata": {},
     "output_type": "execute_result"
    }
   ],
   "source": [
    "str1=\"pyth123}on\"\n",
    "str1.isdigit()"
   ]
  },
  {
   "cell_type": "code",
   "execution_count": 59,
   "id": "5024c644-40fe-4209-aec0-ea95708ce4eb",
   "metadata": {},
   "outputs": [
    {
     "data": {
      "text/plain": [
       "True"
      ]
     },
     "execution_count": 59,
     "metadata": {},
     "output_type": "execute_result"
    }
   ],
   "source": [
    "str1=\"123569\"\n",
    "str1.isdigit()"
   ]
  },
  {
   "cell_type": "code",
   "execution_count": 60,
   "id": "1cb5f7d5-6c2f-4dc1-8455-5ae3947626cf",
   "metadata": {},
   "outputs": [
    {
     "data": {
      "text/plain": [
       "False"
      ]
     },
     "execution_count": 60,
     "metadata": {},
     "output_type": "execute_result"
    }
   ],
   "source": [
    "str1=\"1.2.3\"\n",
    "str1.isdigit()"
   ]
  },
  {
   "cell_type": "code",
   "execution_count": 61,
   "id": "5e1d08d4-1312-4b14-a337-dbd056b70447",
   "metadata": {},
   "outputs": [
    {
     "data": {
      "text/plain": [
       "True"
      ]
     },
     "execution_count": 61,
     "metadata": {},
     "output_type": "execute_result"
    }
   ],
   "source": [
    "#isidentifier\n",
    "\n",
    "str1=\"python\"\n",
    "str1.isidentifier()"
   ]
  },
  {
   "cell_type": "code",
   "execution_count": 62,
   "id": "b77fc404-e378-47b4-a7b5-a5a22d144116",
   "metadata": {},
   "outputs": [
    {
     "data": {
      "text/plain": [
       "True"
      ]
     },
     "execution_count": 62,
     "metadata": {},
     "output_type": "execute_result"
    }
   ],
   "source": [
    "#islower\n",
    "\n",
    "str1=\"python\"\n",
    "str1.islower()"
   ]
  },
  {
   "cell_type": "code",
   "execution_count": 63,
   "id": "8b5f9dd3-7471-4d50-85bf-8c897b405a78",
   "metadata": {},
   "outputs": [
    {
     "data": {
      "text/plain": [
       "False"
      ]
     },
     "execution_count": 63,
     "metadata": {},
     "output_type": "execute_result"
    }
   ],
   "source": [
    "str1=\"PYTHON\"\n",
    "str1.islower()"
   ]
  },
  {
   "cell_type": "code",
   "execution_count": 64,
   "id": "4bd4fe57-4f56-4172-8655-3e3ea7689a12",
   "metadata": {},
   "outputs": [
    {
     "data": {
      "text/plain": [
       "True"
      ]
     },
     "execution_count": 64,
     "metadata": {},
     "output_type": "execute_result"
    }
   ],
   "source": [
    "str1=\"pyt123hon\"\n",
    "str1.islower()"
   ]
  },
  {
   "cell_type": "code",
   "execution_count": 65,
   "id": "680365ca-13c9-47f0-96b5-36f2ba21c841",
   "metadata": {},
   "outputs": [
    {
     "data": {
      "text/plain": [
       "False"
      ]
     },
     "execution_count": 65,
     "metadata": {},
     "output_type": "execute_result"
    }
   ],
   "source": [
    "str1=\"pythoN\"\n",
    "str1.islower()"
   ]
  },
  {
   "cell_type": "code",
   "execution_count": 66,
   "id": "3ee7e628-9369-48e8-99d7-86a1d306d1c8",
   "metadata": {},
   "outputs": [
    {
     "data": {
      "text/plain": [
       "True"
      ]
     },
     "execution_count": 66,
     "metadata": {},
     "output_type": "execute_result"
    }
   ],
   "source": [
    "str1=\"12python\"\n",
    "str1.islower()"
   ]
  },
  {
   "cell_type": "code",
   "execution_count": 67,
   "id": "74a55274-0d65-41d2-897f-c276ffe91009",
   "metadata": {},
   "outputs": [
    {
     "data": {
      "text/plain": [
       "False"
      ]
     },
     "execution_count": 67,
     "metadata": {},
     "output_type": "execute_result"
    }
   ],
   "source": [
    "#isnumeric\n",
    "\n",
    "str1=\"python\"\n",
    "str1.isnumeric()"
   ]
  },
  {
   "cell_type": "code",
   "execution_count": 68,
   "id": "a0212752-fe27-4170-87a5-3238e3858c56",
   "metadata": {},
   "outputs": [
    {
     "data": {
      "text/plain": [
       "True"
      ]
     },
     "execution_count": 68,
     "metadata": {},
     "output_type": "execute_result"
    }
   ],
   "source": [
    "str1=\"123\"\n",
    "str1.isnumeric()"
   ]
  },
  {
   "cell_type": "code",
   "execution_count": 69,
   "id": "2bfe8896-7913-4fb1-b3da-9113a37ad5be",
   "metadata": {},
   "outputs": [
    {
     "data": {
      "text/plain": [
       "False"
      ]
     },
     "execution_count": 69,
     "metadata": {},
     "output_type": "execute_result"
    }
   ],
   "source": [
    "str1=\"py123thon\"\n",
    "str1.isnumeric()"
   ]
  },
  {
   "cell_type": "code",
   "execution_count": 70,
   "id": "f6a31948-3923-44ec-a425-9d549ac86bf5",
   "metadata": {},
   "outputs": [
    {
     "data": {
      "text/plain": [
       "False"
      ]
     },
     "execution_count": 70,
     "metadata": {},
     "output_type": "execute_result"
    }
   ],
   "source": [
    "str1=\"n\"\n",
    "str1.isnumeric()"
   ]
  },
  {
   "cell_type": "code",
   "execution_count": 71,
   "id": "0ba42d9a-efd9-491c-bede-87b16b12dc9f",
   "metadata": {},
   "outputs": [
    {
     "data": {
      "text/plain": [
       "False"
      ]
     },
     "execution_count": 71,
     "metadata": {},
     "output_type": "execute_result"
    }
   ],
   "source": [
    "str1=\"\"\n",
    "str1.isnumeric()"
   ]
  },
  {
   "cell_type": "code",
   "execution_count": 72,
   "id": "fb0329fa-1055-4c08-9612-e8da0d100726",
   "metadata": {},
   "outputs": [
    {
     "data": {
      "text/plain": [
       "False"
      ]
     },
     "execution_count": 72,
     "metadata": {},
     "output_type": "execute_result"
    }
   ],
   "source": [
    "#isspace\n",
    "\n",
    "str1=\"python\"\n",
    "str1.isspace()"
   ]
  },
  {
   "cell_type": "code",
   "execution_count": 73,
   "id": "429e478e-51a7-44eb-a645-4f8802da34b6",
   "metadata": {},
   "outputs": [
    {
     "data": {
      "text/plain": [
       "False"
      ]
     },
     "execution_count": 73,
     "metadata": {},
     "output_type": "execute_result"
    }
   ],
   "source": [
    "str1=\"hello python\"\n",
    "str1.isspace()"
   ]
  },
  {
   "cell_type": "code",
   "execution_count": 74,
   "id": "8c9b7402-9182-4932-bbd5-ac4439d81dce",
   "metadata": {},
   "outputs": [
    {
     "data": {
      "text/plain": [
       "False"
      ]
     },
     "execution_count": 74,
     "metadata": {},
     "output_type": "execute_result"
    }
   ],
   "source": [
    "str1=\"\"\n",
    "str1.isspace()"
   ]
  },
  {
   "cell_type": "code",
   "execution_count": 75,
   "id": "32d5061f-cfac-4dd8-838a-4e88ded44b2e",
   "metadata": {},
   "outputs": [
    {
     "data": {
      "text/plain": [
       "True"
      ]
     },
     "execution_count": 75,
     "metadata": {},
     "output_type": "execute_result"
    }
   ],
   "source": [
    "str1=\" \"\n",
    "str1.isspace()"
   ]
  },
  {
   "cell_type": "code",
   "execution_count": 78,
   "id": "457042d9-f3c1-42c6-9c3b-578617e6cd61",
   "metadata": {},
   "outputs": [
    {
     "data": {
      "text/plain": [
       "True"
      ]
     },
     "execution_count": 78,
     "metadata": {},
     "output_type": "execute_result"
    }
   ],
   "source": [
    "str1=\"  \"\n",
    "str1.isspace()"
   ]
  },
  {
   "cell_type": "code",
   "execution_count": 77,
   "id": "7aab119d-7e02-4e4a-9cc7-98cbef9e8a67",
   "metadata": {},
   "outputs": [
    {
     "data": {
      "text/plain": [
       "True"
      ]
     },
     "execution_count": 77,
     "metadata": {},
     "output_type": "execute_result"
    }
   ],
   "source": [
    "str1=\"                \"\n",
    "str1.isspace()"
   ]
  },
  {
   "cell_type": "code",
   "execution_count": 79,
   "id": "4ef8e4d0-fccf-43eb-8ace-a620aff08804",
   "metadata": {},
   "outputs": [
    {
     "data": {
      "text/plain": [
       "False"
      ]
     },
     "execution_count": 79,
     "metadata": {},
     "output_type": "execute_result"
    }
   ],
   "source": [
    "#istitle\n",
    "\n",
    "str1=\"hello python\"\n",
    "str1.istitle()"
   ]
  },
  {
   "cell_type": "code",
   "execution_count": 80,
   "id": "47715cf2-792d-48f0-8341-f892474f94c6",
   "metadata": {},
   "outputs": [
    {
     "data": {
      "text/plain": [
       "True"
      ]
     },
     "execution_count": 80,
     "metadata": {},
     "output_type": "execute_result"
    }
   ],
   "source": [
    "str1=\"Python\"\n",
    "str1.istitle()"
   ]
  },
  {
   "cell_type": "code",
   "execution_count": 81,
   "id": "2c4eaca0-29e5-4313-9064-372089f829bc",
   "metadata": {},
   "outputs": [
    {
     "data": {
      "text/plain": [
       "True"
      ]
     },
     "execution_count": 81,
     "metadata": {},
     "output_type": "execute_result"
    }
   ],
   "source": [
    "str1=\"Hello Python\"\n",
    "str1.istitle()"
   ]
  },
  {
   "cell_type": "code",
   "execution_count": 82,
   "id": "46779eaa-784a-4bfc-b7a1-58cbcf1e4503",
   "metadata": {},
   "outputs": [
    {
     "data": {
      "text/plain": [
       "False"
      ]
     },
     "execution_count": 82,
     "metadata": {},
     "output_type": "execute_result"
    }
   ],
   "source": [
    "str1=\"hello Python\"\n",
    "str1.istitle()"
   ]
  },
  {
   "cell_type": "code",
   "execution_count": 83,
   "id": "2ad50e10-0ff0-4163-9e28-6a17122852ed",
   "metadata": {},
   "outputs": [
    {
     "data": {
      "text/plain": [
       "False"
      ]
     },
     "execution_count": 83,
     "metadata": {},
     "output_type": "execute_result"
    }
   ],
   "source": [
    "str1=\"Hello python\"\n",
    "str1.istitle()"
   ]
  },
  {
   "cell_type": "markdown",
   "id": "13fe5b97-878e-411e-98b0-45c5418a855c",
   "metadata": {},
   "source": [
    "**lstrip-strip-rstrip**\n",
    "\n",
    "- lstrip - we can remove some letters from left side of string\n",
    "\n",
    "- rstrip - we can remove some letters from right side of string\n",
    "\n",
    "- strip - we can remove some letters from both side of string"
   ]
  },
  {
   "cell_type": "code",
   "execution_count": 87,
   "id": "32f2b8df-b7c1-46a2-af57-21e07f464193",
   "metadata": {},
   "outputs": [
    {
     "data": {
      "text/plain": [
       "('hi how are you', ' hi how are you', 'hi how are you')"
      ]
     },
     "execution_count": 87,
     "metadata": {},
     "output_type": "execute_result"
    }
   ],
   "source": [
    "s1=' hi how are you'\n",
    "s2='hi how are you '\n",
    "s3=' hi how are you '\n",
    "s1.lstrip(),s1.rstrip(),s1.strip()"
   ]
  },
  {
   "cell_type": "code",
   "execution_count": 88,
   "id": "31bcfc8b-8446-414c-bb55-312ce4c427fc",
   "metadata": {},
   "outputs": [
    {
     "data": {
      "text/plain": [
       "('hi how are you ', 'hi how are you', 'hi how are you')"
      ]
     },
     "execution_count": 88,
     "metadata": {},
     "output_type": "execute_result"
    }
   ],
   "source": [
    "s2.lstrip(),s2.rstrip(),s2.strip()"
   ]
  },
  {
   "cell_type": "code",
   "execution_count": 89,
   "id": "c8347c6b-4121-4774-8d51-a4cac3e0c889",
   "metadata": {},
   "outputs": [
    {
     "data": {
      "text/plain": [
       "('hi how are you ', ' hi how are you', 'hi how are you')"
      ]
     },
     "execution_count": 89,
     "metadata": {},
     "output_type": "execute_result"
    }
   ],
   "source": [
    "s3.lstrip(),s3.rstrip(),s3.strip()"
   ]
  },
  {
   "cell_type": "code",
   "execution_count": 92,
   "id": "9f762dfa-db97-425a-8ea0-60a0d78be318",
   "metadata": {},
   "outputs": [
    {
     "data": {
      "text/plain": [
       "'hi how are you'"
      ]
     },
     "execution_count": 92,
     "metadata": {},
     "output_type": "execute_result"
    }
   ],
   "source": [
    "s1='****hi how are you'\n",
    "s1.lstrip('*')"
   ]
  },
  {
   "cell_type": "markdown",
   "id": "5bfc94cf-3803-4fda-9d0d-96107656b861",
   "metadata": {},
   "source": [
    "**startswith-endswith**"
   ]
  },
  {
   "cell_type": "code",
   "execution_count": 93,
   "id": "e998ad6d-037b-4d6e-83a7-b1a792966a05",
   "metadata": {},
   "outputs": [
    {
     "data": {
      "text/plain": [
       "True"
      ]
     },
     "execution_count": 93,
     "metadata": {},
     "output_type": "execute_result"
    }
   ],
   "source": [
    "str1='hai how are you'\n",
    "str1.startswith('h')"
   ]
  },
  {
   "cell_type": "code",
   "execution_count": 94,
   "id": "6da6e75e-04be-4f75-bdd0-cae4de439446",
   "metadata": {},
   "outputs": [
    {
     "data": {
      "text/plain": [
       "False"
      ]
     },
     "execution_count": 94,
     "metadata": {},
     "output_type": "execute_result"
    }
   ],
   "source": [
    "str1.startswith('H')"
   ]
  },
  {
   "cell_type": "code",
   "execution_count": 95,
   "id": "1a5214a9-8399-4cac-a45d-fe76a1262c98",
   "metadata": {},
   "outputs": [
    {
     "data": {
      "text/plain": [
       "True"
      ]
     },
     "execution_count": 95,
     "metadata": {},
     "output_type": "execute_result"
    }
   ],
   "source": [
    "str1.startswith('hai')"
   ]
  },
  {
   "cell_type": "code",
   "execution_count": 96,
   "id": "b8129cc9-7040-456a-9a95-f144b20714b8",
   "metadata": {},
   "outputs": [
    {
     "data": {
      "text/plain": [
       "True"
      ]
     },
     "execution_count": 96,
     "metadata": {},
     "output_type": "execute_result"
    }
   ],
   "source": [
    "str1.startswith('hai how are you')"
   ]
  },
  {
   "cell_type": "code",
   "execution_count": 97,
   "id": "89faafc1-02c6-40bd-9518-cf71c2363f5e",
   "metadata": {},
   "outputs": [
    {
     "data": {
      "text/plain": [
       "True"
      ]
     },
     "execution_count": 97,
     "metadata": {},
     "output_type": "execute_result"
    }
   ],
   "source": [
    "str1.startswith(str1)"
   ]
  },
  {
   "cell_type": "markdown",
   "id": "c037c122-fe29-4d3d-9866-59492d2e435c",
   "metadata": {},
   "source": [
    "**spilt**"
   ]
  },
  {
   "cell_type": "code",
   "execution_count": 100,
   "id": "6a6d1bdb-c889-4c06-a9c2-9fe21412a401",
   "metadata": {},
   "outputs": [
    {
     "data": {
      "text/plain": [
       "['hello', 'how', 'are', 'you']"
      ]
     },
     "execution_count": 100,
     "metadata": {},
     "output_type": "execute_result"
    }
   ],
   "source": [
    "str1='hello how are you'\n",
    "str1.split()"
   ]
  },
  {
   "cell_type": "code",
   "execution_count": 101,
   "id": "d5110bf6-befc-4f12-aaaf-f132aaa2f0f4",
   "metadata": {},
   "outputs": [
    {
     "data": {
      "text/plain": [
       "['', 'ello ', 'ow are you']"
      ]
     },
     "execution_count": 101,
     "metadata": {},
     "output_type": "execute_result"
    }
   ],
   "source": [
    "str1.split('h')"
   ]
  },
  {
   "cell_type": "code",
   "execution_count": 102,
   "id": "887edd6b-a10b-4d27-9932-3c880ed83c46",
   "metadata": {},
   "outputs": [
    {
     "data": {
      "text/plain": [
       "['hello how ', 're you']"
      ]
     },
     "execution_count": 102,
     "metadata": {},
     "output_type": "execute_result"
    }
   ],
   "source": [
    "str1='hello how are you'\n",
    "str1.split('a')"
   ]
  },
  {
   "cell_type": "code",
   "execution_count": 103,
   "id": "43bfce50-adbc-43dd-a17a-8032965255bc",
   "metadata": {},
   "outputs": [
    {
     "data": {
      "text/plain": [
       "['h', 'i h', 'i h', 'i h', 'i']"
      ]
     },
     "execution_count": 103,
     "metadata": {},
     "output_type": "execute_result"
    }
   ],
   "source": [
    "str1='hai hai hai hai'\n",
    "str1.split('a')"
   ]
  },
  {
   "cell_type": "code",
   "execution_count": null,
   "id": "2da4b8c1-779f-4d30-8e2a-d8f74507dcef",
   "metadata": {},
   "outputs": [],
   "source": []
  }
 ],
 "metadata": {
  "kernelspec": {
   "display_name": "Python 3 (ipykernel)",
   "language": "python",
   "name": "python3"
  },
  "language_info": {
   "codemirror_mode": {
    "name": "ipython",
    "version": 3
   },
   "file_extension": ".py",
   "mimetype": "text/x-python",
   "name": "python",
   "nbconvert_exporter": "python",
   "pygments_lexer": "ipython3",
   "version": "3.12.7"
  }
 },
 "nbformat": 4,
 "nbformat_minor": 5
}
