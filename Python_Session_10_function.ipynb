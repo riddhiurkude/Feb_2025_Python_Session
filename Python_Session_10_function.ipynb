{
 "cells": [
  {
   "cell_type": "markdown",
   "id": "311fda5e-0b81-4964-a899-b444fb60287c",
   "metadata": {},
   "source": [
    "**Function or Methods**\n",
    "\n",
    "- Reuse of code"
   ]
  },
  {
   "cell_type": "markdown",
   "id": "1e484601-732e-4c8e-9d60-69f530e7e035",
   "metadata": {},
   "source": [
    "**Types-**\n",
    "\n",
    "- function without arguments\n",
    "\n",
    "- function with arguments\n",
    "\n",
    "- function with default arguments\n",
    "\n",
    "- Global variable and local variable\n",
    "\n",
    "- function with return statement\n",
    "\n",
    "- function with kwargs\n",
    "\n",
    "- function in function"
   ]
  },
  {
   "cell_type": "markdown",
   "id": "5a4aabbd-9bba-4110-a2af-bf4aaa42e2d7",
   "metadata": {},
   "source": [
    "#syntax\n",
    "\n",
    "def <function name>():\n",
    "    <write your code here>"
   ]
  },
  {
   "cell_type": "markdown",
   "id": "4ce8d7fa-8438-4e77-9191-4951b67e51d7",
   "metadata": {},
   "source": [
    "**Function without Arguments-**\n",
    "\n",
    "- the function we defined does not have any values or variables\n",
    "\n",
    "- These also called as arguments or parameters\n",
    "\n",
    "- simply it is a empty bracket"
   ]
  },
  {
   "cell_type": "code",
   "execution_count": 1,
   "id": "e7e8e6d5-e1e2-42aa-9a30-d4eb834eac5b",
   "metadata": {},
   "outputs": [
    {
     "name": "stdin",
     "output_type": "stream",
     "text": [
      "Enter the n1:  40\n",
      "Enter the n2:  20\n"
     ]
    },
    {
     "name": "stdout",
     "output_type": "stream",
     "text": [
      "the addition of 40 and 20 is 60\n"
     ]
    }
   ],
   "source": [
    "n1=eval(input('Enter the n1: '))\n",
    "n2=eval(input('Enter the n2: '))\n",
    "add=n1+n2\n",
    "print(f'the addition of {n1} and {n2} is {add}')"
   ]
  },
  {
   "cell_type": "code",
   "execution_count": 2,
   "id": "7a352602-6cd6-430e-9a4b-5d1b1420b20b",
   "metadata": {},
   "outputs": [
    {
     "name": "stdin",
     "output_type": "stream",
     "text": [
      "Enter the n1:  12\n",
      "Enter the n2:  10\n"
     ]
    },
    {
     "name": "stdout",
     "output_type": "stream",
     "text": [
      "the addition of 12 and 10 is 22\n"
     ]
    }
   ],
   "source": [
    "def addition():\n",
    "    n1=eval(input('Enter the n1: '))\n",
    "    n2=eval(input('Enter the n2: '))\n",
    "    add=n1+n2\n",
    "    print(f'the addition of {n1} and {n2} is {add}')\n",
    "\n",
    "#function is ready\n",
    "#creating a function means it will not give a answer\n",
    "#you need to call the function\n",
    "\n",
    "addition()"
   ]
  },
  {
   "cell_type": "code",
   "execution_count": 3,
   "id": "32854f03-b9c3-4fb9-9201-dc1b7b797ed0",
   "metadata": {},
   "outputs": [
    {
     "data": {
      "text/plain": [
       "<function __main__.addition()>"
      ]
     },
     "execution_count": 3,
     "metadata": {},
     "output_type": "execute_result"
    }
   ],
   "source": [
    "addition"
   ]
  },
  {
   "cell_type": "markdown",
   "id": "0e97886f-6e75-4aab-be24-f4d8b97b5776",
   "metadata": {},
   "source": [
    "**Note-**\n",
    "\n",
    "- while calling the function we need to use the function name\n",
    "\n",
    "- also we need to provide brackets\n",
    "\n",
    "- In python, brackets indicates it is a function or method\n",
    "\n",
    "- if we miss the brackets, it will display as\n",
    "    - function\n",
    "    - bound method"
   ]
  },
  {
   "cell_type": "markdown",
   "id": "1d26edb9-a814-43f3-b0a5-e5516b6c9f83",
   "metadata": {},
   "source": [
    "**Note-**\n",
    "\n",
    "- once we created the function we can use anywhere in the same notebook\n",
    "\n",
    "- if you want to use in another notebook\n",
    "\n",
    "- we need to create as package (oops)"
   ]
  },
  {
   "cell_type": "code",
   "execution_count": 4,
   "id": "3e7e00ca-72f6-4015-8272-0dd5fa2ee855",
   "metadata": {},
   "outputs": [
    {
     "ename": "NameError",
     "evalue": "name 'addition1' is not defined",
     "output_type": "error",
     "traceback": [
      "\u001b[1;31m---------------------------------------------------------------------------\u001b[0m",
      "\u001b[1;31mNameError\u001b[0m                                 Traceback (most recent call last)",
      "Cell \u001b[1;32mIn[4], line 1\u001b[0m\n\u001b[1;32m----> 1\u001b[0m addition1()\n\u001b[0;32m      2\u001b[0m \u001b[38;5;28;01mdef\u001b[39;00m \u001b[38;5;21maddition1\u001b[39m():\n\u001b[0;32m      3\u001b[0m     n1\u001b[38;5;241m=\u001b[39m\u001b[38;5;28meval\u001b[39m(\u001b[38;5;28minput\u001b[39m(\u001b[38;5;124m'\u001b[39m\u001b[38;5;124mEnter the n1: \u001b[39m\u001b[38;5;124m'\u001b[39m))\n",
      "\u001b[1;31mNameError\u001b[0m: name 'addition1' is not defined"
     ]
    }
   ],
   "source": [
    "addition1()\n",
    "def addition1():\n",
    "    n1=eval(input('Enter the n1: '))\n",
    "    n2=eval(input('Enter the n2: '))\n",
    "    add=n1+n2\n",
    "    print(f'the addition of {n1} and {n2} is {add}')\n",
    "\n",
    "#this code will give the error\n",
    "#before calling the function, first we need to define the function"
   ]
  },
  {
   "cell_type": "code",
   "execution_count": 5,
   "id": "cb328d28-9c95-4fad-acad-1526a3b6bb9d",
   "metadata": {},
   "outputs": [
    {
     "name": "stdin",
     "output_type": "stream",
     "text": [
      "Enter the n1:  42\n",
      "Enter the n2:  15\n",
      "Enter the n3:  28\n"
     ]
    },
    {
     "name": "stdout",
     "output_type": "stream",
     "text": [
      "the avg of 42, 15 and 28 is 28.33\n"
     ]
    }
   ],
   "source": [
    "def average():\n",
    "    n1=eval(input('Enter the n1: '))\n",
    "    n2=eval(input('Enter the n2: '))\n",
    "    n3=eval(input('Enter the n3: '))\n",
    "    avg=(n1+n2+n3)/3\n",
    "    avg1=round(avg,2)\n",
    "    print(f'the avg of {n1}, {n2} and {n3} is {avg1}')\n",
    "\n",
    "average()"
   ]
  },
  {
   "cell_type": "code",
   "execution_count": 6,
   "id": "8ad5d414-28a8-4455-8ec9-bfaf26a8102d",
   "metadata": {},
   "outputs": [
    {
     "name": "stdin",
     "output_type": "stream",
     "text": [
      "Enter the breadth:  5\n",
      "Enter the height:  9\n"
     ]
    },
    {
     "name": "stdout",
     "output_type": "stream",
     "text": [
      "the area of right angle triangle is 22.5\n"
     ]
    }
   ],
   "source": [
    "def right_angle_triangle():\n",
    "    b=eval(input('Enter the breadth: '))\n",
    "    h=eval(input('Enter the height: '))\n",
    "    area=0.5*b*h\n",
    "    print(f'the area of right angle triangle is {area}')\n",
    "\n",
    "right_angle_triangle()"
   ]
  },
  {
   "cell_type": "code",
   "execution_count": 7,
   "id": "7bec4f02-7492-45ae-bd3c-2ede72a163e7",
   "metadata": {},
   "outputs": [
    {
     "name": "stdin",
     "output_type": "stream",
     "text": [
      "Enter the radius:  8\n"
     ]
    },
    {
     "name": "stdout",
     "output_type": "stream",
     "text": [
      "the area of circle is 200.96\n"
     ]
    }
   ],
   "source": [
    "def circle():\n",
    "    r=eval(input('Enter the radius: '))\n",
    "    pi=3.14\n",
    "    area=pi*r*r\n",
    "    print(f'the area of circle is {area}')\n",
    "\n",
    "circle()"
   ]
  },
  {
   "cell_type": "code",
   "execution_count": 8,
   "id": "adea5ff3-7e19-4cfa-bfad-e65ddee7a393",
   "metadata": {},
   "outputs": [
    {
     "name": "stdin",
     "output_type": "stream",
     "text": [
      "Enter the bill amount:  4200\n",
      "How much tip you want to provide:  100\n"
     ]
    },
    {
     "name": "stdout",
     "output_type": "stream",
     "text": [
      "the total bill amount is 4300\n"
     ]
    }
   ],
   "source": [
    "def bill():\n",
    "    amount=eval(input('Enter the bill amount: '))\n",
    "    tip=eval(input('How much tip you want to provide: '))\n",
    "    total_bill=amount+tip\n",
    "    print(f'the total bill amount is {total_bill}')\n",
    "\n",
    "bill()"
   ]
  },
  {
   "cell_type": "code",
   "execution_count": 9,
   "id": "82d503da-dc1c-4572-a042-6f5941babfcf",
   "metadata": {},
   "outputs": [
    {
     "name": "stdin",
     "output_type": "stream",
     "text": [
      "Enter the bill amount:  800\n",
      "How much tip percentage you want to provide:  10\n"
     ]
    },
    {
     "name": "stdout",
     "output_type": "stream",
     "text": [
      "the total bill amount is 880.0\n"
     ]
    }
   ],
   "source": [
    "def tip_per():\n",
    "    amount=eval(input('Enter the bill amount: '))\n",
    "    tip_per=eval(input('How much tip percentage you want to provide: '))\n",
    "    tip_amount=amount*tip_per/100\n",
    "    total_bill=amount+tip_amount\n",
    "    print(f'the total bill amount is {total_bill}')\n",
    "\n",
    "tip_per()"
   ]
  },
  {
   "cell_type": "markdown",
   "id": "d2218d17-655a-4536-b530-778831bc6a10",
   "metadata": {},
   "source": [
    "**Note-**\n",
    "\n",
    "- variable name should not equal to function name"
   ]
  },
  {
   "cell_type": "code",
   "execution_count": 10,
   "id": "bc59ec80-3b21-4fe6-84ee-198e671f1ef3",
   "metadata": {},
   "outputs": [
    {
     "name": "stdin",
     "output_type": "stream",
     "text": [
      "Enter the n1:  12\n",
      "Enter the n2:  23\n",
      "Enter the n3:  36\n"
     ]
    },
    {
     "name": "stdout",
     "output_type": "stream",
     "text": [
      "the avg of 12, 23 and 36 is 23.67\n"
     ]
    }
   ],
   "source": [
    "def average():\n",
    "    try:\n",
    "        n1=eval(input('Enter the n1: '))\n",
    "        n2=eval(input('Enter the n2: '))\n",
    "        n3=eval(input('Enter the n3: '))\n",
    "        avg=(n1+n2+n3)/3\n",
    "        avg1=round(avg,2)\n",
    "        print(f'the avg of {n1}, {n2} and {n3} is {avg1}')\n",
    "    except Exception as e:\n",
    "        print(e)\n",
    "\n",
    "average()"
   ]
  },
  {
   "cell_type": "code",
   "execution_count": 11,
   "id": "abfa8653-94a8-40f5-95e9-59510aad3158",
   "metadata": {},
   "outputs": [
    {
     "name": "stdin",
     "output_type": "stream",
     "text": [
      "Enter the n1:  14\n",
      "Enter the n2:  45\n",
      "Enter the n3:  48\n"
     ]
    },
    {
     "name": "stdout",
     "output_type": "stream",
     "text": [
      "name 'n324' is not defined\n"
     ]
    }
   ],
   "source": [
    "def average():\n",
    "    try:\n",
    "        n1=eval(input('Enter the n1: '))\n",
    "        n2=eval(input('Enter the n2: '))\n",
    "        n3=eval(input('Enter the n3: '))\n",
    "        avg=(n1+n2+n324)/3\n",
    "        avg1=round(avg,2)\n",
    "        print(f'the avg of {n1}, {n2} and {n3} is {avg1}')\n",
    "    except Exception as e:\n",
    "        print(e)\n",
    "\n",
    "average()"
   ]
  },
  {
   "cell_type": "markdown",
   "id": "af8bb631-9749-4ed2-b1f0-57e4bdc6535a",
   "metadata": {},
   "source": [
    "**Note-**\n",
    "\n",
    "- always try and except apply for only on code\n",
    "\n",
    "- **NOT** for function\n",
    "\n",
    "- inside the function write **try-except**"
   ]
  },
  {
   "cell_type": "markdown",
   "id": "a04fefb9-a9e4-40b4-9f8c-ad6a2a6c5359",
   "metadata": {},
   "source": [
    "**Note-**\n",
    "\n",
    "- when we defined the function it will not give any error or answer\n",
    "\n",
    "- if we want to see any error or answer\n",
    "\n",
    "- we need to call the function"
   ]
  },
  {
   "cell_type": "markdown",
   "id": "72258716-2653-4a19-a72e-c9a08e106df5",
   "metadata": {},
   "source": [
    "**Function with arguments-**"
   ]
  },
  {
   "cell_type": "code",
   "execution_count": 12,
   "id": "ff039e8d-b329-4a10-b521-520de34b7acd",
   "metadata": {},
   "outputs": [
    {
     "name": "stdin",
     "output_type": "stream",
     "text": [
      "Enter the n1:  2\n",
      "Enter the n2:  3\n"
     ]
    },
    {
     "name": "stdout",
     "output_type": "stream",
     "text": [
      "the addition of 2 and 3 is 5\n"
     ]
    }
   ],
   "source": [
    "def addition():\n",
    "    n1=eval(input('Enter the n1: '))\n",
    "    n2=eval(input('Enter the n2: '))\n",
    "    add=n1+n2\n",
    "    print(f'the addition of {n1} and {n2} is {add}')\n",
    "\n",
    "addition()"
   ]
  },
  {
   "cell_type": "code",
   "execution_count": null,
   "id": "5080eaf5-4ab5-4487-8d2c-dd0fd80387c3",
   "metadata": {},
   "outputs": [],
   "source": [
    "#how many variables are there in above code\n",
    "# ===> 3\n",
    "# ===> n1,n2,add\n",
    "\n",
    "#what are the input variables\n",
    "# ===> n1,n2\n",
    "\n",
    "#what are the output variables\n",
    "# ===> add"
   ]
  },
  {
   "cell_type": "markdown",
   "id": "83322da8-9686-445f-9cc9-8672d5f71186",
   "metadata": {},
   "source": [
    "- pass the input variables inside the function brackets\n",
    "\n",
    "- pass n1,n2 inside the brackets\n",
    "\n",
    "- these n1,n2 behave as function arguments"
   ]
  },
  {
   "cell_type": "code",
   "execution_count": 16,
   "id": "034d4bb4-0ca2-4fdc-890a-b421a0c6a9f8",
   "metadata": {},
   "outputs": [],
   "source": [
    "def addition2(n1,n2):\n",
    "    add=n1+n2\n",
    "    print(f'the addition of {n1} and {n2} is {add}')"
   ]
  },
  {
   "cell_type": "code",
   "execution_count": 17,
   "id": "81164e81-4644-4b5f-9f97-6d910f20fef9",
   "metadata": {},
   "outputs": [
    {
     "name": "stdout",
     "output_type": "stream",
     "text": [
      "the addition of 10 and 20 is 30\n"
     ]
    }
   ],
   "source": [
    "addition2(10,20)"
   ]
  },
  {
   "cell_type": "code",
   "execution_count": 18,
   "id": "97600885-7d42-4d71-bf63-fab7ea78809c",
   "metadata": {},
   "outputs": [
    {
     "ename": "TypeError",
     "evalue": "addition2() missing 1 required positional argument: 'n2'",
     "output_type": "error",
     "traceback": [
      "\u001b[1;31m---------------------------------------------------------------------------\u001b[0m",
      "\u001b[1;31mTypeError\u001b[0m                                 Traceback (most recent call last)",
      "Cell \u001b[1;32mIn[18], line 1\u001b[0m\n\u001b[1;32m----> 1\u001b[0m addition2(\u001b[38;5;241m100\u001b[39m)\n",
      "\u001b[1;31mTypeError\u001b[0m: addition2() missing 1 required positional argument: 'n2'"
     ]
    }
   ],
   "source": [
    "addition2(100)"
   ]
  },
  {
   "cell_type": "code",
   "execution_count": 19,
   "id": "c470093f-1aef-4a99-a123-fbdf6e67fe82",
   "metadata": {},
   "outputs": [
    {
     "ename": "TypeError",
     "evalue": "Random.randint() missing 1 required positional argument: 'b'",
     "output_type": "error",
     "traceback": [
      "\u001b[1;31m---------------------------------------------------------------------------\u001b[0m",
      "\u001b[1;31mTypeError\u001b[0m                                 Traceback (most recent call last)",
      "Cell \u001b[1;32mIn[19], line 2\u001b[0m\n\u001b[0;32m      1\u001b[0m \u001b[38;5;28;01mfrom\u001b[39;00m \u001b[38;5;21;01mrandom\u001b[39;00m \u001b[38;5;28;01mimport\u001b[39;00m randint\n\u001b[1;32m----> 2\u001b[0m randint(\u001b[38;5;241m10\u001b[39m)\n",
      "\u001b[1;31mTypeError\u001b[0m: Random.randint() missing 1 required positional argument: 'b'"
     ]
    }
   ],
   "source": [
    "from random import randint\n",
    "randint(10)"
   ]
  },
  {
   "cell_type": "code",
   "execution_count": 20,
   "id": "59c74b5e-acc5-4c73-94e5-496bde25db64",
   "metadata": {},
   "outputs": [
    {
     "name": "stdout",
     "output_type": "stream",
     "text": [
      "the avg of 10, 20 and 30 is 20.0\n"
     ]
    }
   ],
   "source": [
    "def average1(n1,n2,n3):\n",
    "    avg=(n1+n2+n3)/3\n",
    "    avg1=round(avg,2)\n",
    "    print(f'the avg of {n1}, {n2} and {n3} is {avg1}')\n",
    "\n",
    "average1(10,20,30)"
   ]
  },
  {
   "cell_type": "code",
   "execution_count": 23,
   "id": "97502d0c-ae78-47dd-80a7-20e465fd4ed7",
   "metadata": {},
   "outputs": [
    {
     "name": "stdout",
     "output_type": "stream",
     "text": [
      "the area of right angle triangle is 17.5\n"
     ]
    }
   ],
   "source": [
    "def right_angle_triangle1(b,h):\n",
    "    area=0.5*b*h\n",
    "    print(f'the area of right angle triangle is {area}')\n",
    "\n",
    "right_angle_triangle1(5,7)"
   ]
  },
  {
   "cell_type": "code",
   "execution_count": 26,
   "id": "155e0f7a-23d2-4cc0-9dbd-acfbef3c8543",
   "metadata": {},
   "outputs": [
    {
     "name": "stdout",
     "output_type": "stream",
     "text": [
      "the area of circle is 50.26548245743669\n"
     ]
    }
   ],
   "source": [
    "from math import pi\n",
    "def circle1(r):\n",
    "    area=pi*r*r\n",
    "    print(f'the area of circle is {area}')\n",
    "\n",
    "circle1(4)"
   ]
  },
  {
   "cell_type": "code",
   "execution_count": 28,
   "id": "0edee8fd-3204-4113-b82e-e522c471f8d9",
   "metadata": {},
   "outputs": [
    {
     "name": "stdout",
     "output_type": "stream",
     "text": [
      "the total bill amount is 1200\n"
     ]
    }
   ],
   "source": [
    "def bill1(amount,tip):\n",
    "    total_bill=amount+tip\n",
    "    print(f'the total bill amount is {total_bill}')\n",
    "\n",
    "bill1(1000,200)"
   ]
  },
  {
   "cell_type": "code",
   "execution_count": 29,
   "id": "ed9e209d-bfa0-44a4-ad93-439ff30677aa",
   "metadata": {},
   "outputs": [
    {
     "name": "stdout",
     "output_type": "stream",
     "text": [
      "the total bill amount is 2600.0\n"
     ]
    }
   ],
   "source": [
    "def tip_per(amount,tip_per):\n",
    "    tip_amount=amount*tip_per/100\n",
    "    total_bill=amount+tip_amount\n",
    "    print(f'the total bill amount is {total_bill}')\n",
    "\n",
    "tip_per(2000, 30)"
   ]
  },
  {
   "cell_type": "code",
   "execution_count": 33,
   "id": "92f1d761-7575-46b9-a5eb-4e63051413db",
   "metadata": {},
   "outputs": [
    {
     "name": "stdout",
     "output_type": "stream",
     "text": [
      "n1:  10\n",
      "n2:  20\n"
     ]
    },
    {
     "name": "stdin",
     "output_type": "stream",
     "text": [
      "Enter the number:  30\n"
     ]
    },
    {
     "name": "stdout",
     "output_type": "stream",
     "text": [
      "the avg of 10, 20 and 30 is 20.0\n"
     ]
    }
   ],
   "source": [
    "def average2(n1,n2):\n",
    "    print(f'n1: ',n1)\n",
    "    print(f'n2: ',n2)\n",
    "    n3=eval(input('Enter the number: '))\n",
    "    avg=(n1+n2+n3)/3\n",
    "    avg1=round(avg,2)\n",
    "    print(f'the avg of {n1}, {n2} and {n3} is {avg1}')\n",
    "\n",
    "average2(10,20)\n",
    "\n",
    "#while calling the function we want ti provide n1, n2\n",
    "#while runing the function we want to provide n3"
   ]
  },
  {
   "cell_type": "code",
   "execution_count": 34,
   "id": "b90c4b53-4a1d-4b49-9674-27d406bbe382",
   "metadata": {},
   "outputs": [
    {
     "name": "stdout",
     "output_type": "stream",
     "text": [
      "n1:  15\n"
     ]
    },
    {
     "name": "stdin",
     "output_type": "stream",
     "text": [
      "Enter the number:  25\n",
      "Enter the number:  35\n"
     ]
    },
    {
     "name": "stdout",
     "output_type": "stream",
     "text": [
      "the avg of 15, 25 and 35 is 25.0\n"
     ]
    }
   ],
   "source": [
    "def average3(n1):\n",
    "    print(f'n1: ',n1)\n",
    "    n2=eval(input('Enter the number: '))\n",
    "    n3=eval(input('Enter the number: '))\n",
    "    avg=(n1+n2+n3)/3\n",
    "    avg1=round(avg,2)\n",
    "    print(f'the avg of {n1}, {n2} and {n3} is {avg1}')\n",
    "\n",
    "average3(15)"
   ]
  },
  {
   "cell_type": "code",
   "execution_count": 35,
   "id": "c4e66eb4-5cb9-4165-ad5b-277631610db6",
   "metadata": {},
   "outputs": [
    {
     "name": "stdin",
     "output_type": "stream",
     "text": [
      "Enter the number:  5\n",
      "how much power you want:  4\n"
     ]
    },
    {
     "name": "stdout",
     "output_type": "stream",
     "text": [
      "625\n"
     ]
    }
   ],
   "source": [
    "#2**2\n",
    "#2**3\n",
    "#2**4\n",
    "\n",
    "def POWER():\n",
    "    num=eval(input('Enter the number: '))\n",
    "    power=eval(input('how much power you want: '))\n",
    "    print(num**power)\n",
    "\n",
    "POWER()"
   ]
  },
  {
   "cell_type": "code",
   "execution_count": 37,
   "id": "39072134-4f2f-49dc-b4ec-856774ce438e",
   "metadata": {},
   "outputs": [
    {
     "name": "stdout",
     "output_type": "stream",
     "text": [
      "36\n"
     ]
    }
   ],
   "source": [
    "def POWER1(num, power):\n",
    "    print(num**power)\n",
    "\n",
    "POWER1(6,2)"
   ]
  },
  {
   "cell_type": "code",
   "execution_count": 38,
   "id": "f597efa2-ce0c-4d3b-a217-5937a6c018e8",
   "metadata": {},
   "outputs": [
    {
     "ename": "TypeError",
     "evalue": "POWER2() takes 0 positional arguments but 1 was given",
     "output_type": "error",
     "traceback": [
      "\u001b[1;31m---------------------------------------------------------------------------\u001b[0m",
      "\u001b[1;31mTypeError\u001b[0m                                 Traceback (most recent call last)",
      "Cell \u001b[1;32mIn[38], line 6\u001b[0m\n\u001b[0;32m      3\u001b[0m     power\u001b[38;5;241m=\u001b[39m\u001b[38;5;28meval\u001b[39m(\u001b[38;5;28minput\u001b[39m(\u001b[38;5;124m'\u001b[39m\u001b[38;5;124mhow much power you want: \u001b[39m\u001b[38;5;124m'\u001b[39m))\n\u001b[0;32m      4\u001b[0m     \u001b[38;5;28mprint\u001b[39m(num\u001b[38;5;241m*\u001b[39m\u001b[38;5;241m*\u001b[39mpower)\n\u001b[1;32m----> 6\u001b[0m POWER2(\u001b[38;5;241m5\u001b[39m)\n",
      "\u001b[1;31mTypeError\u001b[0m: POWER2() takes 0 positional arguments but 1 was given"
     ]
    }
   ],
   "source": [
    "def POWER2():\n",
    "    num=eval(input('Enter the number: '))\n",
    "    power=eval(input('how much power you want: '))\n",
    "    print(num**power)\n",
    "\n",
    "POWER2(5)"
   ]
  },
  {
   "cell_type": "markdown",
   "id": "b3260ff7-2ce6-4aae-a7e0-d55a893dad3d",
   "metadata": {},
   "source": [
    "**Function with default arguments-**"
   ]
  },
  {
   "cell_type": "code",
   "execution_count": 41,
   "id": "86baae98-9086-4e69-8775-8eeb1c030b57",
   "metadata": {},
   "outputs": [
    {
     "name": "stdout",
     "output_type": "stream",
     "text": [
      "the total bill amount is 1500\n"
     ]
    }
   ],
   "source": [
    "def bill2(amount,tip=500):\n",
    "    total_bill=amount+tip\n",
    "    print(f'the total bill amount is {total_bill}')\n",
    "\n",
    "bill2(1000)"
   ]
  },
  {
   "cell_type": "code",
   "execution_count": 44,
   "id": "533b92d8-a42f-47f8-b9f5-c6f00f3accfe",
   "metadata": {},
   "outputs": [
    {
     "name": "stdout",
     "output_type": "stream",
     "text": [
      "n1:  15\n",
      "n2:  20\n",
      "n3:  40\n",
      "the avg of 15, 20 and 40 is 25.0\n"
     ]
    }
   ],
   "source": [
    "def average4(n1,n2,n3=40):\n",
    "    print(f'n1: ',n1)\n",
    "    print(f'n2: ',n2)\n",
    "    print(f'n3: ',n3)\n",
    "    avg=(n1+n2+n3)/3\n",
    "    print(f'the avg of {n1}, {n2} and {n3} is {avg}')\n",
    "\n",
    "average4(15,20)"
   ]
  },
  {
   "cell_type": "code",
   "execution_count": 46,
   "id": "e121fb7b-2c1c-448e-95e0-f932f3d059d8",
   "metadata": {},
   "outputs": [
    {
     "ename": "SyntaxError",
     "evalue": "parameter without a default follows parameter with a default (19558178.py, line 1)",
     "output_type": "error",
     "traceback": [
      "\u001b[1;36m  Cell \u001b[1;32mIn[46], line 1\u001b[1;36m\u001b[0m\n\u001b[1;33m    def average5(n1, n2=50, n3):\u001b[0m\n\u001b[1;37m                            ^\u001b[0m\n\u001b[1;31mSyntaxError\u001b[0m\u001b[1;31m:\u001b[0m parameter without a default follows parameter with a default\n"
     ]
    }
   ],
   "source": [
    "def average5(n1, n2=50, n3):\n",
    "    print(f'n1: ',n1)\n",
    "    print(f'n2: ',n2)\n",
    "    print(f'n3: ',n3)\n",
    "    avg=(n1+n2+n3)/3\n",
    "    print(f'the avg of {n1}, {n2} and {n3} is {avg}')\n",
    "\n",
    "average5(15,20)"
   ]
  },
  {
   "cell_type": "markdown",
   "id": "728d0516-2989-4ed3-a4b4-e15bc7ae6035",
   "metadata": {},
   "source": [
    "- always write the default arguments at last"
   ]
  },
  {
   "cell_type": "code",
   "execution_count": 47,
   "id": "1a6d5e83-f2e1-49af-8e32-11318951b71d",
   "metadata": {},
   "outputs": [
    {
     "name": "stdout",
     "output_type": "stream",
     "text": [
      "n1:  15\n",
      "n2:  50\n",
      "n3:  20\n",
      "the avg of 15, 50 and 20 is 28.333333333333332\n"
     ]
    }
   ],
   "source": [
    "def average6(n1, n3, n2=50):\n",
    "    print(f'n1: ',n1)\n",
    "    print(f'n2: ',n2)\n",
    "    print(f'n3: ',n3)\n",
    "    avg=(n1+n2+n3)/3\n",
    "    print(f'the avg of {n1}, {n2} and {n3} is {avg}')\n",
    "\n",
    "average6(15,20)"
   ]
  },
  {
   "cell_type": "code",
   "execution_count": null,
   "id": "328a66a7-78ca-4879-adfc-4119a9cc976d",
   "metadata": {},
   "outputs": [],
   "source": [
    "#n1, n2, n3=100  ===> w\n",
    "#n1, n2=100, n3   ===> f\n",
    "#n1=100, n2, n3   ===> f\n",
    "#n1, n2=100, n3=200   ===> w\n",
    "#n1=100, n2, n3=200   ===> f\n",
    "#n1=100, n2=200, n3   ===> f\n",
    "#n1=100, n2=200, n3=300   ===> w\n",
    "#n3, n1=100, n2=200   ===> w\n",
    "#n2, n3=200, n1=500   ===> w"
   ]
  },
  {
   "cell_type": "code",
   "execution_count": 8,
   "id": "0d387d3f-33ae-458c-bc34-3bfa4a2e6d47",
   "metadata": {},
   "outputs": [
    {
     "name": "stdin",
     "output_type": "stream",
     "text": [
      "Enter a number:  5\n"
     ]
    },
    {
     "name": "stdout",
     "output_type": "stream",
     "text": [
      "4\n",
      "lost\n"
     ]
    }
   ],
   "source": [
    "#wap ask the user enter a number\n",
    "#ask the user get a random number\n",
    "#if both numbers are match print won\n",
    "#otherwise lost\n",
    "\n",
    "from random import randint\n",
    "num1=eval(input('Enter a number: '))\n",
    "num2=randint(1,10)\n",
    "print(num2)\n",
    "if num1==num2:\n",
    "    print('won')\n",
    "else:\n",
    "    print('lost')"
   ]
  },
  {
   "cell_type": "code",
   "execution_count": 10,
   "id": "1a657975-720e-4140-bf9d-e98cdeda83b1",
   "metadata": {},
   "outputs": [
    {
     "name": "stdin",
     "output_type": "stream",
     "text": [
      "Enter a number:  2\n"
     ]
    },
    {
     "name": "stdout",
     "output_type": "stream",
     "text": [
      "3\n",
      "lost\n"
     ]
    }
   ],
   "source": [
    "#without argument\n",
    "\n",
    "def game():\n",
    "    num1=eval(input('Enter a number: '))\n",
    "    num2=randint(1,10)\n",
    "    print(num2)\n",
    "    if num1==num2:\n",
    "        print('won')\n",
    "    else:\n",
    "        print('lost')\n",
    "\n",
    "game()"
   ]
  },
  {
   "cell_type": "code",
   "execution_count": 11,
   "id": "9fdd168c-6d18-46f6-bdd5-a9a5f091638b",
   "metadata": {},
   "outputs": [
    {
     "name": "stdout",
     "output_type": "stream",
     "text": [
      "3\n",
      "lost\n"
     ]
    }
   ],
   "source": [
    "#with arguments\n",
    "\n",
    "def game1(num1):\n",
    "    num2=randint(1,10)\n",
    "    print(num2)\n",
    "    if num1==num2:\n",
    "        print('won')\n",
    "    else:\n",
    "        print('lost')\n",
    "\n",
    "game1(1)"
   ]
  },
  {
   "cell_type": "code",
   "execution_count": 12,
   "id": "dbd8c3e8-a1df-47f4-9343-2c0eb117ff4b",
   "metadata": {},
   "outputs": [
    {
     "name": "stdout",
     "output_type": "stream",
     "text": [
      "1\n",
      "lost\n"
     ]
    }
   ],
   "source": [
    "#with default arguments\n",
    "\n",
    "def game2(n1=2):\n",
    "    num2=randint(1,10)\n",
    "    print(num2)\n",
    "    if num1==num2:\n",
    "        print('won')\n",
    "    else:\n",
    "        print('lost')\n",
    "\n",
    "game2()"
   ]
  },
  {
   "cell_type": "markdown",
   "id": "b4e366d8-16f1-421a-a01f-8684ed6210e8",
   "metadata": {},
   "source": [
    "**case1-**\n",
    "\n",
    "- step1: define the function\n",
    "- step2: call the function\n",
    "- step3: run the function"
   ]
  },
  {
   "cell_type": "code",
   "execution_count": 14,
   "id": "63858077-f684-4754-9ab6-4d6793ac839d",
   "metadata": {},
   "outputs": [
    {
     "name": "stdout",
     "output_type": "stream",
     "text": [
      "n1:  15\n",
      "n2:  100\n",
      "n3:  20\n",
      "the avg of 15, 100 and 20 is 45.0\n"
     ]
    }
   ],
   "source": [
    "def average7(n1, n3, n2=50):\n",
    "    print(f'n1: ',n1)\n",
    "    print(f'n2: ',n2)\n",
    "    print(f'n3: ',n3)\n",
    "    avg=(n1+n2+n3)/3\n",
    "    print(f'the avg of {n1}, {n2} and {n3} is {avg}')\n",
    "\n",
    "average7(15,20,100)\n",
    "\n",
    "#while defining n3=50\n",
    "#while calling n3=100\n",
    "#while running also n3=100"
   ]
  },
  {
   "cell_type": "code",
   "execution_count": 15,
   "id": "4da2cd58-8cde-4741-9886-3f03bd6dd67c",
   "metadata": {},
   "outputs": [
    {
     "name": "stdout",
     "output_type": "stream",
     "text": [
      "a:  10\n",
      "b:  20\n",
      "c:  30\n",
      "60\n"
     ]
    }
   ],
   "source": [
    "def add(a,b,c):\n",
    "    print('a: ',a)\n",
    "    print('b: ',b)\n",
    "    print('c: ',c)\n",
    "    d=a+b+c\n",
    "    print(d)\n",
    "\n",
    "add(10,20,30)"
   ]
  },
  {
   "cell_type": "code",
   "execution_count": 16,
   "id": "e70e7a3d-2e5d-46f2-b747-e2de5cd12d7b",
   "metadata": {},
   "outputs": [
    {
     "name": "stdout",
     "output_type": "stream",
     "text": [
      "a:  10\n",
      "b:  20\n",
      "c:  50\n",
      "80\n"
     ]
    }
   ],
   "source": [
    "def add1(a,b,c=50):\n",
    "    print('a: ',a)\n",
    "    print('b: ',b)\n",
    "    print('c: ',c)\n",
    "    d=a+b+c\n",
    "    print(d)\n",
    "\n",
    "add1(10,20)"
   ]
  },
  {
   "cell_type": "code",
   "execution_count": 17,
   "id": "a90c2856-24aa-44ca-8a58-d7a669cbbf29",
   "metadata": {},
   "outputs": [
    {
     "name": "stdout",
     "output_type": "stream",
     "text": [
      "a:  10\n",
      "b:  20\n",
      "c:  100\n",
      "130\n"
     ]
    }
   ],
   "source": [
    "def add2(a,b,c=50):\n",
    "    print('a: ',a)\n",
    "    print('b: ',b)\n",
    "    print('c: ',c)\n",
    "    d=a+b+c\n",
    "    print(d)\n",
    "\n",
    "add2(10,20,100)"
   ]
  },
  {
   "cell_type": "code",
   "execution_count": 19,
   "id": "58e1d5c2-745f-4d75-9b5f-a2eb6efee017",
   "metadata": {},
   "outputs": [
    {
     "name": "stdout",
     "output_type": "stream",
     "text": [
      "a:  10\n",
      "b:  20\n",
      "c:  500\n",
      "530\n"
     ]
    }
   ],
   "source": [
    "def add3(a,b,c=50):\n",
    "    c=500\n",
    "    print('a: ',a)\n",
    "    print('b: ',b)\n",
    "    print('c: ',c)\n",
    "    d=a+b+c\n",
    "    print(d)\n",
    "\n",
    "add3(10,20,100)"
   ]
  },
  {
   "cell_type": "code",
   "execution_count": 20,
   "id": "c27950de-a140-40dd-a8eb-4724d00cf375",
   "metadata": {},
   "outputs": [
    {
     "name": "stdout",
     "output_type": "stream",
     "text": [
      "a:  10\n",
      "b:  20\n",
      "c:  500\n",
      "1030\n"
     ]
    }
   ],
   "source": [
    "def add4(a,b,c=50):\n",
    "    c=500\n",
    "    print('a: ',a)\n",
    "    print('b: ',b)\n",
    "    print('c: ',c)\n",
    "    c=1000\n",
    "    d=a+b+c\n",
    "    print(d)\n",
    "\n",
    "add4(10,20,100)"
   ]
  },
  {
   "cell_type": "code",
   "execution_count": 23,
   "id": "26912a7c-122a-459c-ab0a-caff483de469",
   "metadata": {},
   "outputs": [
    {
     "name": "stdout",
     "output_type": "stream",
     "text": [
      "follow the step by step\n",
      "a:  10\n",
      "b:  20\n",
      "c:  100\n",
      "130\n"
     ]
    }
   ],
   "source": [
    "def add5(a,b,c=50):\n",
    "    print('a: ',a)\n",
    "    print('b: ',b)\n",
    "    print('c: ',c)\n",
    "    d=a+b+c\n",
    "    print(d)\n",
    "\n",
    "print('follow the step by step')\n",
    "c=700\n",
    "add5(10,20,100)"
   ]
  },
  {
   "cell_type": "code",
   "execution_count": 24,
   "id": "63422af0-7efa-4e97-a2d8-f686afa6c854",
   "metadata": {},
   "outputs": [
    {
     "name": "stdout",
     "output_type": "stream",
     "text": [
      "a:  10\n",
      "b:  20\n",
      "c:  800\n",
      "930\n"
     ]
    }
   ],
   "source": [
    "def add6(a,b,c=50):   #1\n",
    "    c=800            #4\n",
    "    print('a: ',a)\n",
    "    print('b: ',b)\n",
    "    print('c: ',c)\n",
    "    c=900           #5\n",
    "    d=a+b+c\n",
    "    print(d)\n",
    "c=700            #2\n",
    "add6(10,20,100)  #3"
   ]
  },
  {
   "cell_type": "code",
   "execution_count": 25,
   "id": "500d1866-562f-424a-966b-99c930c516ff",
   "metadata": {},
   "outputs": [
    {
     "name": "stdout",
     "output_type": "stream",
     "text": [
      "a:  10\n",
      "b:  20\n",
      "c:  100\n",
      "130\n"
     ]
    }
   ],
   "source": [
    "c=900\n",
    "def add7(a,b,c=50):\n",
    "    print('a: ',a)\n",
    "    print('b: ',b)\n",
    "    print('c: ',c)\n",
    "    d=a+b+c\n",
    "    print(d)\n",
    "\n",
    "add7(10,20,100)"
   ]
  },
  {
   "cell_type": "code",
   "execution_count": 26,
   "id": "1c8409d6-e9ce-4b2a-aee1-cb0e558a515f",
   "metadata": {},
   "outputs": [
    {
     "name": "stdout",
     "output_type": "stream",
     "text": [
      "a:  10\n",
      "b:  20\n",
      "c:  400\n",
      "430\n"
     ]
    }
   ],
   "source": [
    "c=200\n",
    "def add8(a,b,c=50):\n",
    "    c=400\n",
    "    print('a: ',a)\n",
    "    print('b: ',b)\n",
    "    print('c: ',c)\n",
    "    d=a+b+c\n",
    "    c=500\n",
    "    print(d)\n",
    "c=300\n",
    "add8(10,20,100)"
   ]
  },
  {
   "cell_type": "code",
   "execution_count": 27,
   "id": "b639468e-0a6b-4722-9aec-547c7e9bbf17",
   "metadata": {},
   "outputs": [
    {
     "ename": "TypeError",
     "evalue": "add9() missing 1 required positional argument: 'c'",
     "output_type": "error",
     "traceback": [
      "\u001b[1;31m---------------------------------------------------------------------------\u001b[0m",
      "\u001b[1;31mTypeError\u001b[0m                                 Traceback (most recent call last)",
      "Cell \u001b[1;32mIn[27], line 9\u001b[0m\n\u001b[0;32m      7\u001b[0m     \u001b[38;5;28mprint\u001b[39m(d)\n\u001b[0;32m      8\u001b[0m c\u001b[38;5;241m=\u001b[39m\u001b[38;5;241m300\u001b[39m\n\u001b[1;32m----> 9\u001b[0m add9(\u001b[38;5;241m10\u001b[39m,\u001b[38;5;241m20\u001b[39m)\n",
      "\u001b[1;31mTypeError\u001b[0m: add9() missing 1 required positional argument: 'c'"
     ]
    }
   ],
   "source": [
    "c=200\n",
    "def add9(a,b,c):\n",
    "    print('a: ',a)\n",
    "    print('b: ',b)\n",
    "    print('c: ',c)\n",
    "    d=a+b+c\n",
    "    print(d)\n",
    "c=300\n",
    "add9(10,20)"
   ]
  },
  {
   "cell_type": "markdown",
   "id": "5066f494-e01d-4894-b67a-c0a25b7c52f8",
   "metadata": {},
   "source": [
    "**Local variable vs Global variable-**\n",
    "\n",
    "- local variable are use inside the function\n",
    "\n",
    "- global variable are used outside the function\n",
    "\n",
    "- global variables can be used at anywhere **inside the function** or **outside the function**"
   ]
  },
  {
   "cell_type": "code",
   "execution_count": 28,
   "id": "aa6efee4-b42a-4601-a087-ecfd085be796",
   "metadata": {},
   "outputs": [
    {
     "name": "stdin",
     "output_type": "stream",
     "text": [
      "Enter the n1:  2\n",
      "Enter the n2:  5\n",
      "Enter the n3:  8\n"
     ]
    },
    {
     "name": "stdout",
     "output_type": "stream",
     "text": [
      "the avg of 2, 5 and 8 is 5.0\n"
     ]
    }
   ],
   "source": [
    "n1=eval(input('Enter the n1: '))\n",
    "n2=eval(input('Enter the n2: '))\n",
    "n3=eval(input('Enter the n3: '))\n",
    "def average7():\n",
    "    avg=(n1+n2+n3)/3\n",
    "    print(f'the avg of {n1}, {n2} and {n3} is {avg}')\n",
    "\n",
    "average7()"
   ]
  },
  {
   "cell_type": "code",
   "execution_count": 29,
   "id": "1d6b17ba-65b0-4fb7-a5bd-07f421c83688",
   "metadata": {},
   "outputs": [
    {
     "name": "stdout",
     "output_type": "stream",
     "text": [
      "2 5 8\n"
     ]
    }
   ],
   "source": [
    "print(n1,n2,n3)"
   ]
  },
  {
   "cell_type": "code",
   "execution_count": 30,
   "id": "45fc1bfc-205f-4c88-81e6-681b3e7f3591",
   "metadata": {},
   "outputs": [
    {
     "name": "stdin",
     "output_type": "stream",
     "text": [
      "Enter the n1:  8\n",
      "Enter the n2:  16\n",
      "Enter the n3:  15\n"
     ]
    },
    {
     "name": "stdout",
     "output_type": "stream",
     "text": [
      "the avg of 8, 16 and 15 is 13.0\n"
     ]
    }
   ],
   "source": [
    "def average8():\n",
    "    N1=eval(input('Enter the n1: '))\n",
    "    N2=eval(input('Enter the n2: '))\n",
    "    N3=eval(input('Enter the n3: '))\n",
    "    avg=(N1+N2+N3)/3\n",
    "    print(f'the avg of {N1}, {N2} and {N3} is {avg}')\n",
    "\n",
    "average8()"
   ]
  },
  {
   "cell_type": "code",
   "execution_count": 31,
   "id": "983023e3-6d54-408a-aee6-d9b8fbea2846",
   "metadata": {},
   "outputs": [
    {
     "ename": "NameError",
     "evalue": "name 'N1' is not defined",
     "output_type": "error",
     "traceback": [
      "\u001b[1;31m---------------------------------------------------------------------------\u001b[0m",
      "\u001b[1;31mNameError\u001b[0m                                 Traceback (most recent call last)",
      "Cell \u001b[1;32mIn[31], line 1\u001b[0m\n\u001b[1;32m----> 1\u001b[0m \u001b[38;5;28mprint\u001b[39m(N1,N2,N3)\n",
      "\u001b[1;31mNameError\u001b[0m: name 'N1' is not defined"
     ]
    }
   ],
   "source": [
    "print(N1,N2,N3)"
   ]
  },
  {
   "cell_type": "markdown",
   "id": "7e240941-0d42-4a83-97c8-dca9607c9b9d",
   "metadata": {},
   "source": [
    "**Note-**\n",
    "\n",
    "- local variables can not use outside the function\n",
    "- in above case N1 is a local variable\n",
    "- we are trying to use outside the function it is throwing the error"
   ]
  },
  {
   "cell_type": "code",
   "execution_count": 32,
   "id": "a7d5172f-56c4-4241-aaf9-e147192c6c7d",
   "metadata": {},
   "outputs": [
    {
     "name": "stdin",
     "output_type": "stream",
     "text": [
      "Enter the number:  12\n",
      "Enter the number:  45\n",
      "Enter the number:  78\n"
     ]
    },
    {
     "name": "stdout",
     "output_type": "stream",
     "text": [
      "the avg of 12, 45 and 78 is 45.0\n"
     ]
    }
   ],
   "source": [
    "A=eval(input('Enter the number: '))\n",
    "B=eval(input('Enter the number: '))\n",
    "C=eval(input('Enter the number: '))\n",
    "def average8():\n",
    "    avg=(A+B+C)/3\n",
    "    print(f'the avg of {A}, {B} and {C} is {avg}')\n",
    "\n",
    "average8()"
   ]
  },
  {
   "cell_type": "code",
   "execution_count": 33,
   "id": "50b50bd5-b200-4f27-a026-ddfdc6f49194",
   "metadata": {},
   "outputs": [
    {
     "ename": "NameError",
     "evalue": "name 'avg' is not defined",
     "output_type": "error",
     "traceback": [
      "\u001b[1;31m---------------------------------------------------------------------------\u001b[0m",
      "\u001b[1;31mNameError\u001b[0m                                 Traceback (most recent call last)",
      "Cell \u001b[1;32mIn[33], line 1\u001b[0m\n\u001b[1;32m----> 1\u001b[0m avg\n",
      "\u001b[1;31mNameError\u001b[0m: name 'avg' is not defined"
     ]
    }
   ],
   "source": [
    "avg"
   ]
  },
  {
   "cell_type": "markdown",
   "id": "13a985f2-a930-4ad9-a96a-1de618222edc",
   "metadata": {},
   "source": [
    "- global variables are initialized outside the function\n",
    "- global variables can be use anywhere\n",
    "- local variables are initialized inside the function\n",
    "- local variables can not be use outside the function"
   ]
  },
  {
   "cell_type": "code",
   "execution_count": 38,
   "id": "2a54ae28-91ba-4756-9056-45379a77d662",
   "metadata": {},
   "outputs": [
    {
     "name": "stdout",
     "output_type": "stream",
     "text": [
      "the addition of 100, 200 and 300 is 600\n"
     ]
    }
   ],
   "source": [
    "A=100\n",
    "B=200\n",
    "def summ():\n",
    "    C=300\n",
    "    add10=A+B+C\n",
    "    print(f'the addition of {A}, {B} and {C} is {add10}')\n",
    "\n",
    "summ()"
   ]
  },
  {
   "cell_type": "code",
   "execution_count": 39,
   "id": "70639128-3d39-4883-abef-7c71e8388248",
   "metadata": {},
   "outputs": [
    {
     "name": "stdout",
     "output_type": "stream",
     "text": [
      "the addition of 200, 200 and 300 is 700\n"
     ]
    }
   ],
   "source": [
    "A=100\n",
    "B=200\n",
    "def summ():\n",
    "    A=200\n",
    "    C=300\n",
    "    add10=A+B+C\n",
    "    print(f'the addition of {A}, {B} and {C} is {add10}')\n",
    "\n",
    "summ()"
   ]
  },
  {
   "cell_type": "code",
   "execution_count": 40,
   "id": "87a40057-98bf-4336-a8f3-3132519b4dc9",
   "metadata": {},
   "outputs": [
    {
     "name": "stdout",
     "output_type": "stream",
     "text": [
      "the addition of 400, 200 and 300 is 900\n"
     ]
    }
   ],
   "source": [
    "A=100\n",
    "B=200\n",
    "def summ(A=400):\n",
    "    C=300\n",
    "    add10=A+B+C\n",
    "    print(f'the addition of {A}, {B} and {C} is {add10}')\n",
    "\n",
    "summ()"
   ]
  },
  {
   "cell_type": "code",
   "execution_count": 41,
   "id": "23a53805-0107-47b8-85f3-92ec8ca8328d",
   "metadata": {},
   "outputs": [
    {
     "name": "stdout",
     "output_type": "stream",
     "text": [
      "the addition of 600, 200 and 300 is 1100\n"
     ]
    }
   ],
   "source": [
    "A=100\n",
    "B=200\n",
    "def summ(A=400):\n",
    "    A=600\n",
    "    C=300\n",
    "    add10=A+B+C\n",
    "    print(f'the addition of {A}, {B} and {C} is {add10}')\n",
    "\n",
    "summ()"
   ]
  },
  {
   "cell_type": "code",
   "execution_count": 42,
   "id": "a63cdfea-3dae-4762-9d42-37993cfa58fc",
   "metadata": {},
   "outputs": [
    {
     "name": "stdout",
     "output_type": "stream",
     "text": [
      "the addition of 900, 200 and 300 is 1400\n"
     ]
    }
   ],
   "source": [
    "A=100\n",
    "B=200\n",
    "def summ(A=400):\n",
    "    C=300\n",
    "    add10=A+B+C\n",
    "    print(f'the addition of {A}, {B} and {C} is {add10}')\n",
    "\n",
    "summ(A=900)"
   ]
  },
  {
   "cell_type": "code",
   "execution_count": 44,
   "id": "69078f5d-3a63-4ff6-9aed-d2c5f3fc9ad0",
   "metadata": {},
   "outputs": [
    {
     "name": "stdout",
     "output_type": "stream",
     "text": [
      "the addition of 2000, 200 and 300 is 2500\n"
     ]
    }
   ],
   "source": [
    "A=100\n",
    "B=200\n",
    "def summ():\n",
    "    C=300\n",
    "    add10=A+B+C\n",
    "    print(f'the addition of {A}, {B} and {C} is {add10}')\n",
    "A=2000\n",
    "summ()"
   ]
  },
  {
   "cell_type": "code",
   "execution_count": 45,
   "id": "a2004833-f014-4552-b6de-a89c84c51a08",
   "metadata": {},
   "outputs": [
    {
     "name": "stdout",
     "output_type": "stream",
     "text": [
      "the addition of 8000, 200 and 300 is 8500\n"
     ]
    }
   ],
   "source": [
    "A=100\n",
    "B=200\n",
    "def summ(A=4000):\n",
    "    C=300\n",
    "    A=8000\n",
    "    add10=A+B+C\n",
    "    print(f'the addition of {A}, {B} and {C} is {add10}')\n",
    "A=2000\n",
    "summ()"
   ]
  },
  {
   "cell_type": "code",
   "execution_count": 46,
   "id": "6d45b243-0044-4d08-a581-d8426d4da396",
   "metadata": {},
   "outputs": [
    {
     "name": "stdout",
     "output_type": "stream",
     "text": [
      "the addition of 100, 200 and 300 is 600\n"
     ]
    }
   ],
   "source": [
    "A=100\n",
    "B=200\n",
    "C=300\n",
    "def add11():\n",
    "    ADD=A+B+C\n",
    "    print(f'the addition of {A}, {B} and {C} is {ADD}')\n",
    "\n",
    "add11()"
   ]
  },
  {
   "cell_type": "code",
   "execution_count": 48,
   "id": "adaf625d-b532-4795-833c-15c67fd9352f",
   "metadata": {},
   "outputs": [
    {
     "name": "stdout",
     "output_type": "stream",
     "text": [
      "the addition of 100, 200 and 300 is 600\n"
     ]
    }
   ],
   "source": [
    "add11()"
   ]
  },
  {
   "cell_type": "code",
   "execution_count": 49,
   "id": "1aff390f-b724-40de-afe2-618ca4eb008b",
   "metadata": {},
   "outputs": [
    {
     "ename": "NameError",
     "evalue": "name 'ADD' is not defined",
     "output_type": "error",
     "traceback": [
      "\u001b[1;31m---------------------------------------------------------------------------\u001b[0m",
      "\u001b[1;31mNameError\u001b[0m                                 Traceback (most recent call last)",
      "Cell \u001b[1;32mIn[49], line 1\u001b[0m\n\u001b[1;32m----> 1\u001b[0m ADD\n",
      "\u001b[1;31mNameError\u001b[0m: name 'ADD' is not defined"
     ]
    }
   ],
   "source": [
    "ADD"
   ]
  },
  {
   "cell_type": "code",
   "execution_count": 50,
   "id": "f0ebf333-0fe7-47ef-9da0-04c5db201af2",
   "metadata": {},
   "outputs": [
    {
     "name": "stdout",
     "output_type": "stream",
     "text": [
      "the addition of 100, 200 and 300 is 600\n"
     ]
    }
   ],
   "source": [
    "#how to use local variables outside the function call\n",
    "\n",
    "A=100\n",
    "B=200\n",
    "C=300\n",
    "def add11():\n",
    "    global ADD\n",
    "    ADD=A+B+C\n",
    "    print(f'the addition of {A}, {B} and {C} is {ADD}')\n",
    "\n",
    "add11()"
   ]
  },
  {
   "cell_type": "code",
   "execution_count": 51,
   "id": "cbc2485d-8ab7-4d53-becf-7a2873b8908b",
   "metadata": {},
   "outputs": [
    {
     "data": {
      "text/plain": [
       "600"
      ]
     },
     "execution_count": 51,
     "metadata": {},
     "output_type": "execute_result"
    }
   ],
   "source": [
    "ADD"
   ]
  },
  {
   "cell_type": "markdown",
   "id": "b212a9c1-efd3-4410-888f-61b28083f5a5",
   "metadata": {},
   "source": [
    "- Local variables can use outside the function in two ways\n",
    "- by making local variable as global by using **global keyword** and\n",
    "- by using return statement"
   ]
  },
  {
   "cell_type": "code",
   "execution_count": 3,
   "id": "cb59a8cb-d119-4356-a278-23e49d68af3b",
   "metadata": {},
   "outputs": [
    {
     "name": "stdout",
     "output_type": "stream",
     "text": [
      "50 -10\n"
     ]
    }
   ],
   "source": [
    "def summ(a,b):\n",
    "    add=a+b\n",
    "    sub=a-b\n",
    "    print(add,sub)\n",
    "\n",
    "summ(20,30)"
   ]
  },
  {
   "cell_type": "code",
   "execution_count": 4,
   "id": "2912b99b-2c61-4980-8b26-da79a32f12ec",
   "metadata": {},
   "outputs": [
    {
     "ename": "NameError",
     "evalue": "name 'add' is not defined",
     "output_type": "error",
     "traceback": [
      "\u001b[1;31m---------------------------------------------------------------------------\u001b[0m",
      "\u001b[1;31mNameError\u001b[0m                                 Traceback (most recent call last)",
      "Cell \u001b[1;32mIn[4], line 1\u001b[0m\n\u001b[1;32m----> 1\u001b[0m add\n",
      "\u001b[1;31mNameError\u001b[0m: name 'add' is not defined"
     ]
    }
   ],
   "source": [
    "add"
   ]
  },
  {
   "cell_type": "code",
   "execution_count": 5,
   "id": "6ee642b4-fde0-47e9-9bc8-0bf93607cf69",
   "metadata": {},
   "outputs": [
    {
     "name": "stdout",
     "output_type": "stream",
     "text": [
      "50 -10\n"
     ]
    }
   ],
   "source": [
    "def summ(a,b):\n",
    "    global add,sub\n",
    "    add=a+b\n",
    "    sub=a-b\n",
    "    print(add,sub)\n",
    "\n",
    "summ(20,30)"
   ]
  },
  {
   "cell_type": "code",
   "execution_count": 6,
   "id": "3a2a6cf1-fefd-49bd-a843-08e928ae173d",
   "metadata": {},
   "outputs": [
    {
     "data": {
      "text/plain": [
       "50"
      ]
     },
     "execution_count": 6,
     "metadata": {},
     "output_type": "execute_result"
    }
   ],
   "source": [
    "add"
   ]
  },
  {
   "cell_type": "code",
   "execution_count": 7,
   "id": "b18eaf1e-e91d-46e2-9a6e-0abac8fb7e9b",
   "metadata": {},
   "outputs": [
    {
     "data": {
      "text/plain": [
       "-10"
      ]
     },
     "execution_count": 7,
     "metadata": {},
     "output_type": "execute_result"
    }
   ],
   "source": [
    "sub"
   ]
  },
  {
   "cell_type": "markdown",
   "id": "257642be-916e-484c-bd64-7b263df52b24",
   "metadata": {},
   "source": [
    "**Unbound local error-**\n",
    "\n",
    "- unbound local error means the variable is not defined\n",
    "- that variable is used as both input and output inside the function"
   ]
  },
  {
   "cell_type": "code",
   "execution_count": 8,
   "id": "2f60d475-41a0-4b25-9995-6077e9d10bd4",
   "metadata": {},
   "outputs": [
    {
     "ename": "UnboundLocalError",
     "evalue": "cannot access local variable 'b' where it is not associated with a value",
     "output_type": "error",
     "traceback": [
      "\u001b[1;31m---------------------------------------------------------------------------\u001b[0m",
      "\u001b[1;31mUnboundLocalError\u001b[0m                         Traceback (most recent call last)",
      "Cell \u001b[1;32mIn[8], line 6\u001b[0m\n\u001b[0;32m      3\u001b[0m     b\u001b[38;5;241m=\u001b[39mb\u001b[38;5;241m+\u001b[39ma\n\u001b[0;32m      4\u001b[0m     \u001b[38;5;28mprint\u001b[39m(b)\n\u001b[1;32m----> 6\u001b[0m fun1()\n",
      "Cell \u001b[1;32mIn[8], line 3\u001b[0m, in \u001b[0;36mfun1\u001b[1;34m()\u001b[0m\n\u001b[0;32m      1\u001b[0m \u001b[38;5;28;01mdef\u001b[39;00m \u001b[38;5;21mfun1\u001b[39m():\n\u001b[0;32m      2\u001b[0m     a\u001b[38;5;241m=\u001b[39m\u001b[38;5;241m10\u001b[39m\n\u001b[1;32m----> 3\u001b[0m     b\u001b[38;5;241m=\u001b[39mb\u001b[38;5;241m+\u001b[39ma\n\u001b[0;32m      4\u001b[0m     \u001b[38;5;28mprint\u001b[39m(b)\n",
      "\u001b[1;31mUnboundLocalError\u001b[0m: cannot access local variable 'b' where it is not associated with a value"
     ]
    }
   ],
   "source": [
    "def fun1():\n",
    "    a=10\n",
    "    b=b+a\n",
    "    print(b)\n",
    "\n",
    "fun1()"
   ]
  },
  {
   "cell_type": "code",
   "execution_count": 9,
   "id": "966959b5-0eac-4f51-a87b-bb1d35aae85b",
   "metadata": {},
   "outputs": [
    {
     "ename": "NameError",
     "evalue": "name 'b' is not defined",
     "output_type": "error",
     "traceback": [
      "\u001b[1;31m---------------------------------------------------------------------------\u001b[0m",
      "\u001b[1;31mNameError\u001b[0m                                 Traceback (most recent call last)",
      "Cell \u001b[1;32mIn[9], line 6\u001b[0m\n\u001b[0;32m      3\u001b[0m     c\u001b[38;5;241m=\u001b[39mb\u001b[38;5;241m+\u001b[39ma\n\u001b[0;32m      4\u001b[0m     \u001b[38;5;28mprint\u001b[39m(c)\n\u001b[1;32m----> 6\u001b[0m fun2()\n",
      "Cell \u001b[1;32mIn[9], line 3\u001b[0m, in \u001b[0;36mfun2\u001b[1;34m()\u001b[0m\n\u001b[0;32m      1\u001b[0m \u001b[38;5;28;01mdef\u001b[39;00m \u001b[38;5;21mfun2\u001b[39m():\n\u001b[0;32m      2\u001b[0m     a\u001b[38;5;241m=\u001b[39m\u001b[38;5;241m10\u001b[39m\n\u001b[1;32m----> 3\u001b[0m     c\u001b[38;5;241m=\u001b[39mb\u001b[38;5;241m+\u001b[39ma\n\u001b[0;32m      4\u001b[0m     \u001b[38;5;28mprint\u001b[39m(c)\n",
      "\u001b[1;31mNameError\u001b[0m: name 'b' is not defined"
     ]
    }
   ],
   "source": [
    "def fun2():\n",
    "    a=10\n",
    "    c=b+a\n",
    "    print(c)\n",
    "\n",
    "fun2()"
   ]
  },
  {
   "cell_type": "markdown",
   "id": "c53ef225-a01b-43a6-b358-e58fef3cbe99",
   "metadata": {},
   "source": [
    "**return statement-**\n",
    "\n",
    "- till now above we have created a function with print statement in order to see the output\n",
    "\n",
    "- the function output we are not able to use outside the function\n",
    "\n",
    "- because it is a local variable\n",
    "\n",
    "- one method we use is **global keyword**\n",
    "\n",
    "- another method is return statement\n",
    "\n",
    "- return means something we are receiving\n",
    "\n",
    "- print means only we can see the answer"
   ]
  },
  {
   "cell_type": "code",
   "execution_count": 11,
   "id": "f0afba8a-a752-4bdc-ae01-76bc64e78c1b",
   "metadata": {},
   "outputs": [
    {
     "name": "stdout",
     "output_type": "stream",
     "text": [
      "50\n"
     ]
    }
   ],
   "source": [
    "def add(a,b):\n",
    "    c=a+b\n",
    "    print(c)\n",
    "\n",
    "add(20,30)"
   ]
  },
  {
   "cell_type": "code",
   "execution_count": 12,
   "id": "b57b24d4-b6eb-4874-9df4-202fb620c1d8",
   "metadata": {},
   "outputs": [
    {
     "ename": "NameError",
     "evalue": "name 'c' is not defined",
     "output_type": "error",
     "traceback": [
      "\u001b[1;31m---------------------------------------------------------------------------\u001b[0m",
      "\u001b[1;31mNameError\u001b[0m                                 Traceback (most recent call last)",
      "Cell \u001b[1;32mIn[12], line 1\u001b[0m\n\u001b[1;32m----> 1\u001b[0m c\n",
      "\u001b[1;31mNameError\u001b[0m: name 'c' is not defined"
     ]
    }
   ],
   "source": [
    "c"
   ]
  },
  {
   "cell_type": "code",
   "execution_count": 5,
   "id": "5abe7ce9-fd11-41e5-be77-b80d890fcd09",
   "metadata": {},
   "outputs": [],
   "source": [
    "def add(a,b):\n",
    "    c=a+b\n",
    "    return(c)\n",
    "\n",
    "c=add(20,30)"
   ]
  },
  {
   "cell_type": "code",
   "execution_count": 6,
   "id": "f7868a9a-ff43-41c2-a675-2d3f04a22060",
   "metadata": {},
   "outputs": [
    {
     "data": {
      "text/plain": [
       "50"
      ]
     },
     "execution_count": 6,
     "metadata": {},
     "output_type": "execute_result"
    }
   ],
   "source": [
    "c"
   ]
  },
  {
   "cell_type": "code",
   "execution_count": 3,
   "id": "9e67a651-e1a3-4646-bfc6-0f7fb81d0aae",
   "metadata": {},
   "outputs": [],
   "source": [
    "def add(a,b):\n",
    "    c=a+b\n",
    "    return(c)\n",
    "\n",
    "val1=add(20,30)"
   ]
  },
  {
   "cell_type": "code",
   "execution_count": 17,
   "id": "77b660b5-5671-4766-9bd0-56a911f2ce1e",
   "metadata": {},
   "outputs": [
    {
     "data": {
      "text/plain": [
       "50"
      ]
     },
     "execution_count": 17,
     "metadata": {},
     "output_type": "execute_result"
    }
   ],
   "source": [
    "val1"
   ]
  },
  {
   "cell_type": "code",
   "execution_count": 21,
   "id": "b89e0974-2e59-48c9-870d-9024a8bf70be",
   "metadata": {},
   "outputs": [
    {
     "name": "stdout",
     "output_type": "stream",
     "text": [
      "500 -100\n"
     ]
    }
   ],
   "source": [
    "def add_sub(a,b):\n",
    "    summ=a+b\n",
    "    sub=a-b\n",
    "    print(summ,sub)\n",
    "    return(summ,sub)\n",
    "\n",
    "summ,sub=add_sub(200,300)"
   ]
  },
  {
   "cell_type": "code",
   "execution_count": 22,
   "id": "5b9a5df1-c6c6-4dc3-ac14-e70d2e8d0ef8",
   "metadata": {},
   "outputs": [
    {
     "name": "stdout",
     "output_type": "stream",
     "text": [
      "500\n",
      "-100\n"
     ]
    }
   ],
   "source": [
    "print(summ)\n",
    "print(sub)"
   ]
  },
  {
   "cell_type": "code",
   "execution_count": 23,
   "id": "597a7367-030c-4f2f-8a9f-638dc2af33c1",
   "metadata": {},
   "outputs": [
    {
     "name": "stdout",
     "output_type": "stream",
     "text": [
      "500 -100\n"
     ]
    }
   ],
   "source": [
    "def add_sub(a,b):\n",
    "    summ=a+b\n",
    "    sub=a-b\n",
    "    print(summ,sub)\n",
    "    return(summ,sub)\n",
    "\n",
    "sub,summ=add_sub(200,300)"
   ]
  },
  {
   "cell_type": "code",
   "execution_count": 24,
   "id": "83b156eb-612b-4e85-95c5-afb39aa98c37",
   "metadata": {},
   "outputs": [
    {
     "name": "stdout",
     "output_type": "stream",
     "text": [
      "-100\n",
      "500\n"
     ]
    }
   ],
   "source": [
    "print(summ)\n",
    "print(sub)"
   ]
  },
  {
   "cell_type": "code",
   "execution_count": 27,
   "id": "5dd80e1e-1adf-4c21-89d5-2e58139e4141",
   "metadata": {},
   "outputs": [
    {
     "name": "stdout",
     "output_type": "stream",
     "text": [
      "500 -100\n"
     ]
    }
   ],
   "source": [
    "def add_sub(a,b):\n",
    "    summ=a+b\n",
    "    sub=a-b\n",
    "    print(summ,sub)\n",
    "    return(summ,sub)\n",
    "\n",
    "A=add_sub(200,300)"
   ]
  },
  {
   "cell_type": "code",
   "execution_count": 28,
   "id": "65e9bcf1-efae-4552-903e-1ff8363283d7",
   "metadata": {},
   "outputs": [
    {
     "data": {
      "text/plain": [
       "(500, -100)"
      ]
     },
     "execution_count": 28,
     "metadata": {},
     "output_type": "execute_result"
    }
   ],
   "source": [
    "A"
   ]
  },
  {
   "cell_type": "code",
   "execution_count": 32,
   "id": "25e7478f-7caf-4775-b292-8f02c20a43f9",
   "metadata": {},
   "outputs": [
    {
     "data": {
      "text/plain": [
       "30"
      ]
     },
     "execution_count": 32,
     "metadata": {},
     "output_type": "execute_result"
    }
   ],
   "source": [
    "def add_sub(a,b):\n",
    "    summ=a+b\n",
    "    sub=a-b\n",
    "    return(summ)\n",
    "    return(sub)\n",
    "\n",
    "add_sub(10,20)"
   ]
  },
  {
   "cell_type": "code",
   "execution_count": 33,
   "id": "c3ac2c8d-3e9b-42b7-8631-9e4e6fd0d4f4",
   "metadata": {},
   "outputs": [],
   "source": [
    "n1=100,200    #w\n",
    "n1,n2=100,200    #w\n",
    "n1=100    #f"
   ]
  },
  {
   "cell_type": "code",
   "execution_count": 34,
   "id": "feaffee5-ef48-4ccc-9685-be352b9c76c3",
   "metadata": {},
   "outputs": [
    {
     "data": {
      "text/plain": [
       "(100, 200)"
      ]
     },
     "execution_count": 34,
     "metadata": {},
     "output_type": "execute_result"
    }
   ],
   "source": [
    "n1=100,200\n",
    "n1"
   ]
  },
  {
   "cell_type": "code",
   "execution_count": 36,
   "id": "f01702da-0084-4f8e-9c24-f6065eda960c",
   "metadata": {},
   "outputs": [],
   "source": [
    "def add_sub(a,b):\n",
    "    summ=a+b\n",
    "    sub=a-b\n",
    "    return(summ,sub)\n",
    "\n",
    "A=add_sub(200,300)"
   ]
  },
  {
   "cell_type": "code",
   "execution_count": 37,
   "id": "bc19f4a8-def6-48e0-8102-1aa63726cb26",
   "metadata": {},
   "outputs": [
    {
     "data": {
      "text/plain": [
       "(500, -100)"
      ]
     },
     "execution_count": 37,
     "metadata": {},
     "output_type": "execute_result"
    }
   ],
   "source": [
    "A"
   ]
  },
  {
   "cell_type": "markdown",
   "id": "def7fe45-ce13-4b88-89b8-b4dd59635910",
   "metadata": {},
   "source": [
    "**Golbal vs Return-**\n",
    "\n",
    "- global keyword use for we can take the inside variable to outside the function\n",
    "\n",
    "- return can return any value outside the function\n",
    "\n",
    "- **the value you return can be used in another notebook also**"
   ]
  },
  {
   "cell_type": "markdown",
   "id": "e670ce48-1117-479d-adbc-89631e9f7423",
   "metadata": {},
   "source": [
    "**function in functions-**"
   ]
  },
  {
   "cell_type": "code",
   "execution_count": 38,
   "id": "d38117d9-76b3-4afe-a9cb-a8e92eb7b5c5",
   "metadata": {},
   "outputs": [
    {
     "name": "stdout",
     "output_type": "stream",
     "text": [
      "hello good morning\n",
      "hello good night\n"
     ]
    }
   ],
   "source": [
    "def greet1():\n",
    "    print('hello good morning')\n",
    "\n",
    "def greet2():\n",
    "    print('hello good night')\n",
    "\n",
    "greet1()\n",
    "greet2()"
   ]
  },
  {
   "cell_type": "code",
   "execution_count": 40,
   "id": "ba8b801b-d44d-43d9-bc98-1d14eb5c4666",
   "metadata": {},
   "outputs": [
    {
     "name": "stdout",
     "output_type": "stream",
     "text": [
      "greet1 function starts:\n",
      "hello good morning\n",
      "hello good night\n"
     ]
    }
   ],
   "source": [
    "def greet1():\n",
    "    print('hello good morning')\n",
    "\n",
    "def greet2():\n",
    "    print('greet1 function starts:')\n",
    "    greet1()\n",
    "    print('hello good night')\n",
    "\n",
    "greet2()"
   ]
  },
  {
   "cell_type": "code",
   "execution_count": 41,
   "id": "493184ba-3cf5-470e-91be-17acd89d824e",
   "metadata": {},
   "outputs": [
    {
     "name": "stdout",
     "output_type": "stream",
     "text": [
      "hello good night\n"
     ]
    }
   ],
   "source": [
    "def greet1():\n",
    "    print('greet2 function starts:')\n",
    "    greet2()\n",
    "    print('hello good morning')\n",
    "\n",
    "def greet2():\n",
    "    print('hello good night')\n",
    "\n",
    "greet2()"
   ]
  },
  {
   "cell_type": "code",
   "execution_count": 42,
   "id": "a514a5a9-af97-4a25-bee6-b7774f063662",
   "metadata": {},
   "outputs": [
    {
     "name": "stdout",
     "output_type": "stream",
     "text": [
      "greet2 function starts:\n",
      "hello good night\n",
      "hello good morning\n"
     ]
    }
   ],
   "source": [
    "def greet1():\n",
    "    print('greet2 function starts:')\n",
    "    greet2()\n",
    "    print('hello good morning')\n",
    "\n",
    "def greet2():\n",
    "    print('hello good night')\n",
    "\n",
    "greet1()"
   ]
  },
  {
   "cell_type": "code",
   "execution_count": null,
   "id": "175c0110-54f2-4a78-83d1-b1db6647e49b",
   "metadata": {},
   "outputs": [],
   "source": [
    "def greet1():\n",
    "    print('greet2 function starts:')\n",
    "    greet2()\n",
    "    print('hello good morning')\n",
    "\n",
    "def greet2():\n",
    "    print('greet1 function starts:')\n",
    "    greet1\n",
    "    print('hello good night')\n",
    "\n",
    "greet1()"
   ]
  },
  {
   "cell_type": "code",
   "execution_count": 43,
   "id": "7876b9f4-3690-49c9-88e0-a734b04e52e5",
   "metadata": {},
   "outputs": [
    {
     "ename": "NameError",
     "evalue": "name 'inside_function' is not defined",
     "output_type": "error",
     "traceback": [
      "\u001b[1;31m---------------------------------------------------------------------------\u001b[0m",
      "\u001b[1;31mNameError\u001b[0m                                 Traceback (most recent call last)",
      "Cell \u001b[1;32mIn[43], line 5\u001b[0m\n\u001b[0;32m      2\u001b[0m     \u001b[38;5;28;01mdef\u001b[39;00m \u001b[38;5;21minside_function\u001b[39m():\n\u001b[0;32m      3\u001b[0m         \u001b[38;5;28mprint\u001b[39m(\u001b[38;5;124mf\u001b[39m\u001b[38;5;124m'\u001b[39m\u001b[38;5;124mhello \u001b[39m\u001b[38;5;132;01m{\u001b[39;00mname\u001b[38;5;132;01m}\u001b[39;00m\u001b[38;5;124m good morning\u001b[39m\u001b[38;5;124m'\u001b[39m)\n\u001b[1;32m----> 5\u001b[0m inside_function()\n",
      "\u001b[1;31mNameError\u001b[0m: name 'inside_function' is not defined"
     ]
    }
   ],
   "source": [
    "def outside_function(name):\n",
    "    def inside_function():\n",
    "        print(f'hello {name} good morning')\n",
    "\n",
    "inside_function()"
   ]
  },
  {
   "cell_type": "code",
   "execution_count": 46,
   "id": "f2f83c36-a828-4f8f-aa24-1558e7cbadcb",
   "metadata": {},
   "outputs": [
    {
     "ename": "NameError",
     "evalue": "name 'name' is not defined",
     "output_type": "error",
     "traceback": [
      "\u001b[1;31m---------------------------------------------------------------------------\u001b[0m",
      "\u001b[1;31mNameError\u001b[0m                                 Traceback (most recent call last)",
      "Cell \u001b[1;32mIn[46], line 10\u001b[0m\n\u001b[0;32m      7\u001b[0m \u001b[38;5;28;01mdef\u001b[39;00m \u001b[38;5;21moutside_function\u001b[39m(name):\n\u001b[0;32m      8\u001b[0m     inside_function()\n\u001b[1;32m---> 10\u001b[0m outside_function(\u001b[38;5;124m'\u001b[39m\u001b[38;5;124mpython\u001b[39m\u001b[38;5;124m'\u001b[39m)\n",
      "Cell \u001b[1;32mIn[46], line 8\u001b[0m, in \u001b[0;36moutside_function\u001b[1;34m(name)\u001b[0m\n\u001b[0;32m      7\u001b[0m \u001b[38;5;28;01mdef\u001b[39;00m \u001b[38;5;21moutside_function\u001b[39m(name):\n\u001b[1;32m----> 8\u001b[0m     inside_function()\n",
      "Cell \u001b[1;32mIn[46], line 2\u001b[0m, in \u001b[0;36minside_function\u001b[1;34m()\u001b[0m\n\u001b[0;32m      1\u001b[0m \u001b[38;5;28;01mdef\u001b[39;00m \u001b[38;5;21minside_function\u001b[39m():\n\u001b[1;32m----> 2\u001b[0m     \u001b[38;5;28mprint\u001b[39m(\u001b[38;5;124mf\u001b[39m\u001b[38;5;124m'\u001b[39m\u001b[38;5;124mhello \u001b[39m\u001b[38;5;132;01m{\u001b[39;00mname\u001b[38;5;132;01m}\u001b[39;00m\u001b[38;5;124m good morning\u001b[39m\u001b[38;5;124m'\u001b[39m)\n",
      "\u001b[1;31mNameError\u001b[0m: name 'name' is not defined"
     ]
    }
   ],
   "source": [
    "def inside_function():\n",
    "    print(f'hello {name} good morning')\n",
    "    #we need to sense here\n",
    "    #name is not defined not even globally\n",
    "    #if i call this function def i will get error\n",
    "\n",
    "def outside_function(name):\n",
    "    inside_function()\n",
    "\n",
    "outside_function('python')"
   ]
  },
  {
   "cell_type": "code",
   "execution_count": 47,
   "id": "e455853f-4274-42be-bcf8-7e5adbc1d3b3",
   "metadata": {},
   "outputs": [
    {
     "name": "stdout",
     "output_type": "stream",
     "text": [
      "hello python good morning\n"
     ]
    }
   ],
   "source": [
    "def inside_function(name):\n",
    "    print(f'hello {name} good morning')\n",
    "    #is the variable defined anywhere\n",
    "\n",
    "def outside_function(name):\n",
    "    inside_function(name)\n",
    "\n",
    "outside_function('python')"
   ]
  },
  {
   "cell_type": "code",
   "execution_count": 57,
   "id": "a2e0689a-68e5-4683-be66-c22e8cf32225",
   "metadata": {},
   "outputs": [
    {
     "name": "stdout",
     "output_type": "stream",
     "text": [
      "hello python good morning\n"
     ]
    }
   ],
   "source": [
    "def outside_function(name):\n",
    "    def inside_function(name):\n",
    "        print(f'hello {name} good morning')\n",
    "    inside_function(name)\n",
    "outside_function('python')"
   ]
  },
  {
   "cell_type": "code",
   "execution_count": 49,
   "id": "a592472e-9aa5-4be3-9c13-f55c61ea8a05",
   "metadata": {},
   "outputs": [
    {
     "name": "stdout",
     "output_type": "stream",
     "text": [
      "30\n"
     ]
    }
   ],
   "source": [
    "def add(a,b):\n",
    "    print(a+b)\n",
    "\n",
    "add(10,20)"
   ]
  },
  {
   "cell_type": "code",
   "execution_count": 50,
   "id": "fb4e11d1-3d13-4e16-9640-80bcab077ea2",
   "metadata": {},
   "outputs": [
    {
     "name": "stdout",
     "output_type": "stream",
     "text": [
      "30\n"
     ]
    }
   ],
   "source": [
    "def add1():\n",
    "    def add(a,b):\n",
    "        print(a+b)\n",
    "    add(10,20)\n",
    "add1()"
   ]
  },
  {
   "cell_type": "code",
   "execution_count": 53,
   "id": "95e2a954-44de-4273-ae9a-f2d687cd866d",
   "metadata": {},
   "outputs": [
    {
     "name": "stdout",
     "output_type": "stream",
     "text": [
      "50\n"
     ]
    }
   ],
   "source": [
    "def MATH1():\n",
    "    def MATH():\n",
    "        def add(a,b):\n",
    "            print(a+b)\n",
    "        add(25,25)\n",
    "    MATH()\n",
    "MATH1()"
   ]
  },
  {
   "cell_type": "code",
   "execution_count": 54,
   "id": "5dffddc9-e6ab-44bf-939f-359d3a8a4170",
   "metadata": {},
   "outputs": [
    {
     "name": "stdout",
     "output_type": "stream",
     "text": [
      "35\n"
     ]
    }
   ],
   "source": [
    "def MATH(a,b):\n",
    "    def add():\n",
    "        print(a+b)\n",
    "    add()\n",
    "MATH(15,20)"
   ]
  },
  {
   "cell_type": "code",
   "execution_count": 56,
   "id": "9716a89b-d023-42bf-b2dc-d7b0f2305c08",
   "metadata": {},
   "outputs": [
    {
     "name": "stdout",
     "output_type": "stream",
     "text": [
      "hello python good morning\n"
     ]
    }
   ],
   "source": [
    "def outside_function(name):\n",
    "    def inside_function():\n",
    "        print(f'hello {name} good morning')\n",
    "    inside_function()\n",
    "outside_function('python')"
   ]
  },
  {
   "cell_type": "code",
   "execution_count": null,
   "id": "4022e318-9d24-45e4-b7b3-7a09778639ab",
   "metadata": {},
   "outputs": [],
   "source": [
    "# calculator program\n",
    "# First create 4 function\n",
    "# add function\n",
    "# def add():\n",
    "# print(a+b)\n",
    "# sub function\n",
    "# mul function\n",
    "# div function\n",
    "# print(\"enter the value 1,2,3,4\")\n",
    "# main function\n",
    "# a=number\n",
    "# b=number\n",
    "# operator=\n",
    "# if operator==1:\n",
    "# add()"
   ]
  },
  {
   "cell_type": "code",
   "execution_count": 72,
   "id": "6ee7c82f-5ba1-4c1c-8484-5cb691a3fb58",
   "metadata": {},
   "outputs": [
    {
     "name": "stdout",
     "output_type": "stream",
     "text": [
      "operator= 1=+, 2=-, 3=*, 4=/\n"
     ]
    },
    {
     "name": "stdin",
     "output_type": "stream",
     "text": [
      "Enter the value you want to perfrom:  8\n"
     ]
    },
    {
     "name": "stdout",
     "output_type": "stream",
     "text": [
      "please enter the valid operation\n"
     ]
    }
   ],
   "source": [
    "def calc():\n",
    "    def add():\n",
    "        print(a+b)\n",
    "    \n",
    "    def sub():\n",
    "        print(a-b)\n",
    "    \n",
    "    def mul():\n",
    "        print(a*b)\n",
    "    \n",
    "    def div():\n",
    "        print(a/b)\n",
    "    \n",
    "    print('operator= 1=+, 2=-, 3=*, 4=/')\n",
    "    operation=eval(input('Enter the value you want to perfrom: '))\n",
    "    \n",
    "    if operation==1:\n",
    "        print('you choose addition operation')\n",
    "        a=eval(input('Enter a number: '))\n",
    "        b=eval(input('Enter a number: '))\n",
    "        add()\n",
    "    \n",
    "    elif operation==2:\n",
    "        print('you choose subtraction operation')\n",
    "        a=eval(input('Enter a number: '))\n",
    "        b=eval(input('Enter a number: '))\n",
    "        sub()\n",
    "    \n",
    "    elif operation==3:\n",
    "        print('you choose multiplication operation')\n",
    "        a=eval(input('Enter a number: '))\n",
    "        b=eval(input('Enter a number: '))\n",
    "        mul()\n",
    "    \n",
    "    elif operation==4:\n",
    "        print('you choose division operation')\n",
    "        a=eval(input('Enter a number: '))\n",
    "        b=eval(input('Enter a number: '))\n",
    "        div()\n",
    "        \n",
    "    else:\n",
    "        print('please enter the valid operation')\n",
    "\n",
    "calc()"
   ]
  },
  {
   "cell_type": "code",
   "execution_count": null,
   "id": "02a545b6-5b89-4d11-b4b0-13b8e2f8c1f1",
   "metadata": {},
   "outputs": [],
   "source": []
  }
 ],
 "metadata": {
  "kernelspec": {
   "display_name": "Python 3 (ipykernel)",
   "language": "python",
   "name": "python3"
  },
  "language_info": {
   "codemirror_mode": {
    "name": "ipython",
    "version": 3
   },
   "file_extension": ".py",
   "mimetype": "text/x-python",
   "name": "python",
   "nbconvert_exporter": "python",
   "pygments_lexer": "ipython3",
   "version": "3.12.7"
  }
 },
 "nbformat": 4,
 "nbformat_minor": 5
}
