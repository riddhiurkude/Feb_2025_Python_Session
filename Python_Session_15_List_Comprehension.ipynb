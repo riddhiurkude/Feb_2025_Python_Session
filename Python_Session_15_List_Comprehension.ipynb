{
 "cells": [
  {
   "cell_type": "markdown",
   "id": "6be2adde-e2f6-452b-a6d1-1472f005685f",
   "metadata": {},
   "source": [
    "- List comprehension is a way to write the code line in a single line\n",
    "\n",
    "- whenever we use for loops and if conditions the time will be increase\n",
    "\n",
    "- list comprehension will able to write for loop and if condition in a single line\n",
    "\n",
    "- which reduce the time to get the output "
   ]
  },
  {
   "cell_type": "code",
   "execution_count": 1,
   "id": "b945297c-2f81-4514-9a67-6b27390f908b",
   "metadata": {},
   "outputs": [
    {
     "name": "stdout",
     "output_type": "stream",
     "text": [
      "0 1 2 3 4 5 6 7 8 9 "
     ]
    }
   ],
   "source": [
    "for i in range(10):\n",
    "    print(i, end=' ')"
   ]
  },
  {
   "cell_type": "code",
   "execution_count": 4,
   "id": "2faf996d-1b9f-4fae-8e69-9c84bfadd5d8",
   "metadata": {},
   "outputs": [
    {
     "data": {
      "text/plain": [
       "[0, 1, 2, 3, 4, 5, 6, 7, 8, 9]"
      ]
     },
     "execution_count": 4,
     "metadata": {},
     "output_type": "execute_result"
    }
   ],
   "source": [
    "list1=[]\n",
    "for i in range(10):\n",
    "    list1.append(i)\n",
    "\n",
    "list1"
   ]
  },
  {
   "cell_type": "markdown",
   "id": "3d96d3ca-c95a-4957-a6b9-f8afc5f73721",
   "metadata": {},
   "source": [
    "**Method-1: only for loop**"
   ]
  },
  {
   "cell_type": "code",
   "execution_count": null,
   "id": "028ac1b0-5697-490b-973f-5900d81cf9ec",
   "metadata": {},
   "outputs": [],
   "source": [
    "# list1=[<code here>]\n",
    "# list1=[<output><for loop>]"
   ]
  },
  {
   "cell_type": "code",
   "execution_count": 5,
   "id": "9e13f9f5-5d06-4afe-ba97-fccf1419185b",
   "metadata": {},
   "outputs": [
    {
     "data": {
      "text/plain": [
       "[0, 1, 2, 3, 4, 5, 6, 7, 8, 9]"
      ]
     },
     "execution_count": 5,
     "metadata": {},
     "output_type": "execute_result"
    }
   ],
   "source": [
    "list1=[0, 1, 2, 3, 4, 5, 6, 7, 8, 9]\n",
    "list1"
   ]
  },
  {
   "cell_type": "code",
   "execution_count": 8,
   "id": "eb76630f-88fe-41d0-9f3a-19800c0183a5",
   "metadata": {},
   "outputs": [
    {
     "data": {
      "text/plain": [
       "['Hyd', 'Chennai', 'Mumbai', 'Pune']"
      ]
     },
     "execution_count": 8,
     "metadata": {},
     "output_type": "execute_result"
    }
   ],
   "source": [
    "# l1=['hyd','chennai','mumbai','pune']\n",
    "# ans=['Hyd','Chennai','Mumbai','Pune']\n",
    "\n",
    "l1=['hyd','chennai','mumbai','pune']\n",
    "ans=[i.capitalize() for i in l1]\n",
    "ans\n"
   ]
  },
  {
   "cell_type": "code",
   "execution_count": 9,
   "id": "c7e65e86-0d86-4725-8b24-d21fbf83ef1b",
   "metadata": {},
   "outputs": [
    {
     "data": {
      "text/plain": [
       "['HYD', 'CHENNAI', 'MUMBAI', 'PUNE']"
      ]
     },
     "execution_count": 9,
     "metadata": {},
     "output_type": "execute_result"
    }
   ],
   "source": [
    "# l1=['hyd','chennai','mumbai','pune']\n",
    "# ans=['HYD','CHENNAI','MUMBAI','PUNE']\n",
    "\n",
    "l1=['hyd','chennai','mumbai','pune']\n",
    "ans=[i.upper() for i in l1]\n",
    "ans\n"
   ]
  },
  {
   "cell_type": "code",
   "execution_count": 13,
   "id": "6c08902b-ec00-4a7d-b906-b8bfb38d82d0",
   "metadata": {},
   "outputs": [
    {
     "data": {
      "text/plain": [
       "[0, 10, 20, 30]"
      ]
     },
     "execution_count": 13,
     "metadata": {},
     "output_type": "execute_result"
    }
   ],
   "source": [
    "# l1=['hyd','chennai','mumbai','pune']\n",
    "# ans=[0,10,20,30] multiply index with 10\n",
    "\n",
    "l1=['hyd','chennai','mumbai','pune']\n",
    "ans=[]\n",
    "for i in range(len(l1)):\n",
    "    ans.append(i*10)\n",
    "\n",
    "ans"
   ]
  },
  {
   "cell_type": "code",
   "execution_count": 15,
   "id": "670f3b31-a122-4600-9eaa-cee22782964f",
   "metadata": {},
   "outputs": [
    {
     "data": {
      "text/plain": [
       "[0, 10, 20, 30]"
      ]
     },
     "execution_count": 15,
     "metadata": {},
     "output_type": "execute_result"
    }
   ],
   "source": [
    "ans=[i*10 for i in range(len(l1))]\n",
    "ans"
   ]
  },
  {
   "cell_type": "code",
   "execution_count": 17,
   "id": "cda5e35f-5976-4f0d-b007-3933362bfcd5",
   "metadata": {},
   "outputs": [
    {
     "data": {
      "text/plain": [
       "[0, 10, 20, 30]"
      ]
     },
     "execution_count": 17,
     "metadata": {},
     "output_type": "execute_result"
    }
   ],
   "source": [
    "l1=['hyd','chennai','mumbai','pune']\n",
    "ans=[]\n",
    "for i in l1:\n",
    "    ans.append(l1.index(i)*10)\n",
    "\n",
    "ans"
   ]
  },
  {
   "cell_type": "code",
   "execution_count": 18,
   "id": "d0965b61-a815-4eec-91d0-0e44df794bbb",
   "metadata": {},
   "outputs": [
    {
     "data": {
      "text/plain": [
       "[0, 10, 20, 30]"
      ]
     },
     "execution_count": 18,
     "metadata": {},
     "output_type": "execute_result"
    }
   ],
   "source": [
    "ans=[l1.index(i)*10 for i in l1]\n",
    "ans"
   ]
  },
  {
   "cell_type": "markdown",
   "id": "4ccf7434-11b9-429f-9b69-870be392e657",
   "metadata": {},
   "source": [
    "**Method-2: for loop with if condition**"
   ]
  },
  {
   "cell_type": "code",
   "execution_count": null,
   "id": "97677556-eb63-4b77-8289-a5cb5ddbf797",
   "metadata": {},
   "outputs": [],
   "source": [
    "#[<output><for loop>]\n",
    "#[<output><for loop><if condition>]"
   ]
  },
  {
   "cell_type": "code",
   "execution_count": 20,
   "id": "f60580c0-e45d-49d5-8445-7691be197e9e",
   "metadata": {},
   "outputs": [
    {
     "ename": "SyntaxError",
     "evalue": "expected 'else' after 'if' expression (3999816801.py, line 1)",
     "output_type": "error",
     "traceback": [
      "\u001b[1;36m  Cell \u001b[1;32mIn[20], line 1\u001b[1;36m\u001b[0m\n\u001b[1;33m    l1=[i if '#' in i for i in l1]\u001b[0m\n\u001b[1;37m        ^\u001b[0m\n\u001b[1;31mSyntaxError\u001b[0m\u001b[1;31m:\u001b[0m expected 'else' after 'if' expression\n"
     ]
    }
   ],
   "source": [
    "l1=[i if '#' in i for i in l1]"
   ]
  },
  {
   "cell_type": "code",
   "execution_count": 23,
   "id": "5f6605d6-08bf-4002-aae3-6bc0117a5bfd",
   "metadata": {},
   "outputs": [
    {
     "data": {
      "text/plain": [
       "['chen#ai', 'mu#bai']"
      ]
     },
     "execution_count": 23,
     "metadata": {},
     "output_type": "execute_result"
    }
   ],
   "source": [
    "# l1=['hyd','chen#ai','mu#bai','pune']\n",
    "# ans=['chen#ai','mu#bai']\n",
    "l1=['hyd','chen#ai','mu#bai','pune']\n",
    "l1=[i for i in l1 if '#' in i]\n",
    "l1"
   ]
  },
  {
   "cell_type": "code",
   "execution_count": 24,
   "id": "d860d89a-f99d-4235-980b-13f5009e4365",
   "metadata": {},
   "outputs": [
    {
     "data": {
      "text/plain": [
       "['hyd', 'pune']"
      ]
     },
     "execution_count": 24,
     "metadata": {},
     "output_type": "execute_result"
    }
   ],
   "source": [
    "#  l1=['hyd','chen#ai','mu#bai','pune']\n",
    "#  ans=['hyd','pune']\n",
    "\n",
    "l1=['hyd','chen#ai','mu#bai','pune']\n",
    "l1=[i for i in l1 if '#' not in i]\n",
    "l1"
   ]
  },
  {
   "cell_type": "code",
   "execution_count": 7,
   "id": "184f67e4-3a95-4b48-9887-02987cb39f51",
   "metadata": {},
   "outputs": [
    {
     "data": {
      "text/plain": [
       "['chen#ai', 'mu#bai']"
      ]
     },
     "execution_count": 7,
     "metadata": {},
     "output_type": "execute_result"
    }
   ],
   "source": [
    " #  l1=['hyd','chen#ai','mu#bai','pune']\n",
    "#  ans=['hyd','pune']\n",
    "\n",
    "l1=['hyd','chen#ai','mu#bai','pune']\n",
    "ans=[]\n",
    "for i in l1:\n",
    "    if '#' in i:\n",
    "        ans.append(i)\n",
    "\n",
    "ans"
   ]
  },
  {
   "cell_type": "code",
   "execution_count": 5,
   "id": "16ca94c5-d77d-48ec-9dd0-48ad7f2742b5",
   "metadata": {},
   "outputs": [
    {
     "data": {
      "text/plain": [
       "([100, 20, 38, 52], [27, 47, 87])"
      ]
     },
     "execution_count": 5,
     "metadata": {},
     "output_type": "execute_result"
    }
   ],
   "source": [
    "#list1=[100,20,27,38,47,52,87]\n",
    "#even_list=[<write your code here>]\n",
    "#odd_list=[<write your code here>]\n",
    "\n",
    "#don't give if and else\n",
    "#write two answer both will use if only\n",
    "\n",
    "list1=[100,20,27,38,47,52,87]\n",
    "even_list=[i for i in list1 if i%2==0]\n",
    "odd_list=[i for i in list1 if i%2!=0]\n",
    "even_list,odd_list"
   ]
  },
  {
   "cell_type": "markdown",
   "id": "2e464127-b2cc-4480-9e27-46c88499c7f7",
   "metadata": {},
   "source": [
    "**Method-3: for loop if else**"
   ]
  },
  {
   "cell_type": "code",
   "execution_count": null,
   "id": "2a6657dd-23e4-4415-8ad1-bc2dac1525c4",
   "metadata": {},
   "outputs": [],
   "source": [
    "#method-1: [<output><for loop>]\n",
    "#method-2: [<ouptput><for loop><if condition>]\n",
    "#method-3: [<if output><if condition>else<else output><for loop>]"
   ]
  },
  {
   "cell_type": "code",
   "execution_count": 8,
   "id": "116c6a6c-1d0a-4e27-beac-67b807473737",
   "metadata": {},
   "outputs": [
    {
     "data": {
      "text/plain": [
       "['even=100', 'even=20', 'odd=27', 'even=38', 'odd=47', 'even=52', 'odd=87']"
      ]
     },
     "execution_count": 8,
     "metadata": {},
     "output_type": "execute_result"
    }
   ],
   "source": [
    "list1=[100,20,27,38,47,52,87]\n",
    "even_odd=[f'even={i}' if i%2==0 else f'odd={i}' for i in list1]\n",
    "even_odd"
   ]
  },
  {
   "cell_type": "code",
   "execution_count": 12,
   "id": "856e5e64-14a1-4070-a498-1febc2000f33",
   "metadata": {},
   "outputs": [
    {
     "data": {
      "text/plain": [
       "[76, 89, 53, 67, 90, 82, 99]"
      ]
     },
     "execution_count": 12,
     "metadata": {},
     "output_type": "execute_result"
    }
   ],
   "source": [
    "l=[45,76,89,53,67,90,82,49,33,99]\n",
    "#1.filter the students who pass marks>=50\n",
    "#2. calculate grades of all students\n",
    "#A:85+, B:70-84, c:50-69, D:<50,  4 list will come\n",
    "#3. Add 5 grace marks to student who failed <50\n",
    "#4. find the average marks of the class\n",
    "\n",
    "passs=[]\n",
    "for i in l:\n",
    "    if i>=50:\n",
    "        passs.append(i)\n",
    "\n",
    "passs"
   ]
  },
  {
   "cell_type": "code",
   "execution_count": 15,
   "id": "a72f275e-addf-4d68-9dad-ba007975cf99",
   "metadata": {},
   "outputs": [
    {
     "data": {
      "text/plain": [
       "[76, 89, 53, 67, 90, 82, 99]"
      ]
     },
     "execution_count": 15,
     "metadata": {},
     "output_type": "execute_result"
    }
   ],
   "source": [
    "passs=[i for i in l if i>=50]\n",
    "passs"
   ]
  },
  {
   "cell_type": "code",
   "execution_count": 21,
   "id": "080cce32-7e07-4019-97a5-1d2526861bff",
   "metadata": {},
   "outputs": [
    {
     "data": {
      "text/plain": [
       "(['89:A grade', '90:A grade', '99:A grade'],\n",
       " ['76:B grade', '82:B grade'],\n",
       " ['53:C grade', '67:C grade'],\n",
       " ['45:D grade', '49:D grade', '33:D grade'])"
      ]
     },
     "execution_count": 21,
     "metadata": {},
     "output_type": "execute_result"
    }
   ],
   "source": [
    "A_grade=[]\n",
    "B_grade=[]\n",
    "C_grade=[]\n",
    "D_grade=[]\n",
    "for i in l:\n",
    "    if i>=85:\n",
    "        A_grade.append(f'{i}:A grade')\n",
    "    elif i>=70:\n",
    "        B_grade.append(f'{i}:B grade')\n",
    "    elif i>=50:\n",
    "        C_grade.append(f'{i}:C grade')\n",
    "    else:\n",
    "        D_grade.append(f'{i}:D grade')\n",
    "\n",
    "A_grade,B_grade,C_grade,D_grade"
   ]
  },
  {
   "cell_type": "code",
   "execution_count": 28,
   "id": "340db8ce-7889-4ea9-8c69-36f3e09713d7",
   "metadata": {},
   "outputs": [
    {
     "data": {
      "text/plain": [
       "['A:99']"
      ]
     },
     "execution_count": 28,
     "metadata": {},
     "output_type": "execute_result"
    }
   ],
   "source": [
    "l=[45,76,89,53,67,90,82,49,33,99]\n",
    "[f'A:{i}' if i>=85 else f'B:{i}' if i>=70 else f'c:{i} for in l']"
   ]
  },
  {
   "cell_type": "code",
   "execution_count": 29,
   "id": "0af7f624-87eb-4ab4-a6f8-2e2c7f1393a8",
   "metadata": {},
   "outputs": [
    {
     "name": "stdout",
     "output_type": "stream",
     "text": [
      "683\n",
      "avg:  68.3\n"
     ]
    }
   ],
   "source": [
    "l=[45,76,89,53,67,90,82,49,33,99]\n",
    "summ=0\n",
    "for i in l:\n",
    "    summ=summ+i\n",
    "print(summ)\n",
    "print('avg: ',summ/len(l))"
   ]
  },
  {
   "cell_type": "markdown",
   "id": "5143757d-7c60-4117-b217-45222fb2a645",
   "metadata": {},
   "source": [
    "**Walrus Operator**\n",
    "\n",
    "- in list comprehension = will not work\n",
    "\n",
    "- if you want to erite equal to (=), then will use walrus operator"
   ]
  },
  {
   "cell_type": "code",
   "execution_count": 30,
   "id": "950a1a80-8eb2-41a4-b5e1-06aa36acf21d",
   "metadata": {},
   "outputs": [
    {
     "data": {
      "text/plain": [
       "68.3"
      ]
     },
     "execution_count": 30,
     "metadata": {},
     "output_type": "execute_result"
    }
   ],
   "source": [
    "total=0\n",
    "ans=[total:=total+i for i in l]\n",
    "total/len(ans)"
   ]
  },
  {
   "cell_type": "code",
   "execution_count": null,
   "id": "9eb26d9b-ec2f-4ab6-b5df-f6dfb13c4fb4",
   "metadata": {},
   "outputs": [],
   "source": []
  }
 ],
 "metadata": {
  "kernelspec": {
   "display_name": "Python 3 (ipykernel)",
   "language": "python",
   "name": "python3"
  },
  "language_info": {
   "codemirror_mode": {
    "name": "ipython",
    "version": 3
   },
   "file_extension": ".py",
   "mimetype": "text/x-python",
   "name": "python",
   "nbconvert_exporter": "python",
   "pygments_lexer": "ipython3",
   "version": "3.12.7"
  }
 },
 "nbformat": 4,
 "nbformat_minor": 5
}
