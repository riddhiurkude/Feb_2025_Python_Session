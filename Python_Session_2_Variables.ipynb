{
 "cells": [
  {
   "cell_type": "code",
   "execution_count": 1,
   "id": "0d09a8f2-67b5-4991-a3eb-4e426072f4b5",
   "metadata": {},
   "outputs": [
    {
     "data": {
      "text/plain": [
       "'C:\\\\Users\\\\dell\\\\Documents\\\\FSDS\\\\Python_Sessions'"
      ]
     },
     "execution_count": 1,
     "metadata": {},
     "output_type": "execute_result"
    }
   ],
   "source": [
    "import os\n",
    "os.getcwd()\n",
    "\n",
    "# get current working directory(cwd)"
   ]
  },
  {
   "cell_type": "markdown",
   "id": "0fa7e8da-25cf-46ab-b051-42f75d0daacf",
   "metadata": {},
   "source": [
    "## Variables"
   ]
  },
  {
   "cell_type": "markdown",
   "id": "118bf4de-5afb-4823-a981-912964b474e4",
   "metadata": {},
   "source": [
    "Variables are used to store the values, and the values can be change"
   ]
  },
  {
   "cell_type": "code",
   "execution_count": 3,
   "id": "24dbb346-d481-4c4f-a9eb-a758f32f20e5",
   "metadata": {},
   "outputs": [
    {
     "name": "stdout",
     "output_type": "stream",
     "text": [
      "100\n"
     ]
    }
   ],
   "source": [
    "num=100\n",
    "# value 100 stored in a variable called: num\n",
    "print(num)"
   ]
  },
  {
   "cell_type": "code",
   "execution_count": 4,
   "id": "fd162bfb-b005-4bee-a48e-5342daec5315",
   "metadata": {},
   "outputs": [
    {
     "name": "stdout",
     "output_type": "stream",
     "text": [
      "200\n"
     ]
    }
   ],
   "source": [
    "num=200\n",
    "print(num)"
   ]
  },
  {
   "cell_type": "code",
   "execution_count": 5,
   "id": "04d321be-127b-4915-a382-a76d201ec016",
   "metadata": {},
   "outputs": [
    {
     "data": {
      "text/plain": [
       "200"
      ]
     },
     "execution_count": 5,
     "metadata": {},
     "output_type": "execute_result"
    }
   ],
   "source": [
    "Number=200\n",
    "Number"
   ]
  },
  {
   "cell_type": "code",
   "execution_count": 6,
   "id": "e947afe7-93b7-461d-8d5d-642a0ca65206",
   "metadata": {},
   "outputs": [
    {
     "data": {
      "text/plain": [
       "300"
      ]
     },
     "execution_count": 6,
     "metadata": {},
     "output_type": "execute_result"
    }
   ],
   "source": [
    "number=300\n",
    "number"
   ]
  },
  {
   "cell_type": "code",
   "execution_count": 7,
   "id": "2016c476-1736-4b4a-8116-54ceec80c038",
   "metadata": {},
   "outputs": [
    {
     "data": {
      "text/plain": [
       "(300, 200)"
      ]
     },
     "execution_count": 7,
     "metadata": {},
     "output_type": "execute_result"
    }
   ],
   "source": [
    "number, Number"
   ]
  },
  {
   "cell_type": "code",
   "execution_count": 8,
   "id": "916af5cc-104c-4ca7-9788-dedb14701334",
   "metadata": {},
   "outputs": [
    {
     "data": {
      "text/plain": [
       "300"
      ]
     },
     "execution_count": 8,
     "metadata": {},
     "output_type": "execute_result"
    }
   ],
   "source": [
    "number123=300\n",
    "number123"
   ]
  },
  {
   "cell_type": "code",
   "execution_count": 9,
   "id": "937a823c-061c-46c5-9f72-9c72c57bd23e",
   "metadata": {},
   "outputs": [
    {
     "ename": "SyntaxError",
     "evalue": "invalid decimal literal (359278068.py, line 1)",
     "output_type": "error",
     "traceback": [
      "\u001b[1;36m  Cell \u001b[1;32mIn[9], line 1\u001b[1;36m\u001b[0m\n\u001b[1;33m    123number=400\u001b[0m\n\u001b[1;37m      ^\u001b[0m\n\u001b[1;31mSyntaxError\u001b[0m\u001b[1;31m:\u001b[0m invalid decimal literal\n"
     ]
    }
   ],
   "source": [
    "123number=400\n",
    "123number"
   ]
  },
  {
   "cell_type": "code",
   "execution_count": null,
   "id": "b887a02b-b650-418a-9997-612115533c18",
   "metadata": {},
   "outputs": [],
   "source": [
    "number  #works\n",
    "NUMBER  #works\n",
    "number123  #works\n",
    "123number  #notworks"
   ]
  },
  {
   "cell_type": "code",
   "execution_count": 10,
   "id": "66d2ec28-83b1-42ad-a05f-bab9bf7d30f5",
   "metadata": {},
   "outputs": [
    {
     "data": {
      "text/plain": [
       "500"
      ]
     },
     "execution_count": 10,
     "metadata": {},
     "output_type": "execute_result"
    }
   ],
   "source": [
    "NUMBERone=500\n",
    "NUMBERone"
   ]
  },
  {
   "cell_type": "code",
   "execution_count": 11,
   "id": "a715b449-427f-4d34-b382-0c92aafaecd9",
   "metadata": {},
   "outputs": [
    {
     "ename": "SyntaxError",
     "evalue": "invalid syntax (275804197.py, line 1)",
     "output_type": "error",
     "traceback": [
      "\u001b[1;36m  Cell \u001b[1;32mIn[11], line 1\u001b[1;36m\u001b[0m\n\u001b[1;33m    number$one=600\u001b[0m\n\u001b[1;37m          ^\u001b[0m\n\u001b[1;31mSyntaxError\u001b[0m\u001b[1;31m:\u001b[0m invalid syntax\n"
     ]
    }
   ],
   "source": [
    "number$one=600\n",
    "number$one"
   ]
  },
  {
   "cell_type": "code",
   "execution_count": 12,
   "id": "fcede66d-dbce-4a25-9b1e-ab518ec2dde3",
   "metadata": {},
   "outputs": [
    {
     "ename": "SyntaxError",
     "evalue": "cannot assign to expression here. Maybe you meant '==' instead of '='? (3988721785.py, line 1)",
     "output_type": "error",
     "traceback": [
      "\u001b[1;36m  Cell \u001b[1;32mIn[12], line 1\u001b[1;36m\u001b[0m\n\u001b[1;33m    number&one=700\u001b[0m\n\u001b[1;37m    ^\u001b[0m\n\u001b[1;31mSyntaxError\u001b[0m\u001b[1;31m:\u001b[0m cannot assign to expression here. Maybe you meant '==' instead of '='?\n"
     ]
    }
   ],
   "source": [
    "number&one=700\n",
    "number&one"
   ]
  },
  {
   "cell_type": "code",
   "execution_count": 13,
   "id": "a8084ab3-830e-4b30-bfe5-63def9a0c6ce",
   "metadata": {},
   "outputs": [
    {
     "ename": "SyntaxError",
     "evalue": "cannot assign to expression here. Maybe you meant '==' instead of '='? (2297086758.py, line 1)",
     "output_type": "error",
     "traceback": [
      "\u001b[1;36m  Cell \u001b[1;32mIn[13], line 1\u001b[1;36m\u001b[0m\n\u001b[1;33m    number*one=800\u001b[0m\n\u001b[1;37m    ^\u001b[0m\n\u001b[1;31mSyntaxError\u001b[0m\u001b[1;31m:\u001b[0m cannot assign to expression here. Maybe you meant '==' instead of '='?\n"
     ]
    }
   ],
   "source": [
    "number*one=800\n",
    "number*one"
   ]
  },
  {
   "cell_type": "code",
   "execution_count": 14,
   "id": "3766b620-b23a-43f7-90bd-d4cbd51e21e6",
   "metadata": {},
   "outputs": [
    {
     "data": {
      "text/plain": [
       "900"
      ]
     },
     "execution_count": 14,
     "metadata": {},
     "output_type": "execute_result"
    }
   ],
   "source": [
    "number_one=900\n",
    "number_one"
   ]
  },
  {
   "cell_type": "code",
   "execution_count": 15,
   "id": "a8c6cde2-7a8e-4bb0-949a-35fb84aa048f",
   "metadata": {},
   "outputs": [
    {
     "ename": "SyntaxError",
     "evalue": "invalid syntax (3762185739.py, line 1)",
     "output_type": "error",
     "traceback": [
      "\u001b[1;36m  Cell \u001b[1;32mIn[15], line 1\u001b[1;36m\u001b[0m\n\u001b[1;33m    number one=900\u001b[0m\n\u001b[1;37m           ^\u001b[0m\n\u001b[1;31mSyntaxError\u001b[0m\u001b[1;31m:\u001b[0m invalid syntax\n"
     ]
    }
   ],
   "source": [
    "number one=900\n",
    "number one"
   ]
  },
  {
   "cell_type": "code",
   "execution_count": null,
   "id": "b51daf53-46a7-4690-9c32-c87fcc8bc14f",
   "metadata": {},
   "outputs": [],
   "source": [
    "NUMBERone    #works\n",
    "number$one   #not works\n",
    "number&one  #not works\n",
    "number*one  #not works\n",
    "number_one  #works\n",
    "number one  #not works"
   ]
  },
  {
   "cell_type": "code",
   "execution_count": 16,
   "id": "023eb167-2b84-46c6-8ff0-8b9dec7d353f",
   "metadata": {},
   "outputs": [
    {
     "ename": "SyntaxError",
     "evalue": "invalid syntax (2012701846.py, line 1)",
     "output_type": "error",
     "traceback": [
      "\u001b[1;36m  Cell \u001b[1;32mIn[16], line 1\u001b[1;36m\u001b[0m\n\u001b[1;33m    if=200\u001b[0m\n\u001b[1;37m      ^\u001b[0m\n\u001b[1;31mSyntaxError\u001b[0m\u001b[1;31m:\u001b[0m invalid syntax\n"
     ]
    }
   ],
   "source": [
    "if=200\n",
    "if"
   ]
  },
  {
   "cell_type": "code",
   "execution_count": null,
   "id": "4cd5a9f8-c5c3-4d3d-9938-77b62c4f7b44",
   "metadata": {},
   "outputs": [],
   "source": [
    "if\n",
    "else\n",
    "True\n",
    "False\n",
    "for\n",
    "while"
   ]
  },
  {
   "cell_type": "code",
   "execution_count": 17,
   "id": "b35b4b9b-b2f4-4ede-9632-b74176bbde55",
   "metadata": {},
   "outputs": [
    {
     "data": {
      "text/plain": [
       "12"
      ]
     },
     "execution_count": 17,
     "metadata": {},
     "output_type": "execute_result"
    }
   ],
   "source": [
    "_=12\n",
    "_"
   ]
  },
  {
   "cell_type": "markdown",
   "id": "b26ce671-cc19-4c2c-b7fa-b92fbce6a089",
   "metadata": {},
   "source": [
    "- Variables can be Capital letters\n",
    "\n",
    "- Varibles can be a small letters\n",
    "\n",
    "- Variables can be mix of both capital and small letters\n",
    "\n",
    "- Variables can be the mix of letters and numbers as **Suffix**\n",
    "\n",
    "- Variables can not be the mix of letters and numbers as **Prefix**\n",
    "\n",
    "- Variables can not be include Special characters except **underscore(_)**\n",
    "\n",
    "- Variables can not be include a **space between words**\n",
    "\n",
    "- Only underscore also consider as variables\n",
    "\n",
    "- Inbuilt variables can not be used as variables"
   ]
  },
  {
   "cell_type": "code",
   "execution_count": null,
   "id": "c22777a3-d40a-495a-98c1-fd18052cbe93",
   "metadata": {},
   "outputs": [],
   "source": [
    "number  #works\n",
    "NUMBER  #works\n",
    "number123  #works\n",
    "123number  #notworks\n",
    "NUMBERone    #works\n",
    "number$one   #not works\n",
    "number&one  #not works\n",
    "number*one  #not works\n",
    "number_one  #works\n",
    "number one  #not works\n",
    "if=100      #not works\n",
    "_=200       #works"
   ]
  },
  {
   "cell_type": "code",
   "execution_count": 18,
   "id": "f0a400d0-2101-47aa-8530-1d6a09454d3b",
   "metadata": {},
   "outputs": [
    {
     "data": {
      "text/plain": [
       "12"
      ]
     },
     "execution_count": 18,
     "metadata": {},
     "output_type": "execute_result"
    }
   ],
   "source": [
    "IF=12\n",
    "IF"
   ]
  },
  {
   "cell_type": "code",
   "execution_count": null,
   "id": "8fced309-83d8-4464-ac8c-b970fb3abb4b",
   "metadata": {},
   "outputs": [],
   "source": []
  }
 ],
 "metadata": {
  "kernelspec": {
   "display_name": "Python 3 (ipykernel)",
   "language": "python",
   "name": "python3"
  },
  "language_info": {
   "codemirror_mode": {
    "name": "ipython",
    "version": 3
   },
   "file_extension": ".py",
   "mimetype": "text/x-python",
   "name": "python",
   "nbconvert_exporter": "python",
   "pygments_lexer": "ipython3",
   "version": "3.12.7"
  }
 },
 "nbformat": 4,
 "nbformat_minor": 5
}
