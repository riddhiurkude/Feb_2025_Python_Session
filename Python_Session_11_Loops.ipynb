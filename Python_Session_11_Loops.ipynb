{
 "cells": [
  {
   "cell_type": "markdown",
   "id": "f210e771-ea36-499f-91a2-d98311ba6095",
   "metadata": {},
   "source": [
    "**Loops-**\n",
    "\n",
    "- iterating code\n",
    "\n",
    "- repeating code\n",
    "  - for loop\n",
    "  - while loop"
   ]
  },
  {
   "cell_type": "markdown",
   "id": "1caccf42-d524-4411-a167-be47a4879474",
   "metadata": {},
   "source": [
    "- intialization (intial point to start the loop)\n",
    "- increment/decrement\n",
    "- condition to stop the loop"
   ]
  },
  {
   "cell_type": "markdown",
   "id": "71183d9e-1b0a-44b4-8fd5-a09d0e19c7f8",
   "metadata": {},
   "source": [
    "**For Loop-**"
   ]
  },
  {
   "cell_type": "code",
   "execution_count": null,
   "id": "2c703864-e43d-4789-bbf6-a4b16a5e3cf5",
   "metadata": {},
   "outputs": [],
   "source": [
    "#syntax\n",
    "\n",
    "for <variable> in range(<value>):\n",
    "    <write your code here>"
   ]
  },
  {
   "cell_type": "code",
   "execution_count": 2,
   "id": "0dac7b96-6dfe-4766-97ae-c9d5d97b27c2",
   "metadata": {},
   "outputs": [
    {
     "name": "stdout",
     "output_type": "stream",
     "text": [
      "0\n",
      "1\n",
      "2\n"
     ]
    }
   ],
   "source": [
    "for i in range(3):\n",
    "    print(i)"
   ]
  },
  {
   "cell_type": "markdown",
   "id": "8db71c2c-158f-4fd3-b918-6d37e028478f",
   "metadata": {},
   "source": [
    "**Case-1: range(stop)**\n",
    "\n",
    "- start value= 0\n",
    "- step size= 1\n",
    "- last= stop-1\n",
    "\n",
    "range(3)\n",
    "- start value= 0\n",
    "- increment= 1\n",
    "- last= stop-1= 3-1= 2"
   ]
  },
  {
   "cell_type": "code",
   "execution_count": 4,
   "id": "207be909-c252-4e8e-a192-fb0f7770f745",
   "metadata": {},
   "outputs": [
    {
     "name": "stdout",
     "output_type": "stream",
     "text": [
      "0\n",
      "1\n",
      "2\n",
      "3\n",
      "4\n"
     ]
    }
   ],
   "source": [
    "for i in range(5):\n",
    "    print(i)\n",
    "\n",
    "#variable name can be anything\n",
    "#start=0\n",
    "#step=1\n",
    "#last= 5-1= 4"
   ]
  },
  {
   "cell_type": "code",
   "execution_count": 5,
   "id": "21598898-d217-4841-87c8-73ec6845b8c3",
   "metadata": {},
   "outputs": [
    {
     "name": "stdout",
     "output_type": "stream",
     "text": [
      "good morning\n",
      "good morning\n",
      "good morning\n",
      "good morning\n",
      "good morning\n"
     ]
    }
   ],
   "source": [
    "for i in range(5):\n",
    "    print('good morning')"
   ]
  },
  {
   "cell_type": "code",
   "execution_count": 8,
   "id": "b69a499a-4fe5-40ab-a3c9-a8a369648f4c",
   "metadata": {},
   "outputs": [
    {
     "name": "stdout",
     "output_type": "stream",
     "text": [
      "0 1 2 3 4 "
     ]
    }
   ],
   "source": [
    "print(0, end=' ')\n",
    "print(1, end=' ')\n",
    "print(2, end=' ')\n",
    "print(3, end=' ')\n",
    "\n",
    "print(i, end=' ')"
   ]
  },
  {
   "cell_type": "code",
   "execution_count": 10,
   "id": "0ee5a516-2f90-49cc-8f7f-a8492b9d6e29",
   "metadata": {},
   "outputs": [
    {
     "name": "stdout",
     "output_type": "stream",
     "text": [
      "0 1 2 3 4 "
     ]
    }
   ],
   "source": [
    "for i in range(5):\n",
    "    print(i, end=' ')"
   ]
  },
  {
   "cell_type": "markdown",
   "id": "324babc7-04a6-442f-9a84-2678b9b698ee",
   "metadata": {},
   "source": [
    "**Case-2: range(start, stop)**\n",
    "\n",
    "- start value= start\n",
    "- step= 1\n",
    "- last= stop-1\n",
    "\n",
    "range(2,7)\n",
    "- start=2\n",
    "- step=1\n",
    "- last= 7-1= 6"
   ]
  },
  {
   "cell_type": "code",
   "execution_count": 11,
   "id": "fa736bc4-5bd2-481d-8f6c-dcec9642d406",
   "metadata": {},
   "outputs": [
    {
     "name": "stdout",
     "output_type": "stream",
     "text": [
      "2 3 4 5 6 "
     ]
    }
   ],
   "source": [
    "for i in range(2,7):\n",
    "    print(i, end=' ')"
   ]
  },
  {
   "cell_type": "code",
   "execution_count": 14,
   "id": "6558d376-f23b-487d-a0e4-daefab09253b",
   "metadata": {},
   "outputs": [
    {
     "name": "stdout",
     "output_type": "stream",
     "text": [
      "the square of 1 is 1\n",
      "the square of 2 is 4\n",
      "the square of 3 is 9\n",
      "the square of 4 is 16\n",
      "the square of 5 is 25\n"
     ]
    }
   ],
   "source": [
    "#wap ask the user to print square of the first 5 numbers\n",
    "\n",
    "for i in range(1,6):\n",
    "    print(f'the square of {i} is {i*i}')"
   ]
  },
  {
   "cell_type": "code",
   "execution_count": 17,
   "id": "f54673f8-e176-4227-a664-929c76acbe2f",
   "metadata": {},
   "outputs": [
    {
     "name": "stdin",
     "output_type": "stream",
     "text": [
      "Enter a number:  1\n"
     ]
    },
    {
     "name": "stdout",
     "output_type": "stream",
     "text": [
      "the square of 1 is 1\n"
     ]
    },
    {
     "name": "stdin",
     "output_type": "stream",
     "text": [
      "Enter a number:  2\n"
     ]
    },
    {
     "name": "stdout",
     "output_type": "stream",
     "text": [
      "the square of 2 is 4\n"
     ]
    },
    {
     "name": "stdin",
     "output_type": "stream",
     "text": [
      "Enter a number:  3\n"
     ]
    },
    {
     "name": "stdout",
     "output_type": "stream",
     "text": [
      "the square of 3 is 9\n"
     ]
    },
    {
     "name": "stdin",
     "output_type": "stream",
     "text": [
      "Enter a number:  4\n"
     ]
    },
    {
     "name": "stdout",
     "output_type": "stream",
     "text": [
      "the square of 4 is 16\n"
     ]
    },
    {
     "name": "stdin",
     "output_type": "stream",
     "text": [
      "Enter a number:  5\n"
     ]
    },
    {
     "name": "stdout",
     "output_type": "stream",
     "text": [
      "the square of 5 is 25\n"
     ]
    }
   ],
   "source": [
    "## wap ask the user enter a number and get the square of the number\n",
    "#the user should enter 5 values one by one\n",
    "#the prompt should ask 5 times\n",
    "\n",
    "for i in range(5):\n",
    "    num=eval(input('Enter a number: '))\n",
    "    print(f'the square of {num} is {num*num}')"
   ]
  },
  {
   "cell_type": "code",
   "execution_count": 20,
   "id": "38011851-a1b7-4b4b-b022-7a17665e193f",
   "metadata": {},
   "outputs": [
    {
     "name": "stdout",
     "output_type": "stream",
     "text": [
      "the square of 26 is 676\n",
      "the square of 2 is 4\n",
      "the square of 32 is 1024\n",
      "the square of 35 is 1225\n",
      "the square of 48 is 2304\n"
     ]
    }
   ],
   "source": [
    "#wap generates 5 random number and print their square\n",
    "\n",
    "import random\n",
    "for i in range(5):\n",
    "    num=random.randint(1,50)\n",
    "    print(f'the square of {num} is {num*num}')"
   ]
  },
  {
   "cell_type": "markdown",
   "id": "8785b9f7-8455-479d-9e60-9fceb89a4298",
   "metadata": {},
   "source": [
    "**case-3: range(start,stop,step)**\n",
    "\n",
    "- start value= start\n",
    "- step = positive means + sign\n",
    "    - gap= positive step size\n",
    "    - last= stop-1\n",
    "- step = negative means - sign\n",
    "    - gap= negative step size\n",
    "    - last= stop+1"
   ]
  },
  {
   "cell_type": "code",
   "execution_count": null,
   "id": "cbe14900-ae51-4fb4-a064-8d80e50e25de",
   "metadata": {},
   "outputs": [],
   "source": [
    "#range(2,20,2)\n",
    "# range(start,stop,step)\n",
    "# start= 2\n",
    "# step= 2\n",
    "# last= 20-1= 19\n",
    "\n",
    "# 2=============with gap=2===========19\n",
    "# 2 4 6 8 10 12 14 16 18"
   ]
  },
  {
   "cell_type": "code",
   "execution_count": 21,
   "id": "6d0536ff-2713-479d-9309-f45a1b7a526e",
   "metadata": {},
   "outputs": [
    {
     "name": "stdout",
     "output_type": "stream",
     "text": [
      "2 4 6 8 10 12 14 16 18 "
     ]
    }
   ],
   "source": [
    "for i in range(2,20,2):\n",
    "    print(i, end=' ')"
   ]
  },
  {
   "cell_type": "code",
   "execution_count": null,
   "id": "154baf4d-c523-4bd5-96c1-11f812505a8f",
   "metadata": {},
   "outputs": [],
   "source": [
    "# range(-2,-20,-2)\n",
    "#start= -2\n",
    "#step= -2\n",
    "#last= -20+1= -19\n",
    "\n",
    "#-2 -4 -6 -8 -10 -12 -14 -16 -18"
   ]
  },
  {
   "cell_type": "code",
   "execution_count": 22,
   "id": "48937adb-c0de-47e9-9282-f663d0840d43",
   "metadata": {},
   "outputs": [
    {
     "name": "stdout",
     "output_type": "stream",
     "text": [
      "-2 -4 -6 -8 -10 -12 -14 -16 -18 "
     ]
    }
   ],
   "source": [
    "for i in range(-2,-20,-2):\n",
    "    print(i, end=' ')"
   ]
  },
  {
   "cell_type": "code",
   "execution_count": null,
   "id": "1e34c819-720c-47d3-a2bb-f9100437d603",
   "metadata": {},
   "outputs": [],
   "source": [
    "# range(2,-20,-2)\n",
    "#start= 2\n",
    "#step= -2\n",
    "#last= -20+1= -19\n",
    "\n",
    "#2 0 -2 -4 -6 -8 -10 -12 -14 -16 -18"
   ]
  },
  {
   "cell_type": "code",
   "execution_count": 23,
   "id": "739530c4-6f6d-4377-8911-ba3aaf2da04f",
   "metadata": {},
   "outputs": [
    {
     "name": "stdout",
     "output_type": "stream",
     "text": [
      "2 0 -2 -4 -6 -8 -10 -12 -14 -16 -18 "
     ]
    }
   ],
   "source": [
    "for i in range(2,-20,-2):\n",
    "    print(i, end=' ')"
   ]
  },
  {
   "cell_type": "code",
   "execution_count": null,
   "id": "a4b7f575-8035-40dd-a4f0-47e8c59ec26c",
   "metadata": {},
   "outputs": [],
   "source": [
    "# range(2,-20,2)\n",
    "#start= 2\n",
    "#step= 2\n",
    "#last= -20-1=-21\n",
    "\n",
    "#NOT POSSIBLE"
   ]
  },
  {
   "cell_type": "code",
   "execution_count": 25,
   "id": "cb860bf8-1b1b-40b5-b4f3-b894aab45eb9",
   "metadata": {},
   "outputs": [],
   "source": [
    "for i in range(2,-20,2):\n",
    "    print(i, end=' ')\n",
    "\n",
    "#NOT POSSIBLE\n",
    "#step positive direction\n",
    "#last value is negative"
   ]
  },
  {
   "cell_type": "code",
   "execution_count": 27,
   "id": "2177a69f-8c23-408e-b84e-343814d70c61",
   "metadata": {},
   "outputs": [],
   "source": [
    "for i in range(-2,20,-2):\n",
    "    print(i, end=' ')\n",
    "\n",
    "#NOT POSSIBLE"
   ]
  },
  {
   "cell_type": "code",
   "execution_count": null,
   "id": "a3be3968-2e0c-45ae-8260-39f43ae4b264",
   "metadata": {},
   "outputs": [],
   "source": [
    "range(3,15,3)  `#p\n",
    "range(3,15,-3)  #np\n",
    "range(3,-15,3)  #np\n",
    "range(-3,15,3)  #p\n",
    "range(3,-15,-3)  #p\n",
    "range(-3,-15,3)  #np\n",
    "range(-3,15,-3)  #np\n",
    "range(-3,-15,-3)  #p\n",
    "range(15,3,3)  #np\n",
    "range(15,3,-3)  #p\n",
    "range(15,-3,3)  #np\n",
    "range(15,-3,-3)  #p\n",
    "range(-15,3,3)  #p\n",
    "range(-15,3,-3)  #np"
   ]
  },
  {
   "cell_type": "code",
   "execution_count": 28,
   "id": "87f63b42-7217-4f9d-b339-30de26277d15",
   "metadata": {},
   "outputs": [
    {
     "name": "stdin",
     "output_type": "stream",
     "text": [
      "Enter a number:  4\n"
     ]
    },
    {
     "name": "stdout",
     "output_type": "stream",
     "text": [
      "4 is a even number\n"
     ]
    },
    {
     "name": "stdin",
     "output_type": "stream",
     "text": [
      "Enter a number:  5\n"
     ]
    },
    {
     "name": "stdout",
     "output_type": "stream",
     "text": [
      "5 is a odd number\n"
     ]
    },
    {
     "name": "stdin",
     "output_type": "stream",
     "text": [
      "Enter a number:  1\n"
     ]
    },
    {
     "name": "stdout",
     "output_type": "stream",
     "text": [
      "1 is a odd number\n"
     ]
    },
    {
     "name": "stdin",
     "output_type": "stream",
     "text": [
      "Enter a number:  3\n"
     ]
    },
    {
     "name": "stdout",
     "output_type": "stream",
     "text": [
      "3 is a odd number\n"
     ]
    },
    {
     "name": "stdin",
     "output_type": "stream",
     "text": [
      "Enter a number:  2\n"
     ]
    },
    {
     "name": "stdout",
     "output_type": "stream",
     "text": [
      "2 is a even number\n"
     ]
    }
   ],
   "source": [
    "#wap ask the user enter 5 numbers\n",
    "#print it is even or odd number\n",
    "#loop should run 5 times\n",
    "\n",
    "for i in range(5):\n",
    "    num=eval(input('Enter a number: '))\n",
    "    if num%2==0:\n",
    "        print(f'{num} is a even number')\n",
    "    else:\n",
    "        print(f'{num} is a odd number')"
   ]
  },
  {
   "cell_type": "code",
   "execution_count": 30,
   "id": "4c356bde-cb56-4f4f-bdc5-646cd5adfc48",
   "metadata": {},
   "outputs": [
    {
     "name": "stdout",
     "output_type": "stream",
     "text": [
      "7*1=7\n",
      "7*2=14\n",
      "7*3=21\n",
      "7*4=28\n",
      "7*5=35\n",
      "7*6=42\n",
      "7*7=49\n",
      "7*8=56\n",
      "7*9=63\n",
      "7*10=70\n"
     ]
    }
   ],
   "source": [
    "#wap ask the user print 7th table\n",
    "#o/p= 7*1=7, 7*2=14\n",
    "\n",
    "for i in range(1,11):\n",
    "    print(f'7*{i}={7*i}')"
   ]
  },
  {
   "cell_type": "code",
   "execution_count": 32,
   "id": "41d2d9f5-ffc7-49ca-ac9f-a1dd35fd8ab8",
   "metadata": {},
   "outputs": [
    {
     "name": "stdin",
     "output_type": "stream",
     "text": [
      "Enter a number:  45\n"
     ]
    },
    {
     "name": "stdout",
     "output_type": "stream",
     "text": [
      "1 is the divisor of 45\n",
      "3 is the divisor of 45\n",
      "5 is the divisor of 45\n",
      "9 is the divisor of 45\n",
      "15 is the divisor of 45\n",
      "45 is the divisor of 45\n"
     ]
    }
   ],
   "source": [
    "#wap ask the user enter the number\n",
    "#find the divisor of the number\n",
    "#75 =========> 1,3,5,15,75\n",
    "\n",
    "num=eval(input('Enter a number: '))\n",
    "for i in range(1, num+1):\n",
    "    if num%i==0:\n",
    "        print(f'{i} is the divisor of {num}')"
   ]
  },
  {
   "cell_type": "code",
   "execution_count": 33,
   "id": "7aa0bf5f-18cf-4f4d-a96a-a15358115f70",
   "metadata": {},
   "outputs": [
    {
     "name": "stdin",
     "output_type": "stream",
     "text": [
      "Enter a number:  66\n"
     ]
    },
    {
     "name": "stdout",
     "output_type": "stream",
     "text": [
      "1 is the divisor of 66\n",
      "2 is the divisor of 66\n",
      "3 is the divisor of 66\n",
      "6 is the divisor of 66\n",
      "11 is the divisor of 66\n",
      "22 is the divisor of 66\n",
      "33 is the divisor of 66\n",
      "66 is the divisor of 66\n"
     ]
    }
   ],
   "source": [
    "#create a function on above code\n",
    "\n",
    "def divisor():\n",
    "    num=eval(input('Enter a number: '))\n",
    "    for i in range(1, num+1):\n",
    "        if num%i==0:\n",
    "            print(f'{i} is the divisor of {num}')\n",
    "\n",
    "divisor()"
   ]
  },
  {
   "cell_type": "code",
   "execution_count": 40,
   "id": "9486370e-f3e6-4894-a675-176fbbeb08cc",
   "metadata": {},
   "outputs": [
    {
     "name": "stdout",
     "output_type": "stream",
     "text": [
      "1 is the divisor of 66\n",
      "2 is the divisor of 66\n",
      "3 is the divisor of 66\n",
      "6 is the divisor of 66\n",
      "11 is the divisor of 66\n",
      "22 is the divisor of 66\n",
      "33 is the divisor of 66\n",
      "66 is the divisor of 66\n"
     ]
    }
   ],
   "source": [
    "#with argument\n",
    "\n",
    "def divisor(num):\n",
    "    for i in range(1, num+1):\n",
    "        if num%i==0:\n",
    "            print(f'{i} is the divisor of {num}')\n",
    "\n",
    "divisor(66)"
   ]
  },
  {
   "cell_type": "code",
   "execution_count": 41,
   "id": "47d0fb51-108a-4c50-ae88-be9ffbd5b90b",
   "metadata": {},
   "outputs": [
    {
     "name": "stdout",
     "output_type": "stream",
     "text": [
      "1 is the divisor of 66\n",
      "2 is the divisor of 66\n",
      "3 is the divisor of 66\n",
      "6 is the divisor of 66\n",
      "11 is the divisor of 66\n",
      "22 is the divisor of 66\n",
      "33 is the divisor of 66\n",
      "66 is the divisor of 66\n"
     ]
    },
    {
     "data": {
      "text/plain": [
       "66"
      ]
     },
     "execution_count": 41,
     "metadata": {},
     "output_type": "execute_result"
    }
   ],
   "source": [
    "#return statement\n",
    "\n",
    "def divisor2(num):\n",
    "    for i in range(1, num+1):\n",
    "        if num%i==0:\n",
    "            print(f'{i} is the divisor of {num}')\n",
    "    return(i)\n",
    "\n",
    "divisor2(66)"
   ]
  },
  {
   "cell_type": "code",
   "execution_count": 42,
   "id": "eabeb6ac-d6f7-4cf7-9d47-6b8ada67ee9b",
   "metadata": {},
   "outputs": [
    {
     "name": "stdout",
     "output_type": "stream",
     "text": [
      "0 1 2 3 4 "
     ]
    }
   ],
   "source": [
    "for i in range(5):\n",
    "    print(i, end=' ')"
   ]
  },
  {
   "cell_type": "code",
   "execution_count": 43,
   "id": "05922cb6-e106-44c8-acfb-e2820a6658f7",
   "metadata": {},
   "outputs": [
    {
     "data": {
      "text/plain": [
       "4"
      ]
     },
     "execution_count": 43,
     "metadata": {},
     "output_type": "execute_result"
    }
   ],
   "source": [
    "i\n",
    "\n",
    "# i variable will give always last value\n",
    "# do not print i outside the for loop"
   ]
  },
  {
   "cell_type": "markdown",
   "id": "37188917-a725-4b7d-89a3-ddfe8e1cec1c",
   "metadata": {},
   "source": [
    "**summation wrapper**\n",
    "\n",
    "- always intialize the summ=0 before the loop\n",
    "\n",
    "- inside the loop summ=summ+i\n",
    "\n",
    "- then print summ value outside the loop"
   ]
  },
  {
   "cell_type": "code",
   "execution_count": 47,
   "id": "bafac559-8515-4db8-8936-855dff087ffe",
   "metadata": {},
   "outputs": [
    {
     "name": "stdout",
     "output_type": "stream",
     "text": [
      "55\n"
     ]
    }
   ],
   "source": [
    "#wap ask the user print first 10 naturals numbers\n",
    "\n",
    "summ=0\n",
    "for i in range(1,11):\n",
    "    summ=summ+i\n",
    "    #summ+=i\n",
    "\n",
    "print(summ)"
   ]
  },
  {
   "cell_type": "markdown",
   "id": "81d03d29-eeff-4523-98c0-59e921be55b2",
   "metadata": {},
   "source": [
    "**counter wrapper**\n",
    "\n",
    "- before the loop count=0\n",
    "\n",
    "- inside the loop count=count+1, but this line under successful operation\n",
    "\n",
    "- print the count outside the loop"
   ]
  },
  {
   "cell_type": "code",
   "execution_count": 48,
   "id": "5a9c4ac1-c90f-4bcf-839a-924aad31b8c9",
   "metadata": {},
   "outputs": [
    {
     "name": "stdin",
     "output_type": "stream",
     "text": [
      "Enter a number:  66\n"
     ]
    },
    {
     "name": "stdout",
     "output_type": "stream",
     "text": [
      "1 is the divisor of 66\n",
      "2 is the divisor of 66\n",
      "3 is the divisor of 66\n",
      "6 is the divisor of 66\n",
      "11 is the divisor of 66\n",
      "22 is the divisor of 66\n",
      "33 is the divisor of 66\n",
      "66 is the divisor of 66\n",
      "8\n"
     ]
    }
   ],
   "source": [
    "num=eval(input('Enter a number: '))\n",
    "count=0\n",
    "for i in range(1, num+1):\n",
    "    if num%i==0:\n",
    "        print(f'{i} is the divisor of {num}')\n",
    "        count=count+1\n",
    "\n",
    "print(count)"
   ]
  },
  {
   "cell_type": "code",
   "execution_count": 51,
   "id": "5ccef200-cff0-4c39-ac1b-238089725872",
   "metadata": {},
   "outputs": [
    {
     "name": "stdin",
     "output_type": "stream",
     "text": [
      "Enter a number:  66\n"
     ]
    },
    {
     "name": "stdout",
     "output_type": "stream",
     "text": [
      "1 is the divisor of 66\n",
      "2 is the divisor of 66\n",
      "3 is the divisor of 66\n",
      "6 is the divisor of 66\n",
      "11 is the divisor of 66\n",
      "22 is the divisor of 66\n",
      "33 is the divisor of 66\n",
      "66 is the divisor of 66\n",
      "8\n"
     ]
    }
   ],
   "source": [
    "count=0\n",
    "num=eval(input('Enter a number: '))\n",
    "for i in range(1, num+1):\n",
    "    if num%i==0:\n",
    "        count=count+1\n",
    "        print(f'{i} is the divisor of {num}')\n",
    "\n",
    "print(count)\n",
    "\n",
    "#step1- i=1 count=0+1=1 if 10%1==0 True print\n",
    "#step2- i=2 count=1+1=2 if 10%2==0 True print\n",
    "#step3- i=3 count=2+1=3 if 10%3==0 False"
   ]
  },
  {
   "cell_type": "code",
   "execution_count": 52,
   "id": "f38e9bcc-6d8a-4cb2-b1b8-48dd97b2c3be",
   "metadata": {},
   "outputs": [
    {
     "name": "stdin",
     "output_type": "stream",
     "text": [
      "Enter a number:  5\n"
     ]
    },
    {
     "name": "stdout",
     "output_type": "stream",
     "text": [
      "5 is a odd number\n"
     ]
    },
    {
     "name": "stdin",
     "output_type": "stream",
     "text": [
      "Enter a number:  6\n"
     ]
    },
    {
     "name": "stdout",
     "output_type": "stream",
     "text": [
      "6 is a even number\n"
     ]
    },
    {
     "name": "stdin",
     "output_type": "stream",
     "text": [
      "Enter a number:  1\n"
     ]
    },
    {
     "name": "stdout",
     "output_type": "stream",
     "text": [
      "1 is a odd number\n"
     ]
    },
    {
     "name": "stdin",
     "output_type": "stream",
     "text": [
      "Enter a number:  2\n"
     ]
    },
    {
     "name": "stdout",
     "output_type": "stream",
     "text": [
      "2 is a even number\n"
     ]
    },
    {
     "name": "stdin",
     "output_type": "stream",
     "text": [
      "Enter a number:  3\n"
     ]
    },
    {
     "name": "stdout",
     "output_type": "stream",
     "text": [
      "3 is a odd number\n",
      "event count= 2\n",
      "odd count= 3\n"
     ]
    }
   ],
   "source": [
    "#wap ask the user get count of even and odd numbers\n",
    "#the loop should ask 5 times\n",
    "#you should calculate even odd\n",
    "\n",
    "even_count=0\n",
    "odd_count=0\n",
    "for i in range(5):\n",
    "    num=eval(input('Enter a number: '))\n",
    "    if num%2==0:\n",
    "        even_count=even_count+1\n",
    "        print(f'{num} is a even number')\n",
    "    else:\n",
    "        odd_count=odd_count+1\n",
    "        print(f'{num} is a odd number')\n",
    "\n",
    "print(f'event count= {even_count}')\n",
    "print(f'odd count= {odd_count}')"
   ]
  },
  {
   "cell_type": "code",
   "execution_count": 54,
   "id": "14dc335d-10f0-4fba-a487-0ef703982694",
   "metadata": {},
   "outputs": [
    {
     "name": "stdin",
     "output_type": "stream",
     "text": [
      "Enter a number:  5\n"
     ]
    },
    {
     "name": "stdout",
     "output_type": "stream",
     "text": [
      "5 is a odd number\n"
     ]
    },
    {
     "name": "stdin",
     "output_type": "stream",
     "text": [
      "Enter a number:  4\n"
     ]
    },
    {
     "name": "stdout",
     "output_type": "stream",
     "text": [
      "4 is a even number\n"
     ]
    },
    {
     "name": "stdin",
     "output_type": "stream",
     "text": [
      "Enter a number:  9\n"
     ]
    },
    {
     "name": "stdout",
     "output_type": "stream",
     "text": [
      "9 is a odd number\n"
     ]
    },
    {
     "name": "stdin",
     "output_type": "stream",
     "text": [
      "Enter a number:  6\n"
     ]
    },
    {
     "name": "stdout",
     "output_type": "stream",
     "text": [
      "6 is a even number\n"
     ]
    },
    {
     "name": "stdin",
     "output_type": "stream",
     "text": [
      "Enter a number:  2\n"
     ]
    },
    {
     "name": "stdout",
     "output_type": "stream",
     "text": [
      "2 is a even number\n",
      "event count= 3\n",
      "odd count= 2\n",
      "even sum= 12\n",
      "odd sum= 14\n"
     ]
    }
   ],
   "source": [
    "even_count,odd_count=0,0\n",
    "even_sum,odd_sum=0,0\n",
    "for i in range(5):\n",
    "    num=eval(input('Enter a number: '))\n",
    "    if num%2==0:\n",
    "        even_count=even_count+1\n",
    "        even_sum=even_sum+num\n",
    "        print(f'{num} is a even number')\n",
    "    else:\n",
    "        odd_count=odd_count+1\n",
    "        odd_sum=odd_sum+num\n",
    "        print(f'{num} is a odd number')\n",
    "\n",
    "print(f'event count= {even_count}')\n",
    "print(f'odd count= {odd_count}')\n",
    "print(f'even sum= {even_sum}')\n",
    "print(f'odd sum= {odd_sum}')"
   ]
  },
  {
   "cell_type": "code",
   "execution_count": 58,
   "id": "bb32e66d-4618-4758-bed9-592c29d7754a",
   "metadata": {},
   "outputs": [
    {
     "name": "stdout",
     "output_type": "stream",
     "text": [
      "6\n"
     ]
    },
    {
     "name": "stdin",
     "output_type": "stream",
     "text": [
      "Enter a number:  5\n"
     ]
    },
    {
     "name": "stdout",
     "output_type": "stream",
     "text": [
      "lost\n",
      "5\n"
     ]
    },
    {
     "name": "stdin",
     "output_type": "stream",
     "text": [
      "Enter a number:  5\n"
     ]
    },
    {
     "name": "stdout",
     "output_type": "stream",
     "text": [
      "won\n"
     ]
    }
   ],
   "source": [
    "#wap ask the user enter a random number 1,10\n",
    "#ask the user to enter a number\n",
    "#if both numbers are match print won\n",
    "#otherwise print lost\n",
    "#you should provide 3 times\n",
    "\n",
    "import random\n",
    "for i in range(3):\n",
    "    n1=random.randint(1,10)\n",
    "    print(n1)\n",
    "    n2=eval(input('Enter a number: '))\n",
    "    if n1==n2:\n",
    "        print('won')\n",
    "        break\n",
    "    else:\n",
    "        print('lost')"
   ]
  },
  {
   "cell_type": "code",
   "execution_count": 69,
   "id": "ef293684-1d1d-429a-8a62-01fc729dd4fd",
   "metadata": {},
   "outputs": [
    {
     "name": "stdout",
     "output_type": "stream",
     "text": [
      "9\n"
     ]
    },
    {
     "name": "stdin",
     "output_type": "stream",
     "text": [
      "Enter a number:  5\n"
     ]
    },
    {
     "name": "stdout",
     "output_type": "stream",
     "text": [
      "lost\n",
      "you have 2 chances left now\n",
      "1\n"
     ]
    },
    {
     "name": "stdin",
     "output_type": "stream",
     "text": [
      "Enter a number:  1\n"
     ]
    },
    {
     "name": "stdout",
     "output_type": "stream",
     "text": [
      "won\n"
     ]
    }
   ],
   "source": [
    "#case2: for every failure\n",
    "#the number of chances should display\n",
    "\n",
    "import random\n",
    "num=3\n",
    "for i in range(1,num+1):\n",
    "    n1=random.randint(1,10)\n",
    "    print(n1)\n",
    "    n2=eval(input('Enter a number: '))\n",
    "    if n1==n2:\n",
    "        print('won')\n",
    "        break\n",
    "    else:\n",
    "        print('lost')\n",
    "        print(f'you have {num-i} chances left now')"
   ]
  },
  {
   "cell_type": "code",
   "execution_count": 70,
   "id": "9eec331c-4f12-4874-ac07-8124520b9567",
   "metadata": {},
   "outputs": [
    {
     "name": "stdout",
     "output_type": "stream",
     "text": [
      "7\n"
     ]
    },
    {
     "name": "stdin",
     "output_type": "stream",
     "text": [
      "Enter a number:  5\n"
     ]
    },
    {
     "name": "stdout",
     "output_type": "stream",
     "text": [
      "lost\n",
      "you have 2 chances left now\n",
      "5\n"
     ]
    },
    {
     "name": "stdin",
     "output_type": "stream",
     "text": [
      "Enter a number:  4\n"
     ]
    },
    {
     "name": "stdout",
     "output_type": "stream",
     "text": [
      "lost\n",
      "you have 1 chances left now\n",
      "4\n"
     ]
    },
    {
     "name": "stdin",
     "output_type": "stream",
     "text": [
      "Enter a number:  6\n"
     ]
    },
    {
     "name": "stdout",
     "output_type": "stream",
     "text": [
      "all your chances are over. please try again after 24 hours\n"
     ]
    }
   ],
   "source": [
    "#case3: after all the chances are finished\n",
    "#print all the chances are lost try after 24 hrs\n",
    "\n",
    "\n",
    "import random\n",
    "num=3\n",
    "for i in range(1,num+1):\n",
    "    n1=random.randint(1,10)\n",
    "    print(n1)\n",
    "    n2=eval(input('Enter a number: '))\n",
    "    if n1==n2:\n",
    "        print('won')\n",
    "        break\n",
    "    elif num-i==0:\n",
    "        print('all your chances are over. please try again after 24 hours')\n",
    "    else:\n",
    "        print('lost')\n",
    "        print(f'you have {num-i} chances left now')"
   ]
  },
  {
   "cell_type": "markdown",
   "id": "78841eb0-3f17-420e-815e-13be2b99962c",
   "metadata": {},
   "source": [
    "**in**\n",
    "\n",
    "- range operator expect a value inside\n",
    "\n",
    "- in operator access the value directly"
   ]
  },
  {
   "cell_type": "code",
   "execution_count": 71,
   "id": "c1c0a144-c81b-4392-ba85-082292644baa",
   "metadata": {},
   "outputs": [
    {
     "data": {
      "text/plain": [
       "True"
      ]
     },
     "execution_count": 71,
     "metadata": {},
     "output_type": "execute_result"
    }
   ],
   "source": [
    "'p' in 'python'"
   ]
  },
  {
   "cell_type": "code",
   "execution_count": 72,
   "id": "db10dc17-019b-42ef-888e-631e11a91288",
   "metadata": {},
   "outputs": [
    {
     "data": {
      "text/plain": [
       "False"
      ]
     },
     "execution_count": 72,
     "metadata": {},
     "output_type": "execute_result"
    }
   ],
   "source": [
    "'p' in 'Python'"
   ]
  },
  {
   "cell_type": "code",
   "execution_count": 73,
   "id": "98f5b63a-4a38-4895-ab0e-90a4d94dd893",
   "metadata": {},
   "outputs": [
    {
     "name": "stdout",
     "output_type": "stream",
     "text": [
      "p\n",
      "y\n",
      "t\n",
      "h\n",
      "o\n",
      "n\n"
     ]
    }
   ],
   "source": [
    "'p' in 'python'\n",
    "'y' in 'python'\n",
    "'t' in 'python'\n",
    "'h' in 'python'\n",
    "'o' in 'python'\n",
    "'n' in 'python'\n",
    "\n",
    "for i in 'python':\n",
    "    print(i)"
   ]
  },
  {
   "cell_type": "code",
   "execution_count": 75,
   "id": "7ea99fd9-39f7-4e6a-afb6-8fb976fe607b",
   "metadata": {},
   "outputs": [
    {
     "data": {
      "text/plain": [
       "False"
      ]
     },
     "execution_count": 75,
     "metadata": {},
     "output_type": "execute_result"
    }
   ],
   "source": [
    "'p'=='P'"
   ]
  },
  {
   "cell_type": "code",
   "execution_count": 76,
   "id": "d2c544c8-41b3-42b4-a165-ef1c9d6fdb9e",
   "metadata": {},
   "outputs": [
    {
     "data": {
      "text/plain": [
       "True"
      ]
     },
     "execution_count": 76,
     "metadata": {},
     "output_type": "execute_result"
    }
   ],
   "source": [
    "'p'=='p'"
   ]
  },
  {
   "cell_type": "code",
   "execution_count": 77,
   "id": "7132ae06-7f3a-4f59-b162-5ec918bcdd56",
   "metadata": {},
   "outputs": [
    {
     "data": {
      "text/plain": [
       "True"
      ]
     },
     "execution_count": 77,
     "metadata": {},
     "output_type": "execute_result"
    }
   ],
   "source": [
    "'p'>'P'"
   ]
  },
  {
   "cell_type": "code",
   "execution_count": 78,
   "id": "af6371f9-a3f5-441c-b472-43d8fac6dceb",
   "metadata": {},
   "outputs": [
    {
     "data": {
      "text/plain": [
       "False"
      ]
     },
     "execution_count": 78,
     "metadata": {},
     "output_type": "execute_result"
    }
   ],
   "source": [
    "'p'<'P'"
   ]
  },
  {
   "cell_type": "code",
   "execution_count": null,
   "id": "e952f584-446f-4d9b-9286-8a1fe79142cc",
   "metadata": {},
   "outputs": [],
   "source": [
    "#ASCII: American Standard Code for Information Interchange\n",
    "\n",
    "A=65    a=97\n",
    "B=66    b=98"
   ]
  },
  {
   "cell_type": "markdown",
   "id": "fd467ab1-bf80-4c51-b0d9-5753ace89a17",
   "metadata": {},
   "source": [
    "**ord-chr**"
   ]
  },
  {
   "cell_type": "code",
   "execution_count": 80,
   "id": "b78cb9a8-bcd5-48ce-b3ec-c7bfaf750ce5",
   "metadata": {},
   "outputs": [
    {
     "ename": "TypeError",
     "evalue": "ord() expected string of length 1, but int found",
     "output_type": "error",
     "traceback": [
      "\u001b[1;31m---------------------------------------------------------------------------\u001b[0m",
      "\u001b[1;31mTypeError\u001b[0m                                 Traceback (most recent call last)",
      "Cell \u001b[1;32mIn[80], line 1\u001b[0m\n\u001b[1;32m----> 1\u001b[0m \u001b[38;5;28mord\u001b[39m(\u001b[38;5;241m65\u001b[39m)\n",
      "\u001b[1;31mTypeError\u001b[0m: ord() expected string of length 1, but int found"
     ]
    }
   ],
   "source": [
    "ord(65)"
   ]
  },
  {
   "cell_type": "code",
   "execution_count": 81,
   "id": "360f81ac-217f-4cb2-8783-9dcf8d4178e1",
   "metadata": {},
   "outputs": [
    {
     "data": {
      "text/plain": [
       "97"
      ]
     },
     "execution_count": 81,
     "metadata": {},
     "output_type": "execute_result"
    }
   ],
   "source": [
    "ord('a')"
   ]
  },
  {
   "cell_type": "code",
   "execution_count": 82,
   "id": "f8c305d7-ae41-4f6e-93c7-97f26220f42f",
   "metadata": {},
   "outputs": [
    {
     "data": {
      "text/plain": [
       "65"
      ]
     },
     "execution_count": 82,
     "metadata": {},
     "output_type": "execute_result"
    }
   ],
   "source": [
    "ord('A')"
   ]
  },
  {
   "cell_type": "code",
   "execution_count": 83,
   "id": "107b9473-5567-484f-bc7f-fec10fc4764a",
   "metadata": {},
   "outputs": [
    {
     "data": {
      "text/plain": [
       "'A'"
      ]
     },
     "execution_count": 83,
     "metadata": {},
     "output_type": "execute_result"
    }
   ],
   "source": [
    "chr(65)"
   ]
  },
  {
   "cell_type": "code",
   "execution_count": 84,
   "id": "343c42c3-636d-420c-bb42-f4b2ecc0b07d",
   "metadata": {},
   "outputs": [
    {
     "data": {
      "text/plain": [
       "'a'"
      ]
     },
     "execution_count": 84,
     "metadata": {},
     "output_type": "execute_result"
    }
   ],
   "source": [
    "chr(97)"
   ]
  },
  {
   "cell_type": "code",
   "execution_count": 87,
   "id": "03d7c005-ac80-47f3-822c-01b35e0f38b1",
   "metadata": {},
   "outputs": [
    {
     "name": "stdout",
     "output_type": "stream",
     "text": [
      "65 ---> A 66 ---> B 67 ---> C 68 ---> D 69 ---> E 70 ---> F 71 ---> G 72 ---> H 73 ---> I 74 ---> J 75 ---> K 76 ---> L 77 ---> M 78 ---> N 79 ---> O 80 ---> P 81 ---> Q 82 ---> R 83 ---> S 84 ---> T 85 ---> U 86 ---> V 87 ---> W 88 ---> X 89 ---> Y 90 ---> Z 91 ---> [ 92 ---> \\ 93 ---> ] 94 ---> ^ 95 ---> _ 96 ---> ` 97 ---> a 98 ---> b 99 ---> c "
     ]
    }
   ],
   "source": [
    "for i in range(65,100):\n",
    "    print(i,'--->', chr(i), end=' ')"
   ]
  },
  {
   "cell_type": "code",
   "execution_count": 88,
   "id": "9f52e80e-8653-4efc-b299-58ce223a66ee",
   "metadata": {},
   "outputs": [
    {
     "name": "stdout",
     "output_type": "stream",
     "text": [
      "32 --->   33 ---> ! 34 ---> \" 35 ---> # 36 ---> $ 37 ---> % 38 ---> & 39 ---> ' 40 ---> ( 41 ---> ) 42 ---> * 43 ---> + 44 ---> , 45 ---> - 46 ---> . 47 ---> / 48 ---> 0 49 ---> 1 50 ---> 2 51 ---> 3 52 ---> 4 53 ---> 5 54 ---> 6 55 ---> 7 56 ---> 8 57 ---> 9 58 ---> : 59 ---> ; 60 ---> < 61 ---> = 62 ---> > 63 ---> ? 64 ---> @ 65 ---> A 66 ---> B 67 ---> C 68 ---> D 69 ---> E 70 ---> F 71 ---> G 72 ---> H 73 ---> I 74 ---> J 75 ---> K 76 ---> L 77 ---> M 78 ---> N 79 ---> O 80 ---> P 81 ---> Q 82 ---> R 83 ---> S 84 ---> T 85 ---> U 86 ---> V 87 ---> W 88 ---> X 89 ---> Y 90 ---> Z 91 ---> [ 92 ---> \\ 93 ---> ] 94 ---> ^ 95 ---> _ 96 ---> ` 97 ---> a 98 ---> b 99 ---> c 100 ---> d 101 ---> e 102 ---> f 103 ---> g 104 ---> h 105 ---> i 106 ---> j 107 ---> k 108 ---> l 109 ---> m 110 ---> n 111 ---> o 112 ---> p 113 ---> q 114 ---> r 115 ---> s 116 ---> t 117 ---> u 118 ---> v 119 ---> w 120 ---> x 121 ---> y 122 ---> z 123 ---> { 124 ---> | 125 ---> } 126 ---> ~ "
     ]
    }
   ],
   "source": [
    "for i in range(32,127):\n",
    "    print(i,'--->', chr(i), end=' ')"
   ]
  },
  {
   "cell_type": "code",
   "execution_count": 89,
   "id": "2065eec1-ee80-4cb9-b2bc-5cc7dd790ee7",
   "metadata": {},
   "outputs": [
    {
     "name": "stdout",
     "output_type": "stream",
     "text": [
      "1000 ---> Ϩ 1001 ---> ϩ 1002 ---> Ϫ 1003 ---> ϫ 1004 ---> Ϭ 1005 ---> ϭ 1006 ---> Ϯ 1007 ---> ϯ 1008 ---> ϰ 1009 ---> ϱ 1010 ---> ϲ 1011 ---> ϳ 1012 ---> ϴ 1013 ---> ϵ 1014 ---> ϶ 1015 ---> Ϸ 1016 ---> ϸ 1017 ---> Ϲ 1018 ---> Ϻ 1019 ---> ϻ 1020 ---> ϼ 1021 ---> Ͻ 1022 ---> Ͼ 1023 ---> Ͽ 1024 ---> Ѐ 1025 ---> Ё 1026 ---> Ђ 1027 ---> Ѓ 1028 ---> Є 1029 ---> Ѕ 1030 ---> І 1031 ---> Ї 1032 ---> Ј 1033 ---> Љ 1034 ---> Њ 1035 ---> Ћ 1036 ---> Ќ 1037 ---> Ѝ 1038 ---> Ў 1039 ---> Џ 1040 ---> А 1041 ---> Б 1042 ---> В 1043 ---> Г 1044 ---> Д 1045 ---> Е 1046 ---> Ж 1047 ---> З 1048 ---> И 1049 ---> Й 1050 ---> К 1051 ---> Л 1052 ---> М 1053 ---> Н 1054 ---> О 1055 ---> П 1056 ---> Р 1057 ---> С 1058 ---> Т 1059 ---> У 1060 ---> Ф 1061 ---> Х 1062 ---> Ц 1063 ---> Ч 1064 ---> Ш 1065 ---> Щ 1066 ---> Ъ 1067 ---> Ы 1068 ---> Ь 1069 ---> Э 1070 ---> Ю 1071 ---> Я 1072 ---> а 1073 ---> б 1074 ---> в 1075 ---> г 1076 ---> д 1077 ---> е 1078 ---> ж 1079 ---> з 1080 ---> и 1081 ---> й 1082 ---> к 1083 ---> л 1084 ---> м 1085 ---> н 1086 ---> о 1087 ---> п 1088 ---> р 1089 ---> с 1090 ---> т 1091 ---> у 1092 ---> ф 1093 ---> х 1094 ---> ц 1095 ---> ч 1096 ---> ш 1097 ---> щ 1098 ---> ъ 1099 ---> ы "
     ]
    }
   ],
   "source": [
    "for i in range(1000,1100):\n",
    "    print(i,'--->', chr(i), end=' ')"
   ]
  },
  {
   "cell_type": "code",
   "execution_count": 96,
   "id": "f803a960-e291-4f49-b08b-9258ba85bd09",
   "metadata": {},
   "outputs": [
    {
     "name": "stdout",
     "output_type": "stream",
     "text": [
      "800 ---> ̠ 801 ---> ̡ 802 ---> ̢ 803 ---> ̣ 804 ---> ̤ 805 ---> ̥ 806 ---> ̦ 807 ---> ̧ 808 ---> ̨ 809 ---> ̩ 810 ---> ̪ 811 ---> ̫ 812 ---> ̬ 813 ---> ̭ 814 ---> ̮ 815 ---> ̯ 816 ---> ̰ 817 ---> ̱ 818 ---> ̲ 819 ---> ̳ 820 ---> ̴ 821 ---> ̵ 822 ---> ̶ 823 ---> ̷ 824 ---> ̸ 825 ---> ̹ 826 ---> ̺ 827 ---> ̻ 828 ---> ̼ 829 ---> ̽ 830 ---> ̾ 831 ---> ̿ 832 ---> ̀ 833 ---> ́ 834 ---> ͂ 835 ---> ̓ 836 ---> ̈́ 837 ---> ͅ 838 ---> ͆ 839 ---> ͇ 840 ---> ͈ 841 ---> ͉ 842 ---> ͊ 843 ---> ͋ 844 ---> ͌ 845 ---> ͍ 846 ---> ͎ 847 ---> ͏ 848 ---> ͐ 849 ---> ͑ 850 ---> ͒ 851 ---> ͓ 852 ---> ͔ 853 ---> ͕ 854 ---> ͖ 855 ---> ͗ 856 ---> ͘ 857 ---> ͙ 858 ---> ͚ 859 ---> ͛ 860 ---> ͜ 861 ---> ͝ 862 ---> ͞ 863 ---> ͟ 864 ---> ͠ 865 ---> ͡ 866 ---> ͢ 867 ---> ͣ 868 ---> ͤ 869 ---> ͥ 870 ---> ͦ 871 ---> ͧ 872 ---> ͨ 873 ---> ͩ 874 ---> ͪ 875 ---> ͫ 876 ---> ͬ 877 ---> ͭ 878 ---> ͮ 879 ---> ͯ 880 ---> Ͱ 881 ---> ͱ 882 ---> Ͳ 883 ---> ͳ 884 ---> ʹ 885 ---> ͵ 886 ---> Ͷ 887 ---> ͷ 888 ---> ͸ 889 ---> ͹ 890 ---> ͺ 891 ---> ͻ 892 ---> ͼ 893 ---> ͽ 894 ---> ; 895 ---> Ϳ 896 ---> ΀ 897 ---> ΁ 898 ---> ΂ 899 ---> ΃ "
     ]
    }
   ],
   "source": [
    "for i in range(800,900):\n",
    "    print(i,'--->', chr(i), end=' ')"
   ]
  },
  {
   "cell_type": "code",
   "execution_count": 97,
   "id": "c305884b-1560-493d-815b-c4da092b60b7",
   "metadata": {},
   "outputs": [
    {
     "ename": "TypeError",
     "evalue": "'str' object cannot be interpreted as an integer",
     "output_type": "error",
     "traceback": [
      "\u001b[1;31m---------------------------------------------------------------------------\u001b[0m",
      "\u001b[1;31mTypeError\u001b[0m                                 Traceback (most recent call last)",
      "Cell \u001b[1;32mIn[97], line 1\u001b[0m\n\u001b[1;32m----> 1\u001b[0m \u001b[38;5;28;01mfor\u001b[39;00m i \u001b[38;5;129;01min\u001b[39;00m \u001b[38;5;28mrange\u001b[39m(\u001b[38;5;124m'\u001b[39m\u001b[38;5;124mA\u001b[39m\u001b[38;5;124m'\u001b[39m,\u001b[38;5;124m'\u001b[39m\u001b[38;5;124mZ\u001b[39m\u001b[38;5;124m'\u001b[39m):\n\u001b[0;32m      2\u001b[0m     \u001b[38;5;28mprint\u001b[39m(i,\u001b[38;5;124m'\u001b[39m\u001b[38;5;124m--->\u001b[39m\u001b[38;5;124m'\u001b[39m,\u001b[38;5;28mord\u001b[39m(i),end\u001b[38;5;241m=\u001b[39m\u001b[38;5;124m'\u001b[39m\u001b[38;5;124m \u001b[39m\u001b[38;5;124m'\u001b[39m)\n",
      "\u001b[1;31mTypeError\u001b[0m: 'str' object cannot be interpreted as an integer"
     ]
    }
   ],
   "source": [
    "for i in range('A','Z'):\n",
    "    print(i,'--->',ord(i),end=' ')"
   ]
  },
  {
   "cell_type": "code",
   "execution_count": 99,
   "id": "94173c0f-3955-40dc-8f50-92b726ae4123",
   "metadata": {},
   "outputs": [
    {
     "name": "stdout",
     "output_type": "stream",
     "text": [
      "A ---> 65 B ---> 66 C ---> 67 D ---> 68 E ---> 69 F ---> 70 G ---> 71 H ---> 72 I ---> 73 J ---> 74 K ---> 75 L ---> 76 M ---> 77 N ---> 78 O ---> 79 P ---> 80 Q ---> 81 R ---> 82 S ---> 83 T ---> 84 U ---> 85 V ---> 86 W ---> 87 X ---> 88 Y ---> 89 Z ---> 90 "
     ]
    }
   ],
   "source": [
    "import string\n",
    "for i in string.ascii_uppercase:\n",
    "    print(i, '--->', ord(i), end=' ')"
   ]
  },
  {
   "cell_type": "markdown",
   "id": "0c95b4cf-16d8-4ec4-b778-f37e0b92142c",
   "metadata": {},
   "source": [
    "**Iterator**\n",
    "\n",
    "- in operator access direct elements which is called iterator\n",
    "\n",
    "- Iterator means\n",
    "    - string\n",
    "    - list\n",
    "    - tuple\n",
    "    -dictionary\n",
    "\n",
    "- Iterator means which can be print by using for loop\n",
    "\n",
    "- whenever we use in operator don't give the numbers\n",
    "\n",
    "- whenever we use range operator don't give the iterator\n",
    "\n",
    "- range need only a number"
   ]
  },
  {
   "cell_type": "code",
   "execution_count": 100,
   "id": "5034bbf5-ca07-4514-a157-ef7f7a94b028",
   "metadata": {},
   "outputs": [
    {
     "data": {
      "text/plain": [
       "['h', 'n', 'o', 'p', 't', 'y']"
      ]
     },
     "execution_count": 100,
     "metadata": {},
     "output_type": "execute_result"
    }
   ],
   "source": [
    "sorted('python')"
   ]
  },
  {
   "cell_type": "code",
   "execution_count": 101,
   "id": "af2b2f78-bb4e-4b2c-b82e-4f108d5cc88d",
   "metadata": {},
   "outputs": [
    {
     "data": {
      "text/plain": [
       "(112, 121, 116, 104, 111, 110)"
      ]
     },
     "execution_count": 101,
     "metadata": {},
     "output_type": "execute_result"
    }
   ],
   "source": [
    "ord('p'),ord('y'),ord('t'),ord('h'),ord('o'),ord('n'),"
   ]
  },
  {
   "cell_type": "code",
   "execution_count": null,
   "id": "4c4d30d3-68c8-489b-8a4c-d798fa837784",
   "metadata": {},
   "outputs": [],
   "source": []
  }
 ],
 "metadata": {
  "kernelspec": {
   "display_name": "Python 3 (ipykernel)",
   "language": "python",
   "name": "python3"
  },
  "language_info": {
   "codemirror_mode": {
    "name": "ipython",
    "version": 3
   },
   "file_extension": ".py",
   "mimetype": "text/x-python",
   "name": "python",
   "nbconvert_exporter": "python",
   "pygments_lexer": "ipython3",
   "version": "3.12.7"
  }
 },
 "nbformat": 4,
 "nbformat_minor": 5
}
